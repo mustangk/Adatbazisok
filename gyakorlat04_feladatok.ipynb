{
    "metadata": {
        "kernelspec": {
            "name": "SQL",
            "display_name": "SQL",
            "language": "sql"
        },
        "language_info": {
            "name": "sql",
            "version": ""
        }
    },
    "nbformat_minor": 2,
    "nbformat": 4,
    "cells": [
        {
            "cell_type": "markdown",
            "source": [
                "1. <span style=\"background-color: rgb(255, 255, 255); color: rgb(0, 0, 0); font-family: &quot;Open Sans&quot;, sans-serif; font-size: 14.44px;\">Készítsünk listát arról, hogy ügyfelenként (LOGIN), azon belül szállítási módonként hány megrendelés történt!&nbsp;</span> \n",
                "\n",
                "a. A lista tartalmazza a részösszegeket és a végösszeget is!  \n",
                "b. Használjuk a ROLLUP záradékot!"
            ],
            "metadata": {
                "azdata_cell_guid": "363cd270-6577-449b-9c89-d4b7c7972d52"
            },
            "attachments": {}
        },
        {
            "cell_type": "code",
            "source": [
                "select LOGIN, szall_mod, count(*) as 'Megrendelések száma'\r\n",
                "from  RENDELES\r\n",
                "group by ROLLUP (LOGIN, szall_mod)"
            ],
            "metadata": {
                "azdata_cell_guid": "6ab9f633-a3b5-48c9-a1dc-4fb8235ae85b",
                "language": "sql"
            },
            "outputs": [
                {
                    "output_type": "display_data",
                    "data": {
                        "text/html": "(763 rows affected)"
                    },
                    "metadata": {}
                },
                {
                    "output_type": "display_data",
                    "data": {
                        "text/html": "Total execution time: 00:00:00.075"
                    },
                    "metadata": {}
                },
                {
                    "output_type": "execute_result",
                    "metadata": {},
                    "execution_count": 38,
                    "data": {
                        "application/vnd.dataresource+json": {
                            "schema": {
                                "fields": [
                                    {
                                        "name": "LOGIN"
                                    },
                                    {
                                        "name": "szall_mod"
                                    },
                                    {
                                        "name": "Megrendelések száma"
                                    }
                                ]
                            },
                            "data": [
                                {
                                    "LOGIN": "adam1",
                                    "szall_mod": "GLS",
                                    "Megrendelések száma": "129"
                                },
                                {
                                    "LOGIN": "adam1",
                                    "szall_mod": "Posta",
                                    "Megrendelések száma": "132"
                                },
                                {
                                    "LOGIN": "adam1",
                                    "szall_mod": "Személyes átvétel",
                                    "Megrendelések száma": "131"
                                },
                                {
                                    "LOGIN": "adam1",
                                    "szall_mod": "NULL",
                                    "Megrendelések száma": "392"
                                },
                                {
                                    "LOGIN": "adam3",
                                    "szall_mod": "GLS",
                                    "Megrendelések száma": "10"
                                },
                                {
                                    "LOGIN": "adam3",
                                    "szall_mod": "Posta",
                                    "Megrendelések száma": "3"
                                },
                                {
                                    "LOGIN": "adam3",
                                    "szall_mod": "Személyes átvétel",
                                    "Megrendelések száma": "2"
                                },
                                {
                                    "LOGIN": "adam3",
                                    "szall_mod": "NULL",
                                    "Megrendelések száma": "15"
                                },
                                {
                                    "LOGIN": "adam4",
                                    "szall_mod": "GLS",
                                    "Megrendelések száma": "12"
                                },
                                {
                                    "LOGIN": "adam4",
                                    "szall_mod": "Posta",
                                    "Megrendelések száma": "6"
                                },
                                {
                                    "LOGIN": "adam4",
                                    "szall_mod": "Személyes átvétel",
                                    "Megrendelések száma": "11"
                                },
                                {
                                    "LOGIN": "adam4",
                                    "szall_mod": "NULL",
                                    "Megrendelések száma": "29"
                                },
                                {
                                    "LOGIN": "agnes",
                                    "szall_mod": "GLS",
                                    "Megrendelések száma": "144"
                                },
                                {
                                    "LOGIN": "agnes",
                                    "szall_mod": "Posta",
                                    "Megrendelések száma": "130"
                                },
                                {
                                    "LOGIN": "agnes",
                                    "szall_mod": "Személyes átvétel",
                                    "Megrendelések száma": "144"
                                },
                                {
                                    "LOGIN": "agnes",
                                    "szall_mod": "NULL",
                                    "Megrendelések száma": "418"
                                },
                                {
                                    "LOGIN": "agnes3",
                                    "szall_mod": "GLS",
                                    "Megrendelések száma": "148"
                                },
                                {
                                    "LOGIN": "agnes3",
                                    "szall_mod": "Posta",
                                    "Megrendelések száma": "146"
                                },
                                {
                                    "LOGIN": "agnes3",
                                    "szall_mod": "Személyes átvétel",
                                    "Megrendelések száma": "136"
                                },
                                {
                                    "LOGIN": "agnes3",
                                    "szall_mod": "NULL",
                                    "Megrendelések száma": "430"
                                },
                                {
                                    "LOGIN": "AGNESH",
                                    "szall_mod": "GLS",
                                    "Megrendelések száma": "2"
                                },
                                {
                                    "LOGIN": "AGNESH",
                                    "szall_mod": "Posta",
                                    "Megrendelések száma": "3"
                                },
                                {
                                    "LOGIN": "AGNESH",
                                    "szall_mod": "Személyes átvétel",
                                    "Megrendelések száma": "6"
                                },
                                {
                                    "LOGIN": "AGNESH",
                                    "szall_mod": "NULL",
                                    "Megrendelések száma": "11"
                                },
                                {
                                    "LOGIN": "AGNESK",
                                    "szall_mod": "GLS",
                                    "Megrendelések száma": "1"
                                },
                                {
                                    "LOGIN": "AGNESK",
                                    "szall_mod": "Posta",
                                    "Megrendelések száma": "7"
                                },
                                {
                                    "LOGIN": "AGNESK",
                                    "szall_mod": "Személyes átvétel",
                                    "Megrendelések száma": "7"
                                },
                                {
                                    "LOGIN": "AGNESK",
                                    "szall_mod": "NULL",
                                    "Megrendelések száma": "15"
                                },
                                {
                                    "LOGIN": "akos",
                                    "szall_mod": "GLS",
                                    "Megrendelések száma": "146"
                                },
                                {
                                    "LOGIN": "akos",
                                    "szall_mod": "Posta",
                                    "Megrendelések száma": "143"
                                },
                                {
                                    "LOGIN": "akos",
                                    "szall_mod": "Személyes átvétel",
                                    "Megrendelések száma": "140"
                                },
                                {
                                    "LOGIN": "akos",
                                    "szall_mod": "NULL",
                                    "Megrendelések száma": "429"
                                },
                                {
                                    "LOGIN": "aladar",
                                    "szall_mod": "GLS",
                                    "Megrendelések száma": "156"
                                },
                                {
                                    "LOGIN": "aladar",
                                    "szall_mod": "Posta",
                                    "Megrendelések száma": "134"
                                },
                                {
                                    "LOGIN": "aladar",
                                    "szall_mod": "Személyes átvétel",
                                    "Megrendelések száma": "118"
                                },
                                {
                                    "LOGIN": "aladar",
                                    "szall_mod": "NULL",
                                    "Megrendelések száma": "408"
                                },
                                {
                                    "LOGIN": "alexandra",
                                    "szall_mod": "GLS",
                                    "Megrendelések száma": "5"
                                },
                                {
                                    "LOGIN": "alexandra",
                                    "szall_mod": "Posta",
                                    "Megrendelések száma": "9"
                                },
                                {
                                    "LOGIN": "alexandra",
                                    "szall_mod": "Személyes átvétel",
                                    "Megrendelések száma": "5"
                                },
                                {
                                    "LOGIN": "alexandra",
                                    "szall_mod": "NULL",
                                    "Megrendelések száma": "19"
                                },
                                {
                                    "LOGIN": "andi",
                                    "szall_mod": "GLS",
                                    "Megrendelések száma": "7"
                                },
                                {
                                    "LOGIN": "andi",
                                    "szall_mod": "Posta",
                                    "Megrendelések száma": "4"
                                },
                                {
                                    "LOGIN": "andi",
                                    "szall_mod": "Személyes átvétel",
                                    "Megrendelések száma": "7"
                                },
                                {
                                    "LOGIN": "andi",
                                    "szall_mod": "NULL",
                                    "Megrendelések száma": "18"
                                },
                                {
                                    "LOGIN": "andras2",
                                    "szall_mod": "GLS",
                                    "Megrendelések száma": "4"
                                },
                                {
                                    "LOGIN": "andras2",
                                    "szall_mod": "Posta",
                                    "Megrendelések száma": "7"
                                },
                                {
                                    "LOGIN": "andras2",
                                    "szall_mod": "Személyes átvétel",
                                    "Megrendelések száma": "11"
                                },
                                {
                                    "LOGIN": "andras2",
                                    "szall_mod": "NULL",
                                    "Megrendelések száma": "22"
                                },
                                {
                                    "LOGIN": "andras21",
                                    "szall_mod": "GLS",
                                    "Megrendelések száma": "140"
                                },
                                {
                                    "LOGIN": "andras21",
                                    "szall_mod": "Posta",
                                    "Megrendelések száma": "124"
                                },
                                {
                                    "LOGIN": "andras21",
                                    "szall_mod": "Személyes átvétel",
                                    "Megrendelések száma": "126"
                                },
                                {
                                    "LOGIN": "andras21",
                                    "szall_mod": "NULL",
                                    "Megrendelések száma": "390"
                                },
                                {
                                    "LOGIN": "andras3",
                                    "szall_mod": "GLS",
                                    "Megrendelések száma": "3"
                                },
                                {
                                    "LOGIN": "andras3",
                                    "szall_mod": "Posta",
                                    "Megrendelések száma": "1"
                                },
                                {
                                    "LOGIN": "andras3",
                                    "szall_mod": "Személyes átvétel",
                                    "Megrendelések száma": "5"
                                },
                                {
                                    "LOGIN": "andras3",
                                    "szall_mod": "NULL",
                                    "Megrendelések száma": "9"
                                },
                                {
                                    "LOGIN": "andras4",
                                    "szall_mod": "GLS",
                                    "Megrendelések száma": "4"
                                },
                                {
                                    "LOGIN": "andras4",
                                    "szall_mod": "Posta",
                                    "Megrendelések száma": "4"
                                },
                                {
                                    "LOGIN": "andras4",
                                    "szall_mod": "Személyes átvétel",
                                    "Megrendelések száma": "4"
                                },
                                {
                                    "LOGIN": "andras4",
                                    "szall_mod": "NULL",
                                    "Megrendelések száma": "12"
                                },
                                {
                                    "LOGIN": "andras41",
                                    "szall_mod": "GLS",
                                    "Megrendelések száma": "149"
                                },
                                {
                                    "LOGIN": "andras41",
                                    "szall_mod": "Posta",
                                    "Megrendelések száma": "137"
                                },
                                {
                                    "LOGIN": "andras41",
                                    "szall_mod": "Személyes átvétel",
                                    "Megrendelések száma": "133"
                                },
                                {
                                    "LOGIN": "andras41",
                                    "szall_mod": "NULL",
                                    "Megrendelések száma": "419"
                                },
                                {
                                    "LOGIN": "ANDRASE",
                                    "szall_mod": "GLS",
                                    "Megrendelések száma": "159"
                                },
                                {
                                    "LOGIN": "ANDRASE",
                                    "szall_mod": "Posta",
                                    "Megrendelések száma": "141"
                                },
                                {
                                    "LOGIN": "ANDRASE",
                                    "szall_mod": "Személyes átvétel",
                                    "Megrendelések száma": "136"
                                },
                                {
                                    "LOGIN": "ANDRASE",
                                    "szall_mod": "NULL",
                                    "Megrendelések száma": "436"
                                },
                                {
                                    "LOGIN": "ANDRASN",
                                    "szall_mod": "GLS",
                                    "Megrendelések száma": "10"
                                },
                                {
                                    "LOGIN": "ANDRASN",
                                    "szall_mod": "Posta",
                                    "Megrendelések száma": "9"
                                },
                                {
                                    "LOGIN": "ANDRASN",
                                    "szall_mod": "Személyes átvétel",
                                    "Megrendelések száma": "5"
                                },
                                {
                                    "LOGIN": "ANDRASN",
                                    "szall_mod": "NULL",
                                    "Megrendelések száma": "24"
                                },
                                {
                                    "LOGIN": "andrea",
                                    "szall_mod": "GLS",
                                    "Megrendelések száma": "12"
                                },
                                {
                                    "LOGIN": "andrea",
                                    "szall_mod": "Posta",
                                    "Megrendelések száma": "4"
                                },
                                {
                                    "LOGIN": "andrea",
                                    "szall_mod": "Személyes átvétel",
                                    "Megrendelések száma": "8"
                                },
                                {
                                    "LOGIN": "andrea",
                                    "szall_mod": "NULL",
                                    "Megrendelések száma": "24"
                                },
                                {
                                    "LOGIN": "andrea3",
                                    "szall_mod": "GLS",
                                    "Megrendelések száma": "131"
                                },
                                {
                                    "LOGIN": "andrea3",
                                    "szall_mod": "Posta",
                                    "Megrendelések száma": "136"
                                },
                                {
                                    "LOGIN": "andrea3",
                                    "szall_mod": "Személyes átvétel",
                                    "Megrendelések száma": "146"
                                },
                                {
                                    "LOGIN": "andrea3",
                                    "szall_mod": "NULL",
                                    "Megrendelések száma": "413"
                                },
                                {
                                    "LOGIN": "andrea4",
                                    "szall_mod": "GLS",
                                    "Megrendelések száma": "7"
                                },
                                {
                                    "LOGIN": "andrea4",
                                    "szall_mod": "Posta",
                                    "Megrendelések száma": "4"
                                },
                                {
                                    "LOGIN": "andrea4",
                                    "szall_mod": "Személyes átvétel",
                                    "Megrendelések száma": "7"
                                },
                                {
                                    "LOGIN": "andrea4",
                                    "szall_mod": "NULL",
                                    "Megrendelések száma": "18"
                                },
                                {
                                    "LOGIN": "ANDREAT",
                                    "szall_mod": "GLS",
                                    "Megrendelések száma": "3"
                                },
                                {
                                    "LOGIN": "ANDREAT",
                                    "szall_mod": "Posta",
                                    "Megrendelések száma": "6"
                                },
                                {
                                    "LOGIN": "ANDREAT",
                                    "szall_mod": "Személyes átvétel",
                                    "Megrendelések száma": "12"
                                },
                                {
                                    "LOGIN": "ANDREAT",
                                    "szall_mod": "NULL",
                                    "Megrendelések száma": "21"
                                },
                                {
                                    "LOGIN": "anett3",
                                    "szall_mod": "GLS",
                                    "Megrendelések száma": "3"
                                },
                                {
                                    "LOGIN": "anett3",
                                    "szall_mod": "Posta",
                                    "Megrendelések száma": "6"
                                },
                                {
                                    "LOGIN": "anett3",
                                    "szall_mod": "Személyes átvétel",
                                    "Megrendelések száma": "9"
                                },
                                {
                                    "LOGIN": "anett3",
                                    "szall_mod": "NULL",
                                    "Megrendelések száma": "18"
                                },
                                {
                                    "LOGIN": "aniko",
                                    "szall_mod": "GLS",
                                    "Megrendelések száma": "128"
                                },
                                {
                                    "LOGIN": "aniko",
                                    "szall_mod": "Posta",
                                    "Megrendelések száma": "137"
                                },
                                {
                                    "LOGIN": "aniko",
                                    "szall_mod": "Személyes átvétel",
                                    "Megrendelések száma": "138"
                                },
                                {
                                    "LOGIN": "aniko",
                                    "szall_mod": "NULL",
                                    "Megrendelések száma": "403"
                                },
                                {
                                    "LOGIN": "aniko4",
                                    "szall_mod": "GLS",
                                    "Megrendelések száma": "6"
                                },
                                {
                                    "LOGIN": "aniko4",
                                    "szall_mod": "Posta",
                                    "Megrendelések száma": "6"
                                },
                                {
                                    "LOGIN": "aniko4",
                                    "szall_mod": "Személyes átvétel",
                                    "Megrendelések száma": "3"
                                },
                                {
                                    "LOGIN": "aniko4",
                                    "szall_mod": "NULL",
                                    "Megrendelések száma": "15"
                                },
                                {
                                    "LOGIN": "ANIKOS",
                                    "szall_mod": "GLS",
                                    "Megrendelések száma": "128"
                                },
                                {
                                    "LOGIN": "ANIKOS",
                                    "szall_mod": "Posta",
                                    "Megrendelések száma": "126"
                                },
                                {
                                    "LOGIN": "ANIKOS",
                                    "szall_mod": "Személyes átvétel",
                                    "Megrendelések száma": "150"
                                },
                                {
                                    "LOGIN": "ANIKOS",
                                    "szall_mod": "NULL",
                                    "Megrendelések száma": "404"
                                },
                                {
                                    "LOGIN": "anita",
                                    "szall_mod": "GLS",
                                    "Megrendelések száma": "5"
                                },
                                {
                                    "LOGIN": "anita",
                                    "szall_mod": "Posta",
                                    "Megrendelések száma": "2"
                                },
                                {
                                    "LOGIN": "anita",
                                    "szall_mod": "Személyes átvétel",
                                    "Megrendelések száma": "5"
                                },
                                {
                                    "LOGIN": "anita",
                                    "szall_mod": "NULL",
                                    "Megrendelések száma": "12"
                                },
                                {
                                    "LOGIN": "annamaria1",
                                    "szall_mod": "GLS",
                                    "Megrendelések száma": "5"
                                },
                                {
                                    "LOGIN": "annamaria1",
                                    "szall_mod": "Posta",
                                    "Megrendelések száma": "4"
                                },
                                {
                                    "LOGIN": "annamaria1",
                                    "szall_mod": "Személyes átvétel",
                                    "Megrendelések száma": "7"
                                },
                                {
                                    "LOGIN": "annamaria1",
                                    "szall_mod": "NULL",
                                    "Megrendelések száma": "16"
                                },
                                {
                                    "LOGIN": "ANNAMARIAR",
                                    "szall_mod": "GLS",
                                    "Megrendelések száma": "8"
                                },
                                {
                                    "LOGIN": "ANNAMARIAR",
                                    "szall_mod": "Posta",
                                    "Megrendelések száma": "2"
                                },
                                {
                                    "LOGIN": "ANNAMARIAR",
                                    "szall_mod": "Személyes átvétel",
                                    "Megrendelések száma": "3"
                                },
                                {
                                    "LOGIN": "ANNAMARIAR",
                                    "szall_mod": "NULL",
                                    "Megrendelések száma": "13"
                                },
                                {
                                    "LOGIN": "aron2",
                                    "szall_mod": "GLS",
                                    "Megrendelések száma": "132"
                                },
                                {
                                    "LOGIN": "aron2",
                                    "szall_mod": "Posta",
                                    "Megrendelések száma": "133"
                                },
                                {
                                    "LOGIN": "aron2",
                                    "szall_mod": "Személyes átvétel",
                                    "Megrendelések száma": "144"
                                },
                                {
                                    "LOGIN": "aron2",
                                    "szall_mod": "NULL",
                                    "Megrendelések száma": "409"
                                },
                                {
                                    "LOGIN": "ARONK",
                                    "szall_mod": "GLS",
                                    "Megrendelések száma": "155"
                                },
                                {
                                    "LOGIN": "ARONK",
                                    "szall_mod": "Posta",
                                    "Megrendelések száma": "120"
                                },
                                {
                                    "LOGIN": "ARONK",
                                    "szall_mod": "Személyes átvétel",
                                    "Megrendelések száma": "155"
                                },
                                {
                                    "LOGIN": "ARONK",
                                    "szall_mod": "NULL",
                                    "Megrendelések száma": "430"
                                },
                                {
                                    "LOGIN": "arpad2",
                                    "szall_mod": "GLS",
                                    "Megrendelések száma": "6"
                                },
                                {
                                    "LOGIN": "arpad2",
                                    "szall_mod": "Posta",
                                    "Megrendelések száma": "1"
                                },
                                {
                                    "LOGIN": "arpad2",
                                    "szall_mod": "Személyes átvétel",
                                    "Megrendelések száma": "10"
                                },
                                {
                                    "LOGIN": "arpad2",
                                    "szall_mod": "NULL",
                                    "Megrendelések száma": "17"
                                },
                                {
                                    "LOGIN": "ARPADH",
                                    "szall_mod": "GLS",
                                    "Megrendelések száma": "6"
                                },
                                {
                                    "LOGIN": "ARPADH",
                                    "szall_mod": "Posta",
                                    "Megrendelések száma": "3"
                                },
                                {
                                    "LOGIN": "ARPADH",
                                    "szall_mod": "Személyes átvétel",
                                    "Megrendelések száma": "5"
                                },
                                {
                                    "LOGIN": "ARPADH",
                                    "szall_mod": "NULL",
                                    "Megrendelések száma": "14"
                                },
                                {
                                    "LOGIN": "ARPADM",
                                    "szall_mod": "GLS",
                                    "Megrendelések száma": "6"
                                },
                                {
                                    "LOGIN": "ARPADM",
                                    "szall_mod": "Posta",
                                    "Megrendelések száma": "3"
                                },
                                {
                                    "LOGIN": "ARPADM",
                                    "szall_mod": "Személyes átvétel",
                                    "Megrendelések száma": "7"
                                },
                                {
                                    "LOGIN": "ARPADM",
                                    "szall_mod": "NULL",
                                    "Megrendelések száma": "16"
                                },
                                {
                                    "LOGIN": "attila1",
                                    "szall_mod": "GLS",
                                    "Megrendelések száma": "5"
                                },
                                {
                                    "LOGIN": "attila1",
                                    "szall_mod": "Posta",
                                    "Megrendelések száma": "7"
                                },
                                {
                                    "LOGIN": "attila1",
                                    "szall_mod": "Személyes átvétel",
                                    "Megrendelések száma": "6"
                                },
                                {
                                    "LOGIN": "attila1",
                                    "szall_mod": "NULL",
                                    "Megrendelések száma": "18"
                                },
                                {
                                    "LOGIN": "attila4",
                                    "szall_mod": "GLS",
                                    "Megrendelések száma": "135"
                                },
                                {
                                    "LOGIN": "attila4",
                                    "szall_mod": "Posta",
                                    "Megrendelések száma": "125"
                                },
                                {
                                    "LOGIN": "attila4",
                                    "szall_mod": "Személyes átvétel",
                                    "Megrendelések száma": "141"
                                },
                                {
                                    "LOGIN": "attila4",
                                    "szall_mod": "NULL",
                                    "Megrendelések száma": "401"
                                },
                                {
                                    "LOGIN": "ATTILAO",
                                    "szall_mod": "GLS",
                                    "Megrendelések száma": "4"
                                },
                                {
                                    "LOGIN": "ATTILAO",
                                    "szall_mod": "Posta",
                                    "Megrendelések száma": "4"
                                },
                                {
                                    "LOGIN": "ATTILAO",
                                    "szall_mod": "Személyes átvétel",
                                    "Megrendelések száma": "6"
                                },
                                {
                                    "LOGIN": "ATTILAO",
                                    "szall_mod": "NULL",
                                    "Megrendelések száma": "14"
                                },
                                {
                                    "LOGIN": "balazs1",
                                    "szall_mod": "GLS",
                                    "Megrendelések száma": "128"
                                },
                                {
                                    "LOGIN": "balazs1",
                                    "szall_mod": "Posta",
                                    "Megrendelések száma": "136"
                                },
                                {
                                    "LOGIN": "balazs1",
                                    "szall_mod": "Személyes átvétel",
                                    "Megrendelések száma": "155"
                                },
                                {
                                    "LOGIN": "balazs1",
                                    "szall_mod": "NULL",
                                    "Megrendelések száma": "419"
                                },
                                {
                                    "LOGIN": "balazs2",
                                    "szall_mod": "GLS",
                                    "Megrendelések száma": "5"
                                },
                                {
                                    "LOGIN": "balazs2",
                                    "szall_mod": "Posta",
                                    "Megrendelések száma": "7"
                                },
                                {
                                    "LOGIN": "balazs2",
                                    "szall_mod": "Személyes átvétel",
                                    "Megrendelések száma": "5"
                                },
                                {
                                    "LOGIN": "balazs2",
                                    "szall_mod": "NULL",
                                    "Megrendelések száma": "17"
                                },
                                {
                                    "LOGIN": "balazs3",
                                    "szall_mod": "GLS",
                                    "Megrendelések száma": "6"
                                },
                                {
                                    "LOGIN": "balazs3",
                                    "szall_mod": "Posta",
                                    "Megrendelések száma": "6"
                                },
                                {
                                    "LOGIN": "balazs3",
                                    "szall_mod": "Személyes átvétel",
                                    "Megrendelések száma": "3"
                                },
                                {
                                    "LOGIN": "balazs3",
                                    "szall_mod": "NULL",
                                    "Megrendelések száma": "15"
                                },
                                {
                                    "LOGIN": "balint",
                                    "szall_mod": "GLS",
                                    "Megrendelések száma": "10"
                                },
                                {
                                    "LOGIN": "balint",
                                    "szall_mod": "Posta",
                                    "Megrendelések száma": "4"
                                },
                                {
                                    "LOGIN": "balint",
                                    "szall_mod": "Személyes átvétel",
                                    "Megrendelések száma": "2"
                                },
                                {
                                    "LOGIN": "balint",
                                    "szall_mod": "NULL",
                                    "Megrendelések száma": "16"
                                },
                                {
                                    "LOGIN": "balint1",
                                    "szall_mod": "GLS",
                                    "Megrendelések száma": "158"
                                },
                                {
                                    "LOGIN": "balint1",
                                    "szall_mod": "Posta",
                                    "Megrendelések száma": "152"
                                },
                                {
                                    "LOGIN": "balint1",
                                    "szall_mod": "Személyes átvétel",
                                    "Megrendelések száma": "152"
                                },
                                {
                                    "LOGIN": "balint1",
                                    "szall_mod": "NULL",
                                    "Megrendelések száma": "462"
                                },
                                {
                                    "LOGIN": "balint2",
                                    "szall_mod": "GLS",
                                    "Megrendelések száma": "8"
                                },
                                {
                                    "LOGIN": "balint2",
                                    "szall_mod": "Posta",
                                    "Megrendelések száma": "6"
                                },
                                {
                                    "LOGIN": "balint2",
                                    "szall_mod": "Személyes átvétel",
                                    "Megrendelések száma": "3"
                                },
                                {
                                    "LOGIN": "balint2",
                                    "szall_mod": "NULL",
                                    "Megrendelések száma": "17"
                                },
                                {
                                    "LOGIN": "balu",
                                    "szall_mod": "GLS",
                                    "Megrendelések száma": "127"
                                },
                                {
                                    "LOGIN": "balu",
                                    "szall_mod": "Posta",
                                    "Megrendelések száma": "137"
                                },
                                {
                                    "LOGIN": "balu",
                                    "szall_mod": "Személyes átvétel",
                                    "Megrendelések száma": "123"
                                },
                                {
                                    "LOGIN": "balu",
                                    "szall_mod": "NULL",
                                    "Megrendelések száma": "387"
                                },
                                {
                                    "LOGIN": "BEATRIXK",
                                    "szall_mod": "GLS",
                                    "Megrendelések száma": "135"
                                },
                                {
                                    "LOGIN": "BEATRIXK",
                                    "szall_mod": "Posta",
                                    "Megrendelések száma": "155"
                                },
                                {
                                    "LOGIN": "BEATRIXK",
                                    "szall_mod": "Személyes átvétel",
                                    "Megrendelések száma": "145"
                                },
                                {
                                    "LOGIN": "BEATRIXK",
                                    "szall_mod": "NULL",
                                    "Megrendelések száma": "435"
                                },
                                {
                                    "LOGIN": "BEATRIXS",
                                    "szall_mod": "GLS",
                                    "Megrendelések száma": "146"
                                },
                                {
                                    "LOGIN": "BEATRIXS",
                                    "szall_mod": "Posta",
                                    "Megrendelések száma": "141"
                                },
                                {
                                    "LOGIN": "BEATRIXS",
                                    "szall_mod": "Személyes átvétel",
                                    "Megrendelések száma": "133"
                                },
                                {
                                    "LOGIN": "BEATRIXS",
                                    "szall_mod": "NULL",
                                    "Megrendelések száma": "420"
                                },
                                {
                                    "LOGIN": "BELAF",
                                    "szall_mod": "GLS",
                                    "Megrendelések száma": "11"
                                },
                                {
                                    "LOGIN": "BELAF",
                                    "szall_mod": "Posta",
                                    "Megrendelések száma": "2"
                                },
                                {
                                    "LOGIN": "BELAF",
                                    "szall_mod": "Személyes átvétel",
                                    "Megrendelések száma": "5"
                                },
                                {
                                    "LOGIN": "BELAF",
                                    "szall_mod": "NULL",
                                    "Megrendelések száma": "18"
                                },
                                {
                                    "LOGIN": "bence",
                                    "szall_mod": "GLS",
                                    "Megrendelések száma": "4"
                                },
                                {
                                    "LOGIN": "bence",
                                    "szall_mod": "Posta",
                                    "Megrendelések száma": "6"
                                },
                                {
                                    "LOGIN": "bence",
                                    "szall_mod": "Személyes átvétel",
                                    "Megrendelések száma": "8"
                                },
                                {
                                    "LOGIN": "bence",
                                    "szall_mod": "NULL",
                                    "Megrendelések száma": "18"
                                },
                                {
                                    "LOGIN": "BENCEB",
                                    "szall_mod": "GLS",
                                    "Megrendelések száma": "5"
                                },
                                {
                                    "LOGIN": "BENCEB",
                                    "szall_mod": "Posta",
                                    "Megrendelések száma": "7"
                                },
                                {
                                    "LOGIN": "BENCEB",
                                    "szall_mod": "Személyes átvétel",
                                    "Megrendelések száma": "5"
                                },
                                {
                                    "LOGIN": "BENCEB",
                                    "szall_mod": "NULL",
                                    "Megrendelések száma": "17"
                                },
                                {
                                    "LOGIN": "bernadett1",
                                    "szall_mod": "GLS",
                                    "Megrendelések száma": "10"
                                },
                                {
                                    "LOGIN": "bernadett1",
                                    "szall_mod": "Posta",
                                    "Megrendelések száma": "5"
                                },
                                {
                                    "LOGIN": "bernadett1",
                                    "szall_mod": "Személyes átvétel",
                                    "Megrendelések száma": "5"
                                },
                                {
                                    "LOGIN": "bernadett1",
                                    "szall_mod": "NULL",
                                    "Megrendelések száma": "20"
                                },
                                {
                                    "LOGIN": "bernadett2",
                                    "szall_mod": "GLS",
                                    "Megrendelések száma": "6"
                                },
                                {
                                    "LOGIN": "bernadett2",
                                    "szall_mod": "Posta",
                                    "Megrendelések száma": "2"
                                },
                                {
                                    "LOGIN": "bernadett2",
                                    "szall_mod": "Személyes átvétel",
                                    "Megrendelések száma": "7"
                                },
                                {
                                    "LOGIN": "bernadett2",
                                    "szall_mod": "NULL",
                                    "Megrendelések száma": "15"
                                },
                                {
                                    "LOGIN": "BERNADETTO",
                                    "szall_mod": "GLS",
                                    "Megrendelések száma": "7"
                                },
                                {
                                    "LOGIN": "BERNADETTO",
                                    "szall_mod": "Posta",
                                    "Megrendelések száma": "2"
                                },
                                {
                                    "LOGIN": "BERNADETTO",
                                    "szall_mod": "Személyes átvétel",
                                    "Megrendelések száma": "7"
                                },
                                {
                                    "LOGIN": "BERNADETTO",
                                    "szall_mod": "NULL",
                                    "Megrendelések száma": "16"
                                },
                                {
                                    "LOGIN": "bertalan",
                                    "szall_mod": "GLS",
                                    "Megrendelések száma": "128"
                                },
                                {
                                    "LOGIN": "bertalan",
                                    "szall_mod": "Posta",
                                    "Megrendelések száma": "124"
                                },
                                {
                                    "LOGIN": "bertalan",
                                    "szall_mod": "Személyes átvétel",
                                    "Megrendelések száma": "101"
                                },
                                {
                                    "LOGIN": "bertalan",
                                    "szall_mod": "NULL",
                                    "Megrendelések száma": "353"
                                },
                                {
                                    "LOGIN": "brigitta",
                                    "szall_mod": "GLS",
                                    "Megrendelések száma": "137"
                                },
                                {
                                    "LOGIN": "brigitta",
                                    "szall_mod": "Posta",
                                    "Megrendelések száma": "137"
                                },
                                {
                                    "LOGIN": "brigitta",
                                    "szall_mod": "Személyes átvétel",
                                    "Megrendelések száma": "119"
                                },
                                {
                                    "LOGIN": "brigitta",
                                    "szall_mod": "NULL",
                                    "Megrendelések száma": "393"
                                },
                                {
                                    "LOGIN": "brigitta3",
                                    "szall_mod": "GLS",
                                    "Megrendelések száma": "144"
                                },
                                {
                                    "LOGIN": "brigitta3",
                                    "szall_mod": "Posta",
                                    "Megrendelések száma": "130"
                                },
                                {
                                    "LOGIN": "brigitta3",
                                    "szall_mod": "Személyes átvétel",
                                    "Megrendelések száma": "139"
                                },
                                {
                                    "LOGIN": "brigitta3",
                                    "szall_mod": "NULL",
                                    "Megrendelések száma": "413"
                                },
                                {
                                    "LOGIN": "csongor3",
                                    "szall_mod": "GLS",
                                    "Megrendelések száma": "5"
                                },
                                {
                                    "LOGIN": "csongor3",
                                    "szall_mod": "Posta",
                                    "Megrendelések száma": "2"
                                },
                                {
                                    "LOGIN": "csongor3",
                                    "szall_mod": "Személyes átvétel",
                                    "Megrendelések száma": "8"
                                },
                                {
                                    "LOGIN": "csongor3",
                                    "szall_mod": "NULL",
                                    "Megrendelések száma": "15"
                                },
                                {
                                    "LOGIN": "dani",
                                    "szall_mod": "GLS",
                                    "Megrendelések száma": "5"
                                },
                                {
                                    "LOGIN": "dani",
                                    "szall_mod": "Személyes átvétel",
                                    "Megrendelések száma": "8"
                                },
                                {
                                    "LOGIN": "dani",
                                    "szall_mod": "NULL",
                                    "Megrendelések száma": "13"
                                },
                                {
                                    "LOGIN": "daniel",
                                    "szall_mod": "GLS",
                                    "Megrendelések száma": "7"
                                },
                                {
                                    "LOGIN": "daniel",
                                    "szall_mod": "Posta",
                                    "Megrendelések száma": "2"
                                },
                                {
                                    "LOGIN": "daniel",
                                    "szall_mod": "Személyes átvétel",
                                    "Megrendelések száma": "4"
                                },
                                {
                                    "LOGIN": "daniel",
                                    "szall_mod": "NULL",
                                    "Megrendelések száma": "13"
                                },
                                {
                                    "LOGIN": "daniel1",
                                    "szall_mod": "GLS",
                                    "Megrendelések száma": "156"
                                },
                                {
                                    "LOGIN": "daniel1",
                                    "szall_mod": "Posta",
                                    "Megrendelések száma": "131"
                                },
                                {
                                    "LOGIN": "daniel1",
                                    "szall_mod": "Személyes átvétel",
                                    "Megrendelések száma": "132"
                                },
                                {
                                    "LOGIN": "daniel1",
                                    "szall_mod": "NULL",
                                    "Megrendelések száma": "419"
                                },
                                {
                                    "LOGIN": "david",
                                    "szall_mod": "GLS",
                                    "Megrendelések száma": "161"
                                },
                                {
                                    "LOGIN": "david",
                                    "szall_mod": "Posta",
                                    "Megrendelések száma": "144"
                                },
                                {
                                    "LOGIN": "david",
                                    "szall_mod": "Személyes átvétel",
                                    "Megrendelések száma": "146"
                                },
                                {
                                    "LOGIN": "david",
                                    "szall_mod": "NULL",
                                    "Megrendelések száma": "451"
                                },
                                {
                                    "LOGIN": "david1",
                                    "szall_mod": "GLS",
                                    "Megrendelések száma": "8"
                                },
                                {
                                    "LOGIN": "david1",
                                    "szall_mod": "Posta",
                                    "Megrendelések száma": "1"
                                },
                                {
                                    "LOGIN": "david1",
                                    "szall_mod": "Személyes átvétel",
                                    "Megrendelések száma": "8"
                                },
                                {
                                    "LOGIN": "david1",
                                    "szall_mod": "NULL",
                                    "Megrendelések száma": "17"
                                },
                                {
                                    "LOGIN": "david4",
                                    "szall_mod": "GLS",
                                    "Megrendelések száma": "3"
                                },
                                {
                                    "LOGIN": "david4",
                                    "szall_mod": "Posta",
                                    "Megrendelések száma": "8"
                                },
                                {
                                    "LOGIN": "david4",
                                    "szall_mod": "Személyes átvétel",
                                    "Megrendelések száma": "10"
                                },
                                {
                                    "LOGIN": "david4",
                                    "szall_mod": "NULL",
                                    "Megrendelések száma": "21"
                                },
                                {
                                    "LOGIN": "debora",
                                    "szall_mod": "GLS",
                                    "Megrendelések száma": "7"
                                },
                                {
                                    "LOGIN": "debora",
                                    "szall_mod": "Posta",
                                    "Megrendelések száma": "6"
                                },
                                {
                                    "LOGIN": "debora",
                                    "szall_mod": "Személyes átvétel",
                                    "Megrendelések száma": "3"
                                },
                                {
                                    "LOGIN": "debora",
                                    "szall_mod": "NULL",
                                    "Megrendelések száma": "16"
                                },
                                {
                                    "LOGIN": "denes",
                                    "szall_mod": "GLS",
                                    "Megrendelések száma": "3"
                                },
                                {
                                    "LOGIN": "denes",
                                    "szall_mod": "Posta",
                                    "Megrendelések száma": "2"
                                },
                                {
                                    "LOGIN": "denes",
                                    "szall_mod": "Személyes átvétel",
                                    "Megrendelések száma": "4"
                                },
                                {
                                    "LOGIN": "denes",
                                    "szall_mod": "NULL",
                                    "Megrendelések száma": "9"
                                },
                                {
                                    "LOGIN": "dora3",
                                    "szall_mod": "GLS",
                                    "Megrendelések száma": "144"
                                },
                                {
                                    "LOGIN": "dora3",
                                    "szall_mod": "Posta",
                                    "Megrendelések száma": "124"
                                },
                                {
                                    "LOGIN": "dora3",
                                    "szall_mod": "Személyes átvétel",
                                    "Megrendelések száma": "164"
                                },
                                {
                                    "LOGIN": "dora3",
                                    "szall_mod": "NULL",
                                    "Megrendelések száma": "432"
                                },
                                {
                                    "LOGIN": "edit",
                                    "szall_mod": "GLS",
                                    "Megrendelések száma": "7"
                                },
                                {
                                    "LOGIN": "edit",
                                    "szall_mod": "Posta",
                                    "Megrendelések száma": "2"
                                },
                                {
                                    "LOGIN": "edit",
                                    "szall_mod": "Személyes átvétel",
                                    "Megrendelések száma": "4"
                                },
                                {
                                    "LOGIN": "edit",
                                    "szall_mod": "NULL",
                                    "Megrendelések száma": "13"
                                },
                                {
                                    "LOGIN": "emese",
                                    "szall_mod": "GLS",
                                    "Megrendelések száma": "128"
                                },
                                {
                                    "LOGIN": "emese",
                                    "szall_mod": "Posta",
                                    "Megrendelések száma": "136"
                                },
                                {
                                    "LOGIN": "emese",
                                    "szall_mod": "Személyes átvétel",
                                    "Megrendelések száma": "142"
                                },
                                {
                                    "LOGIN": "emese",
                                    "szall_mod": "NULL",
                                    "Megrendelések száma": "406"
                                },
                                {
                                    "LOGIN": "eszter2",
                                    "szall_mod": "GLS",
                                    "Megrendelések száma": "127"
                                },
                                {
                                    "LOGIN": "eszter2",
                                    "szall_mod": "Posta",
                                    "Megrendelések száma": "136"
                                },
                                {
                                    "LOGIN": "eszter2",
                                    "szall_mod": "Személyes átvétel",
                                    "Megrendelések száma": "152"
                                },
                                {
                                    "LOGIN": "eszter2",
                                    "szall_mod": "NULL",
                                    "Megrendelések száma": "415"
                                },
                                {
                                    "LOGIN": "eszter4",
                                    "szall_mod": "GLS",
                                    "Megrendelések száma": "141"
                                },
                                {
                                    "LOGIN": "eszter4",
                                    "szall_mod": "Posta",
                                    "Megrendelések száma": "134"
                                },
                                {
                                    "LOGIN": "eszter4",
                                    "szall_mod": "Személyes átvétel",
                                    "Megrendelések száma": "149"
                                },
                                {
                                    "LOGIN": "eszter4",
                                    "szall_mod": "NULL",
                                    "Megrendelések száma": "424"
                                },
                                {
                                    "LOGIN": "ESZTERE",
                                    "szall_mod": "GLS",
                                    "Megrendelések száma": "6"
                                },
                                {
                                    "LOGIN": "ESZTERE",
                                    "szall_mod": "Posta",
                                    "Megrendelések száma": "9"
                                },
                                {
                                    "LOGIN": "ESZTERE",
                                    "szall_mod": "Személyes átvétel",
                                    "Megrendelések száma": "7"
                                },
                                {
                                    "LOGIN": "ESZTERE",
                                    "szall_mod": "NULL",
                                    "Megrendelések száma": "22"
                                },
                                {
                                    "LOGIN": "eva",
                                    "szall_mod": "GLS",
                                    "Megrendelések száma": "125"
                                },
                                {
                                    "LOGIN": "eva",
                                    "szall_mod": "Posta",
                                    "Megrendelések száma": "140"
                                },
                                {
                                    "LOGIN": "eva",
                                    "szall_mod": "Személyes átvétel",
                                    "Megrendelések száma": "139"
                                },
                                {
                                    "LOGIN": "eva",
                                    "szall_mod": "NULL",
                                    "Megrendelések száma": "404"
                                },
                                {
                                    "LOGIN": "eva2",
                                    "szall_mod": "GLS",
                                    "Megrendelések száma": "154"
                                },
                                {
                                    "LOGIN": "eva2",
                                    "szall_mod": "Posta",
                                    "Megrendelések száma": "138"
                                },
                                {
                                    "LOGIN": "eva2",
                                    "szall_mod": "Személyes átvétel",
                                    "Megrendelések száma": "170"
                                },
                                {
                                    "LOGIN": "eva2",
                                    "szall_mod": "NULL",
                                    "Megrendelések száma": "462"
                                },
                                {
                                    "LOGIN": "EVAV",
                                    "szall_mod": "GLS",
                                    "Megrendelések száma": "2"
                                },
                                {
                                    "LOGIN": "EVAV",
                                    "szall_mod": "Posta",
                                    "Megrendelések száma": "1"
                                },
                                {
                                    "LOGIN": "EVAV",
                                    "szall_mod": "Személyes átvétel",
                                    "Megrendelések száma": "4"
                                },
                                {
                                    "LOGIN": "EVAV",
                                    "szall_mod": "NULL",
                                    "Megrendelések száma": "7"
                                },
                                {
                                    "LOGIN": "ferenc1",
                                    "szall_mod": "GLS",
                                    "Megrendelések száma": "144"
                                },
                                {
                                    "LOGIN": "ferenc1",
                                    "szall_mod": "Posta",
                                    "Megrendelések száma": "158"
                                },
                                {
                                    "LOGIN": "ferenc1",
                                    "szall_mod": "Személyes átvétel",
                                    "Megrendelések száma": "135"
                                },
                                {
                                    "LOGIN": "ferenc1",
                                    "szall_mod": "NULL",
                                    "Megrendelések száma": "437"
                                },
                                {
                                    "LOGIN": "fruzsina4",
                                    "szall_mod": "GLS",
                                    "Megrendelések száma": "8"
                                },
                                {
                                    "LOGIN": "fruzsina4",
                                    "szall_mod": "Posta",
                                    "Megrendelések száma": "3"
                                },
                                {
                                    "LOGIN": "fruzsina4",
                                    "szall_mod": "Személyes átvétel",
                                    "Megrendelések száma": "7"
                                },
                                {
                                    "LOGIN": "fruzsina4",
                                    "szall_mod": "NULL",
                                    "Megrendelések száma": "18"
                                },
                                {
                                    "LOGIN": "gabor1",
                                    "szall_mod": "GLS",
                                    "Megrendelések száma": "9"
                                },
                                {
                                    "LOGIN": "gabor1",
                                    "szall_mod": "Posta",
                                    "Megrendelések száma": "5"
                                },
                                {
                                    "LOGIN": "gabor1",
                                    "szall_mod": "Személyes átvétel",
                                    "Megrendelések száma": "5"
                                },
                                {
                                    "LOGIN": "gabor1",
                                    "szall_mod": "NULL",
                                    "Megrendelések száma": "19"
                                },
                                {
                                    "LOGIN": "gabor4",
                                    "szall_mod": "GLS",
                                    "Megrendelések száma": "7"
                                },
                                {
                                    "LOGIN": "gabor4",
                                    "szall_mod": "Posta",
                                    "Megrendelések száma": "9"
                                },
                                {
                                    "LOGIN": "gabor4",
                                    "szall_mod": "Személyes átvétel",
                                    "Megrendelések száma": "4"
                                },
                                {
                                    "LOGIN": "gabor4",
                                    "szall_mod": "NULL",
                                    "Megrendelések száma": "20"
                                },
                                {
                                    "LOGIN": "GABORS",
                                    "szall_mod": "GLS",
                                    "Megrendelések száma": "5"
                                },
                                {
                                    "LOGIN": "GABORS",
                                    "szall_mod": "Posta",
                                    "Megrendelések száma": "6"
                                },
                                {
                                    "LOGIN": "GABORS",
                                    "szall_mod": "Személyes átvétel",
                                    "Megrendelések száma": "4"
                                },
                                {
                                    "LOGIN": "GABORS",
                                    "szall_mod": "NULL",
                                    "Megrendelések száma": "15"
                                },
                                {
                                    "LOGIN": "gabriella1",
                                    "szall_mod": "GLS",
                                    "Megrendelések száma": "5"
                                },
                                {
                                    "LOGIN": "gabriella1",
                                    "szall_mod": "Posta",
                                    "Megrendelések száma": "4"
                                },
                                {
                                    "LOGIN": "gabriella1",
                                    "szall_mod": "Személyes átvétel",
                                    "Megrendelések száma": "5"
                                },
                                {
                                    "LOGIN": "gabriella1",
                                    "szall_mod": "NULL",
                                    "Megrendelések száma": "14"
                                },
                                {
                                    "LOGIN": "gabriella10",
                                    "szall_mod": "GLS",
                                    "Megrendelések száma": "4"
                                },
                                {
                                    "LOGIN": "gabriella10",
                                    "szall_mod": "Posta",
                                    "Megrendelések száma": "5"
                                },
                                {
                                    "LOGIN": "gabriella10",
                                    "szall_mod": "Személyes átvétel",
                                    "Megrendelések száma": "7"
                                },
                                {
                                    "LOGIN": "gabriella10",
                                    "szall_mod": "NULL",
                                    "Megrendelések száma": "16"
                                },
                                {
                                    "LOGIN": "georgij",
                                    "szall_mod": "GLS",
                                    "Megrendelések száma": "9"
                                },
                                {
                                    "LOGIN": "georgij",
                                    "szall_mod": "Posta",
                                    "Megrendelések száma": "2"
                                },
                                {
                                    "LOGIN": "georgij",
                                    "szall_mod": "Személyes átvétel",
                                    "Megrendelések száma": "10"
                                },
                                {
                                    "LOGIN": "georgij",
                                    "szall_mod": "NULL",
                                    "Megrendelések száma": "21"
                                },
                                {
                                    "LOGIN": "gusztav",
                                    "szall_mod": "GLS",
                                    "Megrendelések száma": "5"
                                },
                                {
                                    "LOGIN": "gusztav",
                                    "szall_mod": "Posta",
                                    "Megrendelések száma": "4"
                                },
                                {
                                    "LOGIN": "gusztav",
                                    "szall_mod": "Személyes átvétel",
                                    "Megrendelések száma": "5"
                                },
                                {
                                    "LOGIN": "gusztav",
                                    "szall_mod": "NULL",
                                    "Megrendelések száma": "14"
                                },
                                {
                                    "LOGIN": "GYONGYIK",
                                    "szall_mod": "GLS",
                                    "Megrendelések száma": "6"
                                },
                                {
                                    "LOGIN": "GYONGYIK",
                                    "szall_mod": "Posta",
                                    "Megrendelések száma": "6"
                                },
                                {
                                    "LOGIN": "GYONGYIK",
                                    "szall_mod": "Személyes átvétel",
                                    "Megrendelések száma": "3"
                                },
                                {
                                    "LOGIN": "GYONGYIK",
                                    "szall_mod": "NULL",
                                    "Megrendelések száma": "15"
                                },
                                {
                                    "LOGIN": "GYORGYO",
                                    "szall_mod": "GLS",
                                    "Megrendelések száma": "7"
                                },
                                {
                                    "LOGIN": "GYORGYO",
                                    "szall_mod": "Posta",
                                    "Megrendelések száma": "4"
                                },
                                {
                                    "LOGIN": "GYORGYO",
                                    "szall_mod": "Személyes átvétel",
                                    "Megrendelések száma": "5"
                                },
                                {
                                    "LOGIN": "GYORGYO",
                                    "szall_mod": "NULL",
                                    "Megrendelések száma": "16"
                                },
                                {
                                    "LOGIN": "henrik3",
                                    "szall_mod": "GLS",
                                    "Megrendelések száma": "7"
                                },
                                {
                                    "LOGIN": "henrik3",
                                    "szall_mod": "Posta",
                                    "Megrendelések száma": "4"
                                },
                                {
                                    "LOGIN": "henrik3",
                                    "szall_mod": "Személyes átvétel",
                                    "Megrendelések száma": "5"
                                },
                                {
                                    "LOGIN": "henrik3",
                                    "szall_mod": "NULL",
                                    "Megrendelések száma": "16"
                                },
                                {
                                    "LOGIN": "IBOLYAA",
                                    "szall_mod": "GLS",
                                    "Megrendelések száma": "140"
                                },
                                {
                                    "LOGIN": "IBOLYAA",
                                    "szall_mod": "Posta",
                                    "Megrendelések száma": "125"
                                },
                                {
                                    "LOGIN": "IBOLYAA",
                                    "szall_mod": "Személyes átvétel",
                                    "Megrendelések száma": "157"
                                },
                                {
                                    "LOGIN": "IBOLYAA",
                                    "szall_mod": "NULL",
                                    "Megrendelések száma": "422"
                                },
                                {
                                    "LOGIN": "ilona3",
                                    "szall_mod": "GLS",
                                    "Megrendelések száma": "9"
                                },
                                {
                                    "LOGIN": "ilona3",
                                    "szall_mod": "Posta",
                                    "Megrendelések száma": "2"
                                },
                                {
                                    "LOGIN": "ilona3",
                                    "szall_mod": "Személyes átvétel",
                                    "Megrendelések száma": "7"
                                },
                                {
                                    "LOGIN": "ilona3",
                                    "szall_mod": "NULL",
                                    "Megrendelések száma": "18"
                                },
                                {
                                    "LOGIN": "imre",
                                    "szall_mod": "GLS",
                                    "Megrendelések száma": "5"
                                },
                                {
                                    "LOGIN": "imre",
                                    "szall_mod": "Posta",
                                    "Megrendelések száma": "4"
                                },
                                {
                                    "LOGIN": "imre",
                                    "szall_mod": "Személyes átvétel",
                                    "Megrendelések száma": "6"
                                },
                                {
                                    "LOGIN": "imre",
                                    "szall_mod": "NULL",
                                    "Megrendelések száma": "15"
                                },
                                {
                                    "LOGIN": "imre1",
                                    "szall_mod": "GLS",
                                    "Megrendelések száma": "8"
                                },
                                {
                                    "LOGIN": "imre1",
                                    "szall_mod": "Posta",
                                    "Megrendelések száma": "4"
                                },
                                {
                                    "LOGIN": "imre1",
                                    "szall_mod": "Személyes átvétel",
                                    "Megrendelések száma": "3"
                                },
                                {
                                    "LOGIN": "imre1",
                                    "szall_mod": "NULL",
                                    "Megrendelések száma": "15"
                                },
                                {
                                    "LOGIN": "istvan",
                                    "szall_mod": "GLS",
                                    "Megrendelések száma": "3"
                                },
                                {
                                    "LOGIN": "istvan",
                                    "szall_mod": "Posta",
                                    "Megrendelések száma": "4"
                                },
                                {
                                    "LOGIN": "istvan",
                                    "szall_mod": "Személyes átvétel",
                                    "Megrendelések száma": "4"
                                },
                                {
                                    "LOGIN": "istvan",
                                    "szall_mod": "NULL",
                                    "Megrendelések száma": "11"
                                },
                                {
                                    "LOGIN": "istvan1",
                                    "szall_mod": "GLS",
                                    "Megrendelések száma": "8"
                                },
                                {
                                    "LOGIN": "istvan1",
                                    "szall_mod": "Posta",
                                    "Megrendelések száma": "4"
                                },
                                {
                                    "LOGIN": "istvan1",
                                    "szall_mod": "Személyes átvétel",
                                    "Megrendelések száma": "7"
                                },
                                {
                                    "LOGIN": "istvan1",
                                    "szall_mod": "NULL",
                                    "Megrendelések száma": "19"
                                },
                                {
                                    "LOGIN": "ISTVANV",
                                    "szall_mod": "GLS",
                                    "Megrendelések száma": "4"
                                },
                                {
                                    "LOGIN": "ISTVANV",
                                    "szall_mod": "Posta",
                                    "Megrendelések száma": "9"
                                },
                                {
                                    "LOGIN": "ISTVANV",
                                    "szall_mod": "Személyes átvétel",
                                    "Megrendelések száma": "8"
                                },
                                {
                                    "LOGIN": "ISTVANV",
                                    "szall_mod": "NULL",
                                    "Megrendelések száma": "21"
                                },
                                {
                                    "LOGIN": "janos3",
                                    "szall_mod": "GLS",
                                    "Megrendelések száma": "5"
                                },
                                {
                                    "LOGIN": "janos3",
                                    "szall_mod": "Posta",
                                    "Megrendelések száma": "2"
                                },
                                {
                                    "LOGIN": "janos3",
                                    "szall_mod": "Személyes átvétel",
                                    "Megrendelések száma": "6"
                                },
                                {
                                    "LOGIN": "janos3",
                                    "szall_mod": "NULL",
                                    "Megrendelések száma": "13"
                                },
                                {
                                    "LOGIN": "JANOSG",
                                    "szall_mod": "GLS",
                                    "Megrendelések száma": "3"
                                },
                                {
                                    "LOGIN": "JANOSG",
                                    "szall_mod": "Posta",
                                    "Megrendelések száma": "3"
                                },
                                {
                                    "LOGIN": "JANOSG",
                                    "szall_mod": "Személyes átvétel",
                                    "Megrendelések száma": "4"
                                },
                                {
                                    "LOGIN": "JANOSG",
                                    "szall_mod": "NULL",
                                    "Megrendelések száma": "10"
                                },
                                {
                                    "LOGIN": "JANOSP",
                                    "szall_mod": "GLS",
                                    "Megrendelések száma": "7"
                                },
                                {
                                    "LOGIN": "JANOSP",
                                    "szall_mod": "Posta",
                                    "Megrendelések száma": "7"
                                },
                                {
                                    "LOGIN": "JANOSP",
                                    "szall_mod": "Személyes átvétel",
                                    "Megrendelések száma": "3"
                                },
                                {
                                    "LOGIN": "JANOSP",
                                    "szall_mod": "NULL",
                                    "Megrendelések száma": "17"
                                },
                                {
                                    "LOGIN": "jozsef",
                                    "szall_mod": "GLS",
                                    "Megrendelések száma": "116"
                                },
                                {
                                    "LOGIN": "jozsef",
                                    "szall_mod": "Posta",
                                    "Megrendelések száma": "132"
                                },
                                {
                                    "LOGIN": "jozsef",
                                    "szall_mod": "Személyes átvétel",
                                    "Megrendelések száma": "134"
                                },
                                {
                                    "LOGIN": "jozsef",
                                    "szall_mod": "NULL",
                                    "Megrendelések száma": "382"
                                },
                                {
                                    "LOGIN": "jozsef2",
                                    "szall_mod": "GLS",
                                    "Megrendelések száma": "7"
                                },
                                {
                                    "LOGIN": "jozsef2",
                                    "szall_mod": "Posta",
                                    "Megrendelések száma": "2"
                                },
                                {
                                    "LOGIN": "jozsef2",
                                    "szall_mod": "Személyes átvétel",
                                    "Megrendelések száma": "4"
                                },
                                {
                                    "LOGIN": "jozsef2",
                                    "szall_mod": "NULL",
                                    "Megrendelések száma": "13"
                                },
                                {
                                    "LOGIN": "JOZSEFG",
                                    "szall_mod": "GLS",
                                    "Megrendelések száma": "11"
                                },
                                {
                                    "LOGIN": "JOZSEFG",
                                    "szall_mod": "Posta",
                                    "Megrendelések száma": "1"
                                },
                                {
                                    "LOGIN": "JOZSEFG",
                                    "szall_mod": "Személyes átvétel",
                                    "Megrendelések száma": "9"
                                },
                                {
                                    "LOGIN": "JOZSEFG",
                                    "szall_mod": "NULL",
                                    "Megrendelések száma": "21"
                                },
                                {
                                    "LOGIN": "JUDITH",
                                    "szall_mod": "GLS",
                                    "Megrendelések száma": "170"
                                },
                                {
                                    "LOGIN": "JUDITH",
                                    "szall_mod": "Posta",
                                    "Megrendelések száma": "130"
                                },
                                {
                                    "LOGIN": "JUDITH",
                                    "szall_mod": "Személyes átvétel",
                                    "Megrendelések száma": "150"
                                },
                                {
                                    "LOGIN": "JUDITH",
                                    "szall_mod": "NULL",
                                    "Megrendelések száma": "450"
                                },
                                {
                                    "LOGIN": "julia",
                                    "szall_mod": "GLS",
                                    "Megrendelések száma": "137"
                                },
                                {
                                    "LOGIN": "julia",
                                    "szall_mod": "Posta",
                                    "Megrendelések száma": "160"
                                },
                                {
                                    "LOGIN": "julia",
                                    "szall_mod": "Személyes átvétel",
                                    "Megrendelések száma": "138"
                                },
                                {
                                    "LOGIN": "julia",
                                    "szall_mod": "NULL",
                                    "Megrendelések száma": "435"
                                },
                                {
                                    "LOGIN": "julia4",
                                    "szall_mod": "GLS",
                                    "Megrendelések száma": "2"
                                },
                                {
                                    "LOGIN": "julia4",
                                    "szall_mod": "Posta",
                                    "Megrendelések száma": "4"
                                },
                                {
                                    "LOGIN": "julia4",
                                    "szall_mod": "Személyes átvétel",
                                    "Megrendelések száma": "8"
                                },
                                {
                                    "LOGIN": "julia4",
                                    "szall_mod": "NULL",
                                    "Megrendelések száma": "14"
                                },
                                {
                                    "LOGIN": "julianna4",
                                    "szall_mod": "GLS",
                                    "Megrendelések száma": "8"
                                },
                                {
                                    "LOGIN": "julianna4",
                                    "szall_mod": "Posta",
                                    "Megrendelések száma": "12"
                                },
                                {
                                    "LOGIN": "julianna4",
                                    "szall_mod": "Személyes átvétel",
                                    "Megrendelések száma": "7"
                                },
                                {
                                    "LOGIN": "julianna4",
                                    "szall_mod": "NULL",
                                    "Megrendelések száma": "27"
                                },
                                {
                                    "LOGIN": "kata",
                                    "szall_mod": "GLS",
                                    "Megrendelések száma": "5"
                                },
                                {
                                    "LOGIN": "kata",
                                    "szall_mod": "Posta",
                                    "Megrendelések száma": "4"
                                },
                                {
                                    "LOGIN": "kata",
                                    "szall_mod": "Személyes átvétel",
                                    "Megrendelések száma": "3"
                                },
                                {
                                    "LOGIN": "kata",
                                    "szall_mod": "NULL",
                                    "Megrendelések száma": "12"
                                },
                                {
                                    "LOGIN": "katalin",
                                    "szall_mod": "GLS",
                                    "Megrendelések száma": "7"
                                },
                                {
                                    "LOGIN": "katalin",
                                    "szall_mod": "Posta",
                                    "Megrendelések száma": "7"
                                },
                                {
                                    "LOGIN": "katalin",
                                    "szall_mod": "Személyes átvétel",
                                    "Megrendelések száma": "5"
                                },
                                {
                                    "LOGIN": "katalin",
                                    "szall_mod": "NULL",
                                    "Megrendelések száma": "19"
                                },
                                {
                                    "LOGIN": "katalin4",
                                    "szall_mod": "GLS",
                                    "Megrendelések száma": "7"
                                },
                                {
                                    "LOGIN": "katalin4",
                                    "szall_mod": "Posta",
                                    "Megrendelések száma": "5"
                                },
                                {
                                    "LOGIN": "katalin4",
                                    "szall_mod": "Személyes átvétel",
                                    "Megrendelések száma": "11"
                                },
                                {
                                    "LOGIN": "katalin4",
                                    "szall_mod": "NULL",
                                    "Megrendelések száma": "23"
                                },
                                {
                                    "LOGIN": "kati",
                                    "szall_mod": "GLS",
                                    "Megrendelések száma": "4"
                                },
                                {
                                    "LOGIN": "kati",
                                    "szall_mod": "Posta",
                                    "Megrendelések száma": "5"
                                },
                                {
                                    "LOGIN": "kati",
                                    "szall_mod": "Személyes átvétel",
                                    "Megrendelések száma": "4"
                                },
                                {
                                    "LOGIN": "kati",
                                    "szall_mod": "NULL",
                                    "Megrendelések száma": "13"
                                },
                                {
                                    "LOGIN": "katka",
                                    "szall_mod": "GLS",
                                    "Megrendelések száma": "6"
                                },
                                {
                                    "LOGIN": "katka",
                                    "szall_mod": "Posta",
                                    "Megrendelések száma": "6"
                                },
                                {
                                    "LOGIN": "katka",
                                    "szall_mod": "Személyes átvétel",
                                    "Megrendelések száma": "10"
                                },
                                {
                                    "LOGIN": "katka",
                                    "szall_mod": "NULL",
                                    "Megrendelések száma": "22"
                                },
                                {
                                    "LOGIN": "klaudia2",
                                    "szall_mod": "GLS",
                                    "Megrendelések száma": "3"
                                },
                                {
                                    "LOGIN": "klaudia2",
                                    "szall_mod": "Posta",
                                    "Megrendelések száma": "9"
                                },
                                {
                                    "LOGIN": "klaudia2",
                                    "szall_mod": "Személyes átvétel",
                                    "Megrendelések száma": "5"
                                },
                                {
                                    "LOGIN": "klaudia2",
                                    "szall_mod": "NULL",
                                    "Megrendelések száma": "17"
                                },
                                {
                                    "LOGIN": "kornel4",
                                    "szall_mod": "GLS",
                                    "Megrendelések száma": "3"
                                },
                                {
                                    "LOGIN": "kornel4",
                                    "szall_mod": "Posta",
                                    "Megrendelések száma": "1"
                                },
                                {
                                    "LOGIN": "kornel4",
                                    "szall_mod": "Személyes átvétel",
                                    "Megrendelések száma": "7"
                                },
                                {
                                    "LOGIN": "kornel4",
                                    "szall_mod": "NULL",
                                    "Megrendelések száma": "11"
                                },
                                {
                                    "LOGIN": "kristof4",
                                    "szall_mod": "GLS",
                                    "Megrendelések száma": "9"
                                },
                                {
                                    "LOGIN": "kristof4",
                                    "szall_mod": "Posta",
                                    "Megrendelések száma": "4"
                                },
                                {
                                    "LOGIN": "kristof4",
                                    "szall_mod": "Személyes átvétel",
                                    "Megrendelések száma": "8"
                                },
                                {
                                    "LOGIN": "kristof4",
                                    "szall_mod": "NULL",
                                    "Megrendelések száma": "21"
                                },
                                {
                                    "LOGIN": "kriszti",
                                    "szall_mod": "GLS",
                                    "Megrendelések száma": "3"
                                },
                                {
                                    "LOGIN": "kriszti",
                                    "szall_mod": "Posta",
                                    "Megrendelések száma": "5"
                                },
                                {
                                    "LOGIN": "kriszti",
                                    "szall_mod": "Személyes átvétel",
                                    "Megrendelések száma": "5"
                                },
                                {
                                    "LOGIN": "kriszti",
                                    "szall_mod": "NULL",
                                    "Megrendelések száma": "13"
                                },
                                {
                                    "LOGIN": "krisztian4",
                                    "szall_mod": "GLS",
                                    "Megrendelések száma": "5"
                                },
                                {
                                    "LOGIN": "krisztian4",
                                    "szall_mod": "Posta",
                                    "Megrendelések száma": "6"
                                },
                                {
                                    "LOGIN": "krisztian4",
                                    "szall_mod": "Személyes átvétel",
                                    "Megrendelések száma": "6"
                                },
                                {
                                    "LOGIN": "krisztian4",
                                    "szall_mod": "NULL",
                                    "Megrendelések száma": "17"
                                },
                                {
                                    "LOGIN": "KRISZTIANM",
                                    "szall_mod": "GLS",
                                    "Megrendelések száma": "118"
                                },
                                {
                                    "LOGIN": "KRISZTIANM",
                                    "szall_mod": "Posta",
                                    "Megrendelések száma": "136"
                                },
                                {
                                    "LOGIN": "KRISZTIANM",
                                    "szall_mod": "Személyes átvétel",
                                    "Megrendelések száma": "130"
                                },
                                {
                                    "LOGIN": "KRISZTIANM",
                                    "szall_mod": "NULL",
                                    "Megrendelések száma": "384"
                                },
                                {
                                    "LOGIN": "krisztina",
                                    "szall_mod": "GLS",
                                    "Megrendelések száma": "149"
                                },
                                {
                                    "LOGIN": "krisztina",
                                    "szall_mod": "Posta",
                                    "Megrendelések száma": "150"
                                },
                                {
                                    "LOGIN": "krisztina",
                                    "szall_mod": "Személyes átvétel",
                                    "Megrendelések száma": "157"
                                },
                                {
                                    "LOGIN": "krisztina",
                                    "szall_mod": "NULL",
                                    "Megrendelések száma": "456"
                                },
                                {
                                    "LOGIN": "krisztina1",
                                    "szall_mod": "GLS",
                                    "Megrendelések száma": "10"
                                },
                                {
                                    "LOGIN": "krisztina1",
                                    "szall_mod": "Posta",
                                    "Megrendelések száma": "4"
                                },
                                {
                                    "LOGIN": "krisztina1",
                                    "szall_mod": "Személyes átvétel",
                                    "Megrendelések száma": "8"
                                },
                                {
                                    "LOGIN": "krisztina1",
                                    "szall_mod": "NULL",
                                    "Megrendelések száma": "22"
                                },
                                {
                                    "LOGIN": "KRISZTINAG",
                                    "szall_mod": "GLS",
                                    "Megrendelések száma": "6"
                                },
                                {
                                    "LOGIN": "KRISZTINAG",
                                    "szall_mod": "Posta",
                                    "Megrendelések száma": "6"
                                },
                                {
                                    "LOGIN": "KRISZTINAG",
                                    "szall_mod": "Személyes átvétel",
                                    "Megrendelések száma": "10"
                                },
                                {
                                    "LOGIN": "KRISZTINAG",
                                    "szall_mod": "NULL",
                                    "Megrendelések száma": "22"
                                },
                                {
                                    "LOGIN": "lajos",
                                    "szall_mod": "GLS",
                                    "Megrendelések száma": "5"
                                },
                                {
                                    "LOGIN": "lajos",
                                    "szall_mod": "Posta",
                                    "Megrendelések száma": "2"
                                },
                                {
                                    "LOGIN": "lajos",
                                    "szall_mod": "Személyes átvétel",
                                    "Megrendelések száma": "9"
                                },
                                {
                                    "LOGIN": "lajos",
                                    "szall_mod": "NULL",
                                    "Megrendelések száma": "16"
                                },
                                {
                                    "LOGIN": "lala",
                                    "szall_mod": "GLS",
                                    "Megrendelések száma": "5"
                                },
                                {
                                    "LOGIN": "lala",
                                    "szall_mod": "Posta",
                                    "Megrendelések száma": "3"
                                },
                                {
                                    "LOGIN": "lala",
                                    "szall_mod": "Személyes átvétel",
                                    "Megrendelések száma": "9"
                                },
                                {
                                    "LOGIN": "lala",
                                    "szall_mod": "NULL",
                                    "Megrendelések száma": "17"
                                },
                                {
                                    "LOGIN": "laszlo1",
                                    "szall_mod": "GLS",
                                    "Megrendelések száma": "130"
                                },
                                {
                                    "LOGIN": "laszlo1",
                                    "szall_mod": "Posta",
                                    "Megrendelések száma": "129"
                                },
                                {
                                    "LOGIN": "laszlo1",
                                    "szall_mod": "Személyes átvétel",
                                    "Megrendelések száma": "135"
                                },
                                {
                                    "LOGIN": "laszlo1",
                                    "szall_mod": "NULL",
                                    "Megrendelések száma": "394"
                                },
                                {
                                    "LOGIN": "laszlo2",
                                    "szall_mod": "GLS",
                                    "Megrendelések száma": "12"
                                },
                                {
                                    "LOGIN": "laszlo2",
                                    "szall_mod": "Posta",
                                    "Megrendelések száma": "6"
                                },
                                {
                                    "LOGIN": "laszlo2",
                                    "szall_mod": "Személyes átvétel",
                                    "Megrendelések száma": "7"
                                },
                                {
                                    "LOGIN": "laszlo2",
                                    "szall_mod": "NULL",
                                    "Megrendelések száma": "25"
                                },
                                {
                                    "LOGIN": "LASZLOA",
                                    "szall_mod": "GLS",
                                    "Megrendelések száma": "156"
                                },
                                {
                                    "LOGIN": "LASZLOA",
                                    "szall_mod": "Posta",
                                    "Megrendelések száma": "136"
                                },
                                {
                                    "LOGIN": "LASZLOA",
                                    "szall_mod": "Személyes átvétel",
                                    "Megrendelések száma": "154"
                                },
                                {
                                    "LOGIN": "LASZLOA",
                                    "szall_mod": "NULL",
                                    "Megrendelések száma": "446"
                                },
                                {
                                    "LOGIN": "LASZLON",
                                    "szall_mod": "GLS",
                                    "Megrendelések száma": "126"
                                },
                                {
                                    "LOGIN": "LASZLON",
                                    "szall_mod": "Posta",
                                    "Megrendelések száma": "131"
                                },
                                {
                                    "LOGIN": "LASZLON",
                                    "szall_mod": "Személyes átvétel",
                                    "Megrendelések száma": "143"
                                },
                                {
                                    "LOGIN": "LASZLON",
                                    "szall_mod": "NULL",
                                    "Megrendelések száma": "400"
                                },
                                {
                                    "LOGIN": "maria1",
                                    "szall_mod": "GLS",
                                    "Megrendelések száma": "4"
                                },
                                {
                                    "LOGIN": "maria1",
                                    "szall_mod": "Posta",
                                    "Megrendelések száma": "5"
                                },
                                {
                                    "LOGIN": "maria1",
                                    "szall_mod": "Személyes átvétel",
                                    "Megrendelések száma": "1"
                                },
                                {
                                    "LOGIN": "maria1",
                                    "szall_mod": "NULL",
                                    "Megrendelések száma": "10"
                                },
                                {
                                    "LOGIN": "MARKH",
                                    "szall_mod": "GLS",
                                    "Megrendelések száma": "128"
                                },
                                {
                                    "LOGIN": "MARKH",
                                    "szall_mod": "Posta",
                                    "Megrendelések száma": "142"
                                },
                                {
                                    "LOGIN": "MARKH",
                                    "szall_mod": "Személyes átvétel",
                                    "Megrendelések száma": "142"
                                },
                                {
                                    "LOGIN": "MARKH",
                                    "szall_mod": "NULL",
                                    "Megrendelések száma": "412"
                                },
                                {
                                    "LOGIN": "marton",
                                    "szall_mod": "GLS",
                                    "Megrendelések száma": "5"
                                },
                                {
                                    "LOGIN": "marton",
                                    "szall_mod": "Posta",
                                    "Megrendelések száma": "4"
                                },
                                {
                                    "LOGIN": "marton",
                                    "szall_mod": "Személyes átvétel",
                                    "Megrendelések száma": "5"
                                },
                                {
                                    "LOGIN": "marton",
                                    "szall_mod": "NULL",
                                    "Megrendelések száma": "14"
                                },
                                {
                                    "LOGIN": "MATEK",
                                    "szall_mod": "GLS",
                                    "Megrendelések száma": "6"
                                },
                                {
                                    "LOGIN": "MATEK",
                                    "szall_mod": "Posta",
                                    "Megrendelések száma": "10"
                                },
                                {
                                    "LOGIN": "MATEK",
                                    "szall_mod": "Személyes átvétel",
                                    "Megrendelések száma": "9"
                                },
                                {
                                    "LOGIN": "MATEK",
                                    "szall_mod": "NULL",
                                    "Megrendelések száma": "25"
                                },
                                {
                                    "LOGIN": "matyas2",
                                    "szall_mod": "GLS",
                                    "Megrendelések száma": "138"
                                },
                                {
                                    "LOGIN": "matyas2",
                                    "szall_mod": "Posta",
                                    "Megrendelések száma": "131"
                                },
                                {
                                    "LOGIN": "matyas2",
                                    "szall_mod": "Személyes átvétel",
                                    "Megrendelések száma": "164"
                                },
                                {
                                    "LOGIN": "matyas2",
                                    "szall_mod": "NULL",
                                    "Megrendelések száma": "433"
                                },
                                {
                                    "LOGIN": "MATYASS",
                                    "szall_mod": "GLS",
                                    "Megrendelések száma": "4"
                                },
                                {
                                    "LOGIN": "MATYASS",
                                    "szall_mod": "Posta",
                                    "Megrendelések száma": "5"
                                },
                                {
                                    "LOGIN": "MATYASS",
                                    "szall_mod": "Személyes átvétel",
                                    "Megrendelések száma": "3"
                                },
                                {
                                    "LOGIN": "MATYASS",
                                    "szall_mod": "NULL",
                                    "Megrendelések száma": "12"
                                },
                                {
                                    "LOGIN": "MIHALYJ",
                                    "szall_mod": "GLS",
                                    "Megrendelések száma": "3"
                                },
                                {
                                    "LOGIN": "MIHALYJ",
                                    "szall_mod": "Posta",
                                    "Megrendelések száma": "4"
                                },
                                {
                                    "LOGIN": "MIHALYJ",
                                    "szall_mod": "Személyes átvétel",
                                    "Megrendelések száma": "6"
                                },
                                {
                                    "LOGIN": "MIHALYJ",
                                    "szall_mod": "NULL",
                                    "Megrendelések száma": "13"
                                },
                                {
                                    "LOGIN": "miklos2",
                                    "szall_mod": "GLS",
                                    "Megrendelések száma": "7"
                                },
                                {
                                    "LOGIN": "miklos2",
                                    "szall_mod": "Posta",
                                    "Megrendelések száma": "4"
                                },
                                {
                                    "LOGIN": "miklos2",
                                    "szall_mod": "Személyes átvétel",
                                    "Megrendelések száma": "2"
                                },
                                {
                                    "LOGIN": "miklos2",
                                    "szall_mod": "NULL",
                                    "Megrendelések száma": "13"
                                },
                                {
                                    "LOGIN": "MIKLOSB",
                                    "szall_mod": "GLS",
                                    "Megrendelések száma": "6"
                                },
                                {
                                    "LOGIN": "MIKLOSB",
                                    "szall_mod": "Posta",
                                    "Megrendelések száma": "1"
                                },
                                {
                                    "LOGIN": "MIKLOSB",
                                    "szall_mod": "Személyes átvétel",
                                    "Megrendelések száma": "8"
                                },
                                {
                                    "LOGIN": "MIKLOSB",
                                    "szall_mod": "NULL",
                                    "Megrendelések száma": "15"
                                },
                                {
                                    "LOGIN": "MONIKAM",
                                    "szall_mod": "GLS",
                                    "Megrendelések száma": "133"
                                },
                                {
                                    "LOGIN": "MONIKAM",
                                    "szall_mod": "Posta",
                                    "Megrendelések száma": "151"
                                },
                                {
                                    "LOGIN": "MONIKAM",
                                    "szall_mod": "Személyes átvétel",
                                    "Megrendelések száma": "123"
                                },
                                {
                                    "LOGIN": "MONIKAM",
                                    "szall_mod": "NULL",
                                    "Megrendelések száma": "407"
                                },
                                {
                                    "LOGIN": "NANDORF",
                                    "szall_mod": "GLS",
                                    "Megrendelések száma": "147"
                                },
                                {
                                    "LOGIN": "NANDORF",
                                    "szall_mod": "Posta",
                                    "Megrendelések száma": "139"
                                },
                                {
                                    "LOGIN": "NANDORF",
                                    "szall_mod": "Személyes átvétel",
                                    "Megrendelések száma": "134"
                                },
                                {
                                    "LOGIN": "NANDORF",
                                    "szall_mod": "NULL",
                                    "Megrendelések száma": "420"
                                },
                                {
                                    "LOGIN": "nikolett3",
                                    "szall_mod": "GLS",
                                    "Megrendelések száma": "4"
                                },
                                {
                                    "LOGIN": "nikolett3",
                                    "szall_mod": "Posta",
                                    "Megrendelések száma": "3"
                                },
                                {
                                    "LOGIN": "nikolett3",
                                    "szall_mod": "Személyes átvétel",
                                    "Megrendelések száma": "10"
                                },
                                {
                                    "LOGIN": "nikolett3",
                                    "szall_mod": "NULL",
                                    "Megrendelések száma": "17"
                                },
                                {
                                    "LOGIN": "nikoletta4",
                                    "szall_mod": "GLS",
                                    "Megrendelések száma": "137"
                                },
                                {
                                    "LOGIN": "nikoletta4",
                                    "szall_mod": "Posta",
                                    "Megrendelések száma": "158"
                                },
                                {
                                    "LOGIN": "nikoletta4",
                                    "szall_mod": "Személyes átvétel",
                                    "Megrendelések száma": "119"
                                },
                                {
                                    "LOGIN": "nikoletta4",
                                    "szall_mod": "NULL",
                                    "Megrendelések száma": "414"
                                },
                                {
                                    "LOGIN": "NIKOLETTAT",
                                    "szall_mod": "GLS",
                                    "Megrendelések száma": "13"
                                },
                                {
                                    "LOGIN": "NIKOLETTAT",
                                    "szall_mod": "Posta",
                                    "Megrendelések száma": "7"
                                },
                                {
                                    "LOGIN": "NIKOLETTAT",
                                    "szall_mod": "Személyes átvétel",
                                    "Megrendelések száma": "5"
                                },
                                {
                                    "LOGIN": "NIKOLETTAT",
                                    "szall_mod": "NULL",
                                    "Megrendelések száma": "25"
                                },
                                {
                                    "LOGIN": "norbert2",
                                    "szall_mod": "GLS",
                                    "Megrendelések száma": "7"
                                },
                                {
                                    "LOGIN": "norbert2",
                                    "szall_mod": "Posta",
                                    "Megrendelések száma": "4"
                                },
                                {
                                    "LOGIN": "norbert2",
                                    "szall_mod": "NULL",
                                    "Megrendelések száma": "11"
                                },
                                {
                                    "LOGIN": "norbert4",
                                    "szall_mod": "GLS",
                                    "Megrendelések száma": "1"
                                },
                                {
                                    "LOGIN": "norbert4",
                                    "szall_mod": "Posta",
                                    "Megrendelések száma": "3"
                                },
                                {
                                    "LOGIN": "norbert4",
                                    "szall_mod": "Személyes átvétel",
                                    "Megrendelések száma": "9"
                                },
                                {
                                    "LOGIN": "norbert4",
                                    "szall_mod": "NULL",
                                    "Megrendelések száma": "13"
                                },
                                {
                                    "LOGIN": "norbert5",
                                    "szall_mod": "GLS",
                                    "Megrendelések száma": "1"
                                },
                                {
                                    "LOGIN": "norbert5",
                                    "szall_mod": "Posta",
                                    "Megrendelések száma": "6"
                                },
                                {
                                    "LOGIN": "norbert5",
                                    "szall_mod": "Személyes átvétel",
                                    "Megrendelések száma": "9"
                                },
                                {
                                    "LOGIN": "norbert5",
                                    "szall_mod": "NULL",
                                    "Megrendelések száma": "16"
                                },
                                {
                                    "LOGIN": "pal",
                                    "szall_mod": "GLS",
                                    "Megrendelések száma": "152"
                                },
                                {
                                    "LOGIN": "pal",
                                    "szall_mod": "Posta",
                                    "Megrendelések száma": "132"
                                },
                                {
                                    "LOGIN": "pal",
                                    "szall_mod": "Személyes átvétel",
                                    "Megrendelések száma": "154"
                                },
                                {
                                    "LOGIN": "pal",
                                    "szall_mod": "NULL",
                                    "Megrendelések száma": "438"
                                },
                                {
                                    "LOGIN": "peter1",
                                    "szall_mod": "GLS",
                                    "Megrendelések száma": "151"
                                },
                                {
                                    "LOGIN": "peter1",
                                    "szall_mod": "Posta",
                                    "Megrendelések száma": "135"
                                },
                                {
                                    "LOGIN": "peter1",
                                    "szall_mod": "Személyes átvétel",
                                    "Megrendelések száma": "126"
                                },
                                {
                                    "LOGIN": "peter1",
                                    "szall_mod": "NULL",
                                    "Megrendelések száma": "412"
                                },
                                {
                                    "LOGIN": "peter2",
                                    "szall_mod": "GLS",
                                    "Megrendelések száma": "7"
                                },
                                {
                                    "LOGIN": "peter2",
                                    "szall_mod": "Posta",
                                    "Megrendelések száma": "4"
                                },
                                {
                                    "LOGIN": "peter2",
                                    "szall_mod": "Személyes átvétel",
                                    "Megrendelések száma": "7"
                                },
                                {
                                    "LOGIN": "peter2",
                                    "szall_mod": "NULL",
                                    "Megrendelések száma": "18"
                                },
                                {
                                    "LOGIN": "peter3",
                                    "szall_mod": "GLS",
                                    "Megrendelések száma": "8"
                                },
                                {
                                    "LOGIN": "peter3",
                                    "szall_mod": "Posta",
                                    "Megrendelések száma": "7"
                                },
                                {
                                    "LOGIN": "peter3",
                                    "szall_mod": "Személyes átvétel",
                                    "Megrendelések száma": "10"
                                },
                                {
                                    "LOGIN": "peter3",
                                    "szall_mod": "NULL",
                                    "Megrendelések száma": "25"
                                },
                                {
                                    "LOGIN": "peter4",
                                    "szall_mod": "GLS",
                                    "Megrendelések száma": "266"
                                },
                                {
                                    "LOGIN": "peter4",
                                    "szall_mod": "Posta",
                                    "Megrendelések száma": "293"
                                },
                                {
                                    "LOGIN": "peter4",
                                    "szall_mod": "Személyes átvétel",
                                    "Megrendelések száma": "293"
                                },
                                {
                                    "LOGIN": "peter4",
                                    "szall_mod": "NULL",
                                    "Megrendelések száma": "852"
                                },
                                {
                                    "LOGIN": "PETERB",
                                    "szall_mod": "GLS",
                                    "Megrendelések száma": "2"
                                },
                                {
                                    "LOGIN": "PETERB",
                                    "szall_mod": "Posta",
                                    "Megrendelések száma": "4"
                                },
                                {
                                    "LOGIN": "PETERB",
                                    "szall_mod": "Személyes átvétel",
                                    "Megrendelések száma": "9"
                                },
                                {
                                    "LOGIN": "PETERB",
                                    "szall_mod": "NULL",
                                    "Megrendelések száma": "15"
                                },
                                {
                                    "LOGIN": "polla",
                                    "szall_mod": "GLS",
                                    "Megrendelések száma": "9"
                                },
                                {
                                    "LOGIN": "polla",
                                    "szall_mod": "Posta",
                                    "Megrendelések száma": "6"
                                },
                                {
                                    "LOGIN": "polla",
                                    "szall_mod": "Személyes átvétel",
                                    "Megrendelések száma": "7"
                                },
                                {
                                    "LOGIN": "polla",
                                    "szall_mod": "NULL",
                                    "Megrendelések száma": "22"
                                },
                                {
                                    "LOGIN": "rajmond4",
                                    "szall_mod": "GLS",
                                    "Megrendelések száma": "6"
                                },
                                {
                                    "LOGIN": "rajmond4",
                                    "szall_mod": "Posta",
                                    "Megrendelések száma": "5"
                                },
                                {
                                    "LOGIN": "rajmond4",
                                    "szall_mod": "Személyes átvétel",
                                    "Megrendelések száma": "6"
                                },
                                {
                                    "LOGIN": "rajmond4",
                                    "szall_mod": "NULL",
                                    "Megrendelések száma": "17"
                                },
                                {
                                    "LOGIN": "reka4",
                                    "szall_mod": "GLS",
                                    "Megrendelések száma": "5"
                                },
                                {
                                    "LOGIN": "reka4",
                                    "szall_mod": "Posta",
                                    "Megrendelések száma": "4"
                                },
                                {
                                    "LOGIN": "reka4",
                                    "szall_mod": "Személyes átvétel",
                                    "Megrendelések száma": "11"
                                },
                                {
                                    "LOGIN": "reka4",
                                    "szall_mod": "NULL",
                                    "Megrendelések száma": "20"
                                },
                                {
                                    "LOGIN": "RENATAK",
                                    "szall_mod": "GLS",
                                    "Megrendelések száma": "135"
                                },
                                {
                                    "LOGIN": "RENATAK",
                                    "szall_mod": "Posta",
                                    "Megrendelések száma": "140"
                                },
                                {
                                    "LOGIN": "RENATAK",
                                    "szall_mod": "Személyes átvétel",
                                    "Megrendelések száma": "147"
                                },
                                {
                                    "LOGIN": "RENATAK",
                                    "szall_mod": "NULL",
                                    "Megrendelések száma": "422"
                                },
                                {
                                    "LOGIN": "RENATAS",
                                    "szall_mod": "GLS",
                                    "Megrendelések száma": "6"
                                },
                                {
                                    "LOGIN": "RENATAS",
                                    "szall_mod": "Posta",
                                    "Megrendelések száma": "5"
                                },
                                {
                                    "LOGIN": "RENATAS",
                                    "szall_mod": "Személyes átvétel",
                                    "Megrendelések száma": "5"
                                },
                                {
                                    "LOGIN": "RENATAS",
                                    "szall_mod": "NULL",
                                    "Megrendelések száma": "16"
                                },
                                {
                                    "LOGIN": "robert2",
                                    "szall_mod": "GLS",
                                    "Megrendelések száma": "5"
                                },
                                {
                                    "LOGIN": "robert2",
                                    "szall_mod": "Posta",
                                    "Megrendelések száma": "1"
                                },
                                {
                                    "LOGIN": "robert2",
                                    "szall_mod": "Személyes átvétel",
                                    "Megrendelések száma": "7"
                                },
                                {
                                    "LOGIN": "robert2",
                                    "szall_mod": "NULL",
                                    "Megrendelések száma": "13"
                                },
                                {
                                    "LOGIN": "ROBERTI",
                                    "szall_mod": "GLS",
                                    "Megrendelések száma": "5"
                                },
                                {
                                    "LOGIN": "ROBERTI",
                                    "szall_mod": "Posta",
                                    "Megrendelések száma": "3"
                                },
                                {
                                    "LOGIN": "ROBERTI",
                                    "szall_mod": "Személyes átvétel",
                                    "Megrendelések száma": "5"
                                },
                                {
                                    "LOGIN": "ROBERTI",
                                    "szall_mod": "NULL",
                                    "Megrendelések száma": "13"
                                },
                                {
                                    "LOGIN": "ROBERTP",
                                    "szall_mod": "GLS",
                                    "Megrendelések száma": "8"
                                },
                                {
                                    "LOGIN": "ROBERTP",
                                    "szall_mod": "Posta",
                                    "Megrendelések száma": "8"
                                },
                                {
                                    "LOGIN": "ROBERTP",
                                    "szall_mod": "Személyes átvétel",
                                    "Megrendelések száma": "10"
                                },
                                {
                                    "LOGIN": "ROBERTP",
                                    "szall_mod": "NULL",
                                    "Megrendelések száma": "26"
                                },
                                {
                                    "LOGIN": "roland",
                                    "szall_mod": "GLS",
                                    "Megrendelések száma": "132"
                                },
                                {
                                    "LOGIN": "roland",
                                    "szall_mod": "Posta",
                                    "Megrendelések száma": "157"
                                },
                                {
                                    "LOGIN": "roland",
                                    "szall_mod": "Személyes átvétel",
                                    "Megrendelések száma": "125"
                                },
                                {
                                    "LOGIN": "roland",
                                    "szall_mod": "NULL",
                                    "Megrendelések száma": "414"
                                },
                                {
                                    "LOGIN": "roland1",
                                    "szall_mod": "GLS",
                                    "Megrendelések száma": "142"
                                },
                                {
                                    "LOGIN": "roland1",
                                    "szall_mod": "Posta",
                                    "Megrendelések száma": "155"
                                },
                                {
                                    "LOGIN": "roland1",
                                    "szall_mod": "Személyes átvétel",
                                    "Megrendelések száma": "135"
                                },
                                {
                                    "LOGIN": "roland1",
                                    "szall_mod": "NULL",
                                    "Megrendelések száma": "432"
                                },
                                {
                                    "LOGIN": "roza2",
                                    "szall_mod": "GLS",
                                    "Megrendelések száma": "3"
                                },
                                {
                                    "LOGIN": "roza2",
                                    "szall_mod": "Posta",
                                    "Megrendelések száma": "2"
                                },
                                {
                                    "LOGIN": "roza2",
                                    "szall_mod": "Személyes átvétel",
                                    "Megrendelések száma": "3"
                                },
                                {
                                    "LOGIN": "roza2",
                                    "szall_mod": "NULL",
                                    "Megrendelések száma": "8"
                                },
                                {
                                    "LOGIN": "sandor",
                                    "szall_mod": "GLS",
                                    "Megrendelések száma": "4"
                                },
                                {
                                    "LOGIN": "sandor",
                                    "szall_mod": "Posta",
                                    "Megrendelések száma": "6"
                                },
                                {
                                    "LOGIN": "sandor",
                                    "szall_mod": "Személyes átvétel",
                                    "Megrendelések száma": "7"
                                },
                                {
                                    "LOGIN": "sandor",
                                    "szall_mod": "NULL",
                                    "Megrendelések száma": "17"
                                },
                                {
                                    "LOGIN": "sandor3",
                                    "szall_mod": "GLS",
                                    "Megrendelések száma": "4"
                                },
                                {
                                    "LOGIN": "sandor3",
                                    "szall_mod": "Posta",
                                    "Megrendelések száma": "4"
                                },
                                {
                                    "LOGIN": "sandor3",
                                    "szall_mod": "Személyes átvétel",
                                    "Megrendelések száma": "6"
                                },
                                {
                                    "LOGIN": "sandor3",
                                    "szall_mod": "NULL",
                                    "Megrendelések száma": "14"
                                },
                                {
                                    "LOGIN": "sandor4",
                                    "szall_mod": "GLS",
                                    "Megrendelések száma": "4"
                                },
                                {
                                    "LOGIN": "sandor4",
                                    "szall_mod": "Posta",
                                    "Megrendelések száma": "2"
                                },
                                {
                                    "LOGIN": "sandor4",
                                    "szall_mod": "Személyes átvétel",
                                    "Megrendelések száma": "5"
                                },
                                {
                                    "LOGIN": "sandor4",
                                    "szall_mod": "NULL",
                                    "Megrendelések száma": "11"
                                },
                                {
                                    "LOGIN": "sara",
                                    "szall_mod": "GLS",
                                    "Megrendelések száma": "4"
                                },
                                {
                                    "LOGIN": "sara",
                                    "szall_mod": "Posta",
                                    "Megrendelések száma": "7"
                                },
                                {
                                    "LOGIN": "sara",
                                    "szall_mod": "Személyes átvétel",
                                    "Megrendelések száma": "9"
                                },
                                {
                                    "LOGIN": "sara",
                                    "szall_mod": "NULL",
                                    "Megrendelések száma": "20"
                                },
                                {
                                    "LOGIN": "SEBASTIANF",
                                    "szall_mod": "GLS",
                                    "Megrendelések száma": "6"
                                },
                                {
                                    "LOGIN": "SEBASTIANF",
                                    "szall_mod": "Posta",
                                    "Megrendelések száma": "3"
                                },
                                {
                                    "LOGIN": "SEBASTIANF",
                                    "szall_mod": "Személyes átvétel",
                                    "Megrendelések száma": "6"
                                },
                                {
                                    "LOGIN": "SEBASTIANF",
                                    "szall_mod": "NULL",
                                    "Megrendelések száma": "15"
                                },
                                {
                                    "LOGIN": "sebestyen",
                                    "szall_mod": "GLS",
                                    "Megrendelések száma": "4"
                                },
                                {
                                    "LOGIN": "sebestyen",
                                    "szall_mod": "Posta",
                                    "Megrendelések száma": "6"
                                },
                                {
                                    "LOGIN": "sebestyen",
                                    "szall_mod": "Személyes átvétel",
                                    "Megrendelések száma": "6"
                                },
                                {
                                    "LOGIN": "sebestyen",
                                    "szall_mod": "NULL",
                                    "Megrendelések száma": "16"
                                },
                                {
                                    "LOGIN": "szabolcs",
                                    "szall_mod": "GLS",
                                    "Megrendelések száma": "145"
                                },
                                {
                                    "LOGIN": "szabolcs",
                                    "szall_mod": "Posta",
                                    "Megrendelések száma": "157"
                                },
                                {
                                    "LOGIN": "szabolcs",
                                    "szall_mod": "Személyes átvétel",
                                    "Megrendelések száma": "169"
                                },
                                {
                                    "LOGIN": "szabolcs",
                                    "szall_mod": "NULL",
                                    "Megrendelések száma": "471"
                                },
                                {
                                    "LOGIN": "SZABOLCSM",
                                    "szall_mod": "GLS",
                                    "Megrendelések száma": "126"
                                },
                                {
                                    "LOGIN": "SZABOLCSM",
                                    "szall_mod": "Posta",
                                    "Megrendelések száma": "153"
                                },
                                {
                                    "LOGIN": "SZABOLCSM",
                                    "szall_mod": "Személyes átvétel",
                                    "Megrendelések száma": "129"
                                },
                                {
                                    "LOGIN": "SZABOLCSM",
                                    "szall_mod": "NULL",
                                    "Megrendelések száma": "408"
                                },
                                {
                                    "LOGIN": "SZILARDS",
                                    "szall_mod": "GLS",
                                    "Megrendelések száma": "144"
                                },
                                {
                                    "LOGIN": "SZILARDS",
                                    "szall_mod": "Posta",
                                    "Megrendelések száma": "131"
                                },
                                {
                                    "LOGIN": "SZILARDS",
                                    "szall_mod": "Személyes átvétel",
                                    "Megrendelések száma": "111"
                                },
                                {
                                    "LOGIN": "SZILARDS",
                                    "szall_mod": "NULL",
                                    "Megrendelések száma": "386"
                                },
                                {
                                    "LOGIN": "szilvia1",
                                    "szall_mod": "GLS",
                                    "Megrendelések száma": "156"
                                },
                                {
                                    "LOGIN": "szilvia1",
                                    "szall_mod": "Posta",
                                    "Megrendelések száma": "151"
                                },
                                {
                                    "LOGIN": "szilvia1",
                                    "szall_mod": "Személyes átvétel",
                                    "Megrendelések száma": "138"
                                },
                                {
                                    "LOGIN": "szilvia1",
                                    "szall_mod": "NULL",
                                    "Megrendelések száma": "445"
                                },
                                {
                                    "LOGIN": "tamara2",
                                    "szall_mod": "GLS",
                                    "Megrendelések száma": "6"
                                },
                                {
                                    "LOGIN": "tamara2",
                                    "szall_mod": "Posta",
                                    "Megrendelések száma": "4"
                                },
                                {
                                    "LOGIN": "tamara2",
                                    "szall_mod": "Személyes átvétel",
                                    "Megrendelések száma": "3"
                                },
                                {
                                    "LOGIN": "tamara2",
                                    "szall_mod": "NULL",
                                    "Megrendelések száma": "13"
                                },
                                {
                                    "LOGIN": "tamas",
                                    "szall_mod": "GLS",
                                    "Megrendelések száma": "143"
                                },
                                {
                                    "LOGIN": "tamas",
                                    "szall_mod": "Posta",
                                    "Megrendelések száma": "156"
                                },
                                {
                                    "LOGIN": "tamas",
                                    "szall_mod": "Személyes átvétel",
                                    "Megrendelések száma": "122"
                                },
                                {
                                    "LOGIN": "tamas",
                                    "szall_mod": "NULL",
                                    "Megrendelések száma": "421"
                                },
                                {
                                    "LOGIN": "TAMASF",
                                    "szall_mod": "GLS",
                                    "Megrendelések száma": "159"
                                },
                                {
                                    "LOGIN": "TAMASF",
                                    "szall_mod": "Posta",
                                    "Megrendelések száma": "145"
                                },
                                {
                                    "LOGIN": "TAMASF",
                                    "szall_mod": "Személyes átvétel",
                                    "Megrendelések száma": "129"
                                },
                                {
                                    "LOGIN": "TAMASF",
                                    "szall_mod": "NULL",
                                    "Megrendelések száma": "433"
                                },
                                {
                                    "LOGIN": "tibor",
                                    "szall_mod": "GLS",
                                    "Megrendelések száma": "115"
                                },
                                {
                                    "LOGIN": "tibor",
                                    "szall_mod": "Posta",
                                    "Megrendelések száma": "129"
                                },
                                {
                                    "LOGIN": "tibor",
                                    "szall_mod": "Személyes átvétel",
                                    "Megrendelések száma": "130"
                                },
                                {
                                    "LOGIN": "tibor",
                                    "szall_mod": "NULL",
                                    "Megrendelések száma": "374"
                                },
                                {
                                    "LOGIN": "tibor2",
                                    "szall_mod": "GLS",
                                    "Megrendelések száma": "7"
                                },
                                {
                                    "LOGIN": "tibor2",
                                    "szall_mod": "Posta",
                                    "Megrendelések száma": "7"
                                },
                                {
                                    "LOGIN": "tibor2",
                                    "szall_mod": "Személyes átvétel",
                                    "Megrendelések száma": "11"
                                },
                                {
                                    "LOGIN": "tibor2",
                                    "szall_mod": "NULL",
                                    "Megrendelések száma": "25"
                                },
                                {
                                    "LOGIN": "tihamer",
                                    "szall_mod": "GLS",
                                    "Megrendelések száma": "9"
                                },
                                {
                                    "LOGIN": "tihamer",
                                    "szall_mod": "Posta",
                                    "Megrendelések száma": "6"
                                },
                                {
                                    "LOGIN": "tihamer",
                                    "szall_mod": "Személyes átvétel",
                                    "Megrendelések száma": "5"
                                },
                                {
                                    "LOGIN": "tihamer",
                                    "szall_mod": "NULL",
                                    "Megrendelések száma": "20"
                                },
                                {
                                    "LOGIN": "timea",
                                    "szall_mod": "GLS",
                                    "Megrendelések száma": "14"
                                },
                                {
                                    "LOGIN": "timea",
                                    "szall_mod": "Posta",
                                    "Megrendelések száma": "23"
                                },
                                {
                                    "LOGIN": "timea",
                                    "szall_mod": "Személyes átvétel",
                                    "Megrendelések száma": "18"
                                },
                                {
                                    "LOGIN": "timea",
                                    "szall_mod": "NULL",
                                    "Megrendelések száma": "55"
                                },
                                {
                                    "LOGIN": "timea2",
                                    "szall_mod": "GLS",
                                    "Megrendelések száma": "1"
                                },
                                {
                                    "LOGIN": "timea2",
                                    "szall_mod": "Posta",
                                    "Megrendelések száma": "5"
                                },
                                {
                                    "LOGIN": "timea2",
                                    "szall_mod": "Személyes átvétel",
                                    "Megrendelések száma": "10"
                                },
                                {
                                    "LOGIN": "timea2",
                                    "szall_mod": "NULL",
                                    "Megrendelések száma": "16"
                                },
                                {
                                    "LOGIN": "tunde",
                                    "szall_mod": "GLS",
                                    "Megrendelések száma": "6"
                                },
                                {
                                    "LOGIN": "tunde",
                                    "szall_mod": "Posta",
                                    "Megrendelések száma": "6"
                                },
                                {
                                    "LOGIN": "tunde",
                                    "szall_mod": "Személyes átvétel",
                                    "Megrendelések száma": "4"
                                },
                                {
                                    "LOGIN": "tunde",
                                    "szall_mod": "NULL",
                                    "Megrendelések száma": "16"
                                },
                                {
                                    "LOGIN": "valentin",
                                    "szall_mod": "GLS",
                                    "Megrendelések száma": "5"
                                },
                                {
                                    "LOGIN": "valentin",
                                    "szall_mod": "Posta",
                                    "Megrendelések száma": "5"
                                },
                                {
                                    "LOGIN": "valentin",
                                    "szall_mod": "Személyes átvétel",
                                    "Megrendelések száma": "3"
                                },
                                {
                                    "LOGIN": "valentin",
                                    "szall_mod": "NULL",
                                    "Megrendelések száma": "13"
                                },
                                {
                                    "LOGIN": "veronika4",
                                    "szall_mod": "GLS",
                                    "Megrendelések száma": "5"
                                },
                                {
                                    "LOGIN": "veronika4",
                                    "szall_mod": "Posta",
                                    "Megrendelések száma": "6"
                                },
                                {
                                    "LOGIN": "veronika4",
                                    "szall_mod": "Személyes átvétel",
                                    "Megrendelések száma": "7"
                                },
                                {
                                    "LOGIN": "veronika4",
                                    "szall_mod": "NULL",
                                    "Megrendelések száma": "18"
                                },
                                {
                                    "LOGIN": "VIKTORIAU",
                                    "szall_mod": "GLS",
                                    "Megrendelések száma": "5"
                                },
                                {
                                    "LOGIN": "VIKTORIAU",
                                    "szall_mod": "Posta",
                                    "Megrendelések száma": "4"
                                },
                                {
                                    "LOGIN": "VIKTORIAU",
                                    "szall_mod": "Személyes átvétel",
                                    "Megrendelések száma": "5"
                                },
                                {
                                    "LOGIN": "VIKTORIAU",
                                    "szall_mod": "NULL",
                                    "Megrendelések száma": "14"
                                },
                                {
                                    "LOGIN": "VIKTORK",
                                    "szall_mod": "GLS",
                                    "Megrendelések száma": "8"
                                },
                                {
                                    "LOGIN": "VIKTORK",
                                    "szall_mod": "Posta",
                                    "Megrendelések száma": "6"
                                },
                                {
                                    "LOGIN": "VIKTORK",
                                    "szall_mod": "Személyes átvétel",
                                    "Megrendelések száma": "6"
                                },
                                {
                                    "LOGIN": "VIKTORK",
                                    "szall_mod": "NULL",
                                    "Megrendelések száma": "20"
                                },
                                {
                                    "LOGIN": "vivien3",
                                    "szall_mod": "GLS",
                                    "Megrendelések száma": "9"
                                },
                                {
                                    "LOGIN": "vivien3",
                                    "szall_mod": "Posta",
                                    "Megrendelések száma": "6"
                                },
                                {
                                    "LOGIN": "vivien3",
                                    "szall_mod": "Személyes átvétel",
                                    "Megrendelések száma": "7"
                                },
                                {
                                    "LOGIN": "vivien3",
                                    "szall_mod": "NULL",
                                    "Megrendelések száma": "22"
                                },
                                {
                                    "LOGIN": "zoltan",
                                    "szall_mod": "GLS",
                                    "Megrendelések száma": "5"
                                },
                                {
                                    "LOGIN": "zoltan",
                                    "szall_mod": "Posta",
                                    "Megrendelések száma": "3"
                                },
                                {
                                    "LOGIN": "zoltan",
                                    "szall_mod": "Személyes átvétel",
                                    "Megrendelések száma": "7"
                                },
                                {
                                    "LOGIN": "zoltan",
                                    "szall_mod": "NULL",
                                    "Megrendelések száma": "15"
                                },
                                {
                                    "LOGIN": "zoltan4",
                                    "szall_mod": "GLS",
                                    "Megrendelések száma": "129"
                                },
                                {
                                    "LOGIN": "zoltan4",
                                    "szall_mod": "Posta",
                                    "Megrendelések száma": "124"
                                },
                                {
                                    "LOGIN": "zoltan4",
                                    "szall_mod": "Személyes átvétel",
                                    "Megrendelések száma": "171"
                                },
                                {
                                    "LOGIN": "zoltan4",
                                    "szall_mod": "NULL",
                                    "Megrendelések száma": "424"
                                },
                                {
                                    "LOGIN": "ZOLTANP",
                                    "szall_mod": "GLS",
                                    "Megrendelések száma": "6"
                                },
                                {
                                    "LOGIN": "ZOLTANP",
                                    "szall_mod": "Posta",
                                    "Megrendelések száma": "3"
                                },
                                {
                                    "LOGIN": "ZOLTANP",
                                    "szall_mod": "Személyes átvétel",
                                    "Megrendelések száma": "4"
                                },
                                {
                                    "LOGIN": "ZOLTANP",
                                    "szall_mod": "NULL",
                                    "Megrendelések száma": "13"
                                },
                                {
                                    "LOGIN": "ZOLTANT",
                                    "szall_mod": "GLS",
                                    "Megrendelések száma": "127"
                                },
                                {
                                    "LOGIN": "ZOLTANT",
                                    "szall_mod": "Posta",
                                    "Megrendelések száma": "107"
                                },
                                {
                                    "LOGIN": "ZOLTANT",
                                    "szall_mod": "Személyes átvétel",
                                    "Megrendelések száma": "123"
                                },
                                {
                                    "LOGIN": "ZOLTANT",
                                    "szall_mod": "NULL",
                                    "Megrendelések száma": "357"
                                },
                                {
                                    "LOGIN": "zsofi1",
                                    "szall_mod": "GLS",
                                    "Megrendelések száma": "7"
                                },
                                {
                                    "LOGIN": "zsofi1",
                                    "szall_mod": "Posta",
                                    "Megrendelések száma": "6"
                                },
                                {
                                    "LOGIN": "zsofi1",
                                    "szall_mod": "Személyes átvétel",
                                    "Megrendelések száma": "6"
                                },
                                {
                                    "LOGIN": "zsofi1",
                                    "szall_mod": "NULL",
                                    "Megrendelések száma": "19"
                                },
                                {
                                    "LOGIN": "zsolt1",
                                    "szall_mod": "GLS",
                                    "Megrendelések száma": "11"
                                },
                                {
                                    "LOGIN": "zsolt1",
                                    "szall_mod": "Posta",
                                    "Megrendelések száma": "6"
                                },
                                {
                                    "LOGIN": "zsolt1",
                                    "szall_mod": "Személyes átvétel",
                                    "Megrendelések száma": "3"
                                },
                                {
                                    "LOGIN": "zsolt1",
                                    "szall_mod": "NULL",
                                    "Megrendelések száma": "20"
                                },
                                {
                                    "LOGIN": "ZSOLTJ",
                                    "szall_mod": "GLS",
                                    "Megrendelések száma": "1"
                                },
                                {
                                    "LOGIN": "ZSOLTJ",
                                    "szall_mod": "Posta",
                                    "Megrendelések száma": "8"
                                },
                                {
                                    "LOGIN": "ZSOLTJ",
                                    "szall_mod": "Személyes átvétel",
                                    "Megrendelések száma": "9"
                                },
                                {
                                    "LOGIN": "ZSOLTJ",
                                    "szall_mod": "NULL",
                                    "Megrendelések száma": "18"
                                },
                                {
                                    "LOGIN": "zsuzsa",
                                    "szall_mod": "GLS",
                                    "Megrendelések száma": "8"
                                },
                                {
                                    "LOGIN": "zsuzsa",
                                    "szall_mod": "Posta",
                                    "Megrendelések száma": "5"
                                },
                                {
                                    "LOGIN": "zsuzsa",
                                    "szall_mod": "Személyes átvétel",
                                    "Megrendelések száma": "3"
                                },
                                {
                                    "LOGIN": "zsuzsa",
                                    "szall_mod": "NULL",
                                    "Megrendelések száma": "16"
                                },
                                {
                                    "LOGIN": "zsuzsa3",
                                    "szall_mod": "GLS",
                                    "Megrendelések száma": "5"
                                },
                                {
                                    "LOGIN": "zsuzsa3",
                                    "szall_mod": "Posta",
                                    "Megrendelések száma": "5"
                                },
                                {
                                    "LOGIN": "zsuzsa3",
                                    "szall_mod": "Személyes átvétel",
                                    "Megrendelések száma": "6"
                                },
                                {
                                    "LOGIN": "zsuzsa3",
                                    "szall_mod": "NULL",
                                    "Megrendelések száma": "16"
                                },
                                {
                                    "LOGIN": "zsuzsanna",
                                    "szall_mod": "GLS",
                                    "Megrendelések száma": "7"
                                },
                                {
                                    "LOGIN": "zsuzsanna",
                                    "szall_mod": "Posta",
                                    "Megrendelések száma": "5"
                                },
                                {
                                    "LOGIN": "zsuzsanna",
                                    "szall_mod": "Személyes átvétel",
                                    "Megrendelések száma": "3"
                                },
                                {
                                    "LOGIN": "zsuzsanna",
                                    "szall_mod": "NULL",
                                    "Megrendelések száma": "15"
                                },
                                {
                                    "LOGIN": "ZSUZSAV",
                                    "szall_mod": "GLS",
                                    "Megrendelések száma": "139"
                                },
                                {
                                    "LOGIN": "ZSUZSAV",
                                    "szall_mod": "Posta",
                                    "Megrendelések száma": "139"
                                },
                                {
                                    "LOGIN": "ZSUZSAV",
                                    "szall_mod": "Személyes átvétel",
                                    "Megrendelések száma": "142"
                                },
                                {
                                    "LOGIN": "ZSUZSAV",
                                    "szall_mod": "NULL",
                                    "Megrendelések száma": "420"
                                },
                                {
                                    "LOGIN": "NULL",
                                    "szall_mod": "NULL",
                                    "Megrendelések száma": "28085"
                                }
                            ]
                        },
                        "text/html": [
                            "<table>",
                            "<tr><th>LOGIN</th><th>szall_mod</th><th>Megrendelések száma</th></tr>",
                            "<tr><td>adam1</td><td>GLS</td><td>129</td></tr>",
                            "<tr><td>adam1</td><td>Posta</td><td>132</td></tr>",
                            "<tr><td>adam1</td><td>Személyes átvétel</td><td>131</td></tr>",
                            "<tr><td>adam1</td><td>NULL</td><td>392</td></tr>",
                            "<tr><td>adam3</td><td>GLS</td><td>10</td></tr>",
                            "<tr><td>adam3</td><td>Posta</td><td>3</td></tr>",
                            "<tr><td>adam3</td><td>Személyes átvétel</td><td>2</td></tr>",
                            "<tr><td>adam3</td><td>NULL</td><td>15</td></tr>",
                            "<tr><td>adam4</td><td>GLS</td><td>12</td></tr>",
                            "<tr><td>adam4</td><td>Posta</td><td>6</td></tr>",
                            "<tr><td>adam4</td><td>Személyes átvétel</td><td>11</td></tr>",
                            "<tr><td>adam4</td><td>NULL</td><td>29</td></tr>",
                            "<tr><td>agnes</td><td>GLS</td><td>144</td></tr>",
                            "<tr><td>agnes</td><td>Posta</td><td>130</td></tr>",
                            "<tr><td>agnes</td><td>Személyes átvétel</td><td>144</td></tr>",
                            "<tr><td>agnes</td><td>NULL</td><td>418</td></tr>",
                            "<tr><td>agnes3</td><td>GLS</td><td>148</td></tr>",
                            "<tr><td>agnes3</td><td>Posta</td><td>146</td></tr>",
                            "<tr><td>agnes3</td><td>Személyes átvétel</td><td>136</td></tr>",
                            "<tr><td>agnes3</td><td>NULL</td><td>430</td></tr>",
                            "<tr><td>AGNESH</td><td>GLS</td><td>2</td></tr>",
                            "<tr><td>AGNESH</td><td>Posta</td><td>3</td></tr>",
                            "<tr><td>AGNESH</td><td>Személyes átvétel</td><td>6</td></tr>",
                            "<tr><td>AGNESH</td><td>NULL</td><td>11</td></tr>",
                            "<tr><td>AGNESK</td><td>GLS</td><td>1</td></tr>",
                            "<tr><td>AGNESK</td><td>Posta</td><td>7</td></tr>",
                            "<tr><td>AGNESK</td><td>Személyes átvétel</td><td>7</td></tr>",
                            "<tr><td>AGNESK</td><td>NULL</td><td>15</td></tr>",
                            "<tr><td>akos</td><td>GLS</td><td>146</td></tr>",
                            "<tr><td>akos</td><td>Posta</td><td>143</td></tr>",
                            "<tr><td>akos</td><td>Személyes átvétel</td><td>140</td></tr>",
                            "<tr><td>akos</td><td>NULL</td><td>429</td></tr>",
                            "<tr><td>aladar</td><td>GLS</td><td>156</td></tr>",
                            "<tr><td>aladar</td><td>Posta</td><td>134</td></tr>",
                            "<tr><td>aladar</td><td>Személyes átvétel</td><td>118</td></tr>",
                            "<tr><td>aladar</td><td>NULL</td><td>408</td></tr>",
                            "<tr><td>alexandra</td><td>GLS</td><td>5</td></tr>",
                            "<tr><td>alexandra</td><td>Posta</td><td>9</td></tr>",
                            "<tr><td>alexandra</td><td>Személyes átvétel</td><td>5</td></tr>",
                            "<tr><td>alexandra</td><td>NULL</td><td>19</td></tr>",
                            "<tr><td>andi</td><td>GLS</td><td>7</td></tr>",
                            "<tr><td>andi</td><td>Posta</td><td>4</td></tr>",
                            "<tr><td>andi</td><td>Személyes átvétel</td><td>7</td></tr>",
                            "<tr><td>andi</td><td>NULL</td><td>18</td></tr>",
                            "<tr><td>andras2</td><td>GLS</td><td>4</td></tr>",
                            "<tr><td>andras2</td><td>Posta</td><td>7</td></tr>",
                            "<tr><td>andras2</td><td>Személyes átvétel</td><td>11</td></tr>",
                            "<tr><td>andras2</td><td>NULL</td><td>22</td></tr>",
                            "<tr><td>andras21</td><td>GLS</td><td>140</td></tr>",
                            "<tr><td>andras21</td><td>Posta</td><td>124</td></tr>",
                            "<tr><td>andras21</td><td>Személyes átvétel</td><td>126</td></tr>",
                            "<tr><td>andras21</td><td>NULL</td><td>390</td></tr>",
                            "<tr><td>andras3</td><td>GLS</td><td>3</td></tr>",
                            "<tr><td>andras3</td><td>Posta</td><td>1</td></tr>",
                            "<tr><td>andras3</td><td>Személyes átvétel</td><td>5</td></tr>",
                            "<tr><td>andras3</td><td>NULL</td><td>9</td></tr>",
                            "<tr><td>andras4</td><td>GLS</td><td>4</td></tr>",
                            "<tr><td>andras4</td><td>Posta</td><td>4</td></tr>",
                            "<tr><td>andras4</td><td>Személyes átvétel</td><td>4</td></tr>",
                            "<tr><td>andras4</td><td>NULL</td><td>12</td></tr>",
                            "<tr><td>andras41</td><td>GLS</td><td>149</td></tr>",
                            "<tr><td>andras41</td><td>Posta</td><td>137</td></tr>",
                            "<tr><td>andras41</td><td>Személyes átvétel</td><td>133</td></tr>",
                            "<tr><td>andras41</td><td>NULL</td><td>419</td></tr>",
                            "<tr><td>ANDRASE</td><td>GLS</td><td>159</td></tr>",
                            "<tr><td>ANDRASE</td><td>Posta</td><td>141</td></tr>",
                            "<tr><td>ANDRASE</td><td>Személyes átvétel</td><td>136</td></tr>",
                            "<tr><td>ANDRASE</td><td>NULL</td><td>436</td></tr>",
                            "<tr><td>ANDRASN</td><td>GLS</td><td>10</td></tr>",
                            "<tr><td>ANDRASN</td><td>Posta</td><td>9</td></tr>",
                            "<tr><td>ANDRASN</td><td>Személyes átvétel</td><td>5</td></tr>",
                            "<tr><td>ANDRASN</td><td>NULL</td><td>24</td></tr>",
                            "<tr><td>andrea</td><td>GLS</td><td>12</td></tr>",
                            "<tr><td>andrea</td><td>Posta</td><td>4</td></tr>",
                            "<tr><td>andrea</td><td>Személyes átvétel</td><td>8</td></tr>",
                            "<tr><td>andrea</td><td>NULL</td><td>24</td></tr>",
                            "<tr><td>andrea3</td><td>GLS</td><td>131</td></tr>",
                            "<tr><td>andrea3</td><td>Posta</td><td>136</td></tr>",
                            "<tr><td>andrea3</td><td>Személyes átvétel</td><td>146</td></tr>",
                            "<tr><td>andrea3</td><td>NULL</td><td>413</td></tr>",
                            "<tr><td>andrea4</td><td>GLS</td><td>7</td></tr>",
                            "<tr><td>andrea4</td><td>Posta</td><td>4</td></tr>",
                            "<tr><td>andrea4</td><td>Személyes átvétel</td><td>7</td></tr>",
                            "<tr><td>andrea4</td><td>NULL</td><td>18</td></tr>",
                            "<tr><td>ANDREAT</td><td>GLS</td><td>3</td></tr>",
                            "<tr><td>ANDREAT</td><td>Posta</td><td>6</td></tr>",
                            "<tr><td>ANDREAT</td><td>Személyes átvétel</td><td>12</td></tr>",
                            "<tr><td>ANDREAT</td><td>NULL</td><td>21</td></tr>",
                            "<tr><td>anett3</td><td>GLS</td><td>3</td></tr>",
                            "<tr><td>anett3</td><td>Posta</td><td>6</td></tr>",
                            "<tr><td>anett3</td><td>Személyes átvétel</td><td>9</td></tr>",
                            "<tr><td>anett3</td><td>NULL</td><td>18</td></tr>",
                            "<tr><td>aniko</td><td>GLS</td><td>128</td></tr>",
                            "<tr><td>aniko</td><td>Posta</td><td>137</td></tr>",
                            "<tr><td>aniko</td><td>Személyes átvétel</td><td>138</td></tr>",
                            "<tr><td>aniko</td><td>NULL</td><td>403</td></tr>",
                            "<tr><td>aniko4</td><td>GLS</td><td>6</td></tr>",
                            "<tr><td>aniko4</td><td>Posta</td><td>6</td></tr>",
                            "<tr><td>aniko4</td><td>Személyes átvétel</td><td>3</td></tr>",
                            "<tr><td>aniko4</td><td>NULL</td><td>15</td></tr>",
                            "<tr><td>ANIKOS</td><td>GLS</td><td>128</td></tr>",
                            "<tr><td>ANIKOS</td><td>Posta</td><td>126</td></tr>",
                            "<tr><td>ANIKOS</td><td>Személyes átvétel</td><td>150</td></tr>",
                            "<tr><td>ANIKOS</td><td>NULL</td><td>404</td></tr>",
                            "<tr><td>anita</td><td>GLS</td><td>5</td></tr>",
                            "<tr><td>anita</td><td>Posta</td><td>2</td></tr>",
                            "<tr><td>anita</td><td>Személyes átvétel</td><td>5</td></tr>",
                            "<tr><td>anita</td><td>NULL</td><td>12</td></tr>",
                            "<tr><td>annamaria1</td><td>GLS</td><td>5</td></tr>",
                            "<tr><td>annamaria1</td><td>Posta</td><td>4</td></tr>",
                            "<tr><td>annamaria1</td><td>Személyes átvétel</td><td>7</td></tr>",
                            "<tr><td>annamaria1</td><td>NULL</td><td>16</td></tr>",
                            "<tr><td>ANNAMARIAR</td><td>GLS</td><td>8</td></tr>",
                            "<tr><td>ANNAMARIAR</td><td>Posta</td><td>2</td></tr>",
                            "<tr><td>ANNAMARIAR</td><td>Személyes átvétel</td><td>3</td></tr>",
                            "<tr><td>ANNAMARIAR</td><td>NULL</td><td>13</td></tr>",
                            "<tr><td>aron2</td><td>GLS</td><td>132</td></tr>",
                            "<tr><td>aron2</td><td>Posta</td><td>133</td></tr>",
                            "<tr><td>aron2</td><td>Személyes átvétel</td><td>144</td></tr>",
                            "<tr><td>aron2</td><td>NULL</td><td>409</td></tr>",
                            "<tr><td>ARONK</td><td>GLS</td><td>155</td></tr>",
                            "<tr><td>ARONK</td><td>Posta</td><td>120</td></tr>",
                            "<tr><td>ARONK</td><td>Személyes átvétel</td><td>155</td></tr>",
                            "<tr><td>ARONK</td><td>NULL</td><td>430</td></tr>",
                            "<tr><td>arpad2</td><td>GLS</td><td>6</td></tr>",
                            "<tr><td>arpad2</td><td>Posta</td><td>1</td></tr>",
                            "<tr><td>arpad2</td><td>Személyes átvétel</td><td>10</td></tr>",
                            "<tr><td>arpad2</td><td>NULL</td><td>17</td></tr>",
                            "<tr><td>ARPADH</td><td>GLS</td><td>6</td></tr>",
                            "<tr><td>ARPADH</td><td>Posta</td><td>3</td></tr>",
                            "<tr><td>ARPADH</td><td>Személyes átvétel</td><td>5</td></tr>",
                            "<tr><td>ARPADH</td><td>NULL</td><td>14</td></tr>",
                            "<tr><td>ARPADM</td><td>GLS</td><td>6</td></tr>",
                            "<tr><td>ARPADM</td><td>Posta</td><td>3</td></tr>",
                            "<tr><td>ARPADM</td><td>Személyes átvétel</td><td>7</td></tr>",
                            "<tr><td>ARPADM</td><td>NULL</td><td>16</td></tr>",
                            "<tr><td>attila1</td><td>GLS</td><td>5</td></tr>",
                            "<tr><td>attila1</td><td>Posta</td><td>7</td></tr>",
                            "<tr><td>attila1</td><td>Személyes átvétel</td><td>6</td></tr>",
                            "<tr><td>attila1</td><td>NULL</td><td>18</td></tr>",
                            "<tr><td>attila4</td><td>GLS</td><td>135</td></tr>",
                            "<tr><td>attila4</td><td>Posta</td><td>125</td></tr>",
                            "<tr><td>attila4</td><td>Személyes átvétel</td><td>141</td></tr>",
                            "<tr><td>attila4</td><td>NULL</td><td>401</td></tr>",
                            "<tr><td>ATTILAO</td><td>GLS</td><td>4</td></tr>",
                            "<tr><td>ATTILAO</td><td>Posta</td><td>4</td></tr>",
                            "<tr><td>ATTILAO</td><td>Személyes átvétel</td><td>6</td></tr>",
                            "<tr><td>ATTILAO</td><td>NULL</td><td>14</td></tr>",
                            "<tr><td>balazs1</td><td>GLS</td><td>128</td></tr>",
                            "<tr><td>balazs1</td><td>Posta</td><td>136</td></tr>",
                            "<tr><td>balazs1</td><td>Személyes átvétel</td><td>155</td></tr>",
                            "<tr><td>balazs1</td><td>NULL</td><td>419</td></tr>",
                            "<tr><td>balazs2</td><td>GLS</td><td>5</td></tr>",
                            "<tr><td>balazs2</td><td>Posta</td><td>7</td></tr>",
                            "<tr><td>balazs2</td><td>Személyes átvétel</td><td>5</td></tr>",
                            "<tr><td>balazs2</td><td>NULL</td><td>17</td></tr>",
                            "<tr><td>balazs3</td><td>GLS</td><td>6</td></tr>",
                            "<tr><td>balazs3</td><td>Posta</td><td>6</td></tr>",
                            "<tr><td>balazs3</td><td>Személyes átvétel</td><td>3</td></tr>",
                            "<tr><td>balazs3</td><td>NULL</td><td>15</td></tr>",
                            "<tr><td>balint</td><td>GLS</td><td>10</td></tr>",
                            "<tr><td>balint</td><td>Posta</td><td>4</td></tr>",
                            "<tr><td>balint</td><td>Személyes átvétel</td><td>2</td></tr>",
                            "<tr><td>balint</td><td>NULL</td><td>16</td></tr>",
                            "<tr><td>balint1</td><td>GLS</td><td>158</td></tr>",
                            "<tr><td>balint1</td><td>Posta</td><td>152</td></tr>",
                            "<tr><td>balint1</td><td>Személyes átvétel</td><td>152</td></tr>",
                            "<tr><td>balint1</td><td>NULL</td><td>462</td></tr>",
                            "<tr><td>balint2</td><td>GLS</td><td>8</td></tr>",
                            "<tr><td>balint2</td><td>Posta</td><td>6</td></tr>",
                            "<tr><td>balint2</td><td>Személyes átvétel</td><td>3</td></tr>",
                            "<tr><td>balint2</td><td>NULL</td><td>17</td></tr>",
                            "<tr><td>balu</td><td>GLS</td><td>127</td></tr>",
                            "<tr><td>balu</td><td>Posta</td><td>137</td></tr>",
                            "<tr><td>balu</td><td>Személyes átvétel</td><td>123</td></tr>",
                            "<tr><td>balu</td><td>NULL</td><td>387</td></tr>",
                            "<tr><td>BEATRIXK</td><td>GLS</td><td>135</td></tr>",
                            "<tr><td>BEATRIXK</td><td>Posta</td><td>155</td></tr>",
                            "<tr><td>BEATRIXK</td><td>Személyes átvétel</td><td>145</td></tr>",
                            "<tr><td>BEATRIXK</td><td>NULL</td><td>435</td></tr>",
                            "<tr><td>BEATRIXS</td><td>GLS</td><td>146</td></tr>",
                            "<tr><td>BEATRIXS</td><td>Posta</td><td>141</td></tr>",
                            "<tr><td>BEATRIXS</td><td>Személyes átvétel</td><td>133</td></tr>",
                            "<tr><td>BEATRIXS</td><td>NULL</td><td>420</td></tr>",
                            "<tr><td>BELAF</td><td>GLS</td><td>11</td></tr>",
                            "<tr><td>BELAF</td><td>Posta</td><td>2</td></tr>",
                            "<tr><td>BELAF</td><td>Személyes átvétel</td><td>5</td></tr>",
                            "<tr><td>BELAF</td><td>NULL</td><td>18</td></tr>",
                            "<tr><td>bence</td><td>GLS</td><td>4</td></tr>",
                            "<tr><td>bence</td><td>Posta</td><td>6</td></tr>",
                            "<tr><td>bence</td><td>Személyes átvétel</td><td>8</td></tr>",
                            "<tr><td>bence</td><td>NULL</td><td>18</td></tr>",
                            "<tr><td>BENCEB</td><td>GLS</td><td>5</td></tr>",
                            "<tr><td>BENCEB</td><td>Posta</td><td>7</td></tr>",
                            "<tr><td>BENCEB</td><td>Személyes átvétel</td><td>5</td></tr>",
                            "<tr><td>BENCEB</td><td>NULL</td><td>17</td></tr>",
                            "<tr><td>bernadett1</td><td>GLS</td><td>10</td></tr>",
                            "<tr><td>bernadett1</td><td>Posta</td><td>5</td></tr>",
                            "<tr><td>bernadett1</td><td>Személyes átvétel</td><td>5</td></tr>",
                            "<tr><td>bernadett1</td><td>NULL</td><td>20</td></tr>",
                            "<tr><td>bernadett2</td><td>GLS</td><td>6</td></tr>",
                            "<tr><td>bernadett2</td><td>Posta</td><td>2</td></tr>",
                            "<tr><td>bernadett2</td><td>Személyes átvétel</td><td>7</td></tr>",
                            "<tr><td>bernadett2</td><td>NULL</td><td>15</td></tr>",
                            "<tr><td>BERNADETTO</td><td>GLS</td><td>7</td></tr>",
                            "<tr><td>BERNADETTO</td><td>Posta</td><td>2</td></tr>",
                            "<tr><td>BERNADETTO</td><td>Személyes átvétel</td><td>7</td></tr>",
                            "<tr><td>BERNADETTO</td><td>NULL</td><td>16</td></tr>",
                            "<tr><td>bertalan</td><td>GLS</td><td>128</td></tr>",
                            "<tr><td>bertalan</td><td>Posta</td><td>124</td></tr>",
                            "<tr><td>bertalan</td><td>Személyes átvétel</td><td>101</td></tr>",
                            "<tr><td>bertalan</td><td>NULL</td><td>353</td></tr>",
                            "<tr><td>brigitta</td><td>GLS</td><td>137</td></tr>",
                            "<tr><td>brigitta</td><td>Posta</td><td>137</td></tr>",
                            "<tr><td>brigitta</td><td>Személyes átvétel</td><td>119</td></tr>",
                            "<tr><td>brigitta</td><td>NULL</td><td>393</td></tr>",
                            "<tr><td>brigitta3</td><td>GLS</td><td>144</td></tr>",
                            "<tr><td>brigitta3</td><td>Posta</td><td>130</td></tr>",
                            "<tr><td>brigitta3</td><td>Személyes átvétel</td><td>139</td></tr>",
                            "<tr><td>brigitta3</td><td>NULL</td><td>413</td></tr>",
                            "<tr><td>csongor3</td><td>GLS</td><td>5</td></tr>",
                            "<tr><td>csongor3</td><td>Posta</td><td>2</td></tr>",
                            "<tr><td>csongor3</td><td>Személyes átvétel</td><td>8</td></tr>",
                            "<tr><td>csongor3</td><td>NULL</td><td>15</td></tr>",
                            "<tr><td>dani</td><td>GLS</td><td>5</td></tr>",
                            "<tr><td>dani</td><td>Személyes átvétel</td><td>8</td></tr>",
                            "<tr><td>dani</td><td>NULL</td><td>13</td></tr>",
                            "<tr><td>daniel</td><td>GLS</td><td>7</td></tr>",
                            "<tr><td>daniel</td><td>Posta</td><td>2</td></tr>",
                            "<tr><td>daniel</td><td>Személyes átvétel</td><td>4</td></tr>",
                            "<tr><td>daniel</td><td>NULL</td><td>13</td></tr>",
                            "<tr><td>daniel1</td><td>GLS</td><td>156</td></tr>",
                            "<tr><td>daniel1</td><td>Posta</td><td>131</td></tr>",
                            "<tr><td>daniel1</td><td>Személyes átvétel</td><td>132</td></tr>",
                            "<tr><td>daniel1</td><td>NULL</td><td>419</td></tr>",
                            "<tr><td>david</td><td>GLS</td><td>161</td></tr>",
                            "<tr><td>david</td><td>Posta</td><td>144</td></tr>",
                            "<tr><td>david</td><td>Személyes átvétel</td><td>146</td></tr>",
                            "<tr><td>david</td><td>NULL</td><td>451</td></tr>",
                            "<tr><td>david1</td><td>GLS</td><td>8</td></tr>",
                            "<tr><td>david1</td><td>Posta</td><td>1</td></tr>",
                            "<tr><td>david1</td><td>Személyes átvétel</td><td>8</td></tr>",
                            "<tr><td>david1</td><td>NULL</td><td>17</td></tr>",
                            "<tr><td>david4</td><td>GLS</td><td>3</td></tr>",
                            "<tr><td>david4</td><td>Posta</td><td>8</td></tr>",
                            "<tr><td>david4</td><td>Személyes átvétel</td><td>10</td></tr>",
                            "<tr><td>david4</td><td>NULL</td><td>21</td></tr>",
                            "<tr><td>debora</td><td>GLS</td><td>7</td></tr>",
                            "<tr><td>debora</td><td>Posta</td><td>6</td></tr>",
                            "<tr><td>debora</td><td>Személyes átvétel</td><td>3</td></tr>",
                            "<tr><td>debora</td><td>NULL</td><td>16</td></tr>",
                            "<tr><td>denes</td><td>GLS</td><td>3</td></tr>",
                            "<tr><td>denes</td><td>Posta</td><td>2</td></tr>",
                            "<tr><td>denes</td><td>Személyes átvétel</td><td>4</td></tr>",
                            "<tr><td>denes</td><td>NULL</td><td>9</td></tr>",
                            "<tr><td>dora3</td><td>GLS</td><td>144</td></tr>",
                            "<tr><td>dora3</td><td>Posta</td><td>124</td></tr>",
                            "<tr><td>dora3</td><td>Személyes átvétel</td><td>164</td></tr>",
                            "<tr><td>dora3</td><td>NULL</td><td>432</td></tr>",
                            "<tr><td>edit</td><td>GLS</td><td>7</td></tr>",
                            "<tr><td>edit</td><td>Posta</td><td>2</td></tr>",
                            "<tr><td>edit</td><td>Személyes átvétel</td><td>4</td></tr>",
                            "<tr><td>edit</td><td>NULL</td><td>13</td></tr>",
                            "<tr><td>emese</td><td>GLS</td><td>128</td></tr>",
                            "<tr><td>emese</td><td>Posta</td><td>136</td></tr>",
                            "<tr><td>emese</td><td>Személyes átvétel</td><td>142</td></tr>",
                            "<tr><td>emese</td><td>NULL</td><td>406</td></tr>",
                            "<tr><td>eszter2</td><td>GLS</td><td>127</td></tr>",
                            "<tr><td>eszter2</td><td>Posta</td><td>136</td></tr>",
                            "<tr><td>eszter2</td><td>Személyes átvétel</td><td>152</td></tr>",
                            "<tr><td>eszter2</td><td>NULL</td><td>415</td></tr>",
                            "<tr><td>eszter4</td><td>GLS</td><td>141</td></tr>",
                            "<tr><td>eszter4</td><td>Posta</td><td>134</td></tr>",
                            "<tr><td>eszter4</td><td>Személyes átvétel</td><td>149</td></tr>",
                            "<tr><td>eszter4</td><td>NULL</td><td>424</td></tr>",
                            "<tr><td>ESZTERE</td><td>GLS</td><td>6</td></tr>",
                            "<tr><td>ESZTERE</td><td>Posta</td><td>9</td></tr>",
                            "<tr><td>ESZTERE</td><td>Személyes átvétel</td><td>7</td></tr>",
                            "<tr><td>ESZTERE</td><td>NULL</td><td>22</td></tr>",
                            "<tr><td>eva</td><td>GLS</td><td>125</td></tr>",
                            "<tr><td>eva</td><td>Posta</td><td>140</td></tr>",
                            "<tr><td>eva</td><td>Személyes átvétel</td><td>139</td></tr>",
                            "<tr><td>eva</td><td>NULL</td><td>404</td></tr>",
                            "<tr><td>eva2</td><td>GLS</td><td>154</td></tr>",
                            "<tr><td>eva2</td><td>Posta</td><td>138</td></tr>",
                            "<tr><td>eva2</td><td>Személyes átvétel</td><td>170</td></tr>",
                            "<tr><td>eva2</td><td>NULL</td><td>462</td></tr>",
                            "<tr><td>EVAV</td><td>GLS</td><td>2</td></tr>",
                            "<tr><td>EVAV</td><td>Posta</td><td>1</td></tr>",
                            "<tr><td>EVAV</td><td>Személyes átvétel</td><td>4</td></tr>",
                            "<tr><td>EVAV</td><td>NULL</td><td>7</td></tr>",
                            "<tr><td>ferenc1</td><td>GLS</td><td>144</td></tr>",
                            "<tr><td>ferenc1</td><td>Posta</td><td>158</td></tr>",
                            "<tr><td>ferenc1</td><td>Személyes átvétel</td><td>135</td></tr>",
                            "<tr><td>ferenc1</td><td>NULL</td><td>437</td></tr>",
                            "<tr><td>fruzsina4</td><td>GLS</td><td>8</td></tr>",
                            "<tr><td>fruzsina4</td><td>Posta</td><td>3</td></tr>",
                            "<tr><td>fruzsina4</td><td>Személyes átvétel</td><td>7</td></tr>",
                            "<tr><td>fruzsina4</td><td>NULL</td><td>18</td></tr>",
                            "<tr><td>gabor1</td><td>GLS</td><td>9</td></tr>",
                            "<tr><td>gabor1</td><td>Posta</td><td>5</td></tr>",
                            "<tr><td>gabor1</td><td>Személyes átvétel</td><td>5</td></tr>",
                            "<tr><td>gabor1</td><td>NULL</td><td>19</td></tr>",
                            "<tr><td>gabor4</td><td>GLS</td><td>7</td></tr>",
                            "<tr><td>gabor4</td><td>Posta</td><td>9</td></tr>",
                            "<tr><td>gabor4</td><td>Személyes átvétel</td><td>4</td></tr>",
                            "<tr><td>gabor4</td><td>NULL</td><td>20</td></tr>",
                            "<tr><td>GABORS</td><td>GLS</td><td>5</td></tr>",
                            "<tr><td>GABORS</td><td>Posta</td><td>6</td></tr>",
                            "<tr><td>GABORS</td><td>Személyes átvétel</td><td>4</td></tr>",
                            "<tr><td>GABORS</td><td>NULL</td><td>15</td></tr>",
                            "<tr><td>gabriella1</td><td>GLS</td><td>5</td></tr>",
                            "<tr><td>gabriella1</td><td>Posta</td><td>4</td></tr>",
                            "<tr><td>gabriella1</td><td>Személyes átvétel</td><td>5</td></tr>",
                            "<tr><td>gabriella1</td><td>NULL</td><td>14</td></tr>",
                            "<tr><td>gabriella10</td><td>GLS</td><td>4</td></tr>",
                            "<tr><td>gabriella10</td><td>Posta</td><td>5</td></tr>",
                            "<tr><td>gabriella10</td><td>Személyes átvétel</td><td>7</td></tr>",
                            "<tr><td>gabriella10</td><td>NULL</td><td>16</td></tr>",
                            "<tr><td>georgij</td><td>GLS</td><td>9</td></tr>",
                            "<tr><td>georgij</td><td>Posta</td><td>2</td></tr>",
                            "<tr><td>georgij</td><td>Személyes átvétel</td><td>10</td></tr>",
                            "<tr><td>georgij</td><td>NULL</td><td>21</td></tr>",
                            "<tr><td>gusztav</td><td>GLS</td><td>5</td></tr>",
                            "<tr><td>gusztav</td><td>Posta</td><td>4</td></tr>",
                            "<tr><td>gusztav</td><td>Személyes átvétel</td><td>5</td></tr>",
                            "<tr><td>gusztav</td><td>NULL</td><td>14</td></tr>",
                            "<tr><td>GYONGYIK</td><td>GLS</td><td>6</td></tr>",
                            "<tr><td>GYONGYIK</td><td>Posta</td><td>6</td></tr>",
                            "<tr><td>GYONGYIK</td><td>Személyes átvétel</td><td>3</td></tr>",
                            "<tr><td>GYONGYIK</td><td>NULL</td><td>15</td></tr>",
                            "<tr><td>GYORGYO</td><td>GLS</td><td>7</td></tr>",
                            "<tr><td>GYORGYO</td><td>Posta</td><td>4</td></tr>",
                            "<tr><td>GYORGYO</td><td>Személyes átvétel</td><td>5</td></tr>",
                            "<tr><td>GYORGYO</td><td>NULL</td><td>16</td></tr>",
                            "<tr><td>henrik3</td><td>GLS</td><td>7</td></tr>",
                            "<tr><td>henrik3</td><td>Posta</td><td>4</td></tr>",
                            "<tr><td>henrik3</td><td>Személyes átvétel</td><td>5</td></tr>",
                            "<tr><td>henrik3</td><td>NULL</td><td>16</td></tr>",
                            "<tr><td>IBOLYAA</td><td>GLS</td><td>140</td></tr>",
                            "<tr><td>IBOLYAA</td><td>Posta</td><td>125</td></tr>",
                            "<tr><td>IBOLYAA</td><td>Személyes átvétel</td><td>157</td></tr>",
                            "<tr><td>IBOLYAA</td><td>NULL</td><td>422</td></tr>",
                            "<tr><td>ilona3</td><td>GLS</td><td>9</td></tr>",
                            "<tr><td>ilona3</td><td>Posta</td><td>2</td></tr>",
                            "<tr><td>ilona3</td><td>Személyes átvétel</td><td>7</td></tr>",
                            "<tr><td>ilona3</td><td>NULL</td><td>18</td></tr>",
                            "<tr><td>imre</td><td>GLS</td><td>5</td></tr>",
                            "<tr><td>imre</td><td>Posta</td><td>4</td></tr>",
                            "<tr><td>imre</td><td>Személyes átvétel</td><td>6</td></tr>",
                            "<tr><td>imre</td><td>NULL</td><td>15</td></tr>",
                            "<tr><td>imre1</td><td>GLS</td><td>8</td></tr>",
                            "<tr><td>imre1</td><td>Posta</td><td>4</td></tr>",
                            "<tr><td>imre1</td><td>Személyes átvétel</td><td>3</td></tr>",
                            "<tr><td>imre1</td><td>NULL</td><td>15</td></tr>",
                            "<tr><td>istvan</td><td>GLS</td><td>3</td></tr>",
                            "<tr><td>istvan</td><td>Posta</td><td>4</td></tr>",
                            "<tr><td>istvan</td><td>Személyes átvétel</td><td>4</td></tr>",
                            "<tr><td>istvan</td><td>NULL</td><td>11</td></tr>",
                            "<tr><td>istvan1</td><td>GLS</td><td>8</td></tr>",
                            "<tr><td>istvan1</td><td>Posta</td><td>4</td></tr>",
                            "<tr><td>istvan1</td><td>Személyes átvétel</td><td>7</td></tr>",
                            "<tr><td>istvan1</td><td>NULL</td><td>19</td></tr>",
                            "<tr><td>ISTVANV</td><td>GLS</td><td>4</td></tr>",
                            "<tr><td>ISTVANV</td><td>Posta</td><td>9</td></tr>",
                            "<tr><td>ISTVANV</td><td>Személyes átvétel</td><td>8</td></tr>",
                            "<tr><td>ISTVANV</td><td>NULL</td><td>21</td></tr>",
                            "<tr><td>janos3</td><td>GLS</td><td>5</td></tr>",
                            "<tr><td>janos3</td><td>Posta</td><td>2</td></tr>",
                            "<tr><td>janos3</td><td>Személyes átvétel</td><td>6</td></tr>",
                            "<tr><td>janos3</td><td>NULL</td><td>13</td></tr>",
                            "<tr><td>JANOSG</td><td>GLS</td><td>3</td></tr>",
                            "<tr><td>JANOSG</td><td>Posta</td><td>3</td></tr>",
                            "<tr><td>JANOSG</td><td>Személyes átvétel</td><td>4</td></tr>",
                            "<tr><td>JANOSG</td><td>NULL</td><td>10</td></tr>",
                            "<tr><td>JANOSP</td><td>GLS</td><td>7</td></tr>",
                            "<tr><td>JANOSP</td><td>Posta</td><td>7</td></tr>",
                            "<tr><td>JANOSP</td><td>Személyes átvétel</td><td>3</td></tr>",
                            "<tr><td>JANOSP</td><td>NULL</td><td>17</td></tr>",
                            "<tr><td>jozsef</td><td>GLS</td><td>116</td></tr>",
                            "<tr><td>jozsef</td><td>Posta</td><td>132</td></tr>",
                            "<tr><td>jozsef</td><td>Személyes átvétel</td><td>134</td></tr>",
                            "<tr><td>jozsef</td><td>NULL</td><td>382</td></tr>",
                            "<tr><td>jozsef2</td><td>GLS</td><td>7</td></tr>",
                            "<tr><td>jozsef2</td><td>Posta</td><td>2</td></tr>",
                            "<tr><td>jozsef2</td><td>Személyes átvétel</td><td>4</td></tr>",
                            "<tr><td>jozsef2</td><td>NULL</td><td>13</td></tr>",
                            "<tr><td>JOZSEFG</td><td>GLS</td><td>11</td></tr>",
                            "<tr><td>JOZSEFG</td><td>Posta</td><td>1</td></tr>",
                            "<tr><td>JOZSEFG</td><td>Személyes átvétel</td><td>9</td></tr>",
                            "<tr><td>JOZSEFG</td><td>NULL</td><td>21</td></tr>",
                            "<tr><td>JUDITH</td><td>GLS</td><td>170</td></tr>",
                            "<tr><td>JUDITH</td><td>Posta</td><td>130</td></tr>",
                            "<tr><td>JUDITH</td><td>Személyes átvétel</td><td>150</td></tr>",
                            "<tr><td>JUDITH</td><td>NULL</td><td>450</td></tr>",
                            "<tr><td>julia</td><td>GLS</td><td>137</td></tr>",
                            "<tr><td>julia</td><td>Posta</td><td>160</td></tr>",
                            "<tr><td>julia</td><td>Személyes átvétel</td><td>138</td></tr>",
                            "<tr><td>julia</td><td>NULL</td><td>435</td></tr>",
                            "<tr><td>julia4</td><td>GLS</td><td>2</td></tr>",
                            "<tr><td>julia4</td><td>Posta</td><td>4</td></tr>",
                            "<tr><td>julia4</td><td>Személyes átvétel</td><td>8</td></tr>",
                            "<tr><td>julia4</td><td>NULL</td><td>14</td></tr>",
                            "<tr><td>julianna4</td><td>GLS</td><td>8</td></tr>",
                            "<tr><td>julianna4</td><td>Posta</td><td>12</td></tr>",
                            "<tr><td>julianna4</td><td>Személyes átvétel</td><td>7</td></tr>",
                            "<tr><td>julianna4</td><td>NULL</td><td>27</td></tr>",
                            "<tr><td>kata</td><td>GLS</td><td>5</td></tr>",
                            "<tr><td>kata</td><td>Posta</td><td>4</td></tr>",
                            "<tr><td>kata</td><td>Személyes átvétel</td><td>3</td></tr>",
                            "<tr><td>kata</td><td>NULL</td><td>12</td></tr>",
                            "<tr><td>katalin</td><td>GLS</td><td>7</td></tr>",
                            "<tr><td>katalin</td><td>Posta</td><td>7</td></tr>",
                            "<tr><td>katalin</td><td>Személyes átvétel</td><td>5</td></tr>",
                            "<tr><td>katalin</td><td>NULL</td><td>19</td></tr>",
                            "<tr><td>katalin4</td><td>GLS</td><td>7</td></tr>",
                            "<tr><td>katalin4</td><td>Posta</td><td>5</td></tr>",
                            "<tr><td>katalin4</td><td>Személyes átvétel</td><td>11</td></tr>",
                            "<tr><td>katalin4</td><td>NULL</td><td>23</td></tr>",
                            "<tr><td>kati</td><td>GLS</td><td>4</td></tr>",
                            "<tr><td>kati</td><td>Posta</td><td>5</td></tr>",
                            "<tr><td>kati</td><td>Személyes átvétel</td><td>4</td></tr>",
                            "<tr><td>kati</td><td>NULL</td><td>13</td></tr>",
                            "<tr><td>katka</td><td>GLS</td><td>6</td></tr>",
                            "<tr><td>katka</td><td>Posta</td><td>6</td></tr>",
                            "<tr><td>katka</td><td>Személyes átvétel</td><td>10</td></tr>",
                            "<tr><td>katka</td><td>NULL</td><td>22</td></tr>",
                            "<tr><td>klaudia2</td><td>GLS</td><td>3</td></tr>",
                            "<tr><td>klaudia2</td><td>Posta</td><td>9</td></tr>",
                            "<tr><td>klaudia2</td><td>Személyes átvétel</td><td>5</td></tr>",
                            "<tr><td>klaudia2</td><td>NULL</td><td>17</td></tr>",
                            "<tr><td>kornel4</td><td>GLS</td><td>3</td></tr>",
                            "<tr><td>kornel4</td><td>Posta</td><td>1</td></tr>",
                            "<tr><td>kornel4</td><td>Személyes átvétel</td><td>7</td></tr>",
                            "<tr><td>kornel4</td><td>NULL</td><td>11</td></tr>",
                            "<tr><td>kristof4</td><td>GLS</td><td>9</td></tr>",
                            "<tr><td>kristof4</td><td>Posta</td><td>4</td></tr>",
                            "<tr><td>kristof4</td><td>Személyes átvétel</td><td>8</td></tr>",
                            "<tr><td>kristof4</td><td>NULL</td><td>21</td></tr>",
                            "<tr><td>kriszti</td><td>GLS</td><td>3</td></tr>",
                            "<tr><td>kriszti</td><td>Posta</td><td>5</td></tr>",
                            "<tr><td>kriszti</td><td>Személyes átvétel</td><td>5</td></tr>",
                            "<tr><td>kriszti</td><td>NULL</td><td>13</td></tr>",
                            "<tr><td>krisztian4</td><td>GLS</td><td>5</td></tr>",
                            "<tr><td>krisztian4</td><td>Posta</td><td>6</td></tr>",
                            "<tr><td>krisztian4</td><td>Személyes átvétel</td><td>6</td></tr>",
                            "<tr><td>krisztian4</td><td>NULL</td><td>17</td></tr>",
                            "<tr><td>KRISZTIANM</td><td>GLS</td><td>118</td></tr>",
                            "<tr><td>KRISZTIANM</td><td>Posta</td><td>136</td></tr>",
                            "<tr><td>KRISZTIANM</td><td>Személyes átvétel</td><td>130</td></tr>",
                            "<tr><td>KRISZTIANM</td><td>NULL</td><td>384</td></tr>",
                            "<tr><td>krisztina</td><td>GLS</td><td>149</td></tr>",
                            "<tr><td>krisztina</td><td>Posta</td><td>150</td></tr>",
                            "<tr><td>krisztina</td><td>Személyes átvétel</td><td>157</td></tr>",
                            "<tr><td>krisztina</td><td>NULL</td><td>456</td></tr>",
                            "<tr><td>krisztina1</td><td>GLS</td><td>10</td></tr>",
                            "<tr><td>krisztina1</td><td>Posta</td><td>4</td></tr>",
                            "<tr><td>krisztina1</td><td>Személyes átvétel</td><td>8</td></tr>",
                            "<tr><td>krisztina1</td><td>NULL</td><td>22</td></tr>",
                            "<tr><td>KRISZTINAG</td><td>GLS</td><td>6</td></tr>",
                            "<tr><td>KRISZTINAG</td><td>Posta</td><td>6</td></tr>",
                            "<tr><td>KRISZTINAG</td><td>Személyes átvétel</td><td>10</td></tr>",
                            "<tr><td>KRISZTINAG</td><td>NULL</td><td>22</td></tr>",
                            "<tr><td>lajos</td><td>GLS</td><td>5</td></tr>",
                            "<tr><td>lajos</td><td>Posta</td><td>2</td></tr>",
                            "<tr><td>lajos</td><td>Személyes átvétel</td><td>9</td></tr>",
                            "<tr><td>lajos</td><td>NULL</td><td>16</td></tr>",
                            "<tr><td>lala</td><td>GLS</td><td>5</td></tr>",
                            "<tr><td>lala</td><td>Posta</td><td>3</td></tr>",
                            "<tr><td>lala</td><td>Személyes átvétel</td><td>9</td></tr>",
                            "<tr><td>lala</td><td>NULL</td><td>17</td></tr>",
                            "<tr><td>laszlo1</td><td>GLS</td><td>130</td></tr>",
                            "<tr><td>laszlo1</td><td>Posta</td><td>129</td></tr>",
                            "<tr><td>laszlo1</td><td>Személyes átvétel</td><td>135</td></tr>",
                            "<tr><td>laszlo1</td><td>NULL</td><td>394</td></tr>",
                            "<tr><td>laszlo2</td><td>GLS</td><td>12</td></tr>",
                            "<tr><td>laszlo2</td><td>Posta</td><td>6</td></tr>",
                            "<tr><td>laszlo2</td><td>Személyes átvétel</td><td>7</td></tr>",
                            "<tr><td>laszlo2</td><td>NULL</td><td>25</td></tr>",
                            "<tr><td>LASZLOA</td><td>GLS</td><td>156</td></tr>",
                            "<tr><td>LASZLOA</td><td>Posta</td><td>136</td></tr>",
                            "<tr><td>LASZLOA</td><td>Személyes átvétel</td><td>154</td></tr>",
                            "<tr><td>LASZLOA</td><td>NULL</td><td>446</td></tr>",
                            "<tr><td>LASZLON</td><td>GLS</td><td>126</td></tr>",
                            "<tr><td>LASZLON</td><td>Posta</td><td>131</td></tr>",
                            "<tr><td>LASZLON</td><td>Személyes átvétel</td><td>143</td></tr>",
                            "<tr><td>LASZLON</td><td>NULL</td><td>400</td></tr>",
                            "<tr><td>maria1</td><td>GLS</td><td>4</td></tr>",
                            "<tr><td>maria1</td><td>Posta</td><td>5</td></tr>",
                            "<tr><td>maria1</td><td>Személyes átvétel</td><td>1</td></tr>",
                            "<tr><td>maria1</td><td>NULL</td><td>10</td></tr>",
                            "<tr><td>MARKH</td><td>GLS</td><td>128</td></tr>",
                            "<tr><td>MARKH</td><td>Posta</td><td>142</td></tr>",
                            "<tr><td>MARKH</td><td>Személyes átvétel</td><td>142</td></tr>",
                            "<tr><td>MARKH</td><td>NULL</td><td>412</td></tr>",
                            "<tr><td>marton</td><td>GLS</td><td>5</td></tr>",
                            "<tr><td>marton</td><td>Posta</td><td>4</td></tr>",
                            "<tr><td>marton</td><td>Személyes átvétel</td><td>5</td></tr>",
                            "<tr><td>marton</td><td>NULL</td><td>14</td></tr>",
                            "<tr><td>MATEK</td><td>GLS</td><td>6</td></tr>",
                            "<tr><td>MATEK</td><td>Posta</td><td>10</td></tr>",
                            "<tr><td>MATEK</td><td>Személyes átvétel</td><td>9</td></tr>",
                            "<tr><td>MATEK</td><td>NULL</td><td>25</td></tr>",
                            "<tr><td>matyas2</td><td>GLS</td><td>138</td></tr>",
                            "<tr><td>matyas2</td><td>Posta</td><td>131</td></tr>",
                            "<tr><td>matyas2</td><td>Személyes átvétel</td><td>164</td></tr>",
                            "<tr><td>matyas2</td><td>NULL</td><td>433</td></tr>",
                            "<tr><td>MATYASS</td><td>GLS</td><td>4</td></tr>",
                            "<tr><td>MATYASS</td><td>Posta</td><td>5</td></tr>",
                            "<tr><td>MATYASS</td><td>Személyes átvétel</td><td>3</td></tr>",
                            "<tr><td>MATYASS</td><td>NULL</td><td>12</td></tr>",
                            "<tr><td>MIHALYJ</td><td>GLS</td><td>3</td></tr>",
                            "<tr><td>MIHALYJ</td><td>Posta</td><td>4</td></tr>",
                            "<tr><td>MIHALYJ</td><td>Személyes átvétel</td><td>6</td></tr>",
                            "<tr><td>MIHALYJ</td><td>NULL</td><td>13</td></tr>",
                            "<tr><td>miklos2</td><td>GLS</td><td>7</td></tr>",
                            "<tr><td>miklos2</td><td>Posta</td><td>4</td></tr>",
                            "<tr><td>miklos2</td><td>Személyes átvétel</td><td>2</td></tr>",
                            "<tr><td>miklos2</td><td>NULL</td><td>13</td></tr>",
                            "<tr><td>MIKLOSB</td><td>GLS</td><td>6</td></tr>",
                            "<tr><td>MIKLOSB</td><td>Posta</td><td>1</td></tr>",
                            "<tr><td>MIKLOSB</td><td>Személyes átvétel</td><td>8</td></tr>",
                            "<tr><td>MIKLOSB</td><td>NULL</td><td>15</td></tr>",
                            "<tr><td>MONIKAM</td><td>GLS</td><td>133</td></tr>",
                            "<tr><td>MONIKAM</td><td>Posta</td><td>151</td></tr>",
                            "<tr><td>MONIKAM</td><td>Személyes átvétel</td><td>123</td></tr>",
                            "<tr><td>MONIKAM</td><td>NULL</td><td>407</td></tr>",
                            "<tr><td>NANDORF</td><td>GLS</td><td>147</td></tr>",
                            "<tr><td>NANDORF</td><td>Posta</td><td>139</td></tr>",
                            "<tr><td>NANDORF</td><td>Személyes átvétel</td><td>134</td></tr>",
                            "<tr><td>NANDORF</td><td>NULL</td><td>420</td></tr>",
                            "<tr><td>nikolett3</td><td>GLS</td><td>4</td></tr>",
                            "<tr><td>nikolett3</td><td>Posta</td><td>3</td></tr>",
                            "<tr><td>nikolett3</td><td>Személyes átvétel</td><td>10</td></tr>",
                            "<tr><td>nikolett3</td><td>NULL</td><td>17</td></tr>",
                            "<tr><td>nikoletta4</td><td>GLS</td><td>137</td></tr>",
                            "<tr><td>nikoletta4</td><td>Posta</td><td>158</td></tr>",
                            "<tr><td>nikoletta4</td><td>Személyes átvétel</td><td>119</td></tr>",
                            "<tr><td>nikoletta4</td><td>NULL</td><td>414</td></tr>",
                            "<tr><td>NIKOLETTAT</td><td>GLS</td><td>13</td></tr>",
                            "<tr><td>NIKOLETTAT</td><td>Posta</td><td>7</td></tr>",
                            "<tr><td>NIKOLETTAT</td><td>Személyes átvétel</td><td>5</td></tr>",
                            "<tr><td>NIKOLETTAT</td><td>NULL</td><td>25</td></tr>",
                            "<tr><td>norbert2</td><td>GLS</td><td>7</td></tr>",
                            "<tr><td>norbert2</td><td>Posta</td><td>4</td></tr>",
                            "<tr><td>norbert2</td><td>NULL</td><td>11</td></tr>",
                            "<tr><td>norbert4</td><td>GLS</td><td>1</td></tr>",
                            "<tr><td>norbert4</td><td>Posta</td><td>3</td></tr>",
                            "<tr><td>norbert4</td><td>Személyes átvétel</td><td>9</td></tr>",
                            "<tr><td>norbert4</td><td>NULL</td><td>13</td></tr>",
                            "<tr><td>norbert5</td><td>GLS</td><td>1</td></tr>",
                            "<tr><td>norbert5</td><td>Posta</td><td>6</td></tr>",
                            "<tr><td>norbert5</td><td>Személyes átvétel</td><td>9</td></tr>",
                            "<tr><td>norbert5</td><td>NULL</td><td>16</td></tr>",
                            "<tr><td>pal</td><td>GLS</td><td>152</td></tr>",
                            "<tr><td>pal</td><td>Posta</td><td>132</td></tr>",
                            "<tr><td>pal</td><td>Személyes átvétel</td><td>154</td></tr>",
                            "<tr><td>pal</td><td>NULL</td><td>438</td></tr>",
                            "<tr><td>peter1</td><td>GLS</td><td>151</td></tr>",
                            "<tr><td>peter1</td><td>Posta</td><td>135</td></tr>",
                            "<tr><td>peter1</td><td>Személyes átvétel</td><td>126</td></tr>",
                            "<tr><td>peter1</td><td>NULL</td><td>412</td></tr>",
                            "<tr><td>peter2</td><td>GLS</td><td>7</td></tr>",
                            "<tr><td>peter2</td><td>Posta</td><td>4</td></tr>",
                            "<tr><td>peter2</td><td>Személyes átvétel</td><td>7</td></tr>",
                            "<tr><td>peter2</td><td>NULL</td><td>18</td></tr>",
                            "<tr><td>peter3</td><td>GLS</td><td>8</td></tr>",
                            "<tr><td>peter3</td><td>Posta</td><td>7</td></tr>",
                            "<tr><td>peter3</td><td>Személyes átvétel</td><td>10</td></tr>",
                            "<tr><td>peter3</td><td>NULL</td><td>25</td></tr>",
                            "<tr><td>peter4</td><td>GLS</td><td>266</td></tr>",
                            "<tr><td>peter4</td><td>Posta</td><td>293</td></tr>",
                            "<tr><td>peter4</td><td>Személyes átvétel</td><td>293</td></tr>",
                            "<tr><td>peter4</td><td>NULL</td><td>852</td></tr>",
                            "<tr><td>PETERB</td><td>GLS</td><td>2</td></tr>",
                            "<tr><td>PETERB</td><td>Posta</td><td>4</td></tr>",
                            "<tr><td>PETERB</td><td>Személyes átvétel</td><td>9</td></tr>",
                            "<tr><td>PETERB</td><td>NULL</td><td>15</td></tr>",
                            "<tr><td>polla</td><td>GLS</td><td>9</td></tr>",
                            "<tr><td>polla</td><td>Posta</td><td>6</td></tr>",
                            "<tr><td>polla</td><td>Személyes átvétel</td><td>7</td></tr>",
                            "<tr><td>polla</td><td>NULL</td><td>22</td></tr>",
                            "<tr><td>rajmond4</td><td>GLS</td><td>6</td></tr>",
                            "<tr><td>rajmond4</td><td>Posta</td><td>5</td></tr>",
                            "<tr><td>rajmond4</td><td>Személyes átvétel</td><td>6</td></tr>",
                            "<tr><td>rajmond4</td><td>NULL</td><td>17</td></tr>",
                            "<tr><td>reka4</td><td>GLS</td><td>5</td></tr>",
                            "<tr><td>reka4</td><td>Posta</td><td>4</td></tr>",
                            "<tr><td>reka4</td><td>Személyes átvétel</td><td>11</td></tr>",
                            "<tr><td>reka4</td><td>NULL</td><td>20</td></tr>",
                            "<tr><td>RENATAK</td><td>GLS</td><td>135</td></tr>",
                            "<tr><td>RENATAK</td><td>Posta</td><td>140</td></tr>",
                            "<tr><td>RENATAK</td><td>Személyes átvétel</td><td>147</td></tr>",
                            "<tr><td>RENATAK</td><td>NULL</td><td>422</td></tr>",
                            "<tr><td>RENATAS</td><td>GLS</td><td>6</td></tr>",
                            "<tr><td>RENATAS</td><td>Posta</td><td>5</td></tr>",
                            "<tr><td>RENATAS</td><td>Személyes átvétel</td><td>5</td></tr>",
                            "<tr><td>RENATAS</td><td>NULL</td><td>16</td></tr>",
                            "<tr><td>robert2</td><td>GLS</td><td>5</td></tr>",
                            "<tr><td>robert2</td><td>Posta</td><td>1</td></tr>",
                            "<tr><td>robert2</td><td>Személyes átvétel</td><td>7</td></tr>",
                            "<tr><td>robert2</td><td>NULL</td><td>13</td></tr>",
                            "<tr><td>ROBERTI</td><td>GLS</td><td>5</td></tr>",
                            "<tr><td>ROBERTI</td><td>Posta</td><td>3</td></tr>",
                            "<tr><td>ROBERTI</td><td>Személyes átvétel</td><td>5</td></tr>",
                            "<tr><td>ROBERTI</td><td>NULL</td><td>13</td></tr>",
                            "<tr><td>ROBERTP</td><td>GLS</td><td>8</td></tr>",
                            "<tr><td>ROBERTP</td><td>Posta</td><td>8</td></tr>",
                            "<tr><td>ROBERTP</td><td>Személyes átvétel</td><td>10</td></tr>",
                            "<tr><td>ROBERTP</td><td>NULL</td><td>26</td></tr>",
                            "<tr><td>roland</td><td>GLS</td><td>132</td></tr>",
                            "<tr><td>roland</td><td>Posta</td><td>157</td></tr>",
                            "<tr><td>roland</td><td>Személyes átvétel</td><td>125</td></tr>",
                            "<tr><td>roland</td><td>NULL</td><td>414</td></tr>",
                            "<tr><td>roland1</td><td>GLS</td><td>142</td></tr>",
                            "<tr><td>roland1</td><td>Posta</td><td>155</td></tr>",
                            "<tr><td>roland1</td><td>Személyes átvétel</td><td>135</td></tr>",
                            "<tr><td>roland1</td><td>NULL</td><td>432</td></tr>",
                            "<tr><td>roza2</td><td>GLS</td><td>3</td></tr>",
                            "<tr><td>roza2</td><td>Posta</td><td>2</td></tr>",
                            "<tr><td>roza2</td><td>Személyes átvétel</td><td>3</td></tr>",
                            "<tr><td>roza2</td><td>NULL</td><td>8</td></tr>",
                            "<tr><td>sandor</td><td>GLS</td><td>4</td></tr>",
                            "<tr><td>sandor</td><td>Posta</td><td>6</td></tr>",
                            "<tr><td>sandor</td><td>Személyes átvétel</td><td>7</td></tr>",
                            "<tr><td>sandor</td><td>NULL</td><td>17</td></tr>",
                            "<tr><td>sandor3</td><td>GLS</td><td>4</td></tr>",
                            "<tr><td>sandor3</td><td>Posta</td><td>4</td></tr>",
                            "<tr><td>sandor3</td><td>Személyes átvétel</td><td>6</td></tr>",
                            "<tr><td>sandor3</td><td>NULL</td><td>14</td></tr>",
                            "<tr><td>sandor4</td><td>GLS</td><td>4</td></tr>",
                            "<tr><td>sandor4</td><td>Posta</td><td>2</td></tr>",
                            "<tr><td>sandor4</td><td>Személyes átvétel</td><td>5</td></tr>",
                            "<tr><td>sandor4</td><td>NULL</td><td>11</td></tr>",
                            "<tr><td>sara</td><td>GLS</td><td>4</td></tr>",
                            "<tr><td>sara</td><td>Posta</td><td>7</td></tr>",
                            "<tr><td>sara</td><td>Személyes átvétel</td><td>9</td></tr>",
                            "<tr><td>sara</td><td>NULL</td><td>20</td></tr>",
                            "<tr><td>SEBASTIANF</td><td>GLS</td><td>6</td></tr>",
                            "<tr><td>SEBASTIANF</td><td>Posta</td><td>3</td></tr>",
                            "<tr><td>SEBASTIANF</td><td>Személyes átvétel</td><td>6</td></tr>",
                            "<tr><td>SEBASTIANF</td><td>NULL</td><td>15</td></tr>",
                            "<tr><td>sebestyen</td><td>GLS</td><td>4</td></tr>",
                            "<tr><td>sebestyen</td><td>Posta</td><td>6</td></tr>",
                            "<tr><td>sebestyen</td><td>Személyes átvétel</td><td>6</td></tr>",
                            "<tr><td>sebestyen</td><td>NULL</td><td>16</td></tr>",
                            "<tr><td>szabolcs</td><td>GLS</td><td>145</td></tr>",
                            "<tr><td>szabolcs</td><td>Posta</td><td>157</td></tr>",
                            "<tr><td>szabolcs</td><td>Személyes átvétel</td><td>169</td></tr>",
                            "<tr><td>szabolcs</td><td>NULL</td><td>471</td></tr>",
                            "<tr><td>SZABOLCSM</td><td>GLS</td><td>126</td></tr>",
                            "<tr><td>SZABOLCSM</td><td>Posta</td><td>153</td></tr>",
                            "<tr><td>SZABOLCSM</td><td>Személyes átvétel</td><td>129</td></tr>",
                            "<tr><td>SZABOLCSM</td><td>NULL</td><td>408</td></tr>",
                            "<tr><td>SZILARDS</td><td>GLS</td><td>144</td></tr>",
                            "<tr><td>SZILARDS</td><td>Posta</td><td>131</td></tr>",
                            "<tr><td>SZILARDS</td><td>Személyes átvétel</td><td>111</td></tr>",
                            "<tr><td>SZILARDS</td><td>NULL</td><td>386</td></tr>",
                            "<tr><td>szilvia1</td><td>GLS</td><td>156</td></tr>",
                            "<tr><td>szilvia1</td><td>Posta</td><td>151</td></tr>",
                            "<tr><td>szilvia1</td><td>Személyes átvétel</td><td>138</td></tr>",
                            "<tr><td>szilvia1</td><td>NULL</td><td>445</td></tr>",
                            "<tr><td>tamara2</td><td>GLS</td><td>6</td></tr>",
                            "<tr><td>tamara2</td><td>Posta</td><td>4</td></tr>",
                            "<tr><td>tamara2</td><td>Személyes átvétel</td><td>3</td></tr>",
                            "<tr><td>tamara2</td><td>NULL</td><td>13</td></tr>",
                            "<tr><td>tamas</td><td>GLS</td><td>143</td></tr>",
                            "<tr><td>tamas</td><td>Posta</td><td>156</td></tr>",
                            "<tr><td>tamas</td><td>Személyes átvétel</td><td>122</td></tr>",
                            "<tr><td>tamas</td><td>NULL</td><td>421</td></tr>",
                            "<tr><td>TAMASF</td><td>GLS</td><td>159</td></tr>",
                            "<tr><td>TAMASF</td><td>Posta</td><td>145</td></tr>",
                            "<tr><td>TAMASF</td><td>Személyes átvétel</td><td>129</td></tr>",
                            "<tr><td>TAMASF</td><td>NULL</td><td>433</td></tr>",
                            "<tr><td>tibor</td><td>GLS</td><td>115</td></tr>",
                            "<tr><td>tibor</td><td>Posta</td><td>129</td></tr>",
                            "<tr><td>tibor</td><td>Személyes átvétel</td><td>130</td></tr>",
                            "<tr><td>tibor</td><td>NULL</td><td>374</td></tr>",
                            "<tr><td>tibor2</td><td>GLS</td><td>7</td></tr>",
                            "<tr><td>tibor2</td><td>Posta</td><td>7</td></tr>",
                            "<tr><td>tibor2</td><td>Személyes átvétel</td><td>11</td></tr>",
                            "<tr><td>tibor2</td><td>NULL</td><td>25</td></tr>",
                            "<tr><td>tihamer</td><td>GLS</td><td>9</td></tr>",
                            "<tr><td>tihamer</td><td>Posta</td><td>6</td></tr>",
                            "<tr><td>tihamer</td><td>Személyes átvétel</td><td>5</td></tr>",
                            "<tr><td>tihamer</td><td>NULL</td><td>20</td></tr>",
                            "<tr><td>timea</td><td>GLS</td><td>14</td></tr>",
                            "<tr><td>timea</td><td>Posta</td><td>23</td></tr>",
                            "<tr><td>timea</td><td>Személyes átvétel</td><td>18</td></tr>",
                            "<tr><td>timea</td><td>NULL</td><td>55</td></tr>",
                            "<tr><td>timea2</td><td>GLS</td><td>1</td></tr>",
                            "<tr><td>timea2</td><td>Posta</td><td>5</td></tr>",
                            "<tr><td>timea2</td><td>Személyes átvétel</td><td>10</td></tr>",
                            "<tr><td>timea2</td><td>NULL</td><td>16</td></tr>",
                            "<tr><td>tunde</td><td>GLS</td><td>6</td></tr>",
                            "<tr><td>tunde</td><td>Posta</td><td>6</td></tr>",
                            "<tr><td>tunde</td><td>Személyes átvétel</td><td>4</td></tr>",
                            "<tr><td>tunde</td><td>NULL</td><td>16</td></tr>",
                            "<tr><td>valentin</td><td>GLS</td><td>5</td></tr>",
                            "<tr><td>valentin</td><td>Posta</td><td>5</td></tr>",
                            "<tr><td>valentin</td><td>Személyes átvétel</td><td>3</td></tr>",
                            "<tr><td>valentin</td><td>NULL</td><td>13</td></tr>",
                            "<tr><td>veronika4</td><td>GLS</td><td>5</td></tr>",
                            "<tr><td>veronika4</td><td>Posta</td><td>6</td></tr>",
                            "<tr><td>veronika4</td><td>Személyes átvétel</td><td>7</td></tr>",
                            "<tr><td>veronika4</td><td>NULL</td><td>18</td></tr>",
                            "<tr><td>VIKTORIAU</td><td>GLS</td><td>5</td></tr>",
                            "<tr><td>VIKTORIAU</td><td>Posta</td><td>4</td></tr>",
                            "<tr><td>VIKTORIAU</td><td>Személyes átvétel</td><td>5</td></tr>",
                            "<tr><td>VIKTORIAU</td><td>NULL</td><td>14</td></tr>",
                            "<tr><td>VIKTORK</td><td>GLS</td><td>8</td></tr>",
                            "<tr><td>VIKTORK</td><td>Posta</td><td>6</td></tr>",
                            "<tr><td>VIKTORK</td><td>Személyes átvétel</td><td>6</td></tr>",
                            "<tr><td>VIKTORK</td><td>NULL</td><td>20</td></tr>",
                            "<tr><td>vivien3</td><td>GLS</td><td>9</td></tr>",
                            "<tr><td>vivien3</td><td>Posta</td><td>6</td></tr>",
                            "<tr><td>vivien3</td><td>Személyes átvétel</td><td>7</td></tr>",
                            "<tr><td>vivien3</td><td>NULL</td><td>22</td></tr>",
                            "<tr><td>zoltan</td><td>GLS</td><td>5</td></tr>",
                            "<tr><td>zoltan</td><td>Posta</td><td>3</td></tr>",
                            "<tr><td>zoltan</td><td>Személyes átvétel</td><td>7</td></tr>",
                            "<tr><td>zoltan</td><td>NULL</td><td>15</td></tr>",
                            "<tr><td>zoltan4</td><td>GLS</td><td>129</td></tr>",
                            "<tr><td>zoltan4</td><td>Posta</td><td>124</td></tr>",
                            "<tr><td>zoltan4</td><td>Személyes átvétel</td><td>171</td></tr>",
                            "<tr><td>zoltan4</td><td>NULL</td><td>424</td></tr>",
                            "<tr><td>ZOLTANP</td><td>GLS</td><td>6</td></tr>",
                            "<tr><td>ZOLTANP</td><td>Posta</td><td>3</td></tr>",
                            "<tr><td>ZOLTANP</td><td>Személyes átvétel</td><td>4</td></tr>",
                            "<tr><td>ZOLTANP</td><td>NULL</td><td>13</td></tr>",
                            "<tr><td>ZOLTANT</td><td>GLS</td><td>127</td></tr>",
                            "<tr><td>ZOLTANT</td><td>Posta</td><td>107</td></tr>",
                            "<tr><td>ZOLTANT</td><td>Személyes átvétel</td><td>123</td></tr>",
                            "<tr><td>ZOLTANT</td><td>NULL</td><td>357</td></tr>",
                            "<tr><td>zsofi1</td><td>GLS</td><td>7</td></tr>",
                            "<tr><td>zsofi1</td><td>Posta</td><td>6</td></tr>",
                            "<tr><td>zsofi1</td><td>Személyes átvétel</td><td>6</td></tr>",
                            "<tr><td>zsofi1</td><td>NULL</td><td>19</td></tr>",
                            "<tr><td>zsolt1</td><td>GLS</td><td>11</td></tr>",
                            "<tr><td>zsolt1</td><td>Posta</td><td>6</td></tr>",
                            "<tr><td>zsolt1</td><td>Személyes átvétel</td><td>3</td></tr>",
                            "<tr><td>zsolt1</td><td>NULL</td><td>20</td></tr>",
                            "<tr><td>ZSOLTJ</td><td>GLS</td><td>1</td></tr>",
                            "<tr><td>ZSOLTJ</td><td>Posta</td><td>8</td></tr>",
                            "<tr><td>ZSOLTJ</td><td>Személyes átvétel</td><td>9</td></tr>",
                            "<tr><td>ZSOLTJ</td><td>NULL</td><td>18</td></tr>",
                            "<tr><td>zsuzsa</td><td>GLS</td><td>8</td></tr>",
                            "<tr><td>zsuzsa</td><td>Posta</td><td>5</td></tr>",
                            "<tr><td>zsuzsa</td><td>Személyes átvétel</td><td>3</td></tr>",
                            "<tr><td>zsuzsa</td><td>NULL</td><td>16</td></tr>",
                            "<tr><td>zsuzsa3</td><td>GLS</td><td>5</td></tr>",
                            "<tr><td>zsuzsa3</td><td>Posta</td><td>5</td></tr>",
                            "<tr><td>zsuzsa3</td><td>Személyes átvétel</td><td>6</td></tr>",
                            "<tr><td>zsuzsa3</td><td>NULL</td><td>16</td></tr>",
                            "<tr><td>zsuzsanna</td><td>GLS</td><td>7</td></tr>",
                            "<tr><td>zsuzsanna</td><td>Posta</td><td>5</td></tr>",
                            "<tr><td>zsuzsanna</td><td>Személyes átvétel</td><td>3</td></tr>",
                            "<tr><td>zsuzsanna</td><td>NULL</td><td>15</td></tr>",
                            "<tr><td>ZSUZSAV</td><td>GLS</td><td>139</td></tr>",
                            "<tr><td>ZSUZSAV</td><td>Posta</td><td>139</td></tr>",
                            "<tr><td>ZSUZSAV</td><td>Személyes átvétel</td><td>142</td></tr>",
                            "<tr><td>ZSUZSAV</td><td>NULL</td><td>420</td></tr>",
                            "<tr><td>NULL</td><td>NULL</td><td>28085</td></tr>",
                            "</table>"
                        ]
                    }
                }
            ],
            "execution_count": 38
        },
        {
            "cell_type": "markdown",
            "source": [
                "2. <span style=\"background-color: rgb(255, 255, 255); color: rgb(0, 0, 0); font-family: &quot;Open Sans&quot;, sans-serif; font-size: 14.44px;\">Készítsünk listát a termékek számáról a következő csoportosítási szempontok szerint:<br>kategória azonosító, raktárkód, raktárkód+mennyiségi egység!</span>\n",
                "\n",
                "a. A listát szűrjük azokra a csoportokra, ahol a termékek száma legalább 6!"
            ],
            "metadata": {
                "azdata_cell_guid": "ea75c103-911f-41a3-a32c-3d40fb3e4e4a"
            },
            "attachments": {}
        },
        {
            "cell_type": "code",
            "source": [
                "select KAT_ID, RAKTAR_KOD, MEGYS, count(*)\r\n",
                "from TERMEK\r\n",
                "group by grouping sets(KAT_ID, RAKTAR_KOD, (RAKTAR_KOD, MEGYS))\r\n",
                "having count(KESZLET) >= 6"
            ],
            "metadata": {
                "azdata_cell_guid": "222b9618-a8e8-42b4-a8e8-d002257122b7",
                "language": "sql"
            },
            "outputs": [
                {
                    "output_type": "display_data",
                    "data": {
                        "text/html": "(49 rows affected)"
                    },
                    "metadata": {}
                },
                {
                    "output_type": "display_data",
                    "data": {
                        "text/html": "Total execution time: 00:00:00.013"
                    },
                    "metadata": {}
                },
                {
                    "output_type": "execute_result",
                    "metadata": {},
                    "execution_count": 44,
                    "data": {
                        "application/vnd.dataresource+json": {
                            "schema": {
                                "fields": [
                                    {
                                        "name": "KAT_ID"
                                    },
                                    {
                                        "name": "RAKTAR_KOD"
                                    },
                                    {
                                        "name": "MEGYS"
                                    },
                                    {
                                        "name": "(No column name)"
                                    }
                                ]
                            },
                            "data": [
                                {
                                    "KAT_ID": "NULL",
                                    "RAKTAR_KOD": "1",
                                    "MEGYS": "db",
                                    "(No column name)": "11"
                                },
                                {
                                    "KAT_ID": "NULL",
                                    "RAKTAR_KOD": "1",
                                    "MEGYS": "NULL",
                                    "(No column name)": "11"
                                },
                                {
                                    "KAT_ID": "NULL",
                                    "RAKTAR_KOD": "3",
                                    "MEGYS": "db",
                                    "(No column name)": "14"
                                },
                                {
                                    "KAT_ID": "NULL",
                                    "RAKTAR_KOD": "3",
                                    "MEGYS": "NULL",
                                    "(No column name)": "14"
                                },
                                {
                                    "KAT_ID": "NULL",
                                    "RAKTAR_KOD": "5",
                                    "MEGYS": "csomag",
                                    "(No column name)": "7"
                                },
                                {
                                    "KAT_ID": "NULL",
                                    "RAKTAR_KOD": "5",
                                    "MEGYS": "db",
                                    "(No column name)": "72"
                                },
                                {
                                    "KAT_ID": "NULL",
                                    "RAKTAR_KOD": "5",
                                    "MEGYS": "NULL",
                                    "(No column name)": "86"
                                },
                                {
                                    "KAT_ID": "NULL",
                                    "RAKTAR_KOD": "6",
                                    "MEGYS": "csomag",
                                    "(No column name)": "9"
                                },
                                {
                                    "KAT_ID": "NULL",
                                    "RAKTAR_KOD": "6",
                                    "MEGYS": "db",
                                    "(No column name)": "94"
                                },
                                {
                                    "KAT_ID": "NULL",
                                    "RAKTAR_KOD": "6",
                                    "MEGYS": "NULL",
                                    "(No column name)": "106"
                                },
                                {
                                    "KAT_ID": "NULL",
                                    "RAKTAR_KOD": "7",
                                    "MEGYS": "csomag",
                                    "(No column name)": "9"
                                },
                                {
                                    "KAT_ID": "NULL",
                                    "RAKTAR_KOD": "7",
                                    "MEGYS": "db",
                                    "(No column name)": "88"
                                },
                                {
                                    "KAT_ID": "NULL",
                                    "RAKTAR_KOD": "7",
                                    "MEGYS": "NULL",
                                    "(No column name)": "100"
                                },
                                {
                                    "KAT_ID": "NULL",
                                    "RAKTAR_KOD": "8",
                                    "MEGYS": "csomag",
                                    "(No column name)": "8"
                                },
                                {
                                    "KAT_ID": "NULL",
                                    "RAKTAR_KOD": "8",
                                    "MEGYS": "db",
                                    "(No column name)": "109"
                                },
                                {
                                    "KAT_ID": "NULL",
                                    "RAKTAR_KOD": "8",
                                    "MEGYS": "ív",
                                    "(No column name)": "6"
                                },
                                {
                                    "KAT_ID": "NULL",
                                    "RAKTAR_KOD": "8",
                                    "MEGYS": "NULL",
                                    "(No column name)": "123"
                                },
                                {
                                    "KAT_ID": "NULL",
                                    "RAKTAR_KOD": "9",
                                    "MEGYS": "csomag",
                                    "(No column name)": "11"
                                },
                                {
                                    "KAT_ID": "NULL",
                                    "RAKTAR_KOD": "9",
                                    "MEGYS": "db",
                                    "(No column name)": "86"
                                },
                                {
                                    "KAT_ID": "NULL",
                                    "RAKTAR_KOD": "9",
                                    "MEGYS": "NULL",
                                    "(No column name)": "102"
                                },
                                {
                                    "KAT_ID": "4",
                                    "RAKTAR_KOD": "NULL",
                                    "MEGYS": "NULL",
                                    "(No column name)": "15"
                                },
                                {
                                    "KAT_ID": "6",
                                    "RAKTAR_KOD": "NULL",
                                    "MEGYS": "NULL",
                                    "(No column name)": "20"
                                },
                                {
                                    "KAT_ID": "16",
                                    "RAKTAR_KOD": "NULL",
                                    "MEGYS": "NULL",
                                    "(No column name)": "7"
                                },
                                {
                                    "KAT_ID": "19",
                                    "RAKTAR_KOD": "NULL",
                                    "MEGYS": "NULL",
                                    "(No column name)": "19"
                                },
                                {
                                    "KAT_ID": "24",
                                    "RAKTAR_KOD": "NULL",
                                    "MEGYS": "NULL",
                                    "(No column name)": "7"
                                },
                                {
                                    "KAT_ID": "30",
                                    "RAKTAR_KOD": "NULL",
                                    "MEGYS": "NULL",
                                    "(No column name)": "7"
                                },
                                {
                                    "KAT_ID": "35",
                                    "RAKTAR_KOD": "NULL",
                                    "MEGYS": "NULL",
                                    "(No column name)": "7"
                                },
                                {
                                    "KAT_ID": "41",
                                    "RAKTAR_KOD": "NULL",
                                    "MEGYS": "NULL",
                                    "(No column name)": "13"
                                },
                                {
                                    "KAT_ID": "45",
                                    "RAKTAR_KOD": "NULL",
                                    "MEGYS": "NULL",
                                    "(No column name)": "11"
                                },
                                {
                                    "KAT_ID": "46",
                                    "RAKTAR_KOD": "NULL",
                                    "MEGYS": "NULL",
                                    "(No column name)": "7"
                                },
                                {
                                    "KAT_ID": "52",
                                    "RAKTAR_KOD": "NULL",
                                    "MEGYS": "NULL",
                                    "(No column name)": "26"
                                },
                                {
                                    "KAT_ID": "54",
                                    "RAKTAR_KOD": "NULL",
                                    "MEGYS": "NULL",
                                    "(No column name)": "6"
                                },
                                {
                                    "KAT_ID": "66",
                                    "RAKTAR_KOD": "NULL",
                                    "MEGYS": "NULL",
                                    "(No column name)": "7"
                                },
                                {
                                    "KAT_ID": "78",
                                    "RAKTAR_KOD": "NULL",
                                    "MEGYS": "NULL",
                                    "(No column name)": "24"
                                },
                                {
                                    "KAT_ID": "83",
                                    "RAKTAR_KOD": "NULL",
                                    "MEGYS": "NULL",
                                    "(No column name)": "6"
                                },
                                {
                                    "KAT_ID": "85",
                                    "RAKTAR_KOD": "NULL",
                                    "MEGYS": "NULL",
                                    "(No column name)": "16"
                                },
                                {
                                    "KAT_ID": "91",
                                    "RAKTAR_KOD": "NULL",
                                    "MEGYS": "NULL",
                                    "(No column name)": "7"
                                },
                                {
                                    "KAT_ID": "93",
                                    "RAKTAR_KOD": "NULL",
                                    "MEGYS": "NULL",
                                    "(No column name)": "7"
                                },
                                {
                                    "KAT_ID": "96",
                                    "RAKTAR_KOD": "NULL",
                                    "MEGYS": "NULL",
                                    "(No column name)": "9"
                                },
                                {
                                    "KAT_ID": "97",
                                    "RAKTAR_KOD": "NULL",
                                    "MEGYS": "NULL",
                                    "(No column name)": "10"
                                },
                                {
                                    "KAT_ID": "100",
                                    "RAKTAR_KOD": "NULL",
                                    "MEGYS": "NULL",
                                    "(No column name)": "9"
                                },
                                {
                                    "KAT_ID": "118",
                                    "RAKTAR_KOD": "NULL",
                                    "MEGYS": "NULL",
                                    "(No column name)": "9"
                                },
                                {
                                    "KAT_ID": "122",
                                    "RAKTAR_KOD": "NULL",
                                    "MEGYS": "NULL",
                                    "(No column name)": "7"
                                },
                                {
                                    "KAT_ID": "124",
                                    "RAKTAR_KOD": "NULL",
                                    "MEGYS": "NULL",
                                    "(No column name)": "10"
                                },
                                {
                                    "KAT_ID": "133",
                                    "RAKTAR_KOD": "NULL",
                                    "MEGYS": "NULL",
                                    "(No column name)": "6"
                                },
                                {
                                    "KAT_ID": "145",
                                    "RAKTAR_KOD": "NULL",
                                    "MEGYS": "NULL",
                                    "(No column name)": "18"
                                },
                                {
                                    "KAT_ID": "146",
                                    "RAKTAR_KOD": "NULL",
                                    "MEGYS": "NULL",
                                    "(No column name)": "7"
                                },
                                {
                                    "KAT_ID": "149",
                                    "RAKTAR_KOD": "NULL",
                                    "MEGYS": "NULL",
                                    "(No column name)": "6"
                                },
                                {
                                    "KAT_ID": "152",
                                    "RAKTAR_KOD": "NULL",
                                    "MEGYS": "NULL",
                                    "(No column name)": "6"
                                }
                            ]
                        },
                        "text/html": [
                            "<table>",
                            "<tr><th>KAT_ID</th><th>RAKTAR_KOD</th><th>MEGYS</th><th>(No column name)</th></tr>",
                            "<tr><td>NULL</td><td>1</td><td>db</td><td>11</td></tr>",
                            "<tr><td>NULL</td><td>1</td><td>NULL</td><td>11</td></tr>",
                            "<tr><td>NULL</td><td>3</td><td>db</td><td>14</td></tr>",
                            "<tr><td>NULL</td><td>3</td><td>NULL</td><td>14</td></tr>",
                            "<tr><td>NULL</td><td>5</td><td>csomag</td><td>7</td></tr>",
                            "<tr><td>NULL</td><td>5</td><td>db</td><td>72</td></tr>",
                            "<tr><td>NULL</td><td>5</td><td>NULL</td><td>86</td></tr>",
                            "<tr><td>NULL</td><td>6</td><td>csomag</td><td>9</td></tr>",
                            "<tr><td>NULL</td><td>6</td><td>db</td><td>94</td></tr>",
                            "<tr><td>NULL</td><td>6</td><td>NULL</td><td>106</td></tr>",
                            "<tr><td>NULL</td><td>7</td><td>csomag</td><td>9</td></tr>",
                            "<tr><td>NULL</td><td>7</td><td>db</td><td>88</td></tr>",
                            "<tr><td>NULL</td><td>7</td><td>NULL</td><td>100</td></tr>",
                            "<tr><td>NULL</td><td>8</td><td>csomag</td><td>8</td></tr>",
                            "<tr><td>NULL</td><td>8</td><td>db</td><td>109</td></tr>",
                            "<tr><td>NULL</td><td>8</td><td>ív</td><td>6</td></tr>",
                            "<tr><td>NULL</td><td>8</td><td>NULL</td><td>123</td></tr>",
                            "<tr><td>NULL</td><td>9</td><td>csomag</td><td>11</td></tr>",
                            "<tr><td>NULL</td><td>9</td><td>db</td><td>86</td></tr>",
                            "<tr><td>NULL</td><td>9</td><td>NULL</td><td>102</td></tr>",
                            "<tr><td>4</td><td>NULL</td><td>NULL</td><td>15</td></tr>",
                            "<tr><td>6</td><td>NULL</td><td>NULL</td><td>20</td></tr>",
                            "<tr><td>16</td><td>NULL</td><td>NULL</td><td>7</td></tr>",
                            "<tr><td>19</td><td>NULL</td><td>NULL</td><td>19</td></tr>",
                            "<tr><td>24</td><td>NULL</td><td>NULL</td><td>7</td></tr>",
                            "<tr><td>30</td><td>NULL</td><td>NULL</td><td>7</td></tr>",
                            "<tr><td>35</td><td>NULL</td><td>NULL</td><td>7</td></tr>",
                            "<tr><td>41</td><td>NULL</td><td>NULL</td><td>13</td></tr>",
                            "<tr><td>45</td><td>NULL</td><td>NULL</td><td>11</td></tr>",
                            "<tr><td>46</td><td>NULL</td><td>NULL</td><td>7</td></tr>",
                            "<tr><td>52</td><td>NULL</td><td>NULL</td><td>26</td></tr>",
                            "<tr><td>54</td><td>NULL</td><td>NULL</td><td>6</td></tr>",
                            "<tr><td>66</td><td>NULL</td><td>NULL</td><td>7</td></tr>",
                            "<tr><td>78</td><td>NULL</td><td>NULL</td><td>24</td></tr>",
                            "<tr><td>83</td><td>NULL</td><td>NULL</td><td>6</td></tr>",
                            "<tr><td>85</td><td>NULL</td><td>NULL</td><td>16</td></tr>",
                            "<tr><td>91</td><td>NULL</td><td>NULL</td><td>7</td></tr>",
                            "<tr><td>93</td><td>NULL</td><td>NULL</td><td>7</td></tr>",
                            "<tr><td>96</td><td>NULL</td><td>NULL</td><td>9</td></tr>",
                            "<tr><td>97</td><td>NULL</td><td>NULL</td><td>10</td></tr>",
                            "<tr><td>100</td><td>NULL</td><td>NULL</td><td>9</td></tr>",
                            "<tr><td>118</td><td>NULL</td><td>NULL</td><td>9</td></tr>",
                            "<tr><td>122</td><td>NULL</td><td>NULL</td><td>7</td></tr>",
                            "<tr><td>124</td><td>NULL</td><td>NULL</td><td>10</td></tr>",
                            "<tr><td>133</td><td>NULL</td><td>NULL</td><td>6</td></tr>",
                            "<tr><td>145</td><td>NULL</td><td>NULL</td><td>18</td></tr>",
                            "<tr><td>146</td><td>NULL</td><td>NULL</td><td>7</td></tr>",
                            "<tr><td>149</td><td>NULL</td><td>NULL</td><td>6</td></tr>",
                            "<tr><td>152</td><td>NULL</td><td>NULL</td><td>6</td></tr>",
                            "</table>"
                        ]
                    }
                }
            ],
            "execution_count": 44
        },
        {
            "cell_type": "markdown",
            "source": [
                "```\n",
                "3. Készítsünk listát az egyes termékkategóriákban lévő termékek számáról! \n",
                "\n",
                "```\n",
                "\n",
                "a. Elég megjeleníteni a kategóriák azonosítóit és a darabszámokat!   \n",
                "<span style=\"color: var(--vscode-foreground);\">b. A lista megfelelően jelölve tartalmazza a végösszeget is!&nbsp;<br></span> <span style=\"color: var(--vscode-foreground);\">c. Az oszlopokat nevezzük el értelemszerűen!&nbsp;<br></span> <span style=\"color: var(--vscode-foreground);\">d. A listát rendezzük a darabszám szerint növekvő sorrendbe!</span>\n",
                "\n",
                "  \n",
                "\n",
                "![](https://moodle.uni-corvinus.hu/theme/image.php/adaptable/atto_h5p/1709548862/icon)"
            ],
            "metadata": {
                "azdata_cell_guid": "d7876bb9-76d0-4d07-baed-3cb17b2f96c3"
            },
            "attachments": {}
        },
        {
            "cell_type": "code",
            "source": [
                "select IIF(GROUPING_ID(KAT_ID) = 1,'Végösszeg', CAST(KAT_ID as nvarchar(10))),\r\n",
                "count(*) as 'Termékek száma'\r\n",
                "from TERMEK\r\n",
                "group by rollup(KAT_ID) \r\n",
                "order by count(*)"
            ],
            "metadata": {
                "azdata_cell_guid": "56ec19ce-e249-4551-b2a8-f17569765acc",
                "language": "sql"
            },
            "outputs": [
{
    "output_type": "display_data",
    "data": {
        "text/html": "(144 rows affected)"
    },
    "metadata": {}
}, {
    "output_type": "display_data",
    "data": {
        "text/html": "Total execution time: 00:00:00.024"
    },
    "metadata": {}
}, {
    "output_type": "execute_result",
    "metadata": {},
    "execution_count": 53,
    "data": {
        "application/vnd.dataresource+json": {
            "schema": {
                "fields": [
                    {
                        "name": "(No column name)"
                    },
                    {
                        "name": "Termékek száma"
                    }
                ]
            },
            "data": [
                {
                    "(No column name)": "10",
                    "Termékek száma": "1"
                },
                {
                    "(No column name)": "11",
                    "Termékek száma": "1"
                },
                {
                    "(No column name)": "12",
                    "Termékek száma": "1"
                },
                {
                    "(No column name)": "15",
                    "Termékek száma": "1"
                },
                {
                    "(No column name)": "17",
                    "Termékek száma": "1"
                },
                {
                    "(No column name)": "26",
                    "Termékek száma": "1"
                },
                {
                    "(No column name)": "29",
                    "Termékek száma": "1"
                },
                {
                    "(No column name)": "31",
                    "Termékek száma": "1"
                },
                {
                    "(No column name)": "33",
                    "Termékek száma": "1"
                },
                {
                    "(No column name)": "34",
                    "Termékek száma": "1"
                },
                {
                    "(No column name)": "37",
                    "Termékek száma": "1"
                },
                {
                    "(No column name)": "38",
                    "Termékek száma": "1"
                },
                {
                    "(No column name)": "40",
                    "Termékek száma": "1"
                },
                {
                    "(No column name)": "42",
                    "Termékek száma": "1"
                },
                {
                    "(No column name)": "44",
                    "Termékek száma": "1"
                },
                {
                    "(No column name)": "50",
                    "Termékek száma": "1"
                },
                {
                    "(No column name)": "53",
                    "Termékek száma": "1"
                },
                {
                    "(No column name)": "61",
                    "Termékek száma": "1"
                },
                {
                    "(No column name)": "74",
                    "Termékek száma": "1"
                },
                {
                    "(No column name)": "80",
                    "Termékek száma": "1"
                },
                {
                    "(No column name)": "82",
                    "Termékek száma": "1"
                },
                {
                    "(No column name)": "84",
                    "Termékek száma": "1"
                },
                {
                    "(No column name)": "86",
                    "Termékek száma": "1"
                },
                {
                    "(No column name)": "99",
                    "Termékek száma": "1"
                },
                {
                    "(No column name)": "101",
                    "Termékek száma": "1"
                },
                {
                    "(No column name)": "103",
                    "Termékek száma": "1"
                },
                {
                    "(No column name)": "105",
                    "Termékek száma": "1"
                },
                {
                    "(No column name)": "107",
                    "Termékek száma": "1"
                },
                {
                    "(No column name)": "108",
                    "Termékek száma": "1"
                },
                {
                    "(No column name)": "109",
                    "Termékek száma": "1"
                },
                {
                    "(No column name)": "114",
                    "Termékek száma": "1"
                },
                {
                    "(No column name)": "115",
                    "Termékek száma": "1"
                },
                {
                    "(No column name)": "126",
                    "Termékek száma": "1"
                },
                {
                    "(No column name)": "130",
                    "Termékek száma": "1"
                },
                {
                    "(No column name)": "131",
                    "Termékek száma": "1"
                },
                {
                    "(No column name)": "132",
                    "Termékek száma": "1"
                },
                {
                    "(No column name)": "135",
                    "Termékek száma": "1"
                },
                {
                    "(No column name)": "139",
                    "Termékek száma": "1"
                },
                {
                    "(No column name)": "140",
                    "Termékek száma": "1"
                },
                {
                    "(No column name)": "142",
                    "Termékek száma": "1"
                },
                {
                    "(No column name)": "147",
                    "Termékek száma": "1"
                },
                {
                    "(No column name)": "148",
                    "Termékek száma": "1"
                },
                {
                    "(No column name)": "153",
                    "Termékek száma": "1"
                },
                {
                    "(No column name)": "155",
                    "Termékek száma": "1"
                },
                {
                    "(No column name)": "150",
                    "Termékek száma": "2"
                },
                {
                    "(No column name)": "144",
                    "Termékek száma": "2"
                },
                {
                    "(No column name)": "141",
                    "Termékek száma": "2"
                },
                {
                    "(No column name)": "136",
                    "Termékek száma": "2"
                },
                {
                    "(No column name)": "123",
                    "Termékek száma": "2"
                },
                {
                    "(No column name)": "134",
                    "Termékek száma": "2"
                },
                {
                    "(No column name)": "127",
                    "Termékek száma": "2"
                },
                {
                    "(No column name)": "128",
                    "Termékek száma": "2"
                },
                {
                    "(No column name)": "129",
                    "Termékek száma": "2"
                },
                {
                    "(No column name)": "116",
                    "Termékek száma": "2"
                },
                {
                    "(No column name)": "117",
                    "Termékek száma": "2"
                },
                {
                    "(No column name)": "112",
                    "Termékek száma": "2"
                },
                {
                    "(No column name)": "121",
                    "Termékek száma": "2"
                },
                {
                    "(No column name)": "110",
                    "Termékek száma": "2"
                },
                {
                    "(No column name)": "104",
                    "Termékek száma": "2"
                },
                {
                    "(No column name)": "94",
                    "Termékek száma": "2"
                },
                {
                    "(No column name)": "95",
                    "Termékek száma": "2"
                },
                {
                    "(No column name)": "88",
                    "Termékek száma": "2"
                },
                {
                    "(No column name)": "90",
                    "Termékek száma": "2"
                },
                {
                    "(No column name)": "92",
                    "Termékek száma": "2"
                },
                {
                    "(No column name)": "71",
                    "Termékek száma": "2"
                },
                {
                    "(No column name)": "72",
                    "Termékek száma": "2"
                },
                {
                    "(No column name)": "73",
                    "Termékek száma": "2"
                },
                {
                    "(No column name)": "75",
                    "Termékek száma": "2"
                },
                {
                    "(No column name)": "62",
                    "Termékek száma": "2"
                },
                {
                    "(No column name)": "55",
                    "Termékek száma": "2"
                },
                {
                    "(No column name)": "65",
                    "Termékek száma": "2"
                },
                {
                    "(No column name)": "67",
                    "Termékek száma": "2"
                },
                {
                    "(No column name)": "68",
                    "Termékek száma": "2"
                },
                {
                    "(No column name)": "57",
                    "Termékek száma": "2"
                },
                {
                    "(No column name)": "48",
                    "Termékek száma": "2"
                },
                {
                    "(No column name)": "49",
                    "Termékek száma": "2"
                },
                {
                    "(No column name)": "39",
                    "Termékek száma": "2"
                },
                {
                    "(No column name)": "22",
                    "Termékek száma": "2"
                },
                {
                    "(No column name)": "18",
                    "Termékek száma": "2"
                },
                {
                    "(No column name)": "9",
                    "Termékek száma": "2"
                },
                {
                    "(No column name)": "13",
                    "Termékek száma": "2"
                },
                {
                    "(No column name)": "5",
                    "Termékek száma": "3"
                },
                {
                    "(No column name)": "7",
                    "Termékek száma": "3"
                },
                {
                    "(No column name)": "8",
                    "Termékek száma": "3"
                },
                {
                    "(No column name)": "20",
                    "Termékek száma": "3"
                },
                {
                    "(No column name)": "27",
                    "Termékek száma": "3"
                },
                {
                    "(No column name)": "32",
                    "Termékek száma": "3"
                },
                {
                    "(No column name)": "43",
                    "Termékek száma": "3"
                },
                {
                    "(No column name)": "58",
                    "Termékek száma": "3"
                },
                {
                    "(No column name)": "51",
                    "Termékek száma": "3"
                },
                {
                    "(No column name)": "70",
                    "Termékek száma": "3"
                },
                {
                    "(No column name)": "89",
                    "Termékek száma": "3"
                },
                {
                    "(No column name)": "111",
                    "Termékek száma": "3"
                },
                {
                    "(No column name)": "119",
                    "Termékek száma": "3"
                },
                {
                    "(No column name)": "137",
                    "Termékek száma": "3"
                },
                {
                    "(No column name)": "143",
                    "Termékek száma": "3"
                },
                {
                    "(No column name)": "151",
                    "Termékek száma": "4"
                },
                {
                    "(No column name)": "154",
                    "Termékek száma": "4"
                },
                {
                    "(No column name)": "125",
                    "Termékek száma": "4"
                },
                {
                    "(No column name)": "79",
                    "Termékek száma": "4"
                },
                {
                    "(No column name)": "98",
                    "Termékek száma": "4"
                },
                {
                    "(No column name)": "56",
                    "Termékek száma": "4"
                },
                {
                    "(No column name)": "64",
                    "Termékek száma": "4"
                },
                {
                    "(No column name)": "59",
                    "Termékek száma": "4"
                },
                {
                    "(No column name)": "47",
                    "Termékek száma": "4"
                },
                {
                    "(No column name)": "25",
                    "Termékek száma": "4"
                },
                {
                    "(No column name)": "14",
                    "Termékek száma": "4"
                },
                {
                    "(No column name)": "21",
                    "Termékek száma": "5"
                },
                {
                    "(No column name)": "36",
                    "Termékek száma": "5"
                },
                {
                    "(No column name)": "28",
                    "Termékek száma": "5"
                },
                {
                    "(No column name)": "60",
                    "Termékek száma": "5"
                },
                {
                    "(No column name)": "76",
                    "Termékek száma": "5"
                },
                {
                    "(No column name)": "106",
                    "Termékek száma": "5"
                },
                {
                    "(No column name)": "138",
                    "Termékek száma": "5"
                },
                {
                    "(No column name)": "133",
                    "Termékek száma": "6"
                },
                {
                    "(No column name)": "152",
                    "Termékek száma": "6"
                },
                {
                    "(No column name)": "149",
                    "Termékek száma": "6"
                },
                {
                    "(No column name)": "83",
                    "Termékek száma": "6"
                },
                {
                    "(No column name)": "54",
                    "Termékek száma": "6"
                },
                {
                    "(No column name)": "46",
                    "Termékek száma": "7"
                },
                {
                    "(No column name)": "66",
                    "Termékek száma": "7"
                },
                {
                    "(No column name)": "24",
                    "Termékek száma": "7"
                },
                {
                    "(No column name)": "30",
                    "Termékek száma": "7"
                },
                {
                    "(No column name)": "35",
                    "Termékek száma": "7"
                },
                {
                    "(No column name)": "16",
                    "Termékek száma": "7"
                },
                {
                    "(No column name)": "146",
                    "Termékek száma": "7"
                },
                {
                    "(No column name)": "122",
                    "Termékek száma": "7"
                },
                {
                    "(No column name)": "93",
                    "Termékek száma": "7"
                },
                {
                    "(No column name)": "91",
                    "Termékek száma": "7"
                },
                {
                    "(No column name)": "100",
                    "Termékek száma": "9"
                },
                {
                    "(No column name)": "96",
                    "Termékek száma": "9"
                },
                {
                    "(No column name)": "118",
                    "Termékek száma": "9"
                },
                {
                    "(No column name)": "97",
                    "Termékek száma": "10"
                },
                {
                    "(No column name)": "124",
                    "Termékek száma": "10"
                },
                {
                    "(No column name)": "45",
                    "Termékek száma": "11"
                },
                {
                    "(No column name)": "41",
                    "Termékek száma": "13"
                },
                {
                    "(No column name)": "4",
                    "Termékek száma": "15"
                },
                {
                    "(No column name)": "85",
                    "Termékek száma": "16"
                },
                {
                    "(No column name)": "145",
                    "Termékek száma": "18"
                },
                {
                    "(No column name)": "19",
                    "Termékek száma": "19"
                },
                {
                    "(No column name)": "6",
                    "Termékek száma": "20"
                },
                {
                    "(No column name)": "78",
                    "Termékek száma": "24"
                },
                {
                    "(No column name)": "52",
                    "Termékek száma": "26"
                },
                {
                    "(No column name)": "Végösszeg",
                    "Termékek száma": "551"
                }
            ]
        },
        "text/html": [
            "<table>",
            "<tr><th>(No column name)</th><th>Termékek száma</th></tr>",
            "<tr><td>10</td><td>1</td></tr>",
            "<tr><td>11</td><td>1</td></tr>",
            "<tr><td>12</td><td>1</td></tr>",
            "<tr><td>15</td><td>1</td></tr>",
            "<tr><td>17</td><td>1</td></tr>",
            "<tr><td>26</td><td>1</td></tr>",
            "<tr><td>29</td><td>1</td></tr>",
            "<tr><td>31</td><td>1</td></tr>",
            "<tr><td>33</td><td>1</td></tr>",
            "<tr><td>34</td><td>1</td></tr>",
            "<tr><td>37</td><td>1</td></tr>",
            "<tr><td>38</td><td>1</td></tr>",
            "<tr><td>40</td><td>1</td></tr>",
            "<tr><td>42</td><td>1</td></tr>",
            "<tr><td>44</td><td>1</td></tr>",
            "<tr><td>50</td><td>1</td></tr>",
            "<tr><td>53</td><td>1</td></tr>",
            "<tr><td>61</td><td>1</td></tr>",
            "<tr><td>74</td><td>1</td></tr>",
            "<tr><td>80</td><td>1</td></tr>",
            "<tr><td>82</td><td>1</td></tr>",
            "<tr><td>84</td><td>1</td></tr>",
            "<tr><td>86</td><td>1</td></tr>",
            "<tr><td>99</td><td>1</td></tr>",
            "<tr><td>101</td><td>1</td></tr>",
            "<tr><td>103</td><td>1</td></tr>",
            "<tr><td>105</td><td>1</td></tr>",
            "<tr><td>107</td><td>1</td></tr>",
            "<tr><td>108</td><td>1</td></tr>",
            "<tr><td>109</td><td>1</td></tr>",
            "<tr><td>114</td><td>1</td></tr>",
            "<tr><td>115</td><td>1</td></tr>",
            "<tr><td>126</td><td>1</td></tr>",
            "<tr><td>130</td><td>1</td></tr>",
            "<tr><td>131</td><td>1</td></tr>",
            "<tr><td>132</td><td>1</td></tr>",
            "<tr><td>135</td><td>1</td></tr>",
            "<tr><td>139</td><td>1</td></tr>",
            "<tr><td>140</td><td>1</td></tr>",
            "<tr><td>142</td><td>1</td></tr>",
            "<tr><td>147</td><td>1</td></tr>",
            "<tr><td>148</td><td>1</td></tr>",
            "<tr><td>153</td><td>1</td></tr>",
            "<tr><td>155</td><td>1</td></tr>",
            "<tr><td>150</td><td>2</td></tr>",
            "<tr><td>144</td><td>2</td></tr>",
            "<tr><td>141</td><td>2</td></tr>",
            "<tr><td>136</td><td>2</td></tr>",
            "<tr><td>123</td><td>2</td></tr>",
            "<tr><td>134</td><td>2</td></tr>",
            "<tr><td>127</td><td>2</td></tr>",
            "<tr><td>128</td><td>2</td></tr>",
            "<tr><td>129</td><td>2</td></tr>",
            "<tr><td>116</td><td>2</td></tr>",
            "<tr><td>117</td><td>2</td></tr>",
            "<tr><td>112</td><td>2</td></tr>",
            "<tr><td>121</td><td>2</td></tr>",
            "<tr><td>110</td><td>2</td></tr>",
            "<tr><td>104</td><td>2</td></tr>",
            "<tr><td>94</td><td>2</td></tr>",
            "<tr><td>95</td><td>2</td></tr>",
            "<tr><td>88</td><td>2</td></tr>",
            "<tr><td>90</td><td>2</td></tr>",
            "<tr><td>92</td><td>2</td></tr>",
            "<tr><td>71</td><td>2</td></tr>",
            "<tr><td>72</td><td>2</td></tr>",
            "<tr><td>73</td><td>2</td></tr>",
            "<tr><td>75</td><td>2</td></tr>",
            "<tr><td>62</td><td>2</td></tr>",
            "<tr><td>55</td><td>2</td></tr>",
            "<tr><td>65</td><td>2</td></tr>",
            "<tr><td>67</td><td>2</td></tr>",
            "<tr><td>68</td><td>2</td></tr>",
            "<tr><td>57</td><td>2</td></tr>",
            "<tr><td>48</td><td>2</td></tr>",
            "<tr><td>49</td><td>2</td></tr>",
            "<tr><td>39</td><td>2</td></tr>",
            "<tr><td>22</td><td>2</td></tr>",
            "<tr><td>18</td><td>2</td></tr>",
            "<tr><td>9</td><td>2</td></tr>",
            "<tr><td>13</td><td>2</td></tr>",
            "<tr><td>5</td><td>3</td></tr>",
            "<tr><td>7</td><td>3</td></tr>",
            "<tr><td>8</td><td>3</td></tr>",
            "<tr><td>20</td><td>3</td></tr>",
            "<tr><td>27</td><td>3</td></tr>",
            "<tr><td>32</td><td>3</td></tr>",
            "<tr><td>43</td><td>3</td></tr>",
            "<tr><td>58</td><td>3</td></tr>",
            "<tr><td>51</td><td>3</td></tr>",
            "<tr><td>70</td><td>3</td></tr>",
            "<tr><td>89</td><td>3</td></tr>",
            "<tr><td>111</td><td>3</td></tr>",
            "<tr><td>119</td><td>3</td></tr>",
            "<tr><td>137</td><td>3</td></tr>",
            "<tr><td>143</td><td>3</td></tr>",
            "<tr><td>151</td><td>4</td></tr>",
            "<tr><td>154</td><td>4</td></tr>",
            "<tr><td>125</td><td>4</td></tr>",
            "<tr><td>79</td><td>4</td></tr>",
            "<tr><td>98</td><td>4</td></tr>",
            "<tr><td>56</td><td>4</td></tr>",
            "<tr><td>64</td><td>4</td></tr>",
            "<tr><td>59</td><td>4</td></tr>",
            "<tr><td>47</td><td>4</td></tr>",
            "<tr><td>25</td><td>4</td></tr>",
            "<tr><td>14</td><td>4</td></tr>",
            "<tr><td>21</td><td>5</td></tr>",
            "<tr><td>36</td><td>5</td></tr>",
            "<tr><td>28</td><td>5</td></tr>",
            "<tr><td>60</td><td>5</td></tr>",
            "<tr><td>76</td><td>5</td></tr>",
            "<tr><td>106</td><td>5</td></tr>",
            "<tr><td>138</td><td>5</td></tr>",
            "<tr><td>133</td><td>6</td></tr>",
            "<tr><td>152</td><td>6</td></tr>",
            "<tr><td>149</td><td>6</td></tr>",
            "<tr><td>83</td><td>6</td></tr>",
            "<tr><td>54</td><td>6</td></tr>",
            "<tr><td>46</td><td>7</td></tr>",
            "<tr><td>66</td><td>7</td></tr>",
            "<tr><td>24</td><td>7</td></tr>",
            "<tr><td>30</td><td>7</td></tr>",
            "<tr><td>35</td><td>7</td></tr>",
            "<tr><td>16</td><td>7</td></tr>",
            "<tr><td>146</td><td>7</td></tr>",
            "<tr><td>122</td><td>7</td></tr>",
            "<tr><td>93</td><td>7</td></tr>",
            "<tr><td>91</td><td>7</td></tr>",
            "<tr><td>100</td><td>9</td></tr>",
            "<tr><td>96</td><td>9</td></tr>",
            "<tr><td>118</td><td>9</td></tr>",
            "<tr><td>97</td><td>10</td></tr>",
            "<tr><td>124</td><td>10</td></tr>",
            "<tr><td>45</td><td>11</td></tr>",
            "<tr><td>41</td><td>13</td></tr>",
            "<tr><td>4</td><td>15</td></tr>",
            "<tr><td>85</td><td>16</td></tr>",
            "<tr><td>145</td><td>18</td></tr>",
            "<tr><td>19</td><td>19</td></tr>",
            "<tr><td>6</td><td>20</td></tr>",
            "<tr><td>78</td><td>24</td></tr>",
            "<tr><td>52</td><td>26</td></tr>",
            "<tr><td>Végösszeg</td><td>551</td></tr>",
            "</table>"
        ]
    }
}
],
            "execution_count": 53
        },
        {
            "cell_type": "markdown",
            "source": [
                "4. <span style=\"background-color: rgb(255, 255, 255); color: rgb(0, 0, 0); font-family: &quot;Open Sans&quot;, sans-serif; font-size: 14.44px;\">Készítsünk listát az ügyfelek számáról születési év szerint, azon belül nem szerinti bontásban!&nbsp;</span> \n",
                "\n",
                "a. A lista megfelelően jelölve tartalmazza a részösszegeket és a végösszeget is!  \n",
                "b. Az oszlopoknak adjunk nevet értelemszerűen!"
            ],
            "metadata": {
                "azdata_cell_guid": "8e7fef82-8022-49a0-8255-fc2846c2134b"
            },
            "attachments": {}
        },
        {
            "cell_type": "code",
            "source": [
                ""
            ],
            "metadata": {
                "azdata_cell_guid": "36f7b396-4a1f-45e5-8720-2302537c91bc",
                "language": "sql"
            },
            "outputs": [],
            "execution_count": null
        },
        {
            "cell_type": "markdown",
            "source": [
                "5. <span style=\"background-color: rgb(255, 255, 255); color: rgb(0, 0, 0); font-family: &quot;Open Sans&quot;, sans-serif; font-size: 14.44px;\">Készítsünk listát a termékek számáról a felvitel hónapja, azon belül napja szerint csoportosítva.&nbsp;</span> \n",
                "\n",
                "a. A lista csak a részösszegeket és a végösszeget tartalmazza!  \n",
                "b. Az oszlopoknak adjunk megfelelő nevet!  \n",
                "c. Ötlet: HAVING + GROUPING\\_ID fv együttes használata"
            ],
            "metadata": {
                "azdata_cell_guid": "84239ca2-6b5e-49f5-9860-d44c11d6de32"
            },
            "attachments": {}
        },
        {
            "cell_type": "code",
            "source": [
                ""
            ],
            "metadata": {
                "azdata_cell_guid": "06d9a62b-9430-424b-a135-d80e675f0eb3",
                "language": "sql"
            },
            "outputs": [],
            "execution_count": null
        }
    ]
}