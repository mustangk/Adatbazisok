{
    "metadata": {
        "kernelspec": {
            "name": "SQL",
            "display_name": "SQL",
            "language": "sql"
        },
        "language_info": {
            "name": "sql",
            "version": ""
        }
    },
    "nbformat_minor": 2,
    "nbformat": 4,
    "cells": [
        {
            "cell_type": "code",
            "source": [
                "select count(*) as 'Foglalások száma'\r\n",
                "from Foglalas\r\n",
                "where year(mettol) = YEAR(meddig) AND\r\n",
                "    month(mettol) <> MONTH(meddig)"
            ],
            "metadata": {
                "azdata_cell_guid": "768b4455-93b9-4bca-8dd2-6142fbc29c6a",
                "language": "sql"
            },
            "outputs": [
                {
                    "output_type": "display_data",
                    "data": {
                        "text/html": "(1 row affected)"
                    },
                    "metadata": {}
                },
                {
                    "output_type": "display_data",
                    "data": {
                        "text/html": "Total execution time: 00:00:00.006"
                    },
                    "metadata": {}
                },
                {
                    "output_type": "execute_result",
                    "metadata": {},
                    "execution_count": 12,
                    "data": {
                        "application/vnd.dataresource+json": {
                            "schema": {
                                "fields": [
                                    {
                                        "name": "Foglalások száma"
                                    }
                                ]
                            },
                            "data": [
                                {
                                    "Foglalások száma": "131"
                                }
                            ]
                        },
                        "text/html": [
                            "<table>",
                            "<tr><th>Foglalások száma</th></tr>",
                            "<tr><td>131</td></tr>",
                            "</table>"
                        ]
                    }
                }
            ],
            "execution_count": 12
        },
        {
            "cell_type": "code",
            "source": [
                "select TIPUS, round(avg(CSILLAGOK_SZAMA),0)\r\n",
                "from szallashely\r\n",
                "where tipus <> 'panzió' \r\n",
                "group by TIPUS\r\n",
                "having round(avg(CSILLAGOK_SZAMA),0)>=3"
            ],
            "metadata": {
                "azdata_cell_guid": "1bf2ea12-cef1-4e2e-b888-30e63b36963e",
                "language": "sql"
            },
            "outputs": [
{
    "output_type": "display_data",
    "data": {
        "text/html": "(1 row affected)"
    },
    "metadata": {}
}, {
    "output_type": "display_data",
    "data": {
        "text/html": "Total execution time: 00:00:00.007"
    },
    "metadata": {}
}, {
    "output_type": "execute_result",
    "metadata": {},
    "execution_count": 28,
    "data": {
        "application/vnd.dataresource+json": {
            "schema": {
                "fields": [
                    {
                        "name": "TIPUS"
                    },
                    {
                        "name": "(No column name)"
                    }
                ]
            },
            "data": [
                {
                    "TIPUS": "Hotel",
                    "(No column name)": "3"
                }
            ]
        },
        "text/html": [
            "<table>",
            "<tr><th>TIPUS</th><th>(No column name)</th></tr>",
            "<tr><td>Hotel</td><td>3</td></tr>",
            "</table>"
        ]
    }
}
],
            "execution_count": 28
        }
    ]
}