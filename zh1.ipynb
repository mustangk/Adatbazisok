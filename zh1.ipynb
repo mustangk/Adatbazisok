{
    "metadata": {
        "kernelspec": {
            "name": "SQL",
            "display_name": "SQL",
            "language": "sql"
        },
        "language_info": {
            "name": "sql",
            "version": ""
        }
    },
    "nbformat_minor": 2,
    "nbformat": 4,
    "cells": [
        {
            "cell_type": "code",
            "source": [
                "select count(*) as 'Foglalások száma'\r\n",
                "from Foglalas\r\n",
                "where year(mettol) = YEAR(meddig) AND\r\n",
                "    month(mettol) <> MONTH(meddig)"
            ],
            "metadata": {
                "azdata_cell_guid": "768b4455-93b9-4bca-8dd2-6142fbc29c6a",
                "language": "sql"
            },
            "outputs": [
{
    "output_type": "display_data",
    "data": {
        "text/html": "(1 row affected)"
    },
    "metadata": {}
}, {
    "output_type": "display_data",
    "data": {
        "text/html": "Total execution time: 00:00:00.006"
    },
    "metadata": {}
}, {
    "output_type": "execute_result",
    "metadata": {},
    "execution_count": 12,
    "data": {
        "application/vnd.dataresource+json": {
            "schema": {
                "fields": [
                    {
                        "name": "Foglalások száma"
                    }
                ]
            },
            "data": [
                {
                    "Foglalások száma": "131"
                }
            ]
        },
        "text/html": [
            "<table>",
            "<tr><th>Foglalások száma</th></tr>",
            "<tr><td>131</td></tr>",
            "</table>"
        ]
    }
}
],
            "execution_count": 12
        }
    ]
}