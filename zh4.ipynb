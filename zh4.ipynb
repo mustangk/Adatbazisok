{
    "metadata": {
        "kernelspec": {
            "name": "SQL",
            "display_name": "SQL",
            "language": "sql"
        },
        "language_info": {
            "name": "sql",
            "version": ""
        }
    },
    "nbformat_minor": 2,
    "nbformat": 4,
    "cells": [
        {
            "cell_type": "markdown",
            "source": [
                "![](data:image/png;base64,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)"
            ],
            "metadata": {
                "azdata_cell_guid": "53f8503f-9c6f-4367-a530-188ce67f69e4"
            },
            "attachments": {}
        },
        {
            "cell_type": "code",
            "source": [
                "select nev, email, usernev\r\n",
                "from Vendeg\r\n",
                "where MONTH(SZUL_DAT) <> 5 AND\r\n",
                "usernev in (select UGYFEL_FK from Foglalas group by UGYFEL_FK having count(*)>1)"
            ],
            "metadata": {
                "azdata_cell_guid": "768b4455-93b9-4bca-8dd2-6142fbc29c6a",
                "language": "sql"
            },
            "outputs": [
                {
                    "output_type": "display_data",
                    "data": {
                        "text/html": "(169 rows affected)"
                    },
                    "metadata": {}
                },
                {
                    "output_type": "display_data",
                    "data": {
                        "text/html": "Total execution time: 00:00:00.015"
                    },
                    "metadata": {}
                },
                {
                    "output_type": "execute_result",
                    "metadata": {},
                    "execution_count": 60,
                    "data": {
                        "application/vnd.dataresource+json": {
                            "schema": {
                                "fields": [
                                    {
                                        "name": "nev"
                                    },
                                    {
                                        "name": "email"
                                    },
                                    {
                                        "name": "usernev"
                                    }
                                ]
                            },
                            "data": [
                                {
                                    "nev": "Kiss Ádám",
                                    "email": "ádám.kiss@mail.hu",
                                    "usernev": "adam1"
                                },
                                {
                                    "nev": "Barkóci Ádám",
                                    "email": "adam3@gmail.com",
                                    "usernev": "adam3"
                                },
                                {
                                    "nev": "Bieniek Ádám",
                                    "email": "ádám.bieniek@mail.hu",
                                    "usernev": "adam4"
                                },
                                {
                                    "nev": "Lengyel Ágnes",
                                    "email": "agnes@gmail.com",
                                    "usernev": "agnes"
                                },
                                {
                                    "nev": "Hartyánszky Ágnes",
                                    "email": "agnes3@gmail.com",
                                    "usernev": "agnes3"
                                },
                                {
                                    "nev": "Horváth Ágnes",
                                    "email": "AGNESH@gmail.com",
                                    "usernev": "AGNESH"
                                },
                                {
                                    "nev": "Kovács Ágnes",
                                    "email": "AGNESK@gmail.com",
                                    "usernev": "AGNESK"
                                },
                                {
                                    "nev": "Bíró Ákos",
                                    "email": "ákos.bíró@mail.hu",
                                    "usernev": "akos"
                                },
                                {
                                    "nev": "Dunai Aladár",
                                    "email": "aladár.dunai@mail.hu",
                                    "usernev": "aladar"
                                },
                                {
                                    "nev": "Bagóczki Alexandra",
                                    "email": "alexandra.bagóczki@mail.hu",
                                    "usernev": "alexandra"
                                },
                                {
                                    "nev": "Tóth András",
                                    "email": "andrás.tóth@mail.hu",
                                    "usernev": "andras2"
                                },
                                {
                                    "nev": "Molnár András",
                                    "email": "andrás.molnár@mail.hu",
                                    "usernev": "andras21"
                                },
                                {
                                    "nev": "Vígh András",
                                    "email": "andrás.vígh@mail.hu",
                                    "usernev": "andras3"
                                },
                                {
                                    "nev": "Back András",
                                    "email": "andras4@gmail.com",
                                    "usernev": "andras4"
                                },
                                {
                                    "nev": "Komjáti András",
                                    "email": "andras41@gmail.com",
                                    "usernev": "andras41"
                                },
                                {
                                    "nev": "Kiss Andrea",
                                    "email": "andrea.kiss@mail.hu",
                                    "usernev": "andrea"
                                },
                                {
                                    "nev": "Tornyos Andrea",
                                    "email": "ANDREAT@gmail.com",
                                    "usernev": "ANDREAT"
                                },
                                {
                                    "nev": "Pivarcsi Anett",
                                    "email": "anett.pivarcsi@mail.hu",
                                    "usernev": "anett3"
                                },
                                {
                                    "nev": "Tóth Anikó",
                                    "email": "aniko@gmail.com",
                                    "usernev": "aniko"
                                },
                                {
                                    "nev": "Böröcz Anikó",
                                    "email": "aniko4@gmail.com",
                                    "usernev": "aniko4"
                                },
                                {
                                    "nev": "Simon Anikó",
                                    "email": "ANIKOS@gmail.com",
                                    "usernev": "ANIKOS"
                                },
                                {
                                    "nev": "Hamvay-Kovács Anita",
                                    "email": "anita.hamvay-kovács@mail.hu",
                                    "usernev": "anita"
                                },
                                {
                                    "nev": "Szűcs Annamária",
                                    "email": "annamária.szűcs@mail.hu",
                                    "usernev": "annamaria1"
                                },
                                {
                                    "nev": "Regős Annamária",
                                    "email": "ANNAMARIAR@gmail.com",
                                    "usernev": "ANNAMARIAR"
                                },
                                {
                                    "nev": "Jakab Áron",
                                    "email": "aron2@gmail.com",
                                    "usernev": "aron2"
                                },
                                {
                                    "nev": "Kelemen Áron",
                                    "email": "áron.kelemen@mail.hu",
                                    "usernev": "ARONK"
                                },
                                {
                                    "nev": "Ötvös Árpád",
                                    "email": "árpád.ötvös@mail.hu",
                                    "usernev": "arpad2"
                                },
                                {
                                    "nev": "Móricz Árpád",
                                    "email": "árpád.móricz@mail.hu",
                                    "usernev": "ARPADM"
                                },
                                {
                                    "nev": "Csóti Attila",
                                    "email": "attila@gmail.com",
                                    "usernev": "attila"
                                },
                                {
                                    "nev": "Gulyás Attila",
                                    "email": "attila.gulyás@mail.hu",
                                    "usernev": "attila1"
                                },
                                {
                                    "nev": "Baróti Attila",
                                    "email": "attila.baróti@mail.hu",
                                    "usernev": "attila4"
                                },
                                {
                                    "nev": "Bozsik Balázs",
                                    "email": "balázs.bozsik@mail.hu",
                                    "usernev": "balazs1"
                                },
                                {
                                    "nev": "Szűcs Balázs",
                                    "email": "balázs.szűcs@mail.hu",
                                    "usernev": "balazs2"
                                },
                                {
                                    "nev": "Bakódy Balázs",
                                    "email": "balazs3@gmail.com",
                                    "usernev": "balazs3"
                                },
                                {
                                    "nev": "Horváth Bálint",
                                    "email": "balint@gmail.com",
                                    "usernev": "balint"
                                },
                                {
                                    "nev": "Molnár Bálint",
                                    "email": "balint1@gmail.com",
                                    "usernev": "balint1"
                                },
                                {
                                    "nev": "Vukasinovity Bálint",
                                    "email": "balint2@gmail.com",
                                    "usernev": "balint2"
                                },
                                {
                                    "nev": "Endresz Bálint",
                                    "email": "bálint.endresz@mail.hu",
                                    "usernev": "balu"
                                },
                                {
                                    "nev": "Bagi Beáta",
                                    "email": "beáta.bagi@mail.hu",
                                    "usernev": "beata4"
                                },
                                {
                                    "nev": "Kerényi Beatrix",
                                    "email": "beatrix.kerényi@mail.hu",
                                    "usernev": "BEATRIXK"
                                },
                                {
                                    "nev": "Szekendi Beatrix",
                                    "email": "beatrix.szekendi@mail.hu",
                                    "usernev": "BEATRIXS"
                                },
                                {
                                    "nev": "Farkas Béla",
                                    "email": "BELAF@gmail.com",
                                    "usernev": "BELAF"
                                },
                                {
                                    "nev": "Győrffy Bence",
                                    "email": "bence@gmail.com",
                                    "usernev": "bence"
                                },
                                {
                                    "nev": "Bajusz Bence",
                                    "email": "bence.bajusz@mail.hu",
                                    "usernev": "BENCEB"
                                },
                                {
                                    "nev": "Simon Bernadett",
                                    "email": "bernadett1@gmail.com",
                                    "usernev": "bernadett1"
                                },
                                {
                                    "nev": "Kovács Bernadett",
                                    "email": "bernadett.kovács@mail.hu",
                                    "usernev": "bernadett2"
                                },
                                {
                                    "nev": "Orbán Bernadett",
                                    "email": "bernadett.orbán@mail.hu",
                                    "usernev": "BERNADETTO"
                                },
                                {
                                    "nev": "Csiger Bertalan",
                                    "email": "bertalan@gmail.com",
                                    "usernev": "bertalan"
                                },
                                {
                                    "nev": "Székely Brigitta",
                                    "email": "brigitta.székely@mail.hu",
                                    "usernev": "brigitta"
                                },
                                {
                                    "nev": "Nagymihály Csongor",
                                    "email": "csongor.nagymihály@mail.hu",
                                    "usernev": "csongor3"
                                },
                                {
                                    "nev": "Vörös Dániel",
                                    "email": "daniel@gmail.com",
                                    "usernev": "dani"
                                },
                                {
                                    "nev": "Rácz Dániel",
                                    "email": "dániel.rácz@mail.hu",
                                    "usernev": "daniel"
                                },
                                {
                                    "nev": "Keszler Dániel",
                                    "email": "dániel.keszler@mail.hu",
                                    "usernev": "daniel1"
                                },
                                {
                                    "nev": "Ambrus Dávid",
                                    "email": "david@gmail.com",
                                    "usernev": "david"
                                },
                                {
                                    "nev": "Sobják Dávid",
                                    "email": "david1@gmail.com",
                                    "usernev": "david1"
                                },
                                {
                                    "nev": "Barna Debóra",
                                    "email": "debóra.barna@mail.hu",
                                    "usernev": "debora"
                                },
                                {
                                    "nev": "Tömböly Dénes",
                                    "email": "denes@gmail.com",
                                    "usernev": "denes"
                                },
                                {
                                    "nev": "Bittmann Edit",
                                    "email": "edit.bittmann@mail.hu",
                                    "usernev": "edit"
                                },
                                {
                                    "nev": "Kuruc Emese",
                                    "email": "emese.kuruc@mail.hu",
                                    "usernev": "emese"
                                },
                                {
                                    "nev": "Balogh Eszter",
                                    "email": "eszter.balogh@mail.hu",
                                    "usernev": "eszter2"
                                },
                                {
                                    "nev": "Fülöp Eszter",
                                    "email": "eszter.fülöp@mail.hu",
                                    "usernev": "eszter4"
                                },
                                {
                                    "nev": "Érsek Eszter",
                                    "email": "eszter.érsek@mail.hu",
                                    "usernev": "ESZTERE"
                                },
                                {
                                    "nev": "Enyedi Éva",
                                    "email": "eva@gmail.com",
                                    "usernev": "eva"
                                },
                                {
                                    "nev": "Perlinger Éva",
                                    "email": "eva2@gmail.com",
                                    "usernev": "eva2"
                                },
                                {
                                    "nev": "Viktor Éva",
                                    "email": "EVAV@gmail.com",
                                    "usernev": "EVAV"
                                },
                                {
                                    "nev": "Orosz Ferenc",
                                    "email": "ferenc.orosz@mail.hu",
                                    "usernev": "ferenc1"
                                },
                                {
                                    "nev": "Frank Fruzsina",
                                    "email": "fruzsina4@gmail.com",
                                    "usernev": "fruzsina4"
                                },
                                {
                                    "nev": "Köves Gábor",
                                    "email": "gabor1@gmail.com",
                                    "usernev": "gabor1"
                                },
                                {
                                    "nev": "Telek Gábor",
                                    "email": "gábor.telek@mail.hu",
                                    "usernev": "gabor4"
                                },
                                {
                                    "nev": "Nagy Gabriella",
                                    "email": "gabriella1@gmail.com",
                                    "usernev": "gabriella1"
                                },
                                {
                                    "nev": "Nyíri Georgij",
                                    "email": "georgij.nyíri@mail.hu",
                                    "usernev": "georgij"
                                },
                                {
                                    "nev": "Bárci Gusztáv",
                                    "email": "gusztav@gmail.com",
                                    "usernev": "gusztav"
                                },
                                {
                                    "nev": "Kornseé Gyöngyi",
                                    "email": "gyöngyi.kornseé@mail.hu",
                                    "usernev": "GYONGYIK"
                                },
                                {
                                    "nev": "Oroszi György",
                                    "email": "GYORGYO@gmail.com",
                                    "usernev": "GYORGYO"
                                },
                                {
                                    "nev": "Nádudvari Henrik",
                                    "email": "henrik.nádudvari@mail.hu",
                                    "usernev": "henrik3"
                                },
                                {
                                    "nev": "Andor Ibolya",
                                    "email": "ibolya.andor@mail.hu",
                                    "usernev": "IBOLYAA"
                                },
                                {
                                    "nev": "Bosnyák Ilona",
                                    "email": "ilona3@gmail.com",
                                    "usernev": "ilona3"
                                },
                                {
                                    "nev": "Búza Imre",
                                    "email": "imre.búza@mail.hu",
                                    "usernev": "imre"
                                },
                                {
                                    "nev": "Papp Imre",
                                    "email": "imre.papp@mail.hu",
                                    "usernev": "imre1"
                                },
                                {
                                    "nev": "Soós István",
                                    "email": "istvan@gmail.com",
                                    "usernev": "istvan"
                                },
                                {
                                    "nev": "Vizi István",
                                    "email": "istván.vizi@mail.hu",
                                    "usernev": "istvan1"
                                },
                                {
                                    "nev": "Varga István",
                                    "email": "ISTVANV@gmail.com",
                                    "usernev": "ISTVANV"
                                },
                                {
                                    "nev": "Harangozó János",
                                    "email": "janos3@gmail.com",
                                    "usernev": "janos3"
                                },
                                {
                                    "nev": "Giliga János",
                                    "email": "JANOSG@gmail.com",
                                    "usernev": "JANOSG"
                                },
                                {
                                    "nev": "Pálinkás János",
                                    "email": "JANOSP@gmail.com",
                                    "usernev": "JANOSP"
                                },
                                {
                                    "nev": "Gergely József",
                                    "email": "jozsef@gmail.com",
                                    "usernev": "jozsef"
                                },
                                {
                                    "nev": "Vajda József",
                                    "email": "józsef.vajda@mail.hu",
                                    "usernev": "jozsef2"
                                },
                                {
                                    "nev": "Hídasi Judit",
                                    "email": "JUDITH@gmail.com",
                                    "usernev": "JUDITH"
                                },
                                {
                                    "nev": "Tóth Júlia",
                                    "email": "julia@gmail.com",
                                    "usernev": "julia"
                                },
                                {
                                    "nev": "Nagy Júlia",
                                    "email": "julia4@gmail.com",
                                    "usernev": "julia4"
                                },
                                {
                                    "nev": "Szabó Julianna",
                                    "email": "julianna4@gmail.com",
                                    "usernev": "julianna4"
                                },
                                {
                                    "nev": "Gondos Katalin",
                                    "email": "katalin.gondos@mail.hu",
                                    "usernev": "kata"
                                },
                                {
                                    "nev": "Horváth Katalin",
                                    "email": "katalin.horváth@mail.hu",
                                    "usernev": "katalin"
                                },
                                {
                                    "nev": "Kertész Katalin",
                                    "email": "katalin4@gmail.com",
                                    "usernev": "katalin4"
                                },
                                {
                                    "nev": "Kovács Katalin",
                                    "email": "katalin.kovács@mail.hu",
                                    "usernev": "katka"
                                },
                                {
                                    "nev": "Bakó Klaudia",
                                    "email": "klaudia.bakó@mail.hu",
                                    "usernev": "klaudia2"
                                },
                                {
                                    "nev": "Lukács Kornél",
                                    "email": "kornél.lukács@mail.hu",
                                    "usernev": "kornel4"
                                },
                                {
                                    "nev": "Poprádi Kristóf",
                                    "email": "kristof4@gmail.com",
                                    "usernev": "kristof4"
                                },
                                {
                                    "nev": "Horváth Krisztina",
                                    "email": "kriszti@gmail.com",
                                    "usernev": "kriszti"
                                },
                                {
                                    "nev": "Czérna Krisztián",
                                    "email": "krisztián.czérna@mail.hu",
                                    "usernev": "krisztian4"
                                },
                                {
                                    "nev": "Bori Krisztina",
                                    "email": "krisztina.bori@mail.hu",
                                    "usernev": "krisztina1"
                                },
                                {
                                    "nev": "Gyárfás Krisztina",
                                    "email": "KRISZTINAG@gmail.com",
                                    "usernev": "KRISZTINAG"
                                },
                                {
                                    "nev": "Kiss Lajos",
                                    "email": "lajos.kiss@mail.hu",
                                    "usernev": "lajos"
                                },
                                {
                                    "nev": "Nagymihály Lajos",
                                    "email": "lajos.nagymihály@mail.hu",
                                    "usernev": "lala"
                                },
                                {
                                    "nev": "Móra László",
                                    "email": "lászló.móra@mail.hu",
                                    "usernev": "laszlo2"
                                },
                                {
                                    "nev": "Antal László",
                                    "email": "lászló.antal@mail.hu",
                                    "usernev": "LASZLOA"
                                },
                                {
                                    "nev": "Nagy László",
                                    "email": "lászló.nagy@mail.hu",
                                    "usernev": "LASZLON"
                                },
                                {
                                    "nev": "Baráth Mária",
                                    "email": "mária.baráth@mail.hu",
                                    "usernev": "maria1"
                                },
                                {
                                    "nev": "Kispál Márk",
                                    "email": "márk.kispál@mail.hu",
                                    "usernev": "mark"
                                },
                                {
                                    "nev": "Horváth Márk",
                                    "email": "márk.horváth@mail.hu",
                                    "usernev": "MARKH"
                                },
                                {
                                    "nev": "Kalacsi Márton",
                                    "email": "marton@gmail.com",
                                    "usernev": "marton"
                                },
                                {
                                    "nev": "Koza Máté",
                                    "email": "máté.koza@mail.hu",
                                    "usernev": "MATEK"
                                },
                                {
                                    "nev": "Botka Mátyás",
                                    "email": "matyas2@gmail.com",
                                    "usernev": "matyas2"
                                },
                                {
                                    "nev": "Szilágyi Mátyás",
                                    "email": "mátyás.szilágyi@mail.hu",
                                    "usernev": "MATYASS"
                                },
                                {
                                    "nev": "Juhász Mihály",
                                    "email": "mihály.juhász@mail.hu",
                                    "usernev": "MIHALYJ"
                                },
                                {
                                    "nev": "Gondos Miklós",
                                    "email": "miklos2@gmail.com",
                                    "usernev": "miklos2"
                                },
                                {
                                    "nev": "Balla Miklós",
                                    "email": "miklós.balla@mail.hu",
                                    "usernev": "MIKLOSB"
                                },
                                {
                                    "nev": "Mohos Mónika",
                                    "email": "mónika.mohos@mail.hu",
                                    "usernev": "MONIKAM"
                                },
                                {
                                    "nev": "Fő Nándor",
                                    "email": "nándor.fő@mail.hu",
                                    "usernev": "NANDORF"
                                },
                                {
                                    "nev": "Horváth Nikolett",
                                    "email": "nikolett3@gmail.com",
                                    "usernev": "nikolett3"
                                },
                                {
                                    "nev": "Kő Nikoletta",
                                    "email": "nikoletta4@gmail.com",
                                    "usernev": "nikoletta4"
                                },
                                {
                                    "nev": "Tatár Nikoletta",
                                    "email": "nikoletta.tatár@mail.hu",
                                    "usernev": "NIKOLETTAT"
                                },
                                {
                                    "nev": "Szűcs Norbert",
                                    "email": "norbert@gmail.com",
                                    "usernev": "norbert"
                                },
                                {
                                    "nev": "Hegedűs Norbert",
                                    "email": "norbert.hegedűs@mail.hu",
                                    "usernev": "norbert2"
                                },
                                {
                                    "nev": "Mile Norbert",
                                    "email": "norbert4@gmail.com",
                                    "usernev": "norbert4"
                                },
                                {
                                    "nev": "Béres Norbert",
                                    "email": "norbert5@gmail.com",
                                    "usernev": "norbert5"
                                },
                                {
                                    "nev": "Barabás Pál",
                                    "email": "pál.barabás@mail.hu",
                                    "usernev": "pal"
                                },
                                {
                                    "nev": "Kozma Péter",
                                    "email": "peter1@gmail.com",
                                    "usernev": "peter1"
                                },
                                {
                                    "nev": "Bozsó Péter",
                                    "email": "peter2@gmail.com",
                                    "usernev": "peter2"
                                },
                                {
                                    "nev": "Szalai Péter",
                                    "email": "peter3@gmail.com",
                                    "usernev": "peter3"
                                },
                                {
                                    "nev": "Bíró Péter",
                                    "email": "péter.bíró@mail.hu",
                                    "usernev": "peter4"
                                },
                                {
                                    "nev": "Berendi Péter",
                                    "email": "péter.berendi@mail.hu",
                                    "usernev": "PETERB"
                                },
                                {
                                    "nev": "Palágyi Polla",
                                    "email": "polla@gmail.com",
                                    "usernev": "polla"
                                },
                                {
                                    "nev": "Rácz Rajmond",
                                    "email": "rajmond.rácz@mail.hu",
                                    "usernev": "rajmond4"
                                },
                                {
                                    "nev": "Szikszai Réka",
                                    "email": "réka.szikszai@mail.hu",
                                    "usernev": "reka4"
                                },
                                {
                                    "nev": "Szirmai Renáta",
                                    "email": "RENATAS@gmail.com",
                                    "usernev": "RENATAS"
                                },
                                {
                                    "nev": "Patay Róbert",
                                    "email": "robert2@gmail.com",
                                    "usernev": "robert2"
                                },
                                {
                                    "nev": "Iván Róbert",
                                    "email": "róbert.iván@mail.hu",
                                    "usernev": "ROBERTI"
                                },
                                {
                                    "nev": "Tóth Roland",
                                    "email": "roland@gmail.com",
                                    "usernev": "roland"
                                },
                                {
                                    "nev": "Ferencz Roland",
                                    "email": "roland.ferencz@mail.hu",
                                    "usernev": "roland1"
                                },
                                {
                                    "nev": "Bucskó Róza",
                                    "email": "roza2@gmail.com",
                                    "usernev": "roza2"
                                },
                                {
                                    "nev": "Karasz Sándor",
                                    "email": "sandor@gmail.com",
                                    "usernev": "sandor"
                                },
                                {
                                    "nev": "Farkas Sándor",
                                    "email": "sándor.farkas@mail.hu",
                                    "usernev": "sandor3"
                                },
                                {
                                    "nev": "Nagy Sándor",
                                    "email": "sandor4@gmail.com",
                                    "usernev": "sandor4"
                                },
                                {
                                    "nev": "Farkas Sára",
                                    "email": "sára.farkas@mail.hu",
                                    "usernev": "sara"
                                },
                                {
                                    "nev": "Foltényi Sebastián",
                                    "email": "SEBASTIANF@gmail.com",
                                    "usernev": "SEBASTIANF"
                                },
                                {
                                    "nev": "Rab Sebestyén",
                                    "email": "sebestyen@gmail.com",
                                    "usernev": "sebestyen"
                                },
                                {
                                    "nev": "Miklós Szabolcs",
                                    "email": "szabolcs.miklós@mail.hu",
                                    "usernev": "SZABOLCSM"
                                },
                                {
                                    "nev": "Szalai Szilárd",
                                    "email": "szilárd.szalai@mail.hu",
                                    "usernev": "SZILARDS"
                                },
                                {
                                    "nev": "Tari Szilvia",
                                    "email": "szilvia.tari@mail.hu",
                                    "usernev": "szilvia1"
                                },
                                {
                                    "nev": "Miklós Tamara",
                                    "email": "tamara.miklós@mail.hu",
                                    "usernev": "tamara2"
                                },
                                {
                                    "nev": "Antal Tamás",
                                    "email": "tamás.antal@mail.hu",
                                    "usernev": "tamas"
                                },
                                {
                                    "nev": "Fényes Tamás",
                                    "email": "TAMASF@gmail.com",
                                    "usernev": "TAMASF"
                                },
                                {
                                    "nev": "Gombos Tibor",
                                    "email": "tibor.gombos@mail.hu",
                                    "usernev": "tibor"
                                },
                                {
                                    "nev": "Kazy Tihamér",
                                    "email": "tihamér.kazy@mail.hu",
                                    "usernev": "tihamer"
                                },
                                {
                                    "nev": "Dusha Tímea",
                                    "email": "tímea.dusha@mail.hu",
                                    "usernev": "timea2"
                                },
                                {
                                    "nev": "Turcsik Tünde",
                                    "email": "tunde@gmail.com",
                                    "usernev": "tunde"
                                },
                                {
                                    "nev": "Feró Valentin",
                                    "email": "valentin.feró@mail.hu",
                                    "usernev": "valentin"
                                },
                                {
                                    "nev": "Tankó Veronika",
                                    "email": "veronika4@gmail.com",
                                    "usernev": "veronika4"
                                },
                                {
                                    "nev": "Boros Vivien",
                                    "email": "vivien3@gmail.com",
                                    "usernev": "vivien3"
                                },
                                {
                                    "nev": "Fodor Zoltán",
                                    "email": "zoltán.fodor@mail.hu",
                                    "usernev": "zoltan"
                                },
                                {
                                    "nev": "Pintér Zoltán",
                                    "email": "zoltán.pintér@mail.hu",
                                    "usernev": "ZOLTANP"
                                },
                                {
                                    "nev": "Tóth Zoltán",
                                    "email": "zoltán.tóth@mail.hu",
                                    "usernev": "ZOLTANT"
                                },
                                {
                                    "nev": "Molnár Zsófi",
                                    "email": "zsofi1@gmail.com",
                                    "usernev": "zsofi1"
                                },
                                {
                                    "nev": "Józsa Zsolt",
                                    "email": "ZSOLTJ@gmail.com",
                                    "usernev": "ZSOLTJ"
                                },
                                {
                                    "nev": "Pusztai Zsuzsanna",
                                    "email": "zsuzsanna@gmail.com",
                                    "usernev": "zsuzsa"
                                },
                                {
                                    "nev": "Varsányi Zsuzsa",
                                    "email": "zsuzsa.varsányi@mail.hu",
                                    "usernev": "zsuzsa3"
                                },
                                {
                                    "nev": "Barta Zsuzsanna",
                                    "email": "zsuzsanna.barta@mail.hu",
                                    "usernev": "zsuzsanna"
                                },
                                {
                                    "nev": "Vajda Zsuzsa",
                                    "email": "zsuzsa.vajda@mail.hu",
                                    "usernev": "ZSUZSAV"
                                }
                            ]
                        },
                        "text/html": [
                            "<table>",
                            "<tr><th>nev</th><th>email</th><th>usernev</th></tr>",
                            "<tr><td>Kiss Ádám</td><td>ádám.kiss@mail.hu</td><td>adam1</td></tr>",
                            "<tr><td>Barkóci Ádám</td><td>adam3@gmail.com</td><td>adam3</td></tr>",
                            "<tr><td>Bieniek Ádám</td><td>ádám.bieniek@mail.hu</td><td>adam4</td></tr>",
                            "<tr><td>Lengyel Ágnes</td><td>agnes@gmail.com</td><td>agnes</td></tr>",
                            "<tr><td>Hartyánszky Ágnes</td><td>agnes3@gmail.com</td><td>agnes3</td></tr>",
                            "<tr><td>Horváth Ágnes</td><td>AGNESH@gmail.com</td><td>AGNESH</td></tr>",
                            "<tr><td>Kovács Ágnes</td><td>AGNESK@gmail.com</td><td>AGNESK</td></tr>",
                            "<tr><td>Bíró Ákos</td><td>ákos.bíró@mail.hu</td><td>akos</td></tr>",
                            "<tr><td>Dunai Aladár</td><td>aladár.dunai@mail.hu</td><td>aladar</td></tr>",
                            "<tr><td>Bagóczki Alexandra</td><td>alexandra.bagóczki@mail.hu</td><td>alexandra</td></tr>",
                            "<tr><td>Tóth András</td><td>andrás.tóth@mail.hu</td><td>andras2</td></tr>",
                            "<tr><td>Molnár András</td><td>andrás.molnár@mail.hu</td><td>andras21</td></tr>",
                            "<tr><td>Vígh András</td><td>andrás.vígh@mail.hu</td><td>andras3</td></tr>",
                            "<tr><td>Back András</td><td>andras4@gmail.com</td><td>andras4</td></tr>",
                            "<tr><td>Komjáti András</td><td>andras41@gmail.com</td><td>andras41</td></tr>",
                            "<tr><td>Kiss Andrea</td><td>andrea.kiss@mail.hu</td><td>andrea</td></tr>",
                            "<tr><td>Tornyos Andrea</td><td>ANDREAT@gmail.com</td><td>ANDREAT</td></tr>",
                            "<tr><td>Pivarcsi Anett</td><td>anett.pivarcsi@mail.hu</td><td>anett3</td></tr>",
                            "<tr><td>Tóth Anikó</td><td>aniko@gmail.com</td><td>aniko</td></tr>",
                            "<tr><td>Böröcz Anikó</td><td>aniko4@gmail.com</td><td>aniko4</td></tr>",
                            "<tr><td>Simon Anikó</td><td>ANIKOS@gmail.com</td><td>ANIKOS</td></tr>",
                            "<tr><td>Hamvay-Kovács Anita</td><td>anita.hamvay-kovács@mail.hu</td><td>anita</td></tr>",
                            "<tr><td>Szűcs Annamária</td><td>annamária.szűcs@mail.hu</td><td>annamaria1</td></tr>",
                            "<tr><td>Regős Annamária</td><td>ANNAMARIAR@gmail.com</td><td>ANNAMARIAR</td></tr>",
                            "<tr><td>Jakab Áron</td><td>aron2@gmail.com</td><td>aron2</td></tr>",
                            "<tr><td>Kelemen Áron</td><td>áron.kelemen@mail.hu</td><td>ARONK</td></tr>",
                            "<tr><td>Ötvös Árpád</td><td>árpád.ötvös@mail.hu</td><td>arpad2</td></tr>",
                            "<tr><td>Móricz Árpád</td><td>árpád.móricz@mail.hu</td><td>ARPADM</td></tr>",
                            "<tr><td>Csóti Attila</td><td>attila@gmail.com</td><td>attila</td></tr>",
                            "<tr><td>Gulyás Attila</td><td>attila.gulyás@mail.hu</td><td>attila1</td></tr>",
                            "<tr><td>Baróti Attila</td><td>attila.baróti@mail.hu</td><td>attila4</td></tr>",
                            "<tr><td>Bozsik Balázs</td><td>balázs.bozsik@mail.hu</td><td>balazs1</td></tr>",
                            "<tr><td>Szűcs Balázs</td><td>balázs.szűcs@mail.hu</td><td>balazs2</td></tr>",
                            "<tr><td>Bakódy Balázs</td><td>balazs3@gmail.com</td><td>balazs3</td></tr>",
                            "<tr><td>Horváth Bálint</td><td>balint@gmail.com</td><td>balint</td></tr>",
                            "<tr><td>Molnár Bálint</td><td>balint1@gmail.com</td><td>balint1</td></tr>",
                            "<tr><td>Vukasinovity Bálint</td><td>balint2@gmail.com</td><td>balint2</td></tr>",
                            "<tr><td>Endresz Bálint</td><td>bálint.endresz@mail.hu</td><td>balu</td></tr>",
                            "<tr><td>Bagi Beáta</td><td>beáta.bagi@mail.hu</td><td>beata4</td></tr>",
                            "<tr><td>Kerényi Beatrix</td><td>beatrix.kerényi@mail.hu</td><td>BEATRIXK</td></tr>",
                            "<tr><td>Szekendi Beatrix</td><td>beatrix.szekendi@mail.hu</td><td>BEATRIXS</td></tr>",
                            "<tr><td>Farkas Béla</td><td>BELAF@gmail.com</td><td>BELAF</td></tr>",
                            "<tr><td>Győrffy Bence</td><td>bence@gmail.com</td><td>bence</td></tr>",
                            "<tr><td>Bajusz Bence</td><td>bence.bajusz@mail.hu</td><td>BENCEB</td></tr>",
                            "<tr><td>Simon Bernadett</td><td>bernadett1@gmail.com</td><td>bernadett1</td></tr>",
                            "<tr><td>Kovács Bernadett</td><td>bernadett.kovács@mail.hu</td><td>bernadett2</td></tr>",
                            "<tr><td>Orbán Bernadett</td><td>bernadett.orbán@mail.hu</td><td>BERNADETTO</td></tr>",
                            "<tr><td>Csiger Bertalan</td><td>bertalan@gmail.com</td><td>bertalan</td></tr>",
                            "<tr><td>Székely Brigitta</td><td>brigitta.székely@mail.hu</td><td>brigitta</td></tr>",
                            "<tr><td>Nagymihály Csongor</td><td>csongor.nagymihály@mail.hu</td><td>csongor3</td></tr>",
                            "<tr><td>Vörös Dániel</td><td>daniel@gmail.com</td><td>dani</td></tr>",
                            "<tr><td>Rácz Dániel</td><td>dániel.rácz@mail.hu</td><td>daniel</td></tr>",
                            "<tr><td>Keszler Dániel</td><td>dániel.keszler@mail.hu</td><td>daniel1</td></tr>",
                            "<tr><td>Ambrus Dávid</td><td>david@gmail.com</td><td>david</td></tr>",
                            "<tr><td>Sobják Dávid</td><td>david1@gmail.com</td><td>david1</td></tr>",
                            "<tr><td>Barna Debóra</td><td>debóra.barna@mail.hu</td><td>debora</td></tr>",
                            "<tr><td>Tömböly Dénes</td><td>denes@gmail.com</td><td>denes</td></tr>",
                            "<tr><td>Bittmann Edit</td><td>edit.bittmann@mail.hu</td><td>edit</td></tr>",
                            "<tr><td>Kuruc Emese</td><td>emese.kuruc@mail.hu</td><td>emese</td></tr>",
                            "<tr><td>Balogh Eszter</td><td>eszter.balogh@mail.hu</td><td>eszter2</td></tr>",
                            "<tr><td>Fülöp Eszter</td><td>eszter.fülöp@mail.hu</td><td>eszter4</td></tr>",
                            "<tr><td>Érsek Eszter</td><td>eszter.érsek@mail.hu</td><td>ESZTERE</td></tr>",
                            "<tr><td>Enyedi Éva</td><td>eva@gmail.com</td><td>eva</td></tr>",
                            "<tr><td>Perlinger Éva</td><td>eva2@gmail.com</td><td>eva2</td></tr>",
                            "<tr><td>Viktor Éva</td><td>EVAV@gmail.com</td><td>EVAV</td></tr>",
                            "<tr><td>Orosz Ferenc</td><td>ferenc.orosz@mail.hu</td><td>ferenc1</td></tr>",
                            "<tr><td>Frank Fruzsina</td><td>fruzsina4@gmail.com</td><td>fruzsina4</td></tr>",
                            "<tr><td>Köves Gábor</td><td>gabor1@gmail.com</td><td>gabor1</td></tr>",
                            "<tr><td>Telek Gábor</td><td>gábor.telek@mail.hu</td><td>gabor4</td></tr>",
                            "<tr><td>Nagy Gabriella</td><td>gabriella1@gmail.com</td><td>gabriella1</td></tr>",
                            "<tr><td>Nyíri Georgij</td><td>georgij.nyíri@mail.hu</td><td>georgij</td></tr>",
                            "<tr><td>Bárci Gusztáv</td><td>gusztav@gmail.com</td><td>gusztav</td></tr>",
                            "<tr><td>Kornseé Gyöngyi</td><td>gyöngyi.kornseé@mail.hu</td><td>GYONGYIK</td></tr>",
                            "<tr><td>Oroszi György</td><td>GYORGYO@gmail.com</td><td>GYORGYO</td></tr>",
                            "<tr><td>Nádudvari Henrik</td><td>henrik.nádudvari@mail.hu</td><td>henrik3</td></tr>",
                            "<tr><td>Andor Ibolya</td><td>ibolya.andor@mail.hu</td><td>IBOLYAA</td></tr>",
                            "<tr><td>Bosnyák Ilona</td><td>ilona3@gmail.com</td><td>ilona3</td></tr>",
                            "<tr><td>Búza Imre</td><td>imre.búza@mail.hu</td><td>imre</td></tr>",
                            "<tr><td>Papp Imre</td><td>imre.papp@mail.hu</td><td>imre1</td></tr>",
                            "<tr><td>Soós István</td><td>istvan@gmail.com</td><td>istvan</td></tr>",
                            "<tr><td>Vizi István</td><td>istván.vizi@mail.hu</td><td>istvan1</td></tr>",
                            "<tr><td>Varga István</td><td>ISTVANV@gmail.com</td><td>ISTVANV</td></tr>",
                            "<tr><td>Harangozó János</td><td>janos3@gmail.com</td><td>janos3</td></tr>",
                            "<tr><td>Giliga János</td><td>JANOSG@gmail.com</td><td>JANOSG</td></tr>",
                            "<tr><td>Pálinkás János</td><td>JANOSP@gmail.com</td><td>JANOSP</td></tr>",
                            "<tr><td>Gergely József</td><td>jozsef@gmail.com</td><td>jozsef</td></tr>",
                            "<tr><td>Vajda József</td><td>józsef.vajda@mail.hu</td><td>jozsef2</td></tr>",
                            "<tr><td>Hídasi Judit</td><td>JUDITH@gmail.com</td><td>JUDITH</td></tr>",
                            "<tr><td>Tóth Júlia</td><td>julia@gmail.com</td><td>julia</td></tr>",
                            "<tr><td>Nagy Júlia</td><td>julia4@gmail.com</td><td>julia4</td></tr>",
                            "<tr><td>Szabó Julianna</td><td>julianna4@gmail.com</td><td>julianna4</td></tr>",
                            "<tr><td>Gondos Katalin</td><td>katalin.gondos@mail.hu</td><td>kata</td></tr>",
                            "<tr><td>Horváth Katalin</td><td>katalin.horváth@mail.hu</td><td>katalin</td></tr>",
                            "<tr><td>Kertész Katalin</td><td>katalin4@gmail.com</td><td>katalin4</td></tr>",
                            "<tr><td>Kovács Katalin</td><td>katalin.kovács@mail.hu</td><td>katka</td></tr>",
                            "<tr><td>Bakó Klaudia</td><td>klaudia.bakó@mail.hu</td><td>klaudia2</td></tr>",
                            "<tr><td>Lukács Kornél</td><td>kornél.lukács@mail.hu</td><td>kornel4</td></tr>",
                            "<tr><td>Poprádi Kristóf</td><td>kristof4@gmail.com</td><td>kristof4</td></tr>",
                            "<tr><td>Horváth Krisztina</td><td>kriszti@gmail.com</td><td>kriszti</td></tr>",
                            "<tr><td>Czérna Krisztián</td><td>krisztián.czérna@mail.hu</td><td>krisztian4</td></tr>",
                            "<tr><td>Bori Krisztina</td><td>krisztina.bori@mail.hu</td><td>krisztina1</td></tr>",
                            "<tr><td>Gyárfás Krisztina</td><td>KRISZTINAG@gmail.com</td><td>KRISZTINAG</td></tr>",
                            "<tr><td>Kiss Lajos</td><td>lajos.kiss@mail.hu</td><td>lajos</td></tr>",
                            "<tr><td>Nagymihály Lajos</td><td>lajos.nagymihály@mail.hu</td><td>lala</td></tr>",
                            "<tr><td>Móra László</td><td>lászló.móra@mail.hu</td><td>laszlo2</td></tr>",
                            "<tr><td>Antal László</td><td>lászló.antal@mail.hu</td><td>LASZLOA</td></tr>",
                            "<tr><td>Nagy László</td><td>lászló.nagy@mail.hu</td><td>LASZLON</td></tr>",
                            "<tr><td>Baráth Mária</td><td>mária.baráth@mail.hu</td><td>maria1</td></tr>",
                            "<tr><td>Kispál Márk</td><td>márk.kispál@mail.hu</td><td>mark</td></tr>",
                            "<tr><td>Horváth Márk</td><td>márk.horváth@mail.hu</td><td>MARKH</td></tr>",
                            "<tr><td>Kalacsi Márton</td><td>marton@gmail.com</td><td>marton</td></tr>",
                            "<tr><td>Koza Máté</td><td>máté.koza@mail.hu</td><td>MATEK</td></tr>",
                            "<tr><td>Botka Mátyás</td><td>matyas2@gmail.com</td><td>matyas2</td></tr>",
                            "<tr><td>Szilágyi Mátyás</td><td>mátyás.szilágyi@mail.hu</td><td>MATYASS</td></tr>",
                            "<tr><td>Juhász Mihály</td><td>mihály.juhász@mail.hu</td><td>MIHALYJ</td></tr>",
                            "<tr><td>Gondos Miklós</td><td>miklos2@gmail.com</td><td>miklos2</td></tr>",
                            "<tr><td>Balla Miklós</td><td>miklós.balla@mail.hu</td><td>MIKLOSB</td></tr>",
                            "<tr><td>Mohos Mónika</td><td>mónika.mohos@mail.hu</td><td>MONIKAM</td></tr>",
                            "<tr><td>Fő Nándor</td><td>nándor.fő@mail.hu</td><td>NANDORF</td></tr>",
                            "<tr><td>Horváth Nikolett</td><td>nikolett3@gmail.com</td><td>nikolett3</td></tr>",
                            "<tr><td>Kő Nikoletta</td><td>nikoletta4@gmail.com</td><td>nikoletta4</td></tr>",
                            "<tr><td>Tatár Nikoletta</td><td>nikoletta.tatár@mail.hu</td><td>NIKOLETTAT</td></tr>",
                            "<tr><td>Szűcs Norbert</td><td>norbert@gmail.com</td><td>norbert</td></tr>",
                            "<tr><td>Hegedűs Norbert</td><td>norbert.hegedűs@mail.hu</td><td>norbert2</td></tr>",
                            "<tr><td>Mile Norbert</td><td>norbert4@gmail.com</td><td>norbert4</td></tr>",
                            "<tr><td>Béres Norbert</td><td>norbert5@gmail.com</td><td>norbert5</td></tr>",
                            "<tr><td>Barabás Pál</td><td>pál.barabás@mail.hu</td><td>pal</td></tr>",
                            "<tr><td>Kozma Péter</td><td>peter1@gmail.com</td><td>peter1</td></tr>",
                            "<tr><td>Bozsó Péter</td><td>peter2@gmail.com</td><td>peter2</td></tr>",
                            "<tr><td>Szalai Péter</td><td>peter3@gmail.com</td><td>peter3</td></tr>",
                            "<tr><td>Bíró Péter</td><td>péter.bíró@mail.hu</td><td>peter4</td></tr>",
                            "<tr><td>Berendi Péter</td><td>péter.berendi@mail.hu</td><td>PETERB</td></tr>",
                            "<tr><td>Palágyi Polla</td><td>polla@gmail.com</td><td>polla</td></tr>",
                            "<tr><td>Rácz Rajmond</td><td>rajmond.rácz@mail.hu</td><td>rajmond4</td></tr>",
                            "<tr><td>Szikszai Réka</td><td>réka.szikszai@mail.hu</td><td>reka4</td></tr>",
                            "<tr><td>Szirmai Renáta</td><td>RENATAS@gmail.com</td><td>RENATAS</td></tr>",
                            "<tr><td>Patay Róbert</td><td>robert2@gmail.com</td><td>robert2</td></tr>",
                            "<tr><td>Iván Róbert</td><td>róbert.iván@mail.hu</td><td>ROBERTI</td></tr>",
                            "<tr><td>Tóth Roland</td><td>roland@gmail.com</td><td>roland</td></tr>",
                            "<tr><td>Ferencz Roland</td><td>roland.ferencz@mail.hu</td><td>roland1</td></tr>",
                            "<tr><td>Bucskó Róza</td><td>roza2@gmail.com</td><td>roza2</td></tr>",
                            "<tr><td>Karasz Sándor</td><td>sandor@gmail.com</td><td>sandor</td></tr>",
                            "<tr><td>Farkas Sándor</td><td>sándor.farkas@mail.hu</td><td>sandor3</td></tr>",
                            "<tr><td>Nagy Sándor</td><td>sandor4@gmail.com</td><td>sandor4</td></tr>",
                            "<tr><td>Farkas Sára</td><td>sára.farkas@mail.hu</td><td>sara</td></tr>",
                            "<tr><td>Foltényi Sebastián</td><td>SEBASTIANF@gmail.com</td><td>SEBASTIANF</td></tr>",
                            "<tr><td>Rab Sebestyén</td><td>sebestyen@gmail.com</td><td>sebestyen</td></tr>",
                            "<tr><td>Miklós Szabolcs</td><td>szabolcs.miklós@mail.hu</td><td>SZABOLCSM</td></tr>",
                            "<tr><td>Szalai Szilárd</td><td>szilárd.szalai@mail.hu</td><td>SZILARDS</td></tr>",
                            "<tr><td>Tari Szilvia</td><td>szilvia.tari@mail.hu</td><td>szilvia1</td></tr>",
                            "<tr><td>Miklós Tamara</td><td>tamara.miklós@mail.hu</td><td>tamara2</td></tr>",
                            "<tr><td>Antal Tamás</td><td>tamás.antal@mail.hu</td><td>tamas</td></tr>",
                            "<tr><td>Fényes Tamás</td><td>TAMASF@gmail.com</td><td>TAMASF</td></tr>",
                            "<tr><td>Gombos Tibor</td><td>tibor.gombos@mail.hu</td><td>tibor</td></tr>",
                            "<tr><td>Kazy Tihamér</td><td>tihamér.kazy@mail.hu</td><td>tihamer</td></tr>",
                            "<tr><td>Dusha Tímea</td><td>tímea.dusha@mail.hu</td><td>timea2</td></tr>",
                            "<tr><td>Turcsik Tünde</td><td>tunde@gmail.com</td><td>tunde</td></tr>",
                            "<tr><td>Feró Valentin</td><td>valentin.feró@mail.hu</td><td>valentin</td></tr>",
                            "<tr><td>Tankó Veronika</td><td>veronika4@gmail.com</td><td>veronika4</td></tr>",
                            "<tr><td>Boros Vivien</td><td>vivien3@gmail.com</td><td>vivien3</td></tr>",
                            "<tr><td>Fodor Zoltán</td><td>zoltán.fodor@mail.hu</td><td>zoltan</td></tr>",
                            "<tr><td>Pintér Zoltán</td><td>zoltán.pintér@mail.hu</td><td>ZOLTANP</td></tr>",
                            "<tr><td>Tóth Zoltán</td><td>zoltán.tóth@mail.hu</td><td>ZOLTANT</td></tr>",
                            "<tr><td>Molnár Zsófi</td><td>zsofi1@gmail.com</td><td>zsofi1</td></tr>",
                            "<tr><td>Józsa Zsolt</td><td>ZSOLTJ@gmail.com</td><td>ZSOLTJ</td></tr>",
                            "<tr><td>Pusztai Zsuzsanna</td><td>zsuzsanna@gmail.com</td><td>zsuzsa</td></tr>",
                            "<tr><td>Varsányi Zsuzsa</td><td>zsuzsa.varsányi@mail.hu</td><td>zsuzsa3</td></tr>",
                            "<tr><td>Barta Zsuzsanna</td><td>zsuzsanna.barta@mail.hu</td><td>zsuzsanna</td></tr>",
                            "<tr><td>Vajda Zsuzsa</td><td>zsuzsa.vajda@mail.hu</td><td>ZSUZSAV</td></tr>",
                            "</table>"
                        ]
                    }
                }
            ],
            "execution_count": 60
        },
        {
            "cell_type": "markdown",
            "source": [
                "<span style=\"color: rgb(0, 0, 0); font-family: &quot;Open Sans&quot;, sans-serif; font-size: 14.44px; background-color: rgb(255, 255, 255);\">Listázzuk azon szálláshelyek azonosítóját és nevét, amelyek a saját helyükön (HELY) a legtöbb csillaggal rendelkeznek!</span>"
            ],
            "metadata": {
                "azdata_cell_guid": "9cfc2f48-68ff-4d71-8f3f-3f859f3f0448"
            },
            "attachments": {}
        },
        {
            "cell_type": "code",
            "source": [
                "select szallas_id, SZALLAS_NEV, hely, CSILLAGOK_SZAMA\r\n",
                "from szallashely\r\n",
                "--group by HELY\r\n",
                "order by CSILLAGOK_SZAMA\r\n",
                "--group by SZALLAS_ID, SZALLAS_NEV"
            ],
            "metadata": {
                "azdata_cell_guid": "1bf2ea12-cef1-4e2e-b888-30e63b36963e",
                "language": "sql"
            },
            "outputs": [
                {
                    "output_type": "display_data",
                    "data": {
                        "text/html": "(21 rows affected)"
                    },
                    "metadata": {}
                },
                {
                    "output_type": "display_data",
                    "data": {
                        "text/html": "Total execution time: 00:00:00.005"
                    },
                    "metadata": {}
                },
                {
                    "output_type": "execute_result",
                    "metadata": {},
                    "execution_count": 32,
                    "data": {
                        "application/vnd.dataresource+json": {
                            "schema": {
                                "fields": [
                                    {
                                        "name": "szallas_id"
                                    },
                                    {
                                        "name": "SZALLAS_NEV"
                                    },
                                    {
                                        "name": "hely"
                                    },
                                    {
                                        "name": "CSILLAGOK_SZAMA"
                                    }
                                ]
                            },
                            "data": [
                                {
                                    "szallas_id": "1",
                                    "SZALLAS_NEV": "Sába-Ház",
                                    "hely": "Balaton-dél",
                                    "CSILLAGOK_SZAMA": "0"
                                },
                                {
                                    "szallas_id": "2",
                                    "SZALLAS_NEV": "Családi Ház",
                                    "hely": "Balaton-dél",
                                    "CSILLAGOK_SZAMA": "0"
                                },
                                {
                                    "szallas_id": "3",
                                    "SZALLAS_NEV": "Fortuna Apartman",
                                    "hely": "Hajdúbihar megye",
                                    "CSILLAGOK_SZAMA": "0"
                                },
                                {
                                    "szallas_id": "7",
                                    "SZALLAS_NEV": "Szieszta Apartmanház",
                                    "hely": "Balaton-dél",
                                    "CSILLAGOK_SZAMA": "0"
                                },
                                {
                                    "szallas_id": "14",
                                    "SZALLAS_NEV": "Nyárfás Vendégház",
                                    "hely": "Csongrád megye",
                                    "CSILLAGOK_SZAMA": "0"
                                },
                                {
                                    "szallas_id": "18",
                                    "SZALLAS_NEV": "Fortuna Apartman",
                                    "hely": "Dél-Somogy",
                                    "CSILLAGOK_SZAMA": "0"
                                },
                                {
                                    "szallas_id": "19",
                                    "SZALLAS_NEV": "Nyárfás Vendégház",
                                    "hely": "Dél-Somogy",
                                    "CSILLAGOK_SZAMA": "0"
                                },
                                {
                                    "szallas_id": "20",
                                    "SZALLAS_NEV": "Kollégium",
                                    "hely": "Budapest",
                                    "CSILLAGOK_SZAMA": "0"
                                },
                                {
                                    "szallas_id": "21",
                                    "SZALLAS_NEV": "Müller Vendégház",
                                    "hely": "Dél-Somogy",
                                    "CSILLAGOK_SZAMA": "0"
                                },
                                {
                                    "szallas_id": "11",
                                    "SZALLAS_NEV": "Partiszél Vendégház",
                                    "hely": "Balaton-észak",
                                    "CSILLAGOK_SZAMA": "0"
                                },
                                {
                                    "szallas_id": "12",
                                    "SZALLAS_NEV": "Gold Hotel",
                                    "hely": "Budapest",
                                    "CSILLAGOK_SZAMA": "3"
                                },
                                {
                                    "szallas_id": "13",
                                    "SZALLAS_NEV": "Riviéra Panzió",
                                    "hely": "Csongrád megye",
                                    "CSILLAGOK_SZAMA": "3"
                                },
                                {
                                    "szallas_id": "15",
                                    "SZALLAS_NEV": "Tímárház Panzió",
                                    "hely": "Balaton-dél",
                                    "CSILLAGOK_SZAMA": "3"
                                },
                                {
                                    "szallas_id": "16",
                                    "SZALLAS_NEV": "Bagoly Hotel",
                                    "hely": "Pest megye",
                                    "CSILLAGOK_SZAMA": "3"
                                },
                                {
                                    "szallas_id": "9",
                                    "SZALLAS_NEV": "Jáde panzió",
                                    "hely": "Balaton-dél",
                                    "CSILLAGOK_SZAMA": "3"
                                },
                                {
                                    "szallas_id": "4",
                                    "SZALLAS_NEV": "Fortuna panzió",
                                    "hely": "Budapest",
                                    "CSILLAGOK_SZAMA": "3"
                                },
                                {
                                    "szallas_id": "5",
                                    "SZALLAS_NEV": "Fortuna Panzió",
                                    "hely": "Békés megye",
                                    "CSILLAGOK_SZAMA": "3"
                                },
                                {
                                    "szallas_id": "6",
                                    "SZALLAS_NEV": "Kentaur Hotel",
                                    "hely": "Balaton-dél",
                                    "CSILLAGOK_SZAMA": "3"
                                },
                                {
                                    "szallas_id": "10",
                                    "SZALLAS_NEV": "Lagúna Hotel",
                                    "hely": "Budapest",
                                    "CSILLAGOK_SZAMA": "4"
                                },
                                {
                                    "szallas_id": "8",
                                    "SZALLAS_NEV": "Hotel Három Hattyú",
                                    "hely": "Balaton-dél",
                                    "CSILLAGOK_SZAMA": "4"
                                },
                                {
                                    "szallas_id": "17",
                                    "SZALLAS_NEV": "Szarvas Hotel",
                                    "hely": "Tolna megye",
                                    "CSILLAGOK_SZAMA": "4"
                                }
                            ]
                        },
                        "text/html": [
                            "<table>",
                            "<tr><th>szallas_id</th><th>SZALLAS_NEV</th><th>hely</th><th>CSILLAGOK_SZAMA</th></tr>",
                            "<tr><td>1</td><td>Sába-Ház</td><td>Balaton-dél</td><td>0</td></tr>",
                            "<tr><td>2</td><td>Családi Ház</td><td>Balaton-dél</td><td>0</td></tr>",
                            "<tr><td>3</td><td>Fortuna Apartman</td><td>Hajdúbihar megye</td><td>0</td></tr>",
                            "<tr><td>7</td><td>Szieszta Apartmanház</td><td>Balaton-dél</td><td>0</td></tr>",
                            "<tr><td>14</td><td>Nyárfás Vendégház</td><td>Csongrád megye</td><td>0</td></tr>",
                            "<tr><td>18</td><td>Fortuna Apartman</td><td>Dél-Somogy</td><td>0</td></tr>",
                            "<tr><td>19</td><td>Nyárfás Vendégház</td><td>Dél-Somogy</td><td>0</td></tr>",
                            "<tr><td>20</td><td>Kollégium</td><td>Budapest</td><td>0</td></tr>",
                            "<tr><td>21</td><td>Müller Vendégház</td><td>Dél-Somogy</td><td>0</td></tr>",
                            "<tr><td>11</td><td>Partiszél Vendégház</td><td>Balaton-észak</td><td>0</td></tr>",
                            "<tr><td>12</td><td>Gold Hotel</td><td>Budapest</td><td>3</td></tr>",
                            "<tr><td>13</td><td>Riviéra Panzió</td><td>Csongrád megye</td><td>3</td></tr>",
                            "<tr><td>15</td><td>Tímárház Panzió</td><td>Balaton-dél</td><td>3</td></tr>",
                            "<tr><td>16</td><td>Bagoly Hotel</td><td>Pest megye</td><td>3</td></tr>",
                            "<tr><td>9</td><td>Jáde panzió</td><td>Balaton-dél</td><td>3</td></tr>",
                            "<tr><td>4</td><td>Fortuna panzió</td><td>Budapest</td><td>3</td></tr>",
                            "<tr><td>5</td><td>Fortuna Panzió</td><td>Békés megye</td><td>3</td></tr>",
                            "<tr><td>6</td><td>Kentaur Hotel</td><td>Balaton-dél</td><td>3</td></tr>",
                            "<tr><td>10</td><td>Lagúna Hotel</td><td>Budapest</td><td>4</td></tr>",
                            "<tr><td>8</td><td>Hotel Három Hattyú</td><td>Balaton-dél</td><td>4</td></tr>",
                            "<tr><td>17</td><td>Szarvas Hotel</td><td>Tolna megye</td><td>4</td></tr>",
                            "</table>"
                        ]
                    }
                }
            ],
            "execution_count": 32
        },
        {
            "cell_type": "markdown",
            "source": [
                "Jelenítsük meg, hogy az egyes szálláshelyek szobáit esetén a legutolsó 5 foglalás átlagosan hány főre történt!\n",
                "\n",
                "- A számításnál vegyük figyelembe a felnőtteket és a gyermekeket is\n",
                "- A foglalás dátumánál a METTOL mezőt használjuk"
            ],
            "metadata": {
                "azdata_cell_guid": "9d30e7c5-e95e-4ace-9987-ecffaedcedfd"
            },
            "attachments": {}
        },
        {
            "cell_type": "code",
            "source": [
                "SELECT \r\n",
                "sz.szallas_fk,\r\n",
                "sz.szoba_id,\r\n",
                "avg(f.FELNOTT_SZAM+f.GYERMEK_SZAM) over(PARTITION BY sz.szoba_id ORDER BY(f.METTOL) ROWS between 5 preceding and 0 preceding)  as 'Előző 5'\r\n",
                "from foglalas f join Szoba sz on f.SZOBA_FK = sz.SZALLAS_FK"
            ],
            "metadata": {
                "azdata_cell_guid": "e6ffcaf1-890b-4cad-896d-b56265c8f898",
                "language": "sql"
            },
            "outputs": [
                {
                    "output_type": "display_data",
                    "data": {
                        "text/html": "(1761 rows affected)"
                    },
                    "metadata": {}
                },
                {
                    "output_type": "display_data",
                    "data": {
                        "text/html": "Total execution time: 00:00:00.023"
                    },
                    "metadata": {}
                },
                {
                    "output_type": "execute_result",
                    "metadata": {},
                    "execution_count": 63,
                    "data": {
                        "application/vnd.dataresource+json": {
                            "schema": {
                                "fields": [
                                    {
                                        "name": "szallas_fk"
                                    },
                                    {
                                        "name": "szoba_id"
                                    },
                                    {
                                        "name": "Előző 5"
                                    }
                                ]
                            },
                            "data": [
                                {
                                    "szallas_fk": "1",
                                    "szoba_id": "1",
                                    "Előző 5": "1"
                                },
                                {
                                    "szallas_fk": "1",
                                    "szoba_id": "1",
                                    "Előző 5": "1"
                                },
                                {
                                    "szallas_fk": "1",
                                    "szoba_id": "1",
                                    "Előző 5": "1"
                                },
                                {
                                    "szallas_fk": "1",
                                    "szoba_id": "1",
                                    "Előző 5": "1"
                                },
                                {
                                    "szallas_fk": "1",
                                    "szoba_id": "1",
                                    "Előző 5": "1"
                                },
                                {
                                    "szallas_fk": "1",
                                    "szoba_id": "1",
                                    "Előző 5": "1"
                                },
                                {
                                    "szallas_fk": "1",
                                    "szoba_id": "1",
                                    "Előző 5": "2"
                                },
                                {
                                    "szallas_fk": "1",
                                    "szoba_id": "1",
                                    "Előző 5": "2"
                                },
                                {
                                    "szallas_fk": "1",
                                    "szoba_id": "2",
                                    "Előző 5": "1"
                                },
                                {
                                    "szallas_fk": "1",
                                    "szoba_id": "2",
                                    "Előző 5": "1"
                                },
                                {
                                    "szallas_fk": "1",
                                    "szoba_id": "2",
                                    "Előző 5": "1"
                                },
                                {
                                    "szallas_fk": "1",
                                    "szoba_id": "2",
                                    "Előző 5": "1"
                                },
                                {
                                    "szallas_fk": "1",
                                    "szoba_id": "2",
                                    "Előző 5": "1"
                                },
                                {
                                    "szallas_fk": "1",
                                    "szoba_id": "2",
                                    "Előző 5": "1"
                                },
                                {
                                    "szallas_fk": "1",
                                    "szoba_id": "2",
                                    "Előző 5": "2"
                                },
                                {
                                    "szallas_fk": "1",
                                    "szoba_id": "2",
                                    "Előző 5": "2"
                                },
                                {
                                    "szallas_fk": "1",
                                    "szoba_id": "3",
                                    "Előző 5": "1"
                                },
                                {
                                    "szallas_fk": "1",
                                    "szoba_id": "3",
                                    "Előző 5": "1"
                                },
                                {
                                    "szallas_fk": "1",
                                    "szoba_id": "3",
                                    "Előző 5": "1"
                                },
                                {
                                    "szallas_fk": "1",
                                    "szoba_id": "3",
                                    "Előző 5": "1"
                                },
                                {
                                    "szallas_fk": "1",
                                    "szoba_id": "3",
                                    "Előző 5": "1"
                                },
                                {
                                    "szallas_fk": "1",
                                    "szoba_id": "3",
                                    "Előző 5": "1"
                                },
                                {
                                    "szallas_fk": "1",
                                    "szoba_id": "3",
                                    "Előző 5": "2"
                                },
                                {
                                    "szallas_fk": "1",
                                    "szoba_id": "3",
                                    "Előző 5": "2"
                                },
                                {
                                    "szallas_fk": "1",
                                    "szoba_id": "4",
                                    "Előző 5": "1"
                                },
                                {
                                    "szallas_fk": "1",
                                    "szoba_id": "4",
                                    "Előző 5": "1"
                                },
                                {
                                    "szallas_fk": "1",
                                    "szoba_id": "4",
                                    "Előző 5": "1"
                                },
                                {
                                    "szallas_fk": "1",
                                    "szoba_id": "4",
                                    "Előző 5": "1"
                                },
                                {
                                    "szallas_fk": "1",
                                    "szoba_id": "4",
                                    "Előző 5": "1"
                                },
                                {
                                    "szallas_fk": "1",
                                    "szoba_id": "4",
                                    "Előző 5": "1"
                                },
                                {
                                    "szallas_fk": "1",
                                    "szoba_id": "4",
                                    "Előző 5": "2"
                                },
                                {
                                    "szallas_fk": "1",
                                    "szoba_id": "4",
                                    "Előző 5": "2"
                                },
                                {
                                    "szallas_fk": "1",
                                    "szoba_id": "5",
                                    "Előző 5": "1"
                                },
                                {
                                    "szallas_fk": "1",
                                    "szoba_id": "5",
                                    "Előző 5": "1"
                                },
                                {
                                    "szallas_fk": "1",
                                    "szoba_id": "5",
                                    "Előző 5": "1"
                                },
                                {
                                    "szallas_fk": "1",
                                    "szoba_id": "5",
                                    "Előző 5": "1"
                                },
                                {
                                    "szallas_fk": "1",
                                    "szoba_id": "5",
                                    "Előző 5": "1"
                                },
                                {
                                    "szallas_fk": "1",
                                    "szoba_id": "5",
                                    "Előző 5": "1"
                                },
                                {
                                    "szallas_fk": "1",
                                    "szoba_id": "5",
                                    "Előző 5": "2"
                                },
                                {
                                    "szallas_fk": "1",
                                    "szoba_id": "5",
                                    "Előző 5": "2"
                                },
                                {
                                    "szallas_fk": "1",
                                    "szoba_id": "6",
                                    "Előző 5": "1"
                                },
                                {
                                    "szallas_fk": "1",
                                    "szoba_id": "6",
                                    "Előző 5": "1"
                                },
                                {
                                    "szallas_fk": "1",
                                    "szoba_id": "6",
                                    "Előző 5": "1"
                                },
                                {
                                    "szallas_fk": "1",
                                    "szoba_id": "6",
                                    "Előző 5": "1"
                                },
                                {
                                    "szallas_fk": "1",
                                    "szoba_id": "6",
                                    "Előző 5": "1"
                                },
                                {
                                    "szallas_fk": "1",
                                    "szoba_id": "6",
                                    "Előző 5": "1"
                                },
                                {
                                    "szallas_fk": "1",
                                    "szoba_id": "6",
                                    "Előző 5": "2"
                                },
                                {
                                    "szallas_fk": "1",
                                    "szoba_id": "6",
                                    "Előző 5": "2"
                                },
                                {
                                    "szallas_fk": "1",
                                    "szoba_id": "7",
                                    "Előző 5": "1"
                                },
                                {
                                    "szallas_fk": "1",
                                    "szoba_id": "7",
                                    "Előző 5": "1"
                                },
                                {
                                    "szallas_fk": "1",
                                    "szoba_id": "7",
                                    "Előző 5": "1"
                                },
                                {
                                    "szallas_fk": "1",
                                    "szoba_id": "7",
                                    "Előző 5": "1"
                                },
                                {
                                    "szallas_fk": "1",
                                    "szoba_id": "7",
                                    "Előző 5": "1"
                                },
                                {
                                    "szallas_fk": "1",
                                    "szoba_id": "7",
                                    "Előző 5": "1"
                                },
                                {
                                    "szallas_fk": "1",
                                    "szoba_id": "7",
                                    "Előző 5": "2"
                                },
                                {
                                    "szallas_fk": "1",
                                    "szoba_id": "7",
                                    "Előző 5": "2"
                                },
                                {
                                    "szallas_fk": "1",
                                    "szoba_id": "8",
                                    "Előző 5": "1"
                                },
                                {
                                    "szallas_fk": "1",
                                    "szoba_id": "8",
                                    "Előző 5": "1"
                                },
                                {
                                    "szallas_fk": "1",
                                    "szoba_id": "8",
                                    "Előző 5": "1"
                                },
                                {
                                    "szallas_fk": "1",
                                    "szoba_id": "8",
                                    "Előző 5": "1"
                                },
                                {
                                    "szallas_fk": "1",
                                    "szoba_id": "8",
                                    "Előző 5": "1"
                                },
                                {
                                    "szallas_fk": "1",
                                    "szoba_id": "8",
                                    "Előző 5": "1"
                                },
                                {
                                    "szallas_fk": "1",
                                    "szoba_id": "8",
                                    "Előző 5": "2"
                                },
                                {
                                    "szallas_fk": "1",
                                    "szoba_id": "8",
                                    "Előző 5": "2"
                                },
                                {
                                    "szallas_fk": "1",
                                    "szoba_id": "9",
                                    "Előző 5": "1"
                                },
                                {
                                    "szallas_fk": "1",
                                    "szoba_id": "9",
                                    "Előző 5": "1"
                                },
                                {
                                    "szallas_fk": "1",
                                    "szoba_id": "9",
                                    "Előző 5": "1"
                                },
                                {
                                    "szallas_fk": "1",
                                    "szoba_id": "9",
                                    "Előző 5": "1"
                                },
                                {
                                    "szallas_fk": "1",
                                    "szoba_id": "9",
                                    "Előző 5": "1"
                                },
                                {
                                    "szallas_fk": "1",
                                    "szoba_id": "9",
                                    "Előző 5": "1"
                                },
                                {
                                    "szallas_fk": "1",
                                    "szoba_id": "9",
                                    "Előző 5": "2"
                                },
                                {
                                    "szallas_fk": "1",
                                    "szoba_id": "9",
                                    "Előző 5": "2"
                                },
                                {
                                    "szallas_fk": "1",
                                    "szoba_id": "10",
                                    "Előző 5": "1"
                                },
                                {
                                    "szallas_fk": "1",
                                    "szoba_id": "10",
                                    "Előző 5": "1"
                                },
                                {
                                    "szallas_fk": "1",
                                    "szoba_id": "10",
                                    "Előző 5": "1"
                                },
                                {
                                    "szallas_fk": "1",
                                    "szoba_id": "10",
                                    "Előző 5": "1"
                                },
                                {
                                    "szallas_fk": "1",
                                    "szoba_id": "10",
                                    "Előző 5": "1"
                                },
                                {
                                    "szallas_fk": "1",
                                    "szoba_id": "10",
                                    "Előző 5": "1"
                                },
                                {
                                    "szallas_fk": "1",
                                    "szoba_id": "10",
                                    "Előző 5": "2"
                                },
                                {
                                    "szallas_fk": "1",
                                    "szoba_id": "10",
                                    "Előző 5": "2"
                                },
                                {
                                    "szallas_fk": "1",
                                    "szoba_id": "11",
                                    "Előző 5": "1"
                                },
                                {
                                    "szallas_fk": "1",
                                    "szoba_id": "11",
                                    "Előző 5": "1"
                                },
                                {
                                    "szallas_fk": "1",
                                    "szoba_id": "11",
                                    "Előző 5": "1"
                                },
                                {
                                    "szallas_fk": "1",
                                    "szoba_id": "11",
                                    "Előző 5": "1"
                                },
                                {
                                    "szallas_fk": "1",
                                    "szoba_id": "11",
                                    "Előző 5": "1"
                                },
                                {
                                    "szallas_fk": "1",
                                    "szoba_id": "11",
                                    "Előző 5": "1"
                                },
                                {
                                    "szallas_fk": "1",
                                    "szoba_id": "11",
                                    "Előző 5": "2"
                                },
                                {
                                    "szallas_fk": "1",
                                    "szoba_id": "11",
                                    "Előző 5": "2"
                                },
                                {
                                    "szallas_fk": "1",
                                    "szoba_id": "12",
                                    "Előző 5": "1"
                                },
                                {
                                    "szallas_fk": "1",
                                    "szoba_id": "12",
                                    "Előző 5": "1"
                                },
                                {
                                    "szallas_fk": "1",
                                    "szoba_id": "12",
                                    "Előző 5": "1"
                                },
                                {
                                    "szallas_fk": "1",
                                    "szoba_id": "12",
                                    "Előző 5": "1"
                                },
                                {
                                    "szallas_fk": "1",
                                    "szoba_id": "12",
                                    "Előző 5": "1"
                                },
                                {
                                    "szallas_fk": "1",
                                    "szoba_id": "12",
                                    "Előző 5": "1"
                                },
                                {
                                    "szallas_fk": "1",
                                    "szoba_id": "12",
                                    "Előző 5": "2"
                                },
                                {
                                    "szallas_fk": "1",
                                    "szoba_id": "12",
                                    "Előző 5": "2"
                                },
                                {
                                    "szallas_fk": "2",
                                    "szoba_id": "13",
                                    "Előző 5": "4"
                                },
                                {
                                    "szallas_fk": "2",
                                    "szoba_id": "13",
                                    "Előző 5": "3"
                                },
                                {
                                    "szallas_fk": "2",
                                    "szoba_id": "13",
                                    "Előző 5": "3"
                                },
                                {
                                    "szallas_fk": "2",
                                    "szoba_id": "13",
                                    "Előző 5": "3"
                                },
                                {
                                    "szallas_fk": "2",
                                    "szoba_id": "14",
                                    "Előző 5": "4"
                                },
                                {
                                    "szallas_fk": "2",
                                    "szoba_id": "14",
                                    "Előző 5": "3"
                                },
                                {
                                    "szallas_fk": "2",
                                    "szoba_id": "14",
                                    "Előző 5": "3"
                                },
                                {
                                    "szallas_fk": "2",
                                    "szoba_id": "14",
                                    "Előző 5": "3"
                                },
                                {
                                    "szallas_fk": "2",
                                    "szoba_id": "15",
                                    "Előző 5": "4"
                                },
                                {
                                    "szallas_fk": "2",
                                    "szoba_id": "15",
                                    "Előző 5": "3"
                                },
                                {
                                    "szallas_fk": "2",
                                    "szoba_id": "15",
                                    "Előző 5": "3"
                                },
                                {
                                    "szallas_fk": "2",
                                    "szoba_id": "15",
                                    "Előző 5": "3"
                                },
                                {
                                    "szallas_fk": "2",
                                    "szoba_id": "16",
                                    "Előző 5": "4"
                                },
                                {
                                    "szallas_fk": "2",
                                    "szoba_id": "16",
                                    "Előző 5": "3"
                                },
                                {
                                    "szallas_fk": "2",
                                    "szoba_id": "16",
                                    "Előző 5": "3"
                                },
                                {
                                    "szallas_fk": "2",
                                    "szoba_id": "16",
                                    "Előző 5": "3"
                                },
                                {
                                    "szallas_fk": "3",
                                    "szoba_id": "17",
                                    "Előző 5": "3"
                                },
                                {
                                    "szallas_fk": "3",
                                    "szoba_id": "17",
                                    "Előző 5": "3"
                                },
                                {
                                    "szallas_fk": "3",
                                    "szoba_id": "17",
                                    "Előző 5": "3"
                                },
                                {
                                    "szallas_fk": "3",
                                    "szoba_id": "17",
                                    "Előző 5": "3"
                                },
                                {
                                    "szallas_fk": "3",
                                    "szoba_id": "17",
                                    "Előző 5": "3"
                                },
                                {
                                    "szallas_fk": "3",
                                    "szoba_id": "17",
                                    "Előző 5": "3"
                                },
                                {
                                    "szallas_fk": "3",
                                    "szoba_id": "17",
                                    "Előző 5": "3"
                                },
                                {
                                    "szallas_fk": "3",
                                    "szoba_id": "17",
                                    "Előző 5": "3"
                                },
                                {
                                    "szallas_fk": "3",
                                    "szoba_id": "18",
                                    "Előző 5": "3"
                                },
                                {
                                    "szallas_fk": "3",
                                    "szoba_id": "18",
                                    "Előző 5": "3"
                                },
                                {
                                    "szallas_fk": "3",
                                    "szoba_id": "18",
                                    "Előző 5": "3"
                                },
                                {
                                    "szallas_fk": "3",
                                    "szoba_id": "18",
                                    "Előző 5": "3"
                                },
                                {
                                    "szallas_fk": "3",
                                    "szoba_id": "18",
                                    "Előző 5": "3"
                                },
                                {
                                    "szallas_fk": "3",
                                    "szoba_id": "18",
                                    "Előző 5": "3"
                                },
                                {
                                    "szallas_fk": "3",
                                    "szoba_id": "18",
                                    "Előző 5": "3"
                                },
                                {
                                    "szallas_fk": "3",
                                    "szoba_id": "18",
                                    "Előző 5": "3"
                                },
                                {
                                    "szallas_fk": "3",
                                    "szoba_id": "19",
                                    "Előző 5": "3"
                                },
                                {
                                    "szallas_fk": "3",
                                    "szoba_id": "19",
                                    "Előző 5": "3"
                                },
                                {
                                    "szallas_fk": "3",
                                    "szoba_id": "19",
                                    "Előző 5": "3"
                                },
                                {
                                    "szallas_fk": "3",
                                    "szoba_id": "19",
                                    "Előző 5": "3"
                                },
                                {
                                    "szallas_fk": "3",
                                    "szoba_id": "19",
                                    "Előző 5": "3"
                                },
                                {
                                    "szallas_fk": "3",
                                    "szoba_id": "19",
                                    "Előző 5": "3"
                                },
                                {
                                    "szallas_fk": "3",
                                    "szoba_id": "19",
                                    "Előző 5": "3"
                                },
                                {
                                    "szallas_fk": "3",
                                    "szoba_id": "19",
                                    "Előző 5": "3"
                                },
                                {
                                    "szallas_fk": "3",
                                    "szoba_id": "20",
                                    "Előző 5": "3"
                                },
                                {
                                    "szallas_fk": "3",
                                    "szoba_id": "20",
                                    "Előző 5": "3"
                                },
                                {
                                    "szallas_fk": "3",
                                    "szoba_id": "20",
                                    "Előző 5": "3"
                                },
                                {
                                    "szallas_fk": "3",
                                    "szoba_id": "20",
                                    "Előző 5": "3"
                                },
                                {
                                    "szallas_fk": "3",
                                    "szoba_id": "20",
                                    "Előző 5": "3"
                                },
                                {
                                    "szallas_fk": "3",
                                    "szoba_id": "20",
                                    "Előző 5": "3"
                                },
                                {
                                    "szallas_fk": "3",
                                    "szoba_id": "20",
                                    "Előző 5": "3"
                                },
                                {
                                    "szallas_fk": "3",
                                    "szoba_id": "20",
                                    "Előző 5": "3"
                                },
                                {
                                    "szallas_fk": "3",
                                    "szoba_id": "21",
                                    "Előző 5": "3"
                                },
                                {
                                    "szallas_fk": "3",
                                    "szoba_id": "21",
                                    "Előző 5": "3"
                                },
                                {
                                    "szallas_fk": "3",
                                    "szoba_id": "21",
                                    "Előző 5": "3"
                                },
                                {
                                    "szallas_fk": "3",
                                    "szoba_id": "21",
                                    "Előző 5": "3"
                                },
                                {
                                    "szallas_fk": "3",
                                    "szoba_id": "21",
                                    "Előző 5": "3"
                                },
                                {
                                    "szallas_fk": "3",
                                    "szoba_id": "21",
                                    "Előző 5": "3"
                                },
                                {
                                    "szallas_fk": "3",
                                    "szoba_id": "21",
                                    "Előző 5": "3"
                                },
                                {
                                    "szallas_fk": "3",
                                    "szoba_id": "21",
                                    "Előző 5": "3"
                                },
                                {
                                    "szallas_fk": "3",
                                    "szoba_id": "22",
                                    "Előző 5": "3"
                                },
                                {
                                    "szallas_fk": "3",
                                    "szoba_id": "22",
                                    "Előző 5": "3"
                                },
                                {
                                    "szallas_fk": "3",
                                    "szoba_id": "22",
                                    "Előző 5": "3"
                                },
                                {
                                    "szallas_fk": "3",
                                    "szoba_id": "22",
                                    "Előző 5": "3"
                                },
                                {
                                    "szallas_fk": "3",
                                    "szoba_id": "22",
                                    "Előző 5": "3"
                                },
                                {
                                    "szallas_fk": "3",
                                    "szoba_id": "22",
                                    "Előző 5": "3"
                                },
                                {
                                    "szallas_fk": "3",
                                    "szoba_id": "22",
                                    "Előző 5": "3"
                                },
                                {
                                    "szallas_fk": "3",
                                    "szoba_id": "22",
                                    "Előző 5": "3"
                                },
                                {
                                    "szallas_fk": "3",
                                    "szoba_id": "23",
                                    "Előző 5": "3"
                                },
                                {
                                    "szallas_fk": "3",
                                    "szoba_id": "23",
                                    "Előző 5": "3"
                                },
                                {
                                    "szallas_fk": "3",
                                    "szoba_id": "23",
                                    "Előző 5": "3"
                                },
                                {
                                    "szallas_fk": "3",
                                    "szoba_id": "23",
                                    "Előző 5": "3"
                                },
                                {
                                    "szallas_fk": "3",
                                    "szoba_id": "23",
                                    "Előző 5": "3"
                                },
                                {
                                    "szallas_fk": "3",
                                    "szoba_id": "23",
                                    "Előző 5": "3"
                                },
                                {
                                    "szallas_fk": "3",
                                    "szoba_id": "23",
                                    "Előző 5": "3"
                                },
                                {
                                    "szallas_fk": "3",
                                    "szoba_id": "23",
                                    "Előző 5": "3"
                                },
                                {
                                    "szallas_fk": "3",
                                    "szoba_id": "24",
                                    "Előző 5": "3"
                                },
                                {
                                    "szallas_fk": "3",
                                    "szoba_id": "24",
                                    "Előző 5": "3"
                                },
                                {
                                    "szallas_fk": "3",
                                    "szoba_id": "24",
                                    "Előző 5": "3"
                                },
                                {
                                    "szallas_fk": "3",
                                    "szoba_id": "24",
                                    "Előző 5": "3"
                                },
                                {
                                    "szallas_fk": "3",
                                    "szoba_id": "24",
                                    "Előző 5": "3"
                                },
                                {
                                    "szallas_fk": "3",
                                    "szoba_id": "24",
                                    "Előző 5": "3"
                                },
                                {
                                    "szallas_fk": "3",
                                    "szoba_id": "24",
                                    "Előző 5": "3"
                                },
                                {
                                    "szallas_fk": "3",
                                    "szoba_id": "24",
                                    "Előző 5": "3"
                                },
                                {
                                    "szallas_fk": "4",
                                    "szoba_id": "25",
                                    "Előző 5": "1"
                                },
                                {
                                    "szallas_fk": "4",
                                    "szoba_id": "25",
                                    "Előző 5": "1"
                                },
                                {
                                    "szallas_fk": "4",
                                    "szoba_id": "25",
                                    "Előző 5": "1"
                                },
                                {
                                    "szallas_fk": "4",
                                    "szoba_id": "25",
                                    "Előző 5": "1"
                                },
                                {
                                    "szallas_fk": "4",
                                    "szoba_id": "25",
                                    "Előző 5": "1"
                                },
                                {
                                    "szallas_fk": "4",
                                    "szoba_id": "25",
                                    "Előző 5": "1"
                                },
                                {
                                    "szallas_fk": "4",
                                    "szoba_id": "26",
                                    "Előző 5": "1"
                                },
                                {
                                    "szallas_fk": "4",
                                    "szoba_id": "26",
                                    "Előző 5": "1"
                                },
                                {
                                    "szallas_fk": "4",
                                    "szoba_id": "26",
                                    "Előző 5": "1"
                                },
                                {
                                    "szallas_fk": "4",
                                    "szoba_id": "26",
                                    "Előző 5": "1"
                                },
                                {
                                    "szallas_fk": "4",
                                    "szoba_id": "26",
                                    "Előző 5": "1"
                                },
                                {
                                    "szallas_fk": "4",
                                    "szoba_id": "26",
                                    "Előző 5": "1"
                                },
                                {
                                    "szallas_fk": "4",
                                    "szoba_id": "27",
                                    "Előző 5": "1"
                                },
                                {
                                    "szallas_fk": "4",
                                    "szoba_id": "27",
                                    "Előző 5": "1"
                                },
                                {
                                    "szallas_fk": "4",
                                    "szoba_id": "27",
                                    "Előző 5": "1"
                                },
                                {
                                    "szallas_fk": "4",
                                    "szoba_id": "27",
                                    "Előző 5": "1"
                                },
                                {
                                    "szallas_fk": "4",
                                    "szoba_id": "27",
                                    "Előző 5": "1"
                                },
                                {
                                    "szallas_fk": "4",
                                    "szoba_id": "27",
                                    "Előző 5": "1"
                                },
                                {
                                    "szallas_fk": "4",
                                    "szoba_id": "28",
                                    "Előző 5": "1"
                                },
                                {
                                    "szallas_fk": "4",
                                    "szoba_id": "28",
                                    "Előző 5": "1"
                                },
                                {
                                    "szallas_fk": "4",
                                    "szoba_id": "28",
                                    "Előző 5": "1"
                                },
                                {
                                    "szallas_fk": "4",
                                    "szoba_id": "28",
                                    "Előző 5": "1"
                                },
                                {
                                    "szallas_fk": "4",
                                    "szoba_id": "28",
                                    "Előző 5": "1"
                                },
                                {
                                    "szallas_fk": "4",
                                    "szoba_id": "28",
                                    "Előző 5": "1"
                                },
                                {
                                    "szallas_fk": "4",
                                    "szoba_id": "29",
                                    "Előző 5": "1"
                                },
                                {
                                    "szallas_fk": "4",
                                    "szoba_id": "29",
                                    "Előző 5": "1"
                                },
                                {
                                    "szallas_fk": "4",
                                    "szoba_id": "29",
                                    "Előző 5": "1"
                                },
                                {
                                    "szallas_fk": "4",
                                    "szoba_id": "29",
                                    "Előző 5": "1"
                                },
                                {
                                    "szallas_fk": "4",
                                    "szoba_id": "29",
                                    "Előző 5": "1"
                                },
                                {
                                    "szallas_fk": "4",
                                    "szoba_id": "29",
                                    "Előző 5": "1"
                                },
                                {
                                    "szallas_fk": "4",
                                    "szoba_id": "30",
                                    "Előző 5": "1"
                                },
                                {
                                    "szallas_fk": "4",
                                    "szoba_id": "30",
                                    "Előző 5": "1"
                                },
                                {
                                    "szallas_fk": "4",
                                    "szoba_id": "30",
                                    "Előző 5": "1"
                                },
                                {
                                    "szallas_fk": "4",
                                    "szoba_id": "30",
                                    "Előző 5": "1"
                                },
                                {
                                    "szallas_fk": "4",
                                    "szoba_id": "30",
                                    "Előző 5": "1"
                                },
                                {
                                    "szallas_fk": "4",
                                    "szoba_id": "30",
                                    "Előző 5": "1"
                                },
                                {
                                    "szallas_fk": "4",
                                    "szoba_id": "31",
                                    "Előző 5": "1"
                                },
                                {
                                    "szallas_fk": "4",
                                    "szoba_id": "31",
                                    "Előző 5": "1"
                                },
                                {
                                    "szallas_fk": "4",
                                    "szoba_id": "31",
                                    "Előző 5": "1"
                                },
                                {
                                    "szallas_fk": "4",
                                    "szoba_id": "31",
                                    "Előző 5": "1"
                                },
                                {
                                    "szallas_fk": "4",
                                    "szoba_id": "31",
                                    "Előző 5": "1"
                                },
                                {
                                    "szallas_fk": "4",
                                    "szoba_id": "31",
                                    "Előző 5": "1"
                                },
                                {
                                    "szallas_fk": "4",
                                    "szoba_id": "32",
                                    "Előző 5": "1"
                                },
                                {
                                    "szallas_fk": "4",
                                    "szoba_id": "32",
                                    "Előző 5": "1"
                                },
                                {
                                    "szallas_fk": "4",
                                    "szoba_id": "32",
                                    "Előző 5": "1"
                                },
                                {
                                    "szallas_fk": "4",
                                    "szoba_id": "32",
                                    "Előző 5": "1"
                                },
                                {
                                    "szallas_fk": "4",
                                    "szoba_id": "32",
                                    "Előző 5": "1"
                                },
                                {
                                    "szallas_fk": "4",
                                    "szoba_id": "32",
                                    "Előző 5": "1"
                                },
                                {
                                    "szallas_fk": "4",
                                    "szoba_id": "33",
                                    "Előző 5": "1"
                                },
                                {
                                    "szallas_fk": "4",
                                    "szoba_id": "33",
                                    "Előző 5": "1"
                                },
                                {
                                    "szallas_fk": "4",
                                    "szoba_id": "33",
                                    "Előző 5": "1"
                                },
                                {
                                    "szallas_fk": "4",
                                    "szoba_id": "33",
                                    "Előző 5": "1"
                                },
                                {
                                    "szallas_fk": "4",
                                    "szoba_id": "33",
                                    "Előző 5": "1"
                                },
                                {
                                    "szallas_fk": "4",
                                    "szoba_id": "33",
                                    "Előző 5": "1"
                                },
                                {
                                    "szallas_fk": "4",
                                    "szoba_id": "34",
                                    "Előző 5": "1"
                                },
                                {
                                    "szallas_fk": "4",
                                    "szoba_id": "34",
                                    "Előző 5": "1"
                                },
                                {
                                    "szallas_fk": "4",
                                    "szoba_id": "34",
                                    "Előző 5": "1"
                                },
                                {
                                    "szallas_fk": "4",
                                    "szoba_id": "34",
                                    "Előző 5": "1"
                                },
                                {
                                    "szallas_fk": "4",
                                    "szoba_id": "34",
                                    "Előző 5": "1"
                                },
                                {
                                    "szallas_fk": "4",
                                    "szoba_id": "34",
                                    "Előző 5": "1"
                                },
                                {
                                    "szallas_fk": "4",
                                    "szoba_id": "35",
                                    "Előző 5": "1"
                                },
                                {
                                    "szallas_fk": "4",
                                    "szoba_id": "35",
                                    "Előző 5": "1"
                                },
                                {
                                    "szallas_fk": "4",
                                    "szoba_id": "35",
                                    "Előző 5": "1"
                                },
                                {
                                    "szallas_fk": "4",
                                    "szoba_id": "35",
                                    "Előző 5": "1"
                                },
                                {
                                    "szallas_fk": "4",
                                    "szoba_id": "35",
                                    "Előző 5": "1"
                                },
                                {
                                    "szallas_fk": "4",
                                    "szoba_id": "35",
                                    "Előző 5": "1"
                                },
                                {
                                    "szallas_fk": "4",
                                    "szoba_id": "36",
                                    "Előző 5": "1"
                                },
                                {
                                    "szallas_fk": "4",
                                    "szoba_id": "36",
                                    "Előző 5": "1"
                                },
                                {
                                    "szallas_fk": "4",
                                    "szoba_id": "36",
                                    "Előző 5": "1"
                                },
                                {
                                    "szallas_fk": "4",
                                    "szoba_id": "36",
                                    "Előző 5": "1"
                                },
                                {
                                    "szallas_fk": "4",
                                    "szoba_id": "36",
                                    "Előző 5": "1"
                                },
                                {
                                    "szallas_fk": "4",
                                    "szoba_id": "36",
                                    "Előző 5": "1"
                                },
                                {
                                    "szallas_fk": "4",
                                    "szoba_id": "37",
                                    "Előző 5": "1"
                                },
                                {
                                    "szallas_fk": "4",
                                    "szoba_id": "37",
                                    "Előző 5": "1"
                                },
                                {
                                    "szallas_fk": "4",
                                    "szoba_id": "37",
                                    "Előző 5": "1"
                                },
                                {
                                    "szallas_fk": "4",
                                    "szoba_id": "37",
                                    "Előző 5": "1"
                                },
                                {
                                    "szallas_fk": "4",
                                    "szoba_id": "37",
                                    "Előző 5": "1"
                                },
                                {
                                    "szallas_fk": "4",
                                    "szoba_id": "37",
                                    "Előző 5": "1"
                                },
                                {
                                    "szallas_fk": "4",
                                    "szoba_id": "38",
                                    "Előző 5": "1"
                                },
                                {
                                    "szallas_fk": "4",
                                    "szoba_id": "38",
                                    "Előző 5": "1"
                                },
                                {
                                    "szallas_fk": "4",
                                    "szoba_id": "38",
                                    "Előző 5": "1"
                                },
                                {
                                    "szallas_fk": "4",
                                    "szoba_id": "38",
                                    "Előző 5": "1"
                                },
                                {
                                    "szallas_fk": "4",
                                    "szoba_id": "38",
                                    "Előző 5": "1"
                                },
                                {
                                    "szallas_fk": "4",
                                    "szoba_id": "38",
                                    "Előző 5": "1"
                                },
                                {
                                    "szallas_fk": "4",
                                    "szoba_id": "39",
                                    "Előző 5": "1"
                                },
                                {
                                    "szallas_fk": "4",
                                    "szoba_id": "39",
                                    "Előző 5": "1"
                                },
                                {
                                    "szallas_fk": "4",
                                    "szoba_id": "39",
                                    "Előző 5": "1"
                                },
                                {
                                    "szallas_fk": "4",
                                    "szoba_id": "39",
                                    "Előző 5": "1"
                                },
                                {
                                    "szallas_fk": "4",
                                    "szoba_id": "39",
                                    "Előző 5": "1"
                                },
                                {
                                    "szallas_fk": "4",
                                    "szoba_id": "39",
                                    "Előző 5": "1"
                                },
                                {
                                    "szallas_fk": "5",
                                    "szoba_id": "40",
                                    "Előző 5": "2"
                                },
                                {
                                    "szallas_fk": "5",
                                    "szoba_id": "40",
                                    "Előző 5": "1"
                                },
                                {
                                    "szallas_fk": "5",
                                    "szoba_id": "40",
                                    "Előző 5": "1"
                                },
                                {
                                    "szallas_fk": "5",
                                    "szoba_id": "40",
                                    "Előző 5": "1"
                                },
                                {
                                    "szallas_fk": "5",
                                    "szoba_id": "41",
                                    "Előző 5": "2"
                                },
                                {
                                    "szallas_fk": "5",
                                    "szoba_id": "41",
                                    "Előző 5": "1"
                                },
                                {
                                    "szallas_fk": "5",
                                    "szoba_id": "41",
                                    "Előző 5": "1"
                                },
                                {
                                    "szallas_fk": "5",
                                    "szoba_id": "41",
                                    "Előző 5": "1"
                                },
                                {
                                    "szallas_fk": "5",
                                    "szoba_id": "42",
                                    "Előző 5": "2"
                                },
                                {
                                    "szallas_fk": "5",
                                    "szoba_id": "42",
                                    "Előző 5": "1"
                                },
                                {
                                    "szallas_fk": "5",
                                    "szoba_id": "42",
                                    "Előző 5": "1"
                                },
                                {
                                    "szallas_fk": "5",
                                    "szoba_id": "42",
                                    "Előző 5": "1"
                                },
                                {
                                    "szallas_fk": "5",
                                    "szoba_id": "43",
                                    "Előző 5": "2"
                                },
                                {
                                    "szallas_fk": "5",
                                    "szoba_id": "43",
                                    "Előző 5": "1"
                                },
                                {
                                    "szallas_fk": "5",
                                    "szoba_id": "43",
                                    "Előző 5": "1"
                                },
                                {
                                    "szallas_fk": "5",
                                    "szoba_id": "43",
                                    "Előző 5": "1"
                                },
                                {
                                    "szallas_fk": "5",
                                    "szoba_id": "44",
                                    "Előző 5": "2"
                                },
                                {
                                    "szallas_fk": "5",
                                    "szoba_id": "44",
                                    "Előző 5": "1"
                                },
                                {
                                    "szallas_fk": "5",
                                    "szoba_id": "44",
                                    "Előző 5": "1"
                                },
                                {
                                    "szallas_fk": "5",
                                    "szoba_id": "44",
                                    "Előző 5": "1"
                                },
                                {
                                    "szallas_fk": "5",
                                    "szoba_id": "45",
                                    "Előző 5": "2"
                                },
                                {
                                    "szallas_fk": "5",
                                    "szoba_id": "45",
                                    "Előző 5": "1"
                                },
                                {
                                    "szallas_fk": "5",
                                    "szoba_id": "45",
                                    "Előző 5": "1"
                                },
                                {
                                    "szallas_fk": "5",
                                    "szoba_id": "45",
                                    "Előző 5": "1"
                                },
                                {
                                    "szallas_fk": "5",
                                    "szoba_id": "46",
                                    "Előző 5": "2"
                                },
                                {
                                    "szallas_fk": "5",
                                    "szoba_id": "46",
                                    "Előző 5": "1"
                                },
                                {
                                    "szallas_fk": "5",
                                    "szoba_id": "46",
                                    "Előző 5": "1"
                                },
                                {
                                    "szallas_fk": "5",
                                    "szoba_id": "46",
                                    "Előző 5": "1"
                                },
                                {
                                    "szallas_fk": "5",
                                    "szoba_id": "47",
                                    "Előző 5": "2"
                                },
                                {
                                    "szallas_fk": "5",
                                    "szoba_id": "47",
                                    "Előző 5": "1"
                                },
                                {
                                    "szallas_fk": "5",
                                    "szoba_id": "47",
                                    "Előző 5": "1"
                                },
                                {
                                    "szallas_fk": "5",
                                    "szoba_id": "47",
                                    "Előző 5": "1"
                                },
                                {
                                    "szallas_fk": "5",
                                    "szoba_id": "48",
                                    "Előző 5": "2"
                                },
                                {
                                    "szallas_fk": "5",
                                    "szoba_id": "48",
                                    "Előző 5": "1"
                                },
                                {
                                    "szallas_fk": "5",
                                    "szoba_id": "48",
                                    "Előző 5": "1"
                                },
                                {
                                    "szallas_fk": "5",
                                    "szoba_id": "48",
                                    "Előző 5": "1"
                                },
                                {
                                    "szallas_fk": "5",
                                    "szoba_id": "49",
                                    "Előző 5": "2"
                                },
                                {
                                    "szallas_fk": "5",
                                    "szoba_id": "49",
                                    "Előző 5": "1"
                                },
                                {
                                    "szallas_fk": "5",
                                    "szoba_id": "49",
                                    "Előző 5": "1"
                                },
                                {
                                    "szallas_fk": "5",
                                    "szoba_id": "49",
                                    "Előző 5": "1"
                                },
                                {
                                    "szallas_fk": "6",
                                    "szoba_id": "50",
                                    "Előző 5": "2"
                                },
                                {
                                    "szallas_fk": "6",
                                    "szoba_id": "50",
                                    "Előző 5": "2"
                                },
                                {
                                    "szallas_fk": "6",
                                    "szoba_id": "50",
                                    "Előző 5": "1"
                                },
                                {
                                    "szallas_fk": "6",
                                    "szoba_id": "50",
                                    "Előző 5": "2"
                                },
                                {
                                    "szallas_fk": "6",
                                    "szoba_id": "50",
                                    "Előző 5": "2"
                                },
                                {
                                    "szallas_fk": "6",
                                    "szoba_id": "50",
                                    "Előző 5": "2"
                                },
                                {
                                    "szallas_fk": "6",
                                    "szoba_id": "51",
                                    "Előző 5": "2"
                                },
                                {
                                    "szallas_fk": "6",
                                    "szoba_id": "51",
                                    "Előző 5": "2"
                                },
                                {
                                    "szallas_fk": "6",
                                    "szoba_id": "51",
                                    "Előző 5": "1"
                                },
                                {
                                    "szallas_fk": "6",
                                    "szoba_id": "51",
                                    "Előző 5": "2"
                                },
                                {
                                    "szallas_fk": "6",
                                    "szoba_id": "51",
                                    "Előző 5": "2"
                                },
                                {
                                    "szallas_fk": "6",
                                    "szoba_id": "51",
                                    "Előző 5": "2"
                                },
                                {
                                    "szallas_fk": "6",
                                    "szoba_id": "52",
                                    "Előző 5": "2"
                                },
                                {
                                    "szallas_fk": "6",
                                    "szoba_id": "52",
                                    "Előző 5": "2"
                                },
                                {
                                    "szallas_fk": "6",
                                    "szoba_id": "52",
                                    "Előző 5": "1"
                                },
                                {
                                    "szallas_fk": "6",
                                    "szoba_id": "52",
                                    "Előző 5": "2"
                                },
                                {
                                    "szallas_fk": "6",
                                    "szoba_id": "52",
                                    "Előző 5": "2"
                                },
                                {
                                    "szallas_fk": "6",
                                    "szoba_id": "52",
                                    "Előző 5": "2"
                                },
                                {
                                    "szallas_fk": "6",
                                    "szoba_id": "53",
                                    "Előző 5": "2"
                                },
                                {
                                    "szallas_fk": "6",
                                    "szoba_id": "53",
                                    "Előző 5": "2"
                                },
                                {
                                    "szallas_fk": "6",
                                    "szoba_id": "53",
                                    "Előző 5": "1"
                                },
                                {
                                    "szallas_fk": "6",
                                    "szoba_id": "53",
                                    "Előző 5": "2"
                                },
                                {
                                    "szallas_fk": "6",
                                    "szoba_id": "53",
                                    "Előző 5": "2"
                                },
                                {
                                    "szallas_fk": "6",
                                    "szoba_id": "53",
                                    "Előző 5": "2"
                                },
                                {
                                    "szallas_fk": "6",
                                    "szoba_id": "54",
                                    "Előző 5": "2"
                                },
                                {
                                    "szallas_fk": "6",
                                    "szoba_id": "54",
                                    "Előző 5": "2"
                                },
                                {
                                    "szallas_fk": "6",
                                    "szoba_id": "54",
                                    "Előző 5": "1"
                                },
                                {
                                    "szallas_fk": "6",
                                    "szoba_id": "54",
                                    "Előző 5": "2"
                                },
                                {
                                    "szallas_fk": "6",
                                    "szoba_id": "54",
                                    "Előző 5": "2"
                                },
                                {
                                    "szallas_fk": "6",
                                    "szoba_id": "54",
                                    "Előző 5": "2"
                                },
                                {
                                    "szallas_fk": "6",
                                    "szoba_id": "55",
                                    "Előző 5": "2"
                                },
                                {
                                    "szallas_fk": "6",
                                    "szoba_id": "55",
                                    "Előző 5": "2"
                                },
                                {
                                    "szallas_fk": "6",
                                    "szoba_id": "55",
                                    "Előző 5": "1"
                                },
                                {
                                    "szallas_fk": "6",
                                    "szoba_id": "55",
                                    "Előző 5": "2"
                                },
                                {
                                    "szallas_fk": "6",
                                    "szoba_id": "55",
                                    "Előző 5": "2"
                                },
                                {
                                    "szallas_fk": "6",
                                    "szoba_id": "55",
                                    "Előző 5": "2"
                                },
                                {
                                    "szallas_fk": "6",
                                    "szoba_id": "56",
                                    "Előző 5": "2"
                                },
                                {
                                    "szallas_fk": "6",
                                    "szoba_id": "56",
                                    "Előző 5": "2"
                                },
                                {
                                    "szallas_fk": "6",
                                    "szoba_id": "56",
                                    "Előző 5": "1"
                                },
                                {
                                    "szallas_fk": "6",
                                    "szoba_id": "56",
                                    "Előző 5": "2"
                                },
                                {
                                    "szallas_fk": "6",
                                    "szoba_id": "56",
                                    "Előző 5": "2"
                                },
                                {
                                    "szallas_fk": "6",
                                    "szoba_id": "56",
                                    "Előző 5": "2"
                                },
                                {
                                    "szallas_fk": "6",
                                    "szoba_id": "57",
                                    "Előző 5": "2"
                                },
                                {
                                    "szallas_fk": "6",
                                    "szoba_id": "57",
                                    "Előző 5": "2"
                                },
                                {
                                    "szallas_fk": "6",
                                    "szoba_id": "57",
                                    "Előző 5": "1"
                                },
                                {
                                    "szallas_fk": "6",
                                    "szoba_id": "57",
                                    "Előző 5": "2"
                                },
                                {
                                    "szallas_fk": "6",
                                    "szoba_id": "57",
                                    "Előző 5": "2"
                                },
                                {
                                    "szallas_fk": "6",
                                    "szoba_id": "57",
                                    "Előző 5": "2"
                                },
                                {
                                    "szallas_fk": "6",
                                    "szoba_id": "58",
                                    "Előző 5": "2"
                                },
                                {
                                    "szallas_fk": "6",
                                    "szoba_id": "58",
                                    "Előző 5": "2"
                                },
                                {
                                    "szallas_fk": "6",
                                    "szoba_id": "58",
                                    "Előző 5": "1"
                                },
                                {
                                    "szallas_fk": "6",
                                    "szoba_id": "58",
                                    "Előző 5": "2"
                                },
                                {
                                    "szallas_fk": "6",
                                    "szoba_id": "58",
                                    "Előző 5": "2"
                                },
                                {
                                    "szallas_fk": "6",
                                    "szoba_id": "58",
                                    "Előző 5": "2"
                                },
                                {
                                    "szallas_fk": "6",
                                    "szoba_id": "59",
                                    "Előző 5": "2"
                                },
                                {
                                    "szallas_fk": "6",
                                    "szoba_id": "59",
                                    "Előző 5": "2"
                                },
                                {
                                    "szallas_fk": "6",
                                    "szoba_id": "59",
                                    "Előző 5": "1"
                                },
                                {
                                    "szallas_fk": "6",
                                    "szoba_id": "59",
                                    "Előző 5": "2"
                                },
                                {
                                    "szallas_fk": "6",
                                    "szoba_id": "59",
                                    "Előző 5": "2"
                                },
                                {
                                    "szallas_fk": "6",
                                    "szoba_id": "59",
                                    "Előző 5": "2"
                                },
                                {
                                    "szallas_fk": "6",
                                    "szoba_id": "60",
                                    "Előző 5": "2"
                                },
                                {
                                    "szallas_fk": "6",
                                    "szoba_id": "60",
                                    "Előző 5": "2"
                                },
                                {
                                    "szallas_fk": "6",
                                    "szoba_id": "60",
                                    "Előző 5": "1"
                                },
                                {
                                    "szallas_fk": "6",
                                    "szoba_id": "60",
                                    "Előző 5": "2"
                                },
                                {
                                    "szallas_fk": "6",
                                    "szoba_id": "60",
                                    "Előző 5": "2"
                                },
                                {
                                    "szallas_fk": "6",
                                    "szoba_id": "60",
                                    "Előző 5": "2"
                                },
                                {
                                    "szallas_fk": "6",
                                    "szoba_id": "61",
                                    "Előző 5": "2"
                                },
                                {
                                    "szallas_fk": "6",
                                    "szoba_id": "61",
                                    "Előző 5": "2"
                                },
                                {
                                    "szallas_fk": "6",
                                    "szoba_id": "61",
                                    "Előző 5": "1"
                                },
                                {
                                    "szallas_fk": "6",
                                    "szoba_id": "61",
                                    "Előző 5": "2"
                                },
                                {
                                    "szallas_fk": "6",
                                    "szoba_id": "61",
                                    "Előző 5": "2"
                                },
                                {
                                    "szallas_fk": "6",
                                    "szoba_id": "61",
                                    "Előző 5": "2"
                                },
                                {
                                    "szallas_fk": "6",
                                    "szoba_id": "62",
                                    "Előző 5": "2"
                                },
                                {
                                    "szallas_fk": "6",
                                    "szoba_id": "62",
                                    "Előző 5": "2"
                                },
                                {
                                    "szallas_fk": "6",
                                    "szoba_id": "62",
                                    "Előző 5": "1"
                                },
                                {
                                    "szallas_fk": "6",
                                    "szoba_id": "62",
                                    "Előző 5": "2"
                                },
                                {
                                    "szallas_fk": "6",
                                    "szoba_id": "62",
                                    "Előző 5": "2"
                                },
                                {
                                    "szallas_fk": "6",
                                    "szoba_id": "62",
                                    "Előző 5": "2"
                                },
                                {
                                    "szallas_fk": "6",
                                    "szoba_id": "63",
                                    "Előző 5": "2"
                                },
                                {
                                    "szallas_fk": "6",
                                    "szoba_id": "63",
                                    "Előző 5": "2"
                                },
                                {
                                    "szallas_fk": "6",
                                    "szoba_id": "63",
                                    "Előző 5": "1"
                                },
                                {
                                    "szallas_fk": "6",
                                    "szoba_id": "63",
                                    "Előző 5": "2"
                                },
                                {
                                    "szallas_fk": "6",
                                    "szoba_id": "63",
                                    "Előző 5": "2"
                                },
                                {
                                    "szallas_fk": "6",
                                    "szoba_id": "63",
                                    "Előző 5": "2"
                                },
                                {
                                    "szallas_fk": "6",
                                    "szoba_id": "64",
                                    "Előző 5": "2"
                                },
                                {
                                    "szallas_fk": "6",
                                    "szoba_id": "64",
                                    "Előző 5": "2"
                                },
                                {
                                    "szallas_fk": "6",
                                    "szoba_id": "64",
                                    "Előző 5": "1"
                                },
                                {
                                    "szallas_fk": "6",
                                    "szoba_id": "64",
                                    "Előző 5": "2"
                                },
                                {
                                    "szallas_fk": "6",
                                    "szoba_id": "64",
                                    "Előző 5": "2"
                                },
                                {
                                    "szallas_fk": "6",
                                    "szoba_id": "64",
                                    "Előző 5": "2"
                                },
                                {
                                    "szallas_fk": "6",
                                    "szoba_id": "65",
                                    "Előző 5": "2"
                                },
                                {
                                    "szallas_fk": "6",
                                    "szoba_id": "65",
                                    "Előző 5": "2"
                                },
                                {
                                    "szallas_fk": "6",
                                    "szoba_id": "65",
                                    "Előző 5": "1"
                                },
                                {
                                    "szallas_fk": "6",
                                    "szoba_id": "65",
                                    "Előző 5": "2"
                                },
                                {
                                    "szallas_fk": "6",
                                    "szoba_id": "65",
                                    "Előző 5": "2"
                                },
                                {
                                    "szallas_fk": "6",
                                    "szoba_id": "65",
                                    "Előző 5": "2"
                                },
                                {
                                    "szallas_fk": "6",
                                    "szoba_id": "66",
                                    "Előző 5": "2"
                                },
                                {
                                    "szallas_fk": "6",
                                    "szoba_id": "66",
                                    "Előző 5": "2"
                                },
                                {
                                    "szallas_fk": "6",
                                    "szoba_id": "66",
                                    "Előző 5": "1"
                                },
                                {
                                    "szallas_fk": "6",
                                    "szoba_id": "66",
                                    "Előző 5": "2"
                                },
                                {
                                    "szallas_fk": "6",
                                    "szoba_id": "66",
                                    "Előző 5": "2"
                                },
                                {
                                    "szallas_fk": "6",
                                    "szoba_id": "66",
                                    "Előző 5": "2"
                                },
                                {
                                    "szallas_fk": "6",
                                    "szoba_id": "67",
                                    "Előző 5": "2"
                                },
                                {
                                    "szallas_fk": "6",
                                    "szoba_id": "67",
                                    "Előző 5": "2"
                                },
                                {
                                    "szallas_fk": "6",
                                    "szoba_id": "67",
                                    "Előző 5": "1"
                                },
                                {
                                    "szallas_fk": "6",
                                    "szoba_id": "67",
                                    "Előző 5": "2"
                                },
                                {
                                    "szallas_fk": "6",
                                    "szoba_id": "67",
                                    "Előző 5": "2"
                                },
                                {
                                    "szallas_fk": "6",
                                    "szoba_id": "67",
                                    "Előző 5": "2"
                                },
                                {
                                    "szallas_fk": "6",
                                    "szoba_id": "68",
                                    "Előző 5": "2"
                                },
                                {
                                    "szallas_fk": "6",
                                    "szoba_id": "68",
                                    "Előző 5": "2"
                                },
                                {
                                    "szallas_fk": "6",
                                    "szoba_id": "68",
                                    "Előző 5": "1"
                                },
                                {
                                    "szallas_fk": "6",
                                    "szoba_id": "68",
                                    "Előző 5": "2"
                                },
                                {
                                    "szallas_fk": "6",
                                    "szoba_id": "68",
                                    "Előző 5": "2"
                                },
                                {
                                    "szallas_fk": "6",
                                    "szoba_id": "68",
                                    "Előző 5": "2"
                                },
                                {
                                    "szallas_fk": "6",
                                    "szoba_id": "69",
                                    "Előző 5": "2"
                                },
                                {
                                    "szallas_fk": "6",
                                    "szoba_id": "69",
                                    "Előző 5": "2"
                                },
                                {
                                    "szallas_fk": "6",
                                    "szoba_id": "69",
                                    "Előző 5": "1"
                                },
                                {
                                    "szallas_fk": "6",
                                    "szoba_id": "69",
                                    "Előző 5": "2"
                                },
                                {
                                    "szallas_fk": "6",
                                    "szoba_id": "69",
                                    "Előző 5": "2"
                                },
                                {
                                    "szallas_fk": "6",
                                    "szoba_id": "69",
                                    "Előző 5": "2"
                                },
                                {
                                    "szallas_fk": "6",
                                    "szoba_id": "70",
                                    "Előző 5": "2"
                                },
                                {
                                    "szallas_fk": "6",
                                    "szoba_id": "70",
                                    "Előző 5": "2"
                                },
                                {
                                    "szallas_fk": "6",
                                    "szoba_id": "70",
                                    "Előző 5": "1"
                                },
                                {
                                    "szallas_fk": "6",
                                    "szoba_id": "70",
                                    "Előző 5": "2"
                                },
                                {
                                    "szallas_fk": "6",
                                    "szoba_id": "70",
                                    "Előző 5": "2"
                                },
                                {
                                    "szallas_fk": "6",
                                    "szoba_id": "70",
                                    "Előző 5": "2"
                                },
                                {
                                    "szallas_fk": "6",
                                    "szoba_id": "71",
                                    "Előző 5": "2"
                                },
                                {
                                    "szallas_fk": "6",
                                    "szoba_id": "71",
                                    "Előző 5": "2"
                                },
                                {
                                    "szallas_fk": "6",
                                    "szoba_id": "71",
                                    "Előző 5": "1"
                                },
                                {
                                    "szallas_fk": "6",
                                    "szoba_id": "71",
                                    "Előző 5": "2"
                                },
                                {
                                    "szallas_fk": "6",
                                    "szoba_id": "71",
                                    "Előző 5": "2"
                                },
                                {
                                    "szallas_fk": "6",
                                    "szoba_id": "71",
                                    "Előző 5": "2"
                                },
                                {
                                    "szallas_fk": "6",
                                    "szoba_id": "72",
                                    "Előző 5": "2"
                                },
                                {
                                    "szallas_fk": "6",
                                    "szoba_id": "72",
                                    "Előző 5": "2"
                                },
                                {
                                    "szallas_fk": "6",
                                    "szoba_id": "72",
                                    "Előző 5": "1"
                                },
                                {
                                    "szallas_fk": "6",
                                    "szoba_id": "72",
                                    "Előző 5": "2"
                                },
                                {
                                    "szallas_fk": "6",
                                    "szoba_id": "72",
                                    "Előző 5": "2"
                                },
                                {
                                    "szallas_fk": "6",
                                    "szoba_id": "72",
                                    "Előző 5": "2"
                                },
                                {
                                    "szallas_fk": "6",
                                    "szoba_id": "73",
                                    "Előző 5": "2"
                                },
                                {
                                    "szallas_fk": "6",
                                    "szoba_id": "73",
                                    "Előző 5": "2"
                                },
                                {
                                    "szallas_fk": "6",
                                    "szoba_id": "73",
                                    "Előző 5": "1"
                                },
                                {
                                    "szallas_fk": "6",
                                    "szoba_id": "73",
                                    "Előző 5": "2"
                                },
                                {
                                    "szallas_fk": "6",
                                    "szoba_id": "73",
                                    "Előző 5": "2"
                                },
                                {
                                    "szallas_fk": "6",
                                    "szoba_id": "73",
                                    "Előző 5": "2"
                                },
                                {
                                    "szallas_fk": "6",
                                    "szoba_id": "74",
                                    "Előző 5": "2"
                                },
                                {
                                    "szallas_fk": "6",
                                    "szoba_id": "74",
                                    "Előző 5": "2"
                                },
                                {
                                    "szallas_fk": "6",
                                    "szoba_id": "74",
                                    "Előző 5": "1"
                                },
                                {
                                    "szallas_fk": "6",
                                    "szoba_id": "74",
                                    "Előző 5": "2"
                                },
                                {
                                    "szallas_fk": "6",
                                    "szoba_id": "74",
                                    "Előző 5": "2"
                                },
                                {
                                    "szallas_fk": "6",
                                    "szoba_id": "74",
                                    "Előző 5": "2"
                                },
                                {
                                    "szallas_fk": "6",
                                    "szoba_id": "75",
                                    "Előző 5": "2"
                                },
                                {
                                    "szallas_fk": "6",
                                    "szoba_id": "75",
                                    "Előző 5": "2"
                                },
                                {
                                    "szallas_fk": "6",
                                    "szoba_id": "75",
                                    "Előző 5": "1"
                                },
                                {
                                    "szallas_fk": "6",
                                    "szoba_id": "75",
                                    "Előző 5": "2"
                                },
                                {
                                    "szallas_fk": "6",
                                    "szoba_id": "75",
                                    "Előző 5": "2"
                                },
                                {
                                    "szallas_fk": "6",
                                    "szoba_id": "75",
                                    "Előző 5": "2"
                                },
                                {
                                    "szallas_fk": "6",
                                    "szoba_id": "76",
                                    "Előző 5": "2"
                                },
                                {
                                    "szallas_fk": "6",
                                    "szoba_id": "76",
                                    "Előző 5": "2"
                                },
                                {
                                    "szallas_fk": "6",
                                    "szoba_id": "76",
                                    "Előző 5": "1"
                                },
                                {
                                    "szallas_fk": "6",
                                    "szoba_id": "76",
                                    "Előző 5": "2"
                                },
                                {
                                    "szallas_fk": "6",
                                    "szoba_id": "76",
                                    "Előző 5": "2"
                                },
                                {
                                    "szallas_fk": "6",
                                    "szoba_id": "76",
                                    "Előző 5": "2"
                                },
                                {
                                    "szallas_fk": "6",
                                    "szoba_id": "77",
                                    "Előző 5": "2"
                                },
                                {
                                    "szallas_fk": "6",
                                    "szoba_id": "77",
                                    "Előző 5": "2"
                                },
                                {
                                    "szallas_fk": "6",
                                    "szoba_id": "77",
                                    "Előző 5": "1"
                                },
                                {
                                    "szallas_fk": "6",
                                    "szoba_id": "77",
                                    "Előző 5": "2"
                                },
                                {
                                    "szallas_fk": "6",
                                    "szoba_id": "77",
                                    "Előző 5": "2"
                                },
                                {
                                    "szallas_fk": "6",
                                    "szoba_id": "77",
                                    "Előző 5": "2"
                                },
                                {
                                    "szallas_fk": "6",
                                    "szoba_id": "78",
                                    "Előző 5": "2"
                                },
                                {
                                    "szallas_fk": "6",
                                    "szoba_id": "78",
                                    "Előző 5": "2"
                                },
                                {
                                    "szallas_fk": "6",
                                    "szoba_id": "78",
                                    "Előző 5": "1"
                                },
                                {
                                    "szallas_fk": "6",
                                    "szoba_id": "78",
                                    "Előző 5": "2"
                                },
                                {
                                    "szallas_fk": "6",
                                    "szoba_id": "78",
                                    "Előző 5": "2"
                                },
                                {
                                    "szallas_fk": "6",
                                    "szoba_id": "78",
                                    "Előző 5": "2"
                                },
                                {
                                    "szallas_fk": "6",
                                    "szoba_id": "79",
                                    "Előző 5": "2"
                                },
                                {
                                    "szallas_fk": "6",
                                    "szoba_id": "79",
                                    "Előző 5": "2"
                                },
                                {
                                    "szallas_fk": "6",
                                    "szoba_id": "79",
                                    "Előző 5": "1"
                                },
                                {
                                    "szallas_fk": "6",
                                    "szoba_id": "79",
                                    "Előző 5": "2"
                                },
                                {
                                    "szallas_fk": "6",
                                    "szoba_id": "79",
                                    "Előző 5": "2"
                                },
                                {
                                    "szallas_fk": "6",
                                    "szoba_id": "79",
                                    "Előző 5": "2"
                                },
                                {
                                    "szallas_fk": "6",
                                    "szoba_id": "80",
                                    "Előző 5": "2"
                                },
                                {
                                    "szallas_fk": "6",
                                    "szoba_id": "80",
                                    "Előző 5": "2"
                                },
                                {
                                    "szallas_fk": "6",
                                    "szoba_id": "80",
                                    "Előző 5": "1"
                                },
                                {
                                    "szallas_fk": "6",
                                    "szoba_id": "80",
                                    "Előző 5": "2"
                                },
                                {
                                    "szallas_fk": "6",
                                    "szoba_id": "80",
                                    "Előző 5": "2"
                                },
                                {
                                    "szallas_fk": "6",
                                    "szoba_id": "80",
                                    "Előző 5": "2"
                                },
                                {
                                    "szallas_fk": "6",
                                    "szoba_id": "81",
                                    "Előző 5": "2"
                                },
                                {
                                    "szallas_fk": "6",
                                    "szoba_id": "81",
                                    "Előző 5": "2"
                                },
                                {
                                    "szallas_fk": "6",
                                    "szoba_id": "81",
                                    "Előző 5": "1"
                                },
                                {
                                    "szallas_fk": "6",
                                    "szoba_id": "81",
                                    "Előző 5": "2"
                                },
                                {
                                    "szallas_fk": "6",
                                    "szoba_id": "81",
                                    "Előző 5": "2"
                                },
                                {
                                    "szallas_fk": "6",
                                    "szoba_id": "81",
                                    "Előző 5": "2"
                                },
                                {
                                    "szallas_fk": "6",
                                    "szoba_id": "82",
                                    "Előző 5": "2"
                                },
                                {
                                    "szallas_fk": "6",
                                    "szoba_id": "82",
                                    "Előző 5": "2"
                                },
                                {
                                    "szallas_fk": "6",
                                    "szoba_id": "82",
                                    "Előző 5": "1"
                                },
                                {
                                    "szallas_fk": "6",
                                    "szoba_id": "82",
                                    "Előző 5": "2"
                                },
                                {
                                    "szallas_fk": "6",
                                    "szoba_id": "82",
                                    "Előző 5": "2"
                                },
                                {
                                    "szallas_fk": "6",
                                    "szoba_id": "82",
                                    "Előző 5": "2"
                                },
                                {
                                    "szallas_fk": "6",
                                    "szoba_id": "83",
                                    "Előző 5": "2"
                                },
                                {
                                    "szallas_fk": "6",
                                    "szoba_id": "83",
                                    "Előző 5": "2"
                                },
                                {
                                    "szallas_fk": "6",
                                    "szoba_id": "83",
                                    "Előző 5": "1"
                                },
                                {
                                    "szallas_fk": "6",
                                    "szoba_id": "83",
                                    "Előző 5": "2"
                                },
                                {
                                    "szallas_fk": "6",
                                    "szoba_id": "83",
                                    "Előző 5": "2"
                                },
                                {
                                    "szallas_fk": "6",
                                    "szoba_id": "83",
                                    "Előző 5": "2"
                                },
                                {
                                    "szallas_fk": "6",
                                    "szoba_id": "84",
                                    "Előző 5": "2"
                                },
                                {
                                    "szallas_fk": "6",
                                    "szoba_id": "84",
                                    "Előző 5": "2"
                                },
                                {
                                    "szallas_fk": "6",
                                    "szoba_id": "84",
                                    "Előző 5": "1"
                                },
                                {
                                    "szallas_fk": "6",
                                    "szoba_id": "84",
                                    "Előző 5": "2"
                                },
                                {
                                    "szallas_fk": "6",
                                    "szoba_id": "84",
                                    "Előző 5": "2"
                                },
                                {
                                    "szallas_fk": "6",
                                    "szoba_id": "84",
                                    "Előző 5": "2"
                                },
                                {
                                    "szallas_fk": "7",
                                    "szoba_id": "85",
                                    "Előző 5": "1"
                                },
                                {
                                    "szallas_fk": "7",
                                    "szoba_id": "85",
                                    "Előző 5": "1"
                                },
                                {
                                    "szallas_fk": "7",
                                    "szoba_id": "85",
                                    "Előző 5": "1"
                                },
                                {
                                    "szallas_fk": "7",
                                    "szoba_id": "85",
                                    "Előző 5": "1"
                                },
                                {
                                    "szallas_fk": "7",
                                    "szoba_id": "85",
                                    "Előző 5": "1"
                                },
                                {
                                    "szallas_fk": "7",
                                    "szoba_id": "85",
                                    "Előző 5": "1"
                                },
                                {
                                    "szallas_fk": "7",
                                    "szoba_id": "86",
                                    "Előző 5": "1"
                                },
                                {
                                    "szallas_fk": "7",
                                    "szoba_id": "86",
                                    "Előző 5": "1"
                                },
                                {
                                    "szallas_fk": "7",
                                    "szoba_id": "86",
                                    "Előző 5": "1"
                                },
                                {
                                    "szallas_fk": "7",
                                    "szoba_id": "86",
                                    "Előző 5": "1"
                                },
                                {
                                    "szallas_fk": "7",
                                    "szoba_id": "86",
                                    "Előző 5": "1"
                                },
                                {
                                    "szallas_fk": "7",
                                    "szoba_id": "86",
                                    "Előző 5": "1"
                                },
                                {
                                    "szallas_fk": "7",
                                    "szoba_id": "87",
                                    "Előző 5": "1"
                                },
                                {
                                    "szallas_fk": "7",
                                    "szoba_id": "87",
                                    "Előző 5": "1"
                                },
                                {
                                    "szallas_fk": "7",
                                    "szoba_id": "87",
                                    "Előző 5": "1"
                                },
                                {
                                    "szallas_fk": "7",
                                    "szoba_id": "87",
                                    "Előző 5": "1"
                                },
                                {
                                    "szallas_fk": "7",
                                    "szoba_id": "87",
                                    "Előző 5": "1"
                                },
                                {
                                    "szallas_fk": "7",
                                    "szoba_id": "87",
                                    "Előző 5": "1"
                                },
                                {
                                    "szallas_fk": "7",
                                    "szoba_id": "88",
                                    "Előző 5": "1"
                                },
                                {
                                    "szallas_fk": "7",
                                    "szoba_id": "88",
                                    "Előző 5": "1"
                                },
                                {
                                    "szallas_fk": "7",
                                    "szoba_id": "88",
                                    "Előző 5": "1"
                                },
                                {
                                    "szallas_fk": "7",
                                    "szoba_id": "88",
                                    "Előző 5": "1"
                                },
                                {
                                    "szallas_fk": "7",
                                    "szoba_id": "88",
                                    "Előző 5": "1"
                                },
                                {
                                    "szallas_fk": "7",
                                    "szoba_id": "88",
                                    "Előző 5": "1"
                                },
                                {
                                    "szallas_fk": "7",
                                    "szoba_id": "89",
                                    "Előző 5": "1"
                                },
                                {
                                    "szallas_fk": "7",
                                    "szoba_id": "89",
                                    "Előző 5": "1"
                                },
                                {
                                    "szallas_fk": "7",
                                    "szoba_id": "89",
                                    "Előző 5": "1"
                                },
                                {
                                    "szallas_fk": "7",
                                    "szoba_id": "89",
                                    "Előző 5": "1"
                                },
                                {
                                    "szallas_fk": "7",
                                    "szoba_id": "89",
                                    "Előző 5": "1"
                                },
                                {
                                    "szallas_fk": "7",
                                    "szoba_id": "89",
                                    "Előző 5": "1"
                                },
                                {
                                    "szallas_fk": "7",
                                    "szoba_id": "90",
                                    "Előző 5": "1"
                                },
                                {
                                    "szallas_fk": "7",
                                    "szoba_id": "90",
                                    "Előző 5": "1"
                                },
                                {
                                    "szallas_fk": "7",
                                    "szoba_id": "90",
                                    "Előző 5": "1"
                                },
                                {
                                    "szallas_fk": "7",
                                    "szoba_id": "90",
                                    "Előző 5": "1"
                                },
                                {
                                    "szallas_fk": "7",
                                    "szoba_id": "90",
                                    "Előző 5": "1"
                                },
                                {
                                    "szallas_fk": "7",
                                    "szoba_id": "90",
                                    "Előző 5": "1"
                                },
                                {
                                    "szallas_fk": "8",
                                    "szoba_id": "91",
                                    "Előző 5": "2"
                                },
                                {
                                    "szallas_fk": "8",
                                    "szoba_id": "91",
                                    "Előző 5": "2"
                                },
                                {
                                    "szallas_fk": "8",
                                    "szoba_id": "91",
                                    "Előző 5": "2"
                                },
                                {
                                    "szallas_fk": "8",
                                    "szoba_id": "91",
                                    "Előző 5": "2"
                                },
                                {
                                    "szallas_fk": "8",
                                    "szoba_id": "91",
                                    "Előző 5": "2"
                                },
                                {
                                    "szallas_fk": "8",
                                    "szoba_id": "92",
                                    "Előző 5": "2"
                                },
                                {
                                    "szallas_fk": "8",
                                    "szoba_id": "92",
                                    "Előző 5": "2"
                                },
                                {
                                    "szallas_fk": "8",
                                    "szoba_id": "92",
                                    "Előző 5": "2"
                                },
                                {
                                    "szallas_fk": "8",
                                    "szoba_id": "92",
                                    "Előző 5": "2"
                                },
                                {
                                    "szallas_fk": "8",
                                    "szoba_id": "92",
                                    "Előző 5": "2"
                                },
                                {
                                    "szallas_fk": "8",
                                    "szoba_id": "93",
                                    "Előző 5": "2"
                                },
                                {
                                    "szallas_fk": "8",
                                    "szoba_id": "93",
                                    "Előző 5": "2"
                                },
                                {
                                    "szallas_fk": "8",
                                    "szoba_id": "93",
                                    "Előző 5": "2"
                                },
                                {
                                    "szallas_fk": "8",
                                    "szoba_id": "93",
                                    "Előző 5": "2"
                                },
                                {
                                    "szallas_fk": "8",
                                    "szoba_id": "93",
                                    "Előző 5": "2"
                                },
                                {
                                    "szallas_fk": "8",
                                    "szoba_id": "94",
                                    "Előző 5": "2"
                                },
                                {
                                    "szallas_fk": "8",
                                    "szoba_id": "94",
                                    "Előző 5": "2"
                                },
                                {
                                    "szallas_fk": "8",
                                    "szoba_id": "94",
                                    "Előző 5": "2"
                                },
                                {
                                    "szallas_fk": "8",
                                    "szoba_id": "94",
                                    "Előző 5": "2"
                                },
                                {
                                    "szallas_fk": "8",
                                    "szoba_id": "94",
                                    "Előző 5": "2"
                                },
                                {
                                    "szallas_fk": "8",
                                    "szoba_id": "95",
                                    "Előző 5": "2"
                                },
                                {
                                    "szallas_fk": "8",
                                    "szoba_id": "95",
                                    "Előző 5": "2"
                                },
                                {
                                    "szallas_fk": "8",
                                    "szoba_id": "95",
                                    "Előző 5": "2"
                                },
                                {
                                    "szallas_fk": "8",
                                    "szoba_id": "95",
                                    "Előző 5": "2"
                                },
                                {
                                    "szallas_fk": "8",
                                    "szoba_id": "95",
                                    "Előző 5": "2"
                                },
                                {
                                    "szallas_fk": "8",
                                    "szoba_id": "96",
                                    "Előző 5": "2"
                                },
                                {
                                    "szallas_fk": "8",
                                    "szoba_id": "96",
                                    "Előző 5": "2"
                                },
                                {
                                    "szallas_fk": "8",
                                    "szoba_id": "96",
                                    "Előző 5": "2"
                                },
                                {
                                    "szallas_fk": "8",
                                    "szoba_id": "96",
                                    "Előző 5": "2"
                                },
                                {
                                    "szallas_fk": "8",
                                    "szoba_id": "96",
                                    "Előző 5": "2"
                                },
                                {
                                    "szallas_fk": "8",
                                    "szoba_id": "97",
                                    "Előző 5": "2"
                                },
                                {
                                    "szallas_fk": "8",
                                    "szoba_id": "97",
                                    "Előző 5": "2"
                                },
                                {
                                    "szallas_fk": "8",
                                    "szoba_id": "97",
                                    "Előző 5": "2"
                                },
                                {
                                    "szallas_fk": "8",
                                    "szoba_id": "97",
                                    "Előző 5": "2"
                                },
                                {
                                    "szallas_fk": "8",
                                    "szoba_id": "97",
                                    "Előző 5": "2"
                                },
                                {
                                    "szallas_fk": "8",
                                    "szoba_id": "98",
                                    "Előző 5": "2"
                                },
                                {
                                    "szallas_fk": "8",
                                    "szoba_id": "98",
                                    "Előző 5": "2"
                                },
                                {
                                    "szallas_fk": "8",
                                    "szoba_id": "98",
                                    "Előző 5": "2"
                                },
                                {
                                    "szallas_fk": "8",
                                    "szoba_id": "98",
                                    "Előző 5": "2"
                                },
                                {
                                    "szallas_fk": "8",
                                    "szoba_id": "98",
                                    "Előző 5": "2"
                                },
                                {
                                    "szallas_fk": "8",
                                    "szoba_id": "99",
                                    "Előző 5": "2"
                                },
                                {
                                    "szallas_fk": "8",
                                    "szoba_id": "99",
                                    "Előző 5": "2"
                                },
                                {
                                    "szallas_fk": "8",
                                    "szoba_id": "99",
                                    "Előző 5": "2"
                                },
                                {
                                    "szallas_fk": "8",
                                    "szoba_id": "99",
                                    "Előző 5": "2"
                                },
                                {
                                    "szallas_fk": "8",
                                    "szoba_id": "99",
                                    "Előző 5": "2"
                                },
                                {
                                    "szallas_fk": "8",
                                    "szoba_id": "100",
                                    "Előző 5": "2"
                                },
                                {
                                    "szallas_fk": "8",
                                    "szoba_id": "100",
                                    "Előző 5": "2"
                                },
                                {
                                    "szallas_fk": "8",
                                    "szoba_id": "100",
                                    "Előző 5": "2"
                                },
                                {
                                    "szallas_fk": "8",
                                    "szoba_id": "100",
                                    "Előző 5": "2"
                                },
                                {
                                    "szallas_fk": "8",
                                    "szoba_id": "100",
                                    "Előző 5": "2"
                                },
                                {
                                    "szallas_fk": "8",
                                    "szoba_id": "101",
                                    "Előző 5": "2"
                                },
                                {
                                    "szallas_fk": "8",
                                    "szoba_id": "101",
                                    "Előző 5": "2"
                                },
                                {
                                    "szallas_fk": "8",
                                    "szoba_id": "101",
                                    "Előző 5": "2"
                                },
                                {
                                    "szallas_fk": "8",
                                    "szoba_id": "101",
                                    "Előző 5": "2"
                                },
                                {
                                    "szallas_fk": "8",
                                    "szoba_id": "101",
                                    "Előző 5": "2"
                                },
                                {
                                    "szallas_fk": "8",
                                    "szoba_id": "102",
                                    "Előző 5": "2"
                                },
                                {
                                    "szallas_fk": "8",
                                    "szoba_id": "102",
                                    "Előző 5": "2"
                                },
                                {
                                    "szallas_fk": "8",
                                    "szoba_id": "102",
                                    "Előző 5": "2"
                                },
                                {
                                    "szallas_fk": "8",
                                    "szoba_id": "102",
                                    "Előző 5": "2"
                                },
                                {
                                    "szallas_fk": "8",
                                    "szoba_id": "102",
                                    "Előző 5": "2"
                                },
                                {
                                    "szallas_fk": "8",
                                    "szoba_id": "103",
                                    "Előző 5": "2"
                                },
                                {
                                    "szallas_fk": "8",
                                    "szoba_id": "103",
                                    "Előző 5": "2"
                                },
                                {
                                    "szallas_fk": "8",
                                    "szoba_id": "103",
                                    "Előző 5": "2"
                                },
                                {
                                    "szallas_fk": "8",
                                    "szoba_id": "103",
                                    "Előző 5": "2"
                                },
                                {
                                    "szallas_fk": "8",
                                    "szoba_id": "103",
                                    "Előző 5": "2"
                                },
                                {
                                    "szallas_fk": "8",
                                    "szoba_id": "104",
                                    "Előző 5": "2"
                                },
                                {
                                    "szallas_fk": "8",
                                    "szoba_id": "104",
                                    "Előző 5": "2"
                                },
                                {
                                    "szallas_fk": "8",
                                    "szoba_id": "104",
                                    "Előző 5": "2"
                                },
                                {
                                    "szallas_fk": "8",
                                    "szoba_id": "104",
                                    "Előző 5": "2"
                                },
                                {
                                    "szallas_fk": "8",
                                    "szoba_id": "104",
                                    "Előző 5": "2"
                                },
                                {
                                    "szallas_fk": "8",
                                    "szoba_id": "105",
                                    "Előző 5": "2"
                                },
                                {
                                    "szallas_fk": "8",
                                    "szoba_id": "105",
                                    "Előző 5": "2"
                                },
                                {
                                    "szallas_fk": "8",
                                    "szoba_id": "105",
                                    "Előző 5": "2"
                                },
                                {
                                    "szallas_fk": "8",
                                    "szoba_id": "105",
                                    "Előző 5": "2"
                                },
                                {
                                    "szallas_fk": "8",
                                    "szoba_id": "105",
                                    "Előző 5": "2"
                                },
                                {
                                    "szallas_fk": "8",
                                    "szoba_id": "106",
                                    "Előző 5": "2"
                                },
                                {
                                    "szallas_fk": "8",
                                    "szoba_id": "106",
                                    "Előző 5": "2"
                                },
                                {
                                    "szallas_fk": "8",
                                    "szoba_id": "106",
                                    "Előző 5": "2"
                                },
                                {
                                    "szallas_fk": "8",
                                    "szoba_id": "106",
                                    "Előző 5": "2"
                                },
                                {
                                    "szallas_fk": "8",
                                    "szoba_id": "106",
                                    "Előző 5": "2"
                                },
                                {
                                    "szallas_fk": "8",
                                    "szoba_id": "107",
                                    "Előző 5": "2"
                                },
                                {
                                    "szallas_fk": "8",
                                    "szoba_id": "107",
                                    "Előző 5": "2"
                                },
                                {
                                    "szallas_fk": "8",
                                    "szoba_id": "107",
                                    "Előző 5": "2"
                                },
                                {
                                    "szallas_fk": "8",
                                    "szoba_id": "107",
                                    "Előző 5": "2"
                                },
                                {
                                    "szallas_fk": "8",
                                    "szoba_id": "107",
                                    "Előző 5": "2"
                                },
                                {
                                    "szallas_fk": "8",
                                    "szoba_id": "108",
                                    "Előző 5": "2"
                                },
                                {
                                    "szallas_fk": "8",
                                    "szoba_id": "108",
                                    "Előző 5": "2"
                                },
                                {
                                    "szallas_fk": "8",
                                    "szoba_id": "108",
                                    "Előző 5": "2"
                                },
                                {
                                    "szallas_fk": "8",
                                    "szoba_id": "108",
                                    "Előző 5": "2"
                                },
                                {
                                    "szallas_fk": "8",
                                    "szoba_id": "108",
                                    "Előző 5": "2"
                                },
                                {
                                    "szallas_fk": "8",
                                    "szoba_id": "109",
                                    "Előző 5": "2"
                                },
                                {
                                    "szallas_fk": "8",
                                    "szoba_id": "109",
                                    "Előző 5": "2"
                                },
                                {
                                    "szallas_fk": "8",
                                    "szoba_id": "109",
                                    "Előző 5": "2"
                                },
                                {
                                    "szallas_fk": "8",
                                    "szoba_id": "109",
                                    "Előző 5": "2"
                                },
                                {
                                    "szallas_fk": "8",
                                    "szoba_id": "109",
                                    "Előző 5": "2"
                                },
                                {
                                    "szallas_fk": "8",
                                    "szoba_id": "110",
                                    "Előző 5": "2"
                                },
                                {
                                    "szallas_fk": "8",
                                    "szoba_id": "110",
                                    "Előző 5": "2"
                                },
                                {
                                    "szallas_fk": "8",
                                    "szoba_id": "110",
                                    "Előző 5": "2"
                                },
                                {
                                    "szallas_fk": "8",
                                    "szoba_id": "110",
                                    "Előző 5": "2"
                                },
                                {
                                    "szallas_fk": "8",
                                    "szoba_id": "110",
                                    "Előző 5": "2"
                                },
                                {
                                    "szallas_fk": "8",
                                    "szoba_id": "111",
                                    "Előző 5": "2"
                                },
                                {
                                    "szallas_fk": "8",
                                    "szoba_id": "111",
                                    "Előző 5": "2"
                                },
                                {
                                    "szallas_fk": "8",
                                    "szoba_id": "111",
                                    "Előző 5": "2"
                                },
                                {
                                    "szallas_fk": "8",
                                    "szoba_id": "111",
                                    "Előző 5": "2"
                                },
                                {
                                    "szallas_fk": "8",
                                    "szoba_id": "111",
                                    "Előző 5": "2"
                                },
                                {
                                    "szallas_fk": "8",
                                    "szoba_id": "112",
                                    "Előző 5": "2"
                                },
                                {
                                    "szallas_fk": "8",
                                    "szoba_id": "112",
                                    "Előző 5": "2"
                                },
                                {
                                    "szallas_fk": "8",
                                    "szoba_id": "112",
                                    "Előző 5": "2"
                                },
                                {
                                    "szallas_fk": "8",
                                    "szoba_id": "112",
                                    "Előző 5": "2"
                                },
                                {
                                    "szallas_fk": "8",
                                    "szoba_id": "112",
                                    "Előző 5": "2"
                                },
                                {
                                    "szallas_fk": "8",
                                    "szoba_id": "113",
                                    "Előző 5": "2"
                                },
                                {
                                    "szallas_fk": "8",
                                    "szoba_id": "113",
                                    "Előző 5": "2"
                                },
                                {
                                    "szallas_fk": "8",
                                    "szoba_id": "113",
                                    "Előző 5": "2"
                                },
                                {
                                    "szallas_fk": "8",
                                    "szoba_id": "113",
                                    "Előző 5": "2"
                                },
                                {
                                    "szallas_fk": "8",
                                    "szoba_id": "113",
                                    "Előző 5": "2"
                                },
                                {
                                    "szallas_fk": "8",
                                    "szoba_id": "114",
                                    "Előző 5": "2"
                                },
                                {
                                    "szallas_fk": "8",
                                    "szoba_id": "114",
                                    "Előző 5": "2"
                                },
                                {
                                    "szallas_fk": "8",
                                    "szoba_id": "114",
                                    "Előző 5": "2"
                                },
                                {
                                    "szallas_fk": "8",
                                    "szoba_id": "114",
                                    "Előző 5": "2"
                                },
                                {
                                    "szallas_fk": "8",
                                    "szoba_id": "114",
                                    "Előző 5": "2"
                                },
                                {
                                    "szallas_fk": "8",
                                    "szoba_id": "115",
                                    "Előző 5": "2"
                                },
                                {
                                    "szallas_fk": "8",
                                    "szoba_id": "115",
                                    "Előző 5": "2"
                                },
                                {
                                    "szallas_fk": "8",
                                    "szoba_id": "115",
                                    "Előző 5": "2"
                                },
                                {
                                    "szallas_fk": "8",
                                    "szoba_id": "115",
                                    "Előző 5": "2"
                                },
                                {
                                    "szallas_fk": "8",
                                    "szoba_id": "115",
                                    "Előző 5": "2"
                                },
                                {
                                    "szallas_fk": "8",
                                    "szoba_id": "116",
                                    "Előző 5": "2"
                                },
                                {
                                    "szallas_fk": "8",
                                    "szoba_id": "116",
                                    "Előző 5": "2"
                                },
                                {
                                    "szallas_fk": "8",
                                    "szoba_id": "116",
                                    "Előző 5": "2"
                                },
                                {
                                    "szallas_fk": "8",
                                    "szoba_id": "116",
                                    "Előző 5": "2"
                                },
                                {
                                    "szallas_fk": "8",
                                    "szoba_id": "116",
                                    "Előző 5": "2"
                                },
                                {
                                    "szallas_fk": "8",
                                    "szoba_id": "117",
                                    "Előző 5": "2"
                                },
                                {
                                    "szallas_fk": "8",
                                    "szoba_id": "117",
                                    "Előző 5": "2"
                                },
                                {
                                    "szallas_fk": "8",
                                    "szoba_id": "117",
                                    "Előző 5": "2"
                                },
                                {
                                    "szallas_fk": "8",
                                    "szoba_id": "117",
                                    "Előző 5": "2"
                                },
                                {
                                    "szallas_fk": "8",
                                    "szoba_id": "117",
                                    "Előző 5": "2"
                                },
                                {
                                    "szallas_fk": "8",
                                    "szoba_id": "118",
                                    "Előző 5": "2"
                                },
                                {
                                    "szallas_fk": "8",
                                    "szoba_id": "118",
                                    "Előző 5": "2"
                                },
                                {
                                    "szallas_fk": "8",
                                    "szoba_id": "118",
                                    "Előző 5": "2"
                                },
                                {
                                    "szallas_fk": "8",
                                    "szoba_id": "118",
                                    "Előző 5": "2"
                                },
                                {
                                    "szallas_fk": "8",
                                    "szoba_id": "118",
                                    "Előző 5": "2"
                                },
                                {
                                    "szallas_fk": "8",
                                    "szoba_id": "119",
                                    "Előző 5": "2"
                                },
                                {
                                    "szallas_fk": "8",
                                    "szoba_id": "119",
                                    "Előző 5": "2"
                                },
                                {
                                    "szallas_fk": "8",
                                    "szoba_id": "119",
                                    "Előző 5": "2"
                                },
                                {
                                    "szallas_fk": "8",
                                    "szoba_id": "119",
                                    "Előző 5": "2"
                                },
                                {
                                    "szallas_fk": "8",
                                    "szoba_id": "119",
                                    "Előző 5": "2"
                                },
                                {
                                    "szallas_fk": "8",
                                    "szoba_id": "120",
                                    "Előző 5": "2"
                                },
                                {
                                    "szallas_fk": "8",
                                    "szoba_id": "120",
                                    "Előző 5": "2"
                                },
                                {
                                    "szallas_fk": "8",
                                    "szoba_id": "120",
                                    "Előző 5": "2"
                                },
                                {
                                    "szallas_fk": "8",
                                    "szoba_id": "120",
                                    "Előző 5": "2"
                                },
                                {
                                    "szallas_fk": "8",
                                    "szoba_id": "120",
                                    "Előző 5": "2"
                                },
                                {
                                    "szallas_fk": "8",
                                    "szoba_id": "121",
                                    "Előző 5": "2"
                                },
                                {
                                    "szallas_fk": "8",
                                    "szoba_id": "121",
                                    "Előző 5": "2"
                                },
                                {
                                    "szallas_fk": "8",
                                    "szoba_id": "121",
                                    "Előző 5": "2"
                                },
                                {
                                    "szallas_fk": "8",
                                    "szoba_id": "121",
                                    "Előző 5": "2"
                                },
                                {
                                    "szallas_fk": "8",
                                    "szoba_id": "121",
                                    "Előző 5": "2"
                                },
                                {
                                    "szallas_fk": "8",
                                    "szoba_id": "122",
                                    "Előző 5": "2"
                                },
                                {
                                    "szallas_fk": "8",
                                    "szoba_id": "122",
                                    "Előző 5": "2"
                                },
                                {
                                    "szallas_fk": "8",
                                    "szoba_id": "122",
                                    "Előző 5": "2"
                                },
                                {
                                    "szallas_fk": "8",
                                    "szoba_id": "122",
                                    "Előző 5": "2"
                                },
                                {
                                    "szallas_fk": "8",
                                    "szoba_id": "122",
                                    "Előző 5": "2"
                                },
                                {
                                    "szallas_fk": "8",
                                    "szoba_id": "123",
                                    "Előző 5": "2"
                                },
                                {
                                    "szallas_fk": "8",
                                    "szoba_id": "123",
                                    "Előző 5": "2"
                                },
                                {
                                    "szallas_fk": "8",
                                    "szoba_id": "123",
                                    "Előző 5": "2"
                                },
                                {
                                    "szallas_fk": "8",
                                    "szoba_id": "123",
                                    "Előző 5": "2"
                                },
                                {
                                    "szallas_fk": "8",
                                    "szoba_id": "123",
                                    "Előző 5": "2"
                                },
                                {
                                    "szallas_fk": "8",
                                    "szoba_id": "124",
                                    "Előző 5": "2"
                                },
                                {
                                    "szallas_fk": "8",
                                    "szoba_id": "124",
                                    "Előző 5": "2"
                                },
                                {
                                    "szallas_fk": "8",
                                    "szoba_id": "124",
                                    "Előző 5": "2"
                                },
                                {
                                    "szallas_fk": "8",
                                    "szoba_id": "124",
                                    "Előző 5": "2"
                                },
                                {
                                    "szallas_fk": "8",
                                    "szoba_id": "124",
                                    "Előző 5": "2"
                                },
                                {
                                    "szallas_fk": "8",
                                    "szoba_id": "125",
                                    "Előző 5": "2"
                                },
                                {
                                    "szallas_fk": "8",
                                    "szoba_id": "125",
                                    "Előző 5": "2"
                                },
                                {
                                    "szallas_fk": "8",
                                    "szoba_id": "125",
                                    "Előző 5": "2"
                                },
                                {
                                    "szallas_fk": "8",
                                    "szoba_id": "125",
                                    "Előző 5": "2"
                                },
                                {
                                    "szallas_fk": "8",
                                    "szoba_id": "125",
                                    "Előző 5": "2"
                                },
                                {
                                    "szallas_fk": "8",
                                    "szoba_id": "126",
                                    "Előző 5": "2"
                                },
                                {
                                    "szallas_fk": "8",
                                    "szoba_id": "126",
                                    "Előző 5": "2"
                                },
                                {
                                    "szallas_fk": "8",
                                    "szoba_id": "126",
                                    "Előző 5": "2"
                                },
                                {
                                    "szallas_fk": "8",
                                    "szoba_id": "126",
                                    "Előző 5": "2"
                                },
                                {
                                    "szallas_fk": "8",
                                    "szoba_id": "126",
                                    "Előző 5": "2"
                                },
                                {
                                    "szallas_fk": "8",
                                    "szoba_id": "127",
                                    "Előző 5": "2"
                                },
                                {
                                    "szallas_fk": "8",
                                    "szoba_id": "127",
                                    "Előző 5": "2"
                                },
                                {
                                    "szallas_fk": "8",
                                    "szoba_id": "127",
                                    "Előző 5": "2"
                                },
                                {
                                    "szallas_fk": "8",
                                    "szoba_id": "127",
                                    "Előző 5": "2"
                                },
                                {
                                    "szallas_fk": "8",
                                    "szoba_id": "127",
                                    "Előző 5": "2"
                                },
                                {
                                    "szallas_fk": "8",
                                    "szoba_id": "128",
                                    "Előző 5": "2"
                                },
                                {
                                    "szallas_fk": "8",
                                    "szoba_id": "128",
                                    "Előző 5": "2"
                                },
                                {
                                    "szallas_fk": "8",
                                    "szoba_id": "128",
                                    "Előző 5": "2"
                                },
                                {
                                    "szallas_fk": "8",
                                    "szoba_id": "128",
                                    "Előző 5": "2"
                                },
                                {
                                    "szallas_fk": "8",
                                    "szoba_id": "128",
                                    "Előző 5": "2"
                                },
                                {
                                    "szallas_fk": "8",
                                    "szoba_id": "129",
                                    "Előző 5": "2"
                                },
                                {
                                    "szallas_fk": "8",
                                    "szoba_id": "129",
                                    "Előző 5": "2"
                                },
                                {
                                    "szallas_fk": "8",
                                    "szoba_id": "129",
                                    "Előző 5": "2"
                                },
                                {
                                    "szallas_fk": "8",
                                    "szoba_id": "129",
                                    "Előző 5": "2"
                                },
                                {
                                    "szallas_fk": "8",
                                    "szoba_id": "129",
                                    "Előző 5": "2"
                                },
                                {
                                    "szallas_fk": "9",
                                    "szoba_id": "130",
                                    "Előző 5": "2"
                                },
                                {
                                    "szallas_fk": "9",
                                    "szoba_id": "130",
                                    "Előző 5": "2"
                                },
                                {
                                    "szallas_fk": "9",
                                    "szoba_id": "130",
                                    "Előző 5": "3"
                                },
                                {
                                    "szallas_fk": "9",
                                    "szoba_id": "130",
                                    "Előző 5": "3"
                                },
                                {
                                    "szallas_fk": "9",
                                    "szoba_id": "130",
                                    "Előző 5": "3"
                                },
                                {
                                    "szallas_fk": "9",
                                    "szoba_id": "130",
                                    "Előző 5": "3"
                                },
                                {
                                    "szallas_fk": "9",
                                    "szoba_id": "131",
                                    "Előző 5": "2"
                                },
                                {
                                    "szallas_fk": "9",
                                    "szoba_id": "131",
                                    "Előző 5": "2"
                                },
                                {
                                    "szallas_fk": "9",
                                    "szoba_id": "131",
                                    "Előző 5": "3"
                                },
                                {
                                    "szallas_fk": "9",
                                    "szoba_id": "131",
                                    "Előző 5": "3"
                                },
                                {
                                    "szallas_fk": "9",
                                    "szoba_id": "131",
                                    "Előző 5": "3"
                                },
                                {
                                    "szallas_fk": "9",
                                    "szoba_id": "131",
                                    "Előző 5": "3"
                                },
                                {
                                    "szallas_fk": "9",
                                    "szoba_id": "132",
                                    "Előző 5": "2"
                                },
                                {
                                    "szallas_fk": "9",
                                    "szoba_id": "132",
                                    "Előző 5": "2"
                                },
                                {
                                    "szallas_fk": "9",
                                    "szoba_id": "132",
                                    "Előző 5": "3"
                                },
                                {
                                    "szallas_fk": "9",
                                    "szoba_id": "132",
                                    "Előző 5": "3"
                                },
                                {
                                    "szallas_fk": "9",
                                    "szoba_id": "132",
                                    "Előző 5": "3"
                                },
                                {
                                    "szallas_fk": "9",
                                    "szoba_id": "132",
                                    "Előző 5": "3"
                                },
                                {
                                    "szallas_fk": "9",
                                    "szoba_id": "133",
                                    "Előző 5": "2"
                                },
                                {
                                    "szallas_fk": "9",
                                    "szoba_id": "133",
                                    "Előző 5": "2"
                                },
                                {
                                    "szallas_fk": "9",
                                    "szoba_id": "133",
                                    "Előző 5": "3"
                                },
                                {
                                    "szallas_fk": "9",
                                    "szoba_id": "133",
                                    "Előző 5": "3"
                                },
                                {
                                    "szallas_fk": "9",
                                    "szoba_id": "133",
                                    "Előző 5": "3"
                                },
                                {
                                    "szallas_fk": "9",
                                    "szoba_id": "133",
                                    "Előző 5": "3"
                                },
                                {
                                    "szallas_fk": "9",
                                    "szoba_id": "134",
                                    "Előző 5": "2"
                                },
                                {
                                    "szallas_fk": "9",
                                    "szoba_id": "134",
                                    "Előző 5": "2"
                                },
                                {
                                    "szallas_fk": "9",
                                    "szoba_id": "134",
                                    "Előző 5": "3"
                                },
                                {
                                    "szallas_fk": "9",
                                    "szoba_id": "134",
                                    "Előző 5": "3"
                                },
                                {
                                    "szallas_fk": "9",
                                    "szoba_id": "134",
                                    "Előző 5": "3"
                                },
                                {
                                    "szallas_fk": "9",
                                    "szoba_id": "134",
                                    "Előző 5": "3"
                                },
                                {
                                    "szallas_fk": "10",
                                    "szoba_id": "135",
                                    "Előző 5": "2"
                                },
                                {
                                    "szallas_fk": "10",
                                    "szoba_id": "135",
                                    "Előző 5": "1"
                                },
                                {
                                    "szallas_fk": "10",
                                    "szoba_id": "135",
                                    "Előző 5": "2"
                                },
                                {
                                    "szallas_fk": "10",
                                    "szoba_id": "135",
                                    "Előző 5": "2"
                                },
                                {
                                    "szallas_fk": "10",
                                    "szoba_id": "136",
                                    "Előző 5": "2"
                                },
                                {
                                    "szallas_fk": "10",
                                    "szoba_id": "136",
                                    "Előző 5": "1"
                                },
                                {
                                    "szallas_fk": "10",
                                    "szoba_id": "136",
                                    "Előző 5": "2"
                                },
                                {
                                    "szallas_fk": "10",
                                    "szoba_id": "136",
                                    "Előző 5": "2"
                                },
                                {
                                    "szallas_fk": "10",
                                    "szoba_id": "137",
                                    "Előző 5": "2"
                                },
                                {
                                    "szallas_fk": "10",
                                    "szoba_id": "137",
                                    "Előző 5": "1"
                                },
                                {
                                    "szallas_fk": "10",
                                    "szoba_id": "137",
                                    "Előző 5": "2"
                                },
                                {
                                    "szallas_fk": "10",
                                    "szoba_id": "137",
                                    "Előző 5": "2"
                                },
                                {
                                    "szallas_fk": "10",
                                    "szoba_id": "138",
                                    "Előző 5": "2"
                                },
                                {
                                    "szallas_fk": "10",
                                    "szoba_id": "138",
                                    "Előző 5": "1"
                                },
                                {
                                    "szallas_fk": "10",
                                    "szoba_id": "138",
                                    "Előző 5": "2"
                                },
                                {
                                    "szallas_fk": "10",
                                    "szoba_id": "138",
                                    "Előző 5": "2"
                                },
                                {
                                    "szallas_fk": "10",
                                    "szoba_id": "139",
                                    "Előző 5": "2"
                                },
                                {
                                    "szallas_fk": "10",
                                    "szoba_id": "139",
                                    "Előző 5": "1"
                                },
                                {
                                    "szallas_fk": "10",
                                    "szoba_id": "139",
                                    "Előző 5": "2"
                                },
                                {
                                    "szallas_fk": "10",
                                    "szoba_id": "139",
                                    "Előző 5": "2"
                                },
                                {
                                    "szallas_fk": "10",
                                    "szoba_id": "140",
                                    "Előző 5": "2"
                                },
                                {
                                    "szallas_fk": "10",
                                    "szoba_id": "140",
                                    "Előző 5": "1"
                                },
                                {
                                    "szallas_fk": "10",
                                    "szoba_id": "140",
                                    "Előző 5": "2"
                                },
                                {
                                    "szallas_fk": "10",
                                    "szoba_id": "140",
                                    "Előző 5": "2"
                                },
                                {
                                    "szallas_fk": "10",
                                    "szoba_id": "141",
                                    "Előző 5": "2"
                                },
                                {
                                    "szallas_fk": "10",
                                    "szoba_id": "141",
                                    "Előző 5": "1"
                                },
                                {
                                    "szallas_fk": "10",
                                    "szoba_id": "141",
                                    "Előző 5": "2"
                                },
                                {
                                    "szallas_fk": "10",
                                    "szoba_id": "141",
                                    "Előző 5": "2"
                                },
                                {
                                    "szallas_fk": "10",
                                    "szoba_id": "142",
                                    "Előző 5": "2"
                                },
                                {
                                    "szallas_fk": "10",
                                    "szoba_id": "142",
                                    "Előző 5": "1"
                                },
                                {
                                    "szallas_fk": "10",
                                    "szoba_id": "142",
                                    "Előző 5": "2"
                                },
                                {
                                    "szallas_fk": "10",
                                    "szoba_id": "142",
                                    "Előző 5": "2"
                                },
                                {
                                    "szallas_fk": "10",
                                    "szoba_id": "143",
                                    "Előző 5": "2"
                                },
                                {
                                    "szallas_fk": "10",
                                    "szoba_id": "143",
                                    "Előző 5": "1"
                                },
                                {
                                    "szallas_fk": "10",
                                    "szoba_id": "143",
                                    "Előző 5": "2"
                                },
                                {
                                    "szallas_fk": "10",
                                    "szoba_id": "143",
                                    "Előző 5": "2"
                                },
                                {
                                    "szallas_fk": "10",
                                    "szoba_id": "144",
                                    "Előző 5": "2"
                                },
                                {
                                    "szallas_fk": "10",
                                    "szoba_id": "144",
                                    "Előző 5": "1"
                                },
                                {
                                    "szallas_fk": "10",
                                    "szoba_id": "144",
                                    "Előző 5": "2"
                                },
                                {
                                    "szallas_fk": "10",
                                    "szoba_id": "144",
                                    "Előző 5": "2"
                                },
                                {
                                    "szallas_fk": "10",
                                    "szoba_id": "145",
                                    "Előző 5": "2"
                                },
                                {
                                    "szallas_fk": "10",
                                    "szoba_id": "145",
                                    "Előző 5": "1"
                                },
                                {
                                    "szallas_fk": "10",
                                    "szoba_id": "145",
                                    "Előző 5": "2"
                                },
                                {
                                    "szallas_fk": "10",
                                    "szoba_id": "145",
                                    "Előző 5": "2"
                                },
                                {
                                    "szallas_fk": "10",
                                    "szoba_id": "146",
                                    "Előző 5": "2"
                                },
                                {
                                    "szallas_fk": "10",
                                    "szoba_id": "146",
                                    "Előző 5": "1"
                                },
                                {
                                    "szallas_fk": "10",
                                    "szoba_id": "146",
                                    "Előző 5": "2"
                                },
                                {
                                    "szallas_fk": "10",
                                    "szoba_id": "146",
                                    "Előző 5": "2"
                                },
                                {
                                    "szallas_fk": "10",
                                    "szoba_id": "147",
                                    "Előző 5": "2"
                                },
                                {
                                    "szallas_fk": "10",
                                    "szoba_id": "147",
                                    "Előző 5": "1"
                                },
                                {
                                    "szallas_fk": "10",
                                    "szoba_id": "147",
                                    "Előző 5": "2"
                                },
                                {
                                    "szallas_fk": "10",
                                    "szoba_id": "147",
                                    "Előző 5": "2"
                                },
                                {
                                    "szallas_fk": "10",
                                    "szoba_id": "148",
                                    "Előző 5": "2"
                                },
                                {
                                    "szallas_fk": "10",
                                    "szoba_id": "148",
                                    "Előző 5": "1"
                                },
                                {
                                    "szallas_fk": "10",
                                    "szoba_id": "148",
                                    "Előző 5": "2"
                                },
                                {
                                    "szallas_fk": "10",
                                    "szoba_id": "148",
                                    "Előző 5": "2"
                                },
                                {
                                    "szallas_fk": "10",
                                    "szoba_id": "149",
                                    "Előző 5": "2"
                                },
                                {
                                    "szallas_fk": "10",
                                    "szoba_id": "149",
                                    "Előző 5": "1"
                                },
                                {
                                    "szallas_fk": "10",
                                    "szoba_id": "149",
                                    "Előző 5": "2"
                                },
                                {
                                    "szallas_fk": "10",
                                    "szoba_id": "149",
                                    "Előző 5": "2"
                                },
                                {
                                    "szallas_fk": "10",
                                    "szoba_id": "150",
                                    "Előző 5": "2"
                                },
                                {
                                    "szallas_fk": "10",
                                    "szoba_id": "150",
                                    "Előző 5": "1"
                                },
                                {
                                    "szallas_fk": "10",
                                    "szoba_id": "150",
                                    "Előző 5": "2"
                                },
                                {
                                    "szallas_fk": "10",
                                    "szoba_id": "150",
                                    "Előző 5": "2"
                                },
                                {
                                    "szallas_fk": "10",
                                    "szoba_id": "151",
                                    "Előző 5": "2"
                                },
                                {
                                    "szallas_fk": "10",
                                    "szoba_id": "151",
                                    "Előző 5": "1"
                                },
                                {
                                    "szallas_fk": "10",
                                    "szoba_id": "151",
                                    "Előző 5": "2"
                                },
                                {
                                    "szallas_fk": "10",
                                    "szoba_id": "151",
                                    "Előző 5": "2"
                                },
                                {
                                    "szallas_fk": "10",
                                    "szoba_id": "152",
                                    "Előző 5": "2"
                                },
                                {
                                    "szallas_fk": "10",
                                    "szoba_id": "152",
                                    "Előző 5": "1"
                                },
                                {
                                    "szallas_fk": "10",
                                    "szoba_id": "152",
                                    "Előző 5": "2"
                                },
                                {
                                    "szallas_fk": "10",
                                    "szoba_id": "152",
                                    "Előző 5": "2"
                                },
                                {
                                    "szallas_fk": "10",
                                    "szoba_id": "153",
                                    "Előző 5": "2"
                                },
                                {
                                    "szallas_fk": "10",
                                    "szoba_id": "153",
                                    "Előző 5": "1"
                                },
                                {
                                    "szallas_fk": "10",
                                    "szoba_id": "153",
                                    "Előző 5": "2"
                                },
                                {
                                    "szallas_fk": "10",
                                    "szoba_id": "153",
                                    "Előző 5": "2"
                                },
                                {
                                    "szallas_fk": "10",
                                    "szoba_id": "154",
                                    "Előző 5": "2"
                                },
                                {
                                    "szallas_fk": "10",
                                    "szoba_id": "154",
                                    "Előző 5": "1"
                                },
                                {
                                    "szallas_fk": "10",
                                    "szoba_id": "154",
                                    "Előző 5": "2"
                                },
                                {
                                    "szallas_fk": "10",
                                    "szoba_id": "154",
                                    "Előző 5": "2"
                                },
                                {
                                    "szallas_fk": "10",
                                    "szoba_id": "155",
                                    "Előző 5": "2"
                                },
                                {
                                    "szallas_fk": "10",
                                    "szoba_id": "155",
                                    "Előző 5": "1"
                                },
                                {
                                    "szallas_fk": "10",
                                    "szoba_id": "155",
                                    "Előző 5": "2"
                                },
                                {
                                    "szallas_fk": "10",
                                    "szoba_id": "155",
                                    "Előző 5": "2"
                                },
                                {
                                    "szallas_fk": "10",
                                    "szoba_id": "156",
                                    "Előző 5": "2"
                                },
                                {
                                    "szallas_fk": "10",
                                    "szoba_id": "156",
                                    "Előző 5": "1"
                                },
                                {
                                    "szallas_fk": "10",
                                    "szoba_id": "156",
                                    "Előző 5": "2"
                                },
                                {
                                    "szallas_fk": "10",
                                    "szoba_id": "156",
                                    "Előző 5": "2"
                                },
                                {
                                    "szallas_fk": "10",
                                    "szoba_id": "157",
                                    "Előző 5": "2"
                                },
                                {
                                    "szallas_fk": "10",
                                    "szoba_id": "157",
                                    "Előző 5": "1"
                                },
                                {
                                    "szallas_fk": "10",
                                    "szoba_id": "157",
                                    "Előző 5": "2"
                                },
                                {
                                    "szallas_fk": "10",
                                    "szoba_id": "157",
                                    "Előző 5": "2"
                                },
                                {
                                    "szallas_fk": "10",
                                    "szoba_id": "158",
                                    "Előző 5": "2"
                                },
                                {
                                    "szallas_fk": "10",
                                    "szoba_id": "158",
                                    "Előző 5": "1"
                                },
                                {
                                    "szallas_fk": "10",
                                    "szoba_id": "158",
                                    "Előző 5": "2"
                                },
                                {
                                    "szallas_fk": "10",
                                    "szoba_id": "158",
                                    "Előző 5": "2"
                                },
                                {
                                    "szallas_fk": "10",
                                    "szoba_id": "159",
                                    "Előző 5": "2"
                                },
                                {
                                    "szallas_fk": "10",
                                    "szoba_id": "159",
                                    "Előző 5": "1"
                                },
                                {
                                    "szallas_fk": "10",
                                    "szoba_id": "159",
                                    "Előző 5": "2"
                                },
                                {
                                    "szallas_fk": "10",
                                    "szoba_id": "159",
                                    "Előző 5": "2"
                                },
                                {
                                    "szallas_fk": "11",
                                    "szoba_id": "160",
                                    "Előző 5": "3"
                                },
                                {
                                    "szallas_fk": "11",
                                    "szoba_id": "160",
                                    "Előző 5": "3"
                                },
                                {
                                    "szallas_fk": "11",
                                    "szoba_id": "160",
                                    "Előző 5": "2"
                                },
                                {
                                    "szallas_fk": "11",
                                    "szoba_id": "160",
                                    "Előző 5": "2"
                                },
                                {
                                    "szallas_fk": "11",
                                    "szoba_id": "161",
                                    "Előző 5": "3"
                                },
                                {
                                    "szallas_fk": "11",
                                    "szoba_id": "161",
                                    "Előző 5": "3"
                                },
                                {
                                    "szallas_fk": "11",
                                    "szoba_id": "161",
                                    "Előző 5": "2"
                                },
                                {
                                    "szallas_fk": "11",
                                    "szoba_id": "161",
                                    "Előző 5": "2"
                                },
                                {
                                    "szallas_fk": "11",
                                    "szoba_id": "162",
                                    "Előző 5": "3"
                                },
                                {
                                    "szallas_fk": "11",
                                    "szoba_id": "162",
                                    "Előző 5": "3"
                                },
                                {
                                    "szallas_fk": "11",
                                    "szoba_id": "162",
                                    "Előző 5": "2"
                                },
                                {
                                    "szallas_fk": "11",
                                    "szoba_id": "162",
                                    "Előző 5": "2"
                                },
                                {
                                    "szallas_fk": "11",
                                    "szoba_id": "163",
                                    "Előző 5": "3"
                                },
                                {
                                    "szallas_fk": "11",
                                    "szoba_id": "163",
                                    "Előző 5": "3"
                                },
                                {
                                    "szallas_fk": "11",
                                    "szoba_id": "163",
                                    "Előző 5": "2"
                                },
                                {
                                    "szallas_fk": "11",
                                    "szoba_id": "163",
                                    "Előző 5": "2"
                                },
                                {
                                    "szallas_fk": "11",
                                    "szoba_id": "164",
                                    "Előző 5": "3"
                                },
                                {
                                    "szallas_fk": "11",
                                    "szoba_id": "164",
                                    "Előző 5": "3"
                                },
                                {
                                    "szallas_fk": "11",
                                    "szoba_id": "164",
                                    "Előző 5": "2"
                                },
                                {
                                    "szallas_fk": "11",
                                    "szoba_id": "164",
                                    "Előző 5": "2"
                                },
                                {
                                    "szallas_fk": "12",
                                    "szoba_id": "165",
                                    "Előző 5": "3"
                                },
                                {
                                    "szallas_fk": "12",
                                    "szoba_id": "165",
                                    "Előző 5": "2"
                                },
                                {
                                    "szallas_fk": "12",
                                    "szoba_id": "165",
                                    "Előző 5": "2"
                                },
                                {
                                    "szallas_fk": "12",
                                    "szoba_id": "165",
                                    "Előző 5": "2"
                                },
                                {
                                    "szallas_fk": "12",
                                    "szoba_id": "165",
                                    "Előző 5": "2"
                                },
                                {
                                    "szallas_fk": "12",
                                    "szoba_id": "165",
                                    "Előző 5": "2"
                                },
                                {
                                    "szallas_fk": "12",
                                    "szoba_id": "165",
                                    "Előző 5": "2"
                                },
                                {
                                    "szallas_fk": "12",
                                    "szoba_id": "165",
                                    "Előző 5": "2"
                                },
                                {
                                    "szallas_fk": "12",
                                    "szoba_id": "165",
                                    "Előző 5": "2"
                                },
                                {
                                    "szallas_fk": "12",
                                    "szoba_id": "166",
                                    "Előző 5": "3"
                                },
                                {
                                    "szallas_fk": "12",
                                    "szoba_id": "166",
                                    "Előző 5": "2"
                                },
                                {
                                    "szallas_fk": "12",
                                    "szoba_id": "166",
                                    "Előző 5": "2"
                                },
                                {
                                    "szallas_fk": "12",
                                    "szoba_id": "166",
                                    "Előző 5": "2"
                                },
                                {
                                    "szallas_fk": "12",
                                    "szoba_id": "166",
                                    "Előző 5": "2"
                                },
                                {
                                    "szallas_fk": "12",
                                    "szoba_id": "166",
                                    "Előző 5": "2"
                                },
                                {
                                    "szallas_fk": "12",
                                    "szoba_id": "166",
                                    "Előző 5": "2"
                                },
                                {
                                    "szallas_fk": "12",
                                    "szoba_id": "166",
                                    "Előző 5": "2"
                                },
                                {
                                    "szallas_fk": "12",
                                    "szoba_id": "166",
                                    "Előző 5": "2"
                                },
                                {
                                    "szallas_fk": "12",
                                    "szoba_id": "167",
                                    "Előző 5": "3"
                                },
                                {
                                    "szallas_fk": "12",
                                    "szoba_id": "167",
                                    "Előző 5": "2"
                                },
                                {
                                    "szallas_fk": "12",
                                    "szoba_id": "167",
                                    "Előző 5": "2"
                                },
                                {
                                    "szallas_fk": "12",
                                    "szoba_id": "167",
                                    "Előző 5": "2"
                                },
                                {
                                    "szallas_fk": "12",
                                    "szoba_id": "167",
                                    "Előző 5": "2"
                                },
                                {
                                    "szallas_fk": "12",
                                    "szoba_id": "167",
                                    "Előző 5": "2"
                                },
                                {
                                    "szallas_fk": "12",
                                    "szoba_id": "167",
                                    "Előző 5": "2"
                                },
                                {
                                    "szallas_fk": "12",
                                    "szoba_id": "167",
                                    "Előző 5": "2"
                                },
                                {
                                    "szallas_fk": "12",
                                    "szoba_id": "167",
                                    "Előző 5": "2"
                                },
                                {
                                    "szallas_fk": "12",
                                    "szoba_id": "168",
                                    "Előző 5": "3"
                                },
                                {
                                    "szallas_fk": "12",
                                    "szoba_id": "168",
                                    "Előző 5": "2"
                                },
                                {
                                    "szallas_fk": "12",
                                    "szoba_id": "168",
                                    "Előző 5": "2"
                                },
                                {
                                    "szallas_fk": "12",
                                    "szoba_id": "168",
                                    "Előző 5": "2"
                                },
                                {
                                    "szallas_fk": "12",
                                    "szoba_id": "168",
                                    "Előző 5": "2"
                                },
                                {
                                    "szallas_fk": "12",
                                    "szoba_id": "168",
                                    "Előző 5": "2"
                                },
                                {
                                    "szallas_fk": "12",
                                    "szoba_id": "168",
                                    "Előző 5": "2"
                                },
                                {
                                    "szallas_fk": "12",
                                    "szoba_id": "168",
                                    "Előző 5": "2"
                                },
                                {
                                    "szallas_fk": "12",
                                    "szoba_id": "168",
                                    "Előző 5": "2"
                                },
                                {
                                    "szallas_fk": "12",
                                    "szoba_id": "169",
                                    "Előző 5": "3"
                                },
                                {
                                    "szallas_fk": "12",
                                    "szoba_id": "169",
                                    "Előző 5": "2"
                                },
                                {
                                    "szallas_fk": "12",
                                    "szoba_id": "169",
                                    "Előző 5": "2"
                                },
                                {
                                    "szallas_fk": "12",
                                    "szoba_id": "169",
                                    "Előző 5": "2"
                                },
                                {
                                    "szallas_fk": "12",
                                    "szoba_id": "169",
                                    "Előző 5": "2"
                                },
                                {
                                    "szallas_fk": "12",
                                    "szoba_id": "169",
                                    "Előző 5": "2"
                                },
                                {
                                    "szallas_fk": "12",
                                    "szoba_id": "169",
                                    "Előző 5": "2"
                                },
                                {
                                    "szallas_fk": "12",
                                    "szoba_id": "169",
                                    "Előző 5": "2"
                                },
                                {
                                    "szallas_fk": "12",
                                    "szoba_id": "169",
                                    "Előző 5": "2"
                                },
                                {
                                    "szallas_fk": "12",
                                    "szoba_id": "170",
                                    "Előző 5": "3"
                                },
                                {
                                    "szallas_fk": "12",
                                    "szoba_id": "170",
                                    "Előző 5": "2"
                                },
                                {
                                    "szallas_fk": "12",
                                    "szoba_id": "170",
                                    "Előző 5": "2"
                                },
                                {
                                    "szallas_fk": "12",
                                    "szoba_id": "170",
                                    "Előző 5": "2"
                                },
                                {
                                    "szallas_fk": "12",
                                    "szoba_id": "170",
                                    "Előző 5": "2"
                                },
                                {
                                    "szallas_fk": "12",
                                    "szoba_id": "170",
                                    "Előző 5": "2"
                                },
                                {
                                    "szallas_fk": "12",
                                    "szoba_id": "170",
                                    "Előző 5": "2"
                                },
                                {
                                    "szallas_fk": "12",
                                    "szoba_id": "170",
                                    "Előző 5": "2"
                                },
                                {
                                    "szallas_fk": "12",
                                    "szoba_id": "170",
                                    "Előző 5": "2"
                                },
                                {
                                    "szallas_fk": "12",
                                    "szoba_id": "171",
                                    "Előző 5": "3"
                                },
                                {
                                    "szallas_fk": "12",
                                    "szoba_id": "171",
                                    "Előző 5": "2"
                                },
                                {
                                    "szallas_fk": "12",
                                    "szoba_id": "171",
                                    "Előző 5": "2"
                                },
                                {
                                    "szallas_fk": "12",
                                    "szoba_id": "171",
                                    "Előző 5": "2"
                                },
                                {
                                    "szallas_fk": "12",
                                    "szoba_id": "171",
                                    "Előző 5": "2"
                                },
                                {
                                    "szallas_fk": "12",
                                    "szoba_id": "171",
                                    "Előző 5": "2"
                                },
                                {
                                    "szallas_fk": "12",
                                    "szoba_id": "171",
                                    "Előző 5": "2"
                                },
                                {
                                    "szallas_fk": "12",
                                    "szoba_id": "171",
                                    "Előző 5": "2"
                                },
                                {
                                    "szallas_fk": "12",
                                    "szoba_id": "171",
                                    "Előző 5": "2"
                                },
                                {
                                    "szallas_fk": "12",
                                    "szoba_id": "172",
                                    "Előző 5": "3"
                                },
                                {
                                    "szallas_fk": "12",
                                    "szoba_id": "172",
                                    "Előző 5": "2"
                                },
                                {
                                    "szallas_fk": "12",
                                    "szoba_id": "172",
                                    "Előző 5": "2"
                                },
                                {
                                    "szallas_fk": "12",
                                    "szoba_id": "172",
                                    "Előző 5": "2"
                                },
                                {
                                    "szallas_fk": "12",
                                    "szoba_id": "172",
                                    "Előző 5": "2"
                                },
                                {
                                    "szallas_fk": "12",
                                    "szoba_id": "172",
                                    "Előző 5": "2"
                                },
                                {
                                    "szallas_fk": "12",
                                    "szoba_id": "172",
                                    "Előző 5": "2"
                                },
                                {
                                    "szallas_fk": "12",
                                    "szoba_id": "172",
                                    "Előző 5": "2"
                                },
                                {
                                    "szallas_fk": "12",
                                    "szoba_id": "172",
                                    "Előző 5": "2"
                                },
                                {
                                    "szallas_fk": "12",
                                    "szoba_id": "173",
                                    "Előző 5": "3"
                                },
                                {
                                    "szallas_fk": "12",
                                    "szoba_id": "173",
                                    "Előző 5": "2"
                                },
                                {
                                    "szallas_fk": "12",
                                    "szoba_id": "173",
                                    "Előző 5": "2"
                                },
                                {
                                    "szallas_fk": "12",
                                    "szoba_id": "173",
                                    "Előző 5": "2"
                                },
                                {
                                    "szallas_fk": "12",
                                    "szoba_id": "173",
                                    "Előző 5": "2"
                                },
                                {
                                    "szallas_fk": "12",
                                    "szoba_id": "173",
                                    "Előző 5": "2"
                                },
                                {
                                    "szallas_fk": "12",
                                    "szoba_id": "173",
                                    "Előző 5": "2"
                                },
                                {
                                    "szallas_fk": "12",
                                    "szoba_id": "173",
                                    "Előző 5": "2"
                                },
                                {
                                    "szallas_fk": "12",
                                    "szoba_id": "173",
                                    "Előző 5": "2"
                                },
                                {
                                    "szallas_fk": "12",
                                    "szoba_id": "174",
                                    "Előző 5": "3"
                                },
                                {
                                    "szallas_fk": "12",
                                    "szoba_id": "174",
                                    "Előző 5": "2"
                                },
                                {
                                    "szallas_fk": "12",
                                    "szoba_id": "174",
                                    "Előző 5": "2"
                                },
                                {
                                    "szallas_fk": "12",
                                    "szoba_id": "174",
                                    "Előző 5": "2"
                                },
                                {
                                    "szallas_fk": "12",
                                    "szoba_id": "174",
                                    "Előző 5": "2"
                                },
                                {
                                    "szallas_fk": "12",
                                    "szoba_id": "174",
                                    "Előző 5": "2"
                                },
                                {
                                    "szallas_fk": "12",
                                    "szoba_id": "174",
                                    "Előző 5": "2"
                                },
                                {
                                    "szallas_fk": "12",
                                    "szoba_id": "174",
                                    "Előző 5": "2"
                                },
                                {
                                    "szallas_fk": "12",
                                    "szoba_id": "174",
                                    "Előző 5": "2"
                                },
                                {
                                    "szallas_fk": "12",
                                    "szoba_id": "175",
                                    "Előző 5": "3"
                                },
                                {
                                    "szallas_fk": "12",
                                    "szoba_id": "175",
                                    "Előző 5": "2"
                                },
                                {
                                    "szallas_fk": "12",
                                    "szoba_id": "175",
                                    "Előző 5": "2"
                                },
                                {
                                    "szallas_fk": "12",
                                    "szoba_id": "175",
                                    "Előző 5": "2"
                                },
                                {
                                    "szallas_fk": "12",
                                    "szoba_id": "175",
                                    "Előző 5": "2"
                                },
                                {
                                    "szallas_fk": "12",
                                    "szoba_id": "175",
                                    "Előző 5": "2"
                                },
                                {
                                    "szallas_fk": "12",
                                    "szoba_id": "175",
                                    "Előző 5": "2"
                                },
                                {
                                    "szallas_fk": "12",
                                    "szoba_id": "175",
                                    "Előző 5": "2"
                                },
                                {
                                    "szallas_fk": "12",
                                    "szoba_id": "175",
                                    "Előző 5": "2"
                                },
                                {
                                    "szallas_fk": "12",
                                    "szoba_id": "176",
                                    "Előző 5": "3"
                                },
                                {
                                    "szallas_fk": "12",
                                    "szoba_id": "176",
                                    "Előző 5": "2"
                                },
                                {
                                    "szallas_fk": "12",
                                    "szoba_id": "176",
                                    "Előző 5": "2"
                                },
                                {
                                    "szallas_fk": "12",
                                    "szoba_id": "176",
                                    "Előző 5": "2"
                                },
                                {
                                    "szallas_fk": "12",
                                    "szoba_id": "176",
                                    "Előző 5": "2"
                                },
                                {
                                    "szallas_fk": "12",
                                    "szoba_id": "176",
                                    "Előző 5": "2"
                                },
                                {
                                    "szallas_fk": "12",
                                    "szoba_id": "176",
                                    "Előző 5": "2"
                                },
                                {
                                    "szallas_fk": "12",
                                    "szoba_id": "176",
                                    "Előző 5": "2"
                                },
                                {
                                    "szallas_fk": "12",
                                    "szoba_id": "176",
                                    "Előző 5": "2"
                                },
                                {
                                    "szallas_fk": "12",
                                    "szoba_id": "177",
                                    "Előző 5": "3"
                                },
                                {
                                    "szallas_fk": "12",
                                    "szoba_id": "177",
                                    "Előző 5": "2"
                                },
                                {
                                    "szallas_fk": "12",
                                    "szoba_id": "177",
                                    "Előző 5": "2"
                                },
                                {
                                    "szallas_fk": "12",
                                    "szoba_id": "177",
                                    "Előző 5": "2"
                                },
                                {
                                    "szallas_fk": "12",
                                    "szoba_id": "177",
                                    "Előző 5": "2"
                                },
                                {
                                    "szallas_fk": "12",
                                    "szoba_id": "177",
                                    "Előző 5": "2"
                                },
                                {
                                    "szallas_fk": "12",
                                    "szoba_id": "177",
                                    "Előző 5": "2"
                                },
                                {
                                    "szallas_fk": "12",
                                    "szoba_id": "177",
                                    "Előző 5": "2"
                                },
                                {
                                    "szallas_fk": "12",
                                    "szoba_id": "177",
                                    "Előző 5": "2"
                                },
                                {
                                    "szallas_fk": "12",
                                    "szoba_id": "178",
                                    "Előző 5": "3"
                                },
                                {
                                    "szallas_fk": "12",
                                    "szoba_id": "178",
                                    "Előző 5": "2"
                                },
                                {
                                    "szallas_fk": "12",
                                    "szoba_id": "178",
                                    "Előző 5": "2"
                                },
                                {
                                    "szallas_fk": "12",
                                    "szoba_id": "178",
                                    "Előző 5": "2"
                                },
                                {
                                    "szallas_fk": "12",
                                    "szoba_id": "178",
                                    "Előző 5": "2"
                                },
                                {
                                    "szallas_fk": "12",
                                    "szoba_id": "178",
                                    "Előző 5": "2"
                                },
                                {
                                    "szallas_fk": "12",
                                    "szoba_id": "178",
                                    "Előző 5": "2"
                                },
                                {
                                    "szallas_fk": "12",
                                    "szoba_id": "178",
                                    "Előző 5": "2"
                                },
                                {
                                    "szallas_fk": "12",
                                    "szoba_id": "178",
                                    "Előző 5": "2"
                                },
                                {
                                    "szallas_fk": "12",
                                    "szoba_id": "179",
                                    "Előző 5": "3"
                                },
                                {
                                    "szallas_fk": "12",
                                    "szoba_id": "179",
                                    "Előző 5": "2"
                                },
                                {
                                    "szallas_fk": "12",
                                    "szoba_id": "179",
                                    "Előző 5": "2"
                                },
                                {
                                    "szallas_fk": "12",
                                    "szoba_id": "179",
                                    "Előző 5": "2"
                                },
                                {
                                    "szallas_fk": "12",
                                    "szoba_id": "179",
                                    "Előző 5": "2"
                                },
                                {
                                    "szallas_fk": "12",
                                    "szoba_id": "179",
                                    "Előző 5": "2"
                                },
                                {
                                    "szallas_fk": "12",
                                    "szoba_id": "179",
                                    "Előző 5": "2"
                                },
                                {
                                    "szallas_fk": "12",
                                    "szoba_id": "179",
                                    "Előző 5": "2"
                                },
                                {
                                    "szallas_fk": "12",
                                    "szoba_id": "179",
                                    "Előző 5": "2"
                                },
                                {
                                    "szallas_fk": "12",
                                    "szoba_id": "180",
                                    "Előző 5": "3"
                                },
                                {
                                    "szallas_fk": "12",
                                    "szoba_id": "180",
                                    "Előző 5": "2"
                                },
                                {
                                    "szallas_fk": "12",
                                    "szoba_id": "180",
                                    "Előző 5": "2"
                                },
                                {
                                    "szallas_fk": "12",
                                    "szoba_id": "180",
                                    "Előző 5": "2"
                                },
                                {
                                    "szallas_fk": "12",
                                    "szoba_id": "180",
                                    "Előző 5": "2"
                                },
                                {
                                    "szallas_fk": "12",
                                    "szoba_id": "180",
                                    "Előző 5": "2"
                                },
                                {
                                    "szallas_fk": "12",
                                    "szoba_id": "180",
                                    "Előző 5": "2"
                                },
                                {
                                    "szallas_fk": "12",
                                    "szoba_id": "180",
                                    "Előző 5": "2"
                                },
                                {
                                    "szallas_fk": "12",
                                    "szoba_id": "180",
                                    "Előző 5": "2"
                                },
                                {
                                    "szallas_fk": "12",
                                    "szoba_id": "181",
                                    "Előző 5": "3"
                                },
                                {
                                    "szallas_fk": "12",
                                    "szoba_id": "181",
                                    "Előző 5": "2"
                                },
                                {
                                    "szallas_fk": "12",
                                    "szoba_id": "181",
                                    "Előző 5": "2"
                                },
                                {
                                    "szallas_fk": "12",
                                    "szoba_id": "181",
                                    "Előző 5": "2"
                                },
                                {
                                    "szallas_fk": "12",
                                    "szoba_id": "181",
                                    "Előző 5": "2"
                                },
                                {
                                    "szallas_fk": "12",
                                    "szoba_id": "181",
                                    "Előző 5": "2"
                                },
                                {
                                    "szallas_fk": "12",
                                    "szoba_id": "181",
                                    "Előző 5": "2"
                                },
                                {
                                    "szallas_fk": "12",
                                    "szoba_id": "181",
                                    "Előző 5": "2"
                                },
                                {
                                    "szallas_fk": "12",
                                    "szoba_id": "181",
                                    "Előző 5": "2"
                                },
                                {
                                    "szallas_fk": "12",
                                    "szoba_id": "182",
                                    "Előző 5": "3"
                                },
                                {
                                    "szallas_fk": "12",
                                    "szoba_id": "182",
                                    "Előző 5": "2"
                                },
                                {
                                    "szallas_fk": "12",
                                    "szoba_id": "182",
                                    "Előző 5": "2"
                                },
                                {
                                    "szallas_fk": "12",
                                    "szoba_id": "182",
                                    "Előző 5": "2"
                                },
                                {
                                    "szallas_fk": "12",
                                    "szoba_id": "182",
                                    "Előző 5": "2"
                                },
                                {
                                    "szallas_fk": "12",
                                    "szoba_id": "182",
                                    "Előző 5": "2"
                                },
                                {
                                    "szallas_fk": "12",
                                    "szoba_id": "182",
                                    "Előző 5": "2"
                                },
                                {
                                    "szallas_fk": "12",
                                    "szoba_id": "182",
                                    "Előző 5": "2"
                                },
                                {
                                    "szallas_fk": "12",
                                    "szoba_id": "182",
                                    "Előző 5": "2"
                                },
                                {
                                    "szallas_fk": "12",
                                    "szoba_id": "183",
                                    "Előző 5": "3"
                                },
                                {
                                    "szallas_fk": "12",
                                    "szoba_id": "183",
                                    "Előző 5": "2"
                                },
                                {
                                    "szallas_fk": "12",
                                    "szoba_id": "183",
                                    "Előző 5": "2"
                                },
                                {
                                    "szallas_fk": "12",
                                    "szoba_id": "183",
                                    "Előző 5": "2"
                                },
                                {
                                    "szallas_fk": "12",
                                    "szoba_id": "183",
                                    "Előző 5": "2"
                                },
                                {
                                    "szallas_fk": "12",
                                    "szoba_id": "183",
                                    "Előző 5": "2"
                                },
                                {
                                    "szallas_fk": "12",
                                    "szoba_id": "183",
                                    "Előző 5": "2"
                                },
                                {
                                    "szallas_fk": "12",
                                    "szoba_id": "183",
                                    "Előző 5": "2"
                                },
                                {
                                    "szallas_fk": "12",
                                    "szoba_id": "183",
                                    "Előző 5": "2"
                                },
                                {
                                    "szallas_fk": "12",
                                    "szoba_id": "184",
                                    "Előző 5": "3"
                                },
                                {
                                    "szallas_fk": "12",
                                    "szoba_id": "184",
                                    "Előző 5": "2"
                                },
                                {
                                    "szallas_fk": "12",
                                    "szoba_id": "184",
                                    "Előző 5": "2"
                                },
                                {
                                    "szallas_fk": "12",
                                    "szoba_id": "184",
                                    "Előző 5": "2"
                                },
                                {
                                    "szallas_fk": "12",
                                    "szoba_id": "184",
                                    "Előző 5": "2"
                                },
                                {
                                    "szallas_fk": "12",
                                    "szoba_id": "184",
                                    "Előző 5": "2"
                                },
                                {
                                    "szallas_fk": "12",
                                    "szoba_id": "184",
                                    "Előző 5": "2"
                                },
                                {
                                    "szallas_fk": "12",
                                    "szoba_id": "184",
                                    "Előző 5": "2"
                                },
                                {
                                    "szallas_fk": "12",
                                    "szoba_id": "184",
                                    "Előző 5": "2"
                                },
                                {
                                    "szallas_fk": "12",
                                    "szoba_id": "185",
                                    "Előző 5": "3"
                                },
                                {
                                    "szallas_fk": "12",
                                    "szoba_id": "185",
                                    "Előző 5": "2"
                                },
                                {
                                    "szallas_fk": "12",
                                    "szoba_id": "185",
                                    "Előző 5": "2"
                                },
                                {
                                    "szallas_fk": "12",
                                    "szoba_id": "185",
                                    "Előző 5": "2"
                                },
                                {
                                    "szallas_fk": "12",
                                    "szoba_id": "185",
                                    "Előző 5": "2"
                                },
                                {
                                    "szallas_fk": "12",
                                    "szoba_id": "185",
                                    "Előző 5": "2"
                                },
                                {
                                    "szallas_fk": "12",
                                    "szoba_id": "185",
                                    "Előző 5": "2"
                                },
                                {
                                    "szallas_fk": "12",
                                    "szoba_id": "185",
                                    "Előző 5": "2"
                                },
                                {
                                    "szallas_fk": "12",
                                    "szoba_id": "185",
                                    "Előző 5": "2"
                                },
                                {
                                    "szallas_fk": "12",
                                    "szoba_id": "186",
                                    "Előző 5": "3"
                                },
                                {
                                    "szallas_fk": "12",
                                    "szoba_id": "186",
                                    "Előző 5": "2"
                                },
                                {
                                    "szallas_fk": "12",
                                    "szoba_id": "186",
                                    "Előző 5": "2"
                                },
                                {
                                    "szallas_fk": "12",
                                    "szoba_id": "186",
                                    "Előző 5": "2"
                                },
                                {
                                    "szallas_fk": "12",
                                    "szoba_id": "186",
                                    "Előző 5": "2"
                                },
                                {
                                    "szallas_fk": "12",
                                    "szoba_id": "186",
                                    "Előző 5": "2"
                                },
                                {
                                    "szallas_fk": "12",
                                    "szoba_id": "186",
                                    "Előző 5": "2"
                                },
                                {
                                    "szallas_fk": "12",
                                    "szoba_id": "186",
                                    "Előző 5": "2"
                                },
                                {
                                    "szallas_fk": "12",
                                    "szoba_id": "186",
                                    "Előző 5": "2"
                                },
                                {
                                    "szallas_fk": "12",
                                    "szoba_id": "187",
                                    "Előző 5": "3"
                                },
                                {
                                    "szallas_fk": "12",
                                    "szoba_id": "187",
                                    "Előző 5": "2"
                                },
                                {
                                    "szallas_fk": "12",
                                    "szoba_id": "187",
                                    "Előző 5": "2"
                                },
                                {
                                    "szallas_fk": "12",
                                    "szoba_id": "187",
                                    "Előző 5": "2"
                                },
                                {
                                    "szallas_fk": "12",
                                    "szoba_id": "187",
                                    "Előző 5": "2"
                                },
                                {
                                    "szallas_fk": "12",
                                    "szoba_id": "187",
                                    "Előző 5": "2"
                                },
                                {
                                    "szallas_fk": "12",
                                    "szoba_id": "187",
                                    "Előző 5": "2"
                                },
                                {
                                    "szallas_fk": "12",
                                    "szoba_id": "187",
                                    "Előző 5": "2"
                                },
                                {
                                    "szallas_fk": "12",
                                    "szoba_id": "187",
                                    "Előző 5": "2"
                                },
                                {
                                    "szallas_fk": "12",
                                    "szoba_id": "188",
                                    "Előző 5": "3"
                                },
                                {
                                    "szallas_fk": "12",
                                    "szoba_id": "188",
                                    "Előző 5": "2"
                                },
                                {
                                    "szallas_fk": "12",
                                    "szoba_id": "188",
                                    "Előző 5": "2"
                                },
                                {
                                    "szallas_fk": "12",
                                    "szoba_id": "188",
                                    "Előző 5": "2"
                                },
                                {
                                    "szallas_fk": "12",
                                    "szoba_id": "188",
                                    "Előző 5": "2"
                                },
                                {
                                    "szallas_fk": "12",
                                    "szoba_id": "188",
                                    "Előző 5": "2"
                                },
                                {
                                    "szallas_fk": "12",
                                    "szoba_id": "188",
                                    "Előző 5": "2"
                                },
                                {
                                    "szallas_fk": "12",
                                    "szoba_id": "188",
                                    "Előző 5": "2"
                                },
                                {
                                    "szallas_fk": "12",
                                    "szoba_id": "188",
                                    "Előző 5": "2"
                                },
                                {
                                    "szallas_fk": "12",
                                    "szoba_id": "189",
                                    "Előző 5": "3"
                                },
                                {
                                    "szallas_fk": "12",
                                    "szoba_id": "189",
                                    "Előző 5": "2"
                                },
                                {
                                    "szallas_fk": "12",
                                    "szoba_id": "189",
                                    "Előző 5": "2"
                                },
                                {
                                    "szallas_fk": "12",
                                    "szoba_id": "189",
                                    "Előző 5": "2"
                                },
                                {
                                    "szallas_fk": "12",
                                    "szoba_id": "189",
                                    "Előző 5": "2"
                                },
                                {
                                    "szallas_fk": "12",
                                    "szoba_id": "189",
                                    "Előző 5": "2"
                                },
                                {
                                    "szallas_fk": "12",
                                    "szoba_id": "189",
                                    "Előző 5": "2"
                                },
                                {
                                    "szallas_fk": "12",
                                    "szoba_id": "189",
                                    "Előző 5": "2"
                                },
                                {
                                    "szallas_fk": "12",
                                    "szoba_id": "189",
                                    "Előző 5": "2"
                                },
                                {
                                    "szallas_fk": "12",
                                    "szoba_id": "190",
                                    "Előző 5": "3"
                                },
                                {
                                    "szallas_fk": "12",
                                    "szoba_id": "190",
                                    "Előző 5": "2"
                                },
                                {
                                    "szallas_fk": "12",
                                    "szoba_id": "190",
                                    "Előző 5": "2"
                                },
                                {
                                    "szallas_fk": "12",
                                    "szoba_id": "190",
                                    "Előző 5": "2"
                                },
                                {
                                    "szallas_fk": "12",
                                    "szoba_id": "190",
                                    "Előző 5": "2"
                                },
                                {
                                    "szallas_fk": "12",
                                    "szoba_id": "190",
                                    "Előző 5": "2"
                                },
                                {
                                    "szallas_fk": "12",
                                    "szoba_id": "190",
                                    "Előző 5": "2"
                                },
                                {
                                    "szallas_fk": "12",
                                    "szoba_id": "190",
                                    "Előző 5": "2"
                                },
                                {
                                    "szallas_fk": "12",
                                    "szoba_id": "190",
                                    "Előző 5": "2"
                                },
                                {
                                    "szallas_fk": "12",
                                    "szoba_id": "191",
                                    "Előző 5": "3"
                                },
                                {
                                    "szallas_fk": "12",
                                    "szoba_id": "191",
                                    "Előző 5": "2"
                                },
                                {
                                    "szallas_fk": "12",
                                    "szoba_id": "191",
                                    "Előző 5": "2"
                                },
                                {
                                    "szallas_fk": "12",
                                    "szoba_id": "191",
                                    "Előző 5": "2"
                                },
                                {
                                    "szallas_fk": "12",
                                    "szoba_id": "191",
                                    "Előző 5": "2"
                                },
                                {
                                    "szallas_fk": "12",
                                    "szoba_id": "191",
                                    "Előző 5": "2"
                                },
                                {
                                    "szallas_fk": "12",
                                    "szoba_id": "191",
                                    "Előző 5": "2"
                                },
                                {
                                    "szallas_fk": "12",
                                    "szoba_id": "191",
                                    "Előző 5": "2"
                                },
                                {
                                    "szallas_fk": "12",
                                    "szoba_id": "191",
                                    "Előző 5": "2"
                                },
                                {
                                    "szallas_fk": "12",
                                    "szoba_id": "192",
                                    "Előző 5": "3"
                                },
                                {
                                    "szallas_fk": "12",
                                    "szoba_id": "192",
                                    "Előző 5": "2"
                                },
                                {
                                    "szallas_fk": "12",
                                    "szoba_id": "192",
                                    "Előző 5": "2"
                                },
                                {
                                    "szallas_fk": "12",
                                    "szoba_id": "192",
                                    "Előző 5": "2"
                                },
                                {
                                    "szallas_fk": "12",
                                    "szoba_id": "192",
                                    "Előző 5": "2"
                                },
                                {
                                    "szallas_fk": "12",
                                    "szoba_id": "192",
                                    "Előző 5": "2"
                                },
                                {
                                    "szallas_fk": "12",
                                    "szoba_id": "192",
                                    "Előző 5": "2"
                                },
                                {
                                    "szallas_fk": "12",
                                    "szoba_id": "192",
                                    "Előző 5": "2"
                                },
                                {
                                    "szallas_fk": "12",
                                    "szoba_id": "192",
                                    "Előző 5": "2"
                                },
                                {
                                    "szallas_fk": "12",
                                    "szoba_id": "193",
                                    "Előző 5": "3"
                                },
                                {
                                    "szallas_fk": "12",
                                    "szoba_id": "193",
                                    "Előző 5": "2"
                                },
                                {
                                    "szallas_fk": "12",
                                    "szoba_id": "193",
                                    "Előző 5": "2"
                                },
                                {
                                    "szallas_fk": "12",
                                    "szoba_id": "193",
                                    "Előző 5": "2"
                                },
                                {
                                    "szallas_fk": "12",
                                    "szoba_id": "193",
                                    "Előző 5": "2"
                                },
                                {
                                    "szallas_fk": "12",
                                    "szoba_id": "193",
                                    "Előző 5": "2"
                                },
                                {
                                    "szallas_fk": "12",
                                    "szoba_id": "193",
                                    "Előző 5": "2"
                                },
                                {
                                    "szallas_fk": "12",
                                    "szoba_id": "193",
                                    "Előző 5": "2"
                                },
                                {
                                    "szallas_fk": "12",
                                    "szoba_id": "193",
                                    "Előző 5": "2"
                                },
                                {
                                    "szallas_fk": "12",
                                    "szoba_id": "194",
                                    "Előző 5": "3"
                                },
                                {
                                    "szallas_fk": "12",
                                    "szoba_id": "194",
                                    "Előző 5": "2"
                                },
                                {
                                    "szallas_fk": "12",
                                    "szoba_id": "194",
                                    "Előző 5": "2"
                                },
                                {
                                    "szallas_fk": "12",
                                    "szoba_id": "194",
                                    "Előző 5": "2"
                                },
                                {
                                    "szallas_fk": "12",
                                    "szoba_id": "194",
                                    "Előző 5": "2"
                                },
                                {
                                    "szallas_fk": "12",
                                    "szoba_id": "194",
                                    "Előző 5": "2"
                                },
                                {
                                    "szallas_fk": "12",
                                    "szoba_id": "194",
                                    "Előző 5": "2"
                                },
                                {
                                    "szallas_fk": "12",
                                    "szoba_id": "194",
                                    "Előző 5": "2"
                                },
                                {
                                    "szallas_fk": "12",
                                    "szoba_id": "194",
                                    "Előző 5": "2"
                                },
                                {
                                    "szallas_fk": "12",
                                    "szoba_id": "195",
                                    "Előző 5": "3"
                                },
                                {
                                    "szallas_fk": "12",
                                    "szoba_id": "195",
                                    "Előző 5": "2"
                                },
                                {
                                    "szallas_fk": "12",
                                    "szoba_id": "195",
                                    "Előző 5": "2"
                                },
                                {
                                    "szallas_fk": "12",
                                    "szoba_id": "195",
                                    "Előző 5": "2"
                                },
                                {
                                    "szallas_fk": "12",
                                    "szoba_id": "195",
                                    "Előző 5": "2"
                                },
                                {
                                    "szallas_fk": "12",
                                    "szoba_id": "195",
                                    "Előző 5": "2"
                                },
                                {
                                    "szallas_fk": "12",
                                    "szoba_id": "195",
                                    "Előző 5": "2"
                                },
                                {
                                    "szallas_fk": "12",
                                    "szoba_id": "195",
                                    "Előző 5": "2"
                                },
                                {
                                    "szallas_fk": "12",
                                    "szoba_id": "195",
                                    "Előző 5": "2"
                                },
                                {
                                    "szallas_fk": "12",
                                    "szoba_id": "196",
                                    "Előző 5": "3"
                                },
                                {
                                    "szallas_fk": "12",
                                    "szoba_id": "196",
                                    "Előző 5": "2"
                                },
                                {
                                    "szallas_fk": "12",
                                    "szoba_id": "196",
                                    "Előző 5": "2"
                                },
                                {
                                    "szallas_fk": "12",
                                    "szoba_id": "196",
                                    "Előző 5": "2"
                                },
                                {
                                    "szallas_fk": "12",
                                    "szoba_id": "196",
                                    "Előző 5": "2"
                                },
                                {
                                    "szallas_fk": "12",
                                    "szoba_id": "196",
                                    "Előző 5": "2"
                                },
                                {
                                    "szallas_fk": "12",
                                    "szoba_id": "196",
                                    "Előző 5": "2"
                                },
                                {
                                    "szallas_fk": "12",
                                    "szoba_id": "196",
                                    "Előző 5": "2"
                                },
                                {
                                    "szallas_fk": "12",
                                    "szoba_id": "196",
                                    "Előző 5": "2"
                                },
                                {
                                    "szallas_fk": "12",
                                    "szoba_id": "197",
                                    "Előző 5": "3"
                                },
                                {
                                    "szallas_fk": "12",
                                    "szoba_id": "197",
                                    "Előző 5": "2"
                                },
                                {
                                    "szallas_fk": "12",
                                    "szoba_id": "197",
                                    "Előző 5": "2"
                                },
                                {
                                    "szallas_fk": "12",
                                    "szoba_id": "197",
                                    "Előző 5": "2"
                                },
                                {
                                    "szallas_fk": "12",
                                    "szoba_id": "197",
                                    "Előző 5": "2"
                                },
                                {
                                    "szallas_fk": "12",
                                    "szoba_id": "197",
                                    "Előző 5": "2"
                                },
                                {
                                    "szallas_fk": "12",
                                    "szoba_id": "197",
                                    "Előző 5": "2"
                                },
                                {
                                    "szallas_fk": "12",
                                    "szoba_id": "197",
                                    "Előző 5": "2"
                                },
                                {
                                    "szallas_fk": "12",
                                    "szoba_id": "197",
                                    "Előző 5": "2"
                                },
                                {
                                    "szallas_fk": "12",
                                    "szoba_id": "198",
                                    "Előző 5": "3"
                                },
                                {
                                    "szallas_fk": "12",
                                    "szoba_id": "198",
                                    "Előző 5": "2"
                                },
                                {
                                    "szallas_fk": "12",
                                    "szoba_id": "198",
                                    "Előző 5": "2"
                                },
                                {
                                    "szallas_fk": "12",
                                    "szoba_id": "198",
                                    "Előző 5": "2"
                                },
                                {
                                    "szallas_fk": "12",
                                    "szoba_id": "198",
                                    "Előző 5": "2"
                                },
                                {
                                    "szallas_fk": "12",
                                    "szoba_id": "198",
                                    "Előző 5": "2"
                                },
                                {
                                    "szallas_fk": "12",
                                    "szoba_id": "198",
                                    "Előző 5": "2"
                                },
                                {
                                    "szallas_fk": "12",
                                    "szoba_id": "198",
                                    "Előző 5": "2"
                                },
                                {
                                    "szallas_fk": "12",
                                    "szoba_id": "198",
                                    "Előző 5": "2"
                                },
                                {
                                    "szallas_fk": "12",
                                    "szoba_id": "199",
                                    "Előző 5": "3"
                                },
                                {
                                    "szallas_fk": "12",
                                    "szoba_id": "199",
                                    "Előző 5": "2"
                                },
                                {
                                    "szallas_fk": "12",
                                    "szoba_id": "199",
                                    "Előző 5": "2"
                                },
                                {
                                    "szallas_fk": "12",
                                    "szoba_id": "199",
                                    "Előző 5": "2"
                                },
                                {
                                    "szallas_fk": "12",
                                    "szoba_id": "199",
                                    "Előző 5": "2"
                                },
                                {
                                    "szallas_fk": "12",
                                    "szoba_id": "199",
                                    "Előző 5": "2"
                                },
                                {
                                    "szallas_fk": "12",
                                    "szoba_id": "199",
                                    "Előző 5": "2"
                                },
                                {
                                    "szallas_fk": "12",
                                    "szoba_id": "199",
                                    "Előző 5": "2"
                                },
                                {
                                    "szallas_fk": "12",
                                    "szoba_id": "199",
                                    "Előző 5": "2"
                                },
                                {
                                    "szallas_fk": "12",
                                    "szoba_id": "200",
                                    "Előző 5": "3"
                                },
                                {
                                    "szallas_fk": "12",
                                    "szoba_id": "200",
                                    "Előző 5": "2"
                                },
                                {
                                    "szallas_fk": "12",
                                    "szoba_id": "200",
                                    "Előző 5": "2"
                                },
                                {
                                    "szallas_fk": "12",
                                    "szoba_id": "200",
                                    "Előző 5": "2"
                                },
                                {
                                    "szallas_fk": "12",
                                    "szoba_id": "200",
                                    "Előző 5": "2"
                                },
                                {
                                    "szallas_fk": "12",
                                    "szoba_id": "200",
                                    "Előző 5": "2"
                                },
                                {
                                    "szallas_fk": "12",
                                    "szoba_id": "200",
                                    "Előző 5": "2"
                                },
                                {
                                    "szallas_fk": "12",
                                    "szoba_id": "200",
                                    "Előző 5": "2"
                                },
                                {
                                    "szallas_fk": "12",
                                    "szoba_id": "200",
                                    "Előző 5": "2"
                                },
                                {
                                    "szallas_fk": "12",
                                    "szoba_id": "201",
                                    "Előző 5": "3"
                                },
                                {
                                    "szallas_fk": "12",
                                    "szoba_id": "201",
                                    "Előző 5": "2"
                                },
                                {
                                    "szallas_fk": "12",
                                    "szoba_id": "201",
                                    "Előző 5": "2"
                                },
                                {
                                    "szallas_fk": "12",
                                    "szoba_id": "201",
                                    "Előző 5": "2"
                                },
                                {
                                    "szallas_fk": "12",
                                    "szoba_id": "201",
                                    "Előző 5": "2"
                                },
                                {
                                    "szallas_fk": "12",
                                    "szoba_id": "201",
                                    "Előző 5": "2"
                                },
                                {
                                    "szallas_fk": "12",
                                    "szoba_id": "201",
                                    "Előző 5": "2"
                                },
                                {
                                    "szallas_fk": "12",
                                    "szoba_id": "201",
                                    "Előző 5": "2"
                                },
                                {
                                    "szallas_fk": "12",
                                    "szoba_id": "201",
                                    "Előző 5": "2"
                                },
                                {
                                    "szallas_fk": "12",
                                    "szoba_id": "202",
                                    "Előző 5": "3"
                                },
                                {
                                    "szallas_fk": "12",
                                    "szoba_id": "202",
                                    "Előző 5": "2"
                                },
                                {
                                    "szallas_fk": "12",
                                    "szoba_id": "202",
                                    "Előző 5": "2"
                                },
                                {
                                    "szallas_fk": "12",
                                    "szoba_id": "202",
                                    "Előző 5": "2"
                                },
                                {
                                    "szallas_fk": "12",
                                    "szoba_id": "202",
                                    "Előző 5": "2"
                                },
                                {
                                    "szallas_fk": "12",
                                    "szoba_id": "202",
                                    "Előző 5": "2"
                                },
                                {
                                    "szallas_fk": "12",
                                    "szoba_id": "202",
                                    "Előző 5": "2"
                                },
                                {
                                    "szallas_fk": "12",
                                    "szoba_id": "202",
                                    "Előző 5": "2"
                                },
                                {
                                    "szallas_fk": "12",
                                    "szoba_id": "202",
                                    "Előző 5": "2"
                                },
                                {
                                    "szallas_fk": "12",
                                    "szoba_id": "203",
                                    "Előző 5": "3"
                                },
                                {
                                    "szallas_fk": "12",
                                    "szoba_id": "203",
                                    "Előző 5": "2"
                                },
                                {
                                    "szallas_fk": "12",
                                    "szoba_id": "203",
                                    "Előző 5": "2"
                                },
                                {
                                    "szallas_fk": "12",
                                    "szoba_id": "203",
                                    "Előző 5": "2"
                                },
                                {
                                    "szallas_fk": "12",
                                    "szoba_id": "203",
                                    "Előző 5": "2"
                                },
                                {
                                    "szallas_fk": "12",
                                    "szoba_id": "203",
                                    "Előző 5": "2"
                                },
                                {
                                    "szallas_fk": "12",
                                    "szoba_id": "203",
                                    "Előző 5": "2"
                                },
                                {
                                    "szallas_fk": "12",
                                    "szoba_id": "203",
                                    "Előző 5": "2"
                                },
                                {
                                    "szallas_fk": "12",
                                    "szoba_id": "203",
                                    "Előző 5": "2"
                                },
                                {
                                    "szallas_fk": "12",
                                    "szoba_id": "204",
                                    "Előző 5": "3"
                                },
                                {
                                    "szallas_fk": "12",
                                    "szoba_id": "204",
                                    "Előző 5": "2"
                                },
                                {
                                    "szallas_fk": "12",
                                    "szoba_id": "204",
                                    "Előző 5": "2"
                                },
                                {
                                    "szallas_fk": "12",
                                    "szoba_id": "204",
                                    "Előző 5": "2"
                                },
                                {
                                    "szallas_fk": "12",
                                    "szoba_id": "204",
                                    "Előző 5": "2"
                                },
                                {
                                    "szallas_fk": "12",
                                    "szoba_id": "204",
                                    "Előző 5": "2"
                                },
                                {
                                    "szallas_fk": "12",
                                    "szoba_id": "204",
                                    "Előző 5": "2"
                                },
                                {
                                    "szallas_fk": "12",
                                    "szoba_id": "204",
                                    "Előző 5": "2"
                                },
                                {
                                    "szallas_fk": "12",
                                    "szoba_id": "204",
                                    "Előző 5": "2"
                                },
                                {
                                    "szallas_fk": "12",
                                    "szoba_id": "205",
                                    "Előző 5": "3"
                                },
                                {
                                    "szallas_fk": "12",
                                    "szoba_id": "205",
                                    "Előző 5": "2"
                                },
                                {
                                    "szallas_fk": "12",
                                    "szoba_id": "205",
                                    "Előző 5": "2"
                                },
                                {
                                    "szallas_fk": "12",
                                    "szoba_id": "205",
                                    "Előző 5": "2"
                                },
                                {
                                    "szallas_fk": "12",
                                    "szoba_id": "205",
                                    "Előző 5": "2"
                                },
                                {
                                    "szallas_fk": "12",
                                    "szoba_id": "205",
                                    "Előző 5": "2"
                                },
                                {
                                    "szallas_fk": "12",
                                    "szoba_id": "205",
                                    "Előző 5": "2"
                                },
                                {
                                    "szallas_fk": "12",
                                    "szoba_id": "205",
                                    "Előző 5": "2"
                                },
                                {
                                    "szallas_fk": "12",
                                    "szoba_id": "205",
                                    "Előző 5": "2"
                                },
                                {
                                    "szallas_fk": "12",
                                    "szoba_id": "206",
                                    "Előző 5": "3"
                                },
                                {
                                    "szallas_fk": "12",
                                    "szoba_id": "206",
                                    "Előző 5": "2"
                                },
                                {
                                    "szallas_fk": "12",
                                    "szoba_id": "206",
                                    "Előző 5": "2"
                                },
                                {
                                    "szallas_fk": "12",
                                    "szoba_id": "206",
                                    "Előző 5": "2"
                                },
                                {
                                    "szallas_fk": "12",
                                    "szoba_id": "206",
                                    "Előző 5": "2"
                                },
                                {
                                    "szallas_fk": "12",
                                    "szoba_id": "206",
                                    "Előző 5": "2"
                                },
                                {
                                    "szallas_fk": "12",
                                    "szoba_id": "206",
                                    "Előző 5": "2"
                                },
                                {
                                    "szallas_fk": "12",
                                    "szoba_id": "206",
                                    "Előző 5": "2"
                                },
                                {
                                    "szallas_fk": "12",
                                    "szoba_id": "206",
                                    "Előző 5": "2"
                                },
                                {
                                    "szallas_fk": "12",
                                    "szoba_id": "207",
                                    "Előző 5": "3"
                                },
                                {
                                    "szallas_fk": "12",
                                    "szoba_id": "207",
                                    "Előző 5": "2"
                                },
                                {
                                    "szallas_fk": "12",
                                    "szoba_id": "207",
                                    "Előző 5": "2"
                                },
                                {
                                    "szallas_fk": "12",
                                    "szoba_id": "207",
                                    "Előző 5": "2"
                                },
                                {
                                    "szallas_fk": "12",
                                    "szoba_id": "207",
                                    "Előző 5": "2"
                                },
                                {
                                    "szallas_fk": "12",
                                    "szoba_id": "207",
                                    "Előző 5": "2"
                                },
                                {
                                    "szallas_fk": "12",
                                    "szoba_id": "207",
                                    "Előző 5": "2"
                                },
                                {
                                    "szallas_fk": "12",
                                    "szoba_id": "207",
                                    "Előző 5": "2"
                                },
                                {
                                    "szallas_fk": "12",
                                    "szoba_id": "207",
                                    "Előző 5": "2"
                                },
                                {
                                    "szallas_fk": "12",
                                    "szoba_id": "208",
                                    "Előző 5": "3"
                                },
                                {
                                    "szallas_fk": "12",
                                    "szoba_id": "208",
                                    "Előző 5": "2"
                                },
                                {
                                    "szallas_fk": "12",
                                    "szoba_id": "208",
                                    "Előző 5": "2"
                                },
                                {
                                    "szallas_fk": "12",
                                    "szoba_id": "208",
                                    "Előző 5": "2"
                                },
                                {
                                    "szallas_fk": "12",
                                    "szoba_id": "208",
                                    "Előző 5": "2"
                                },
                                {
                                    "szallas_fk": "12",
                                    "szoba_id": "208",
                                    "Előző 5": "2"
                                },
                                {
                                    "szallas_fk": "12",
                                    "szoba_id": "208",
                                    "Előző 5": "2"
                                },
                                {
                                    "szallas_fk": "12",
                                    "szoba_id": "208",
                                    "Előző 5": "2"
                                },
                                {
                                    "szallas_fk": "12",
                                    "szoba_id": "208",
                                    "Előző 5": "2"
                                },
                                {
                                    "szallas_fk": "12",
                                    "szoba_id": "209",
                                    "Előző 5": "3"
                                },
                                {
                                    "szallas_fk": "12",
                                    "szoba_id": "209",
                                    "Előző 5": "2"
                                },
                                {
                                    "szallas_fk": "12",
                                    "szoba_id": "209",
                                    "Előző 5": "2"
                                },
                                {
                                    "szallas_fk": "12",
                                    "szoba_id": "209",
                                    "Előző 5": "2"
                                },
                                {
                                    "szallas_fk": "12",
                                    "szoba_id": "209",
                                    "Előző 5": "2"
                                },
                                {
                                    "szallas_fk": "12",
                                    "szoba_id": "209",
                                    "Előző 5": "2"
                                },
                                {
                                    "szallas_fk": "12",
                                    "szoba_id": "209",
                                    "Előző 5": "2"
                                },
                                {
                                    "szallas_fk": "12",
                                    "szoba_id": "209",
                                    "Előző 5": "2"
                                },
                                {
                                    "szallas_fk": "12",
                                    "szoba_id": "209",
                                    "Előző 5": "2"
                                },
                                {
                                    "szallas_fk": "12",
                                    "szoba_id": "210",
                                    "Előző 5": "3"
                                },
                                {
                                    "szallas_fk": "12",
                                    "szoba_id": "210",
                                    "Előző 5": "2"
                                },
                                {
                                    "szallas_fk": "12",
                                    "szoba_id": "210",
                                    "Előző 5": "2"
                                },
                                {
                                    "szallas_fk": "12",
                                    "szoba_id": "210",
                                    "Előző 5": "2"
                                },
                                {
                                    "szallas_fk": "12",
                                    "szoba_id": "210",
                                    "Előző 5": "2"
                                },
                                {
                                    "szallas_fk": "12",
                                    "szoba_id": "210",
                                    "Előző 5": "2"
                                },
                                {
                                    "szallas_fk": "12",
                                    "szoba_id": "210",
                                    "Előző 5": "2"
                                },
                                {
                                    "szallas_fk": "12",
                                    "szoba_id": "210",
                                    "Előző 5": "2"
                                },
                                {
                                    "szallas_fk": "12",
                                    "szoba_id": "210",
                                    "Előző 5": "2"
                                },
                                {
                                    "szallas_fk": "12",
                                    "szoba_id": "211",
                                    "Előző 5": "3"
                                },
                                {
                                    "szallas_fk": "12",
                                    "szoba_id": "211",
                                    "Előző 5": "2"
                                },
                                {
                                    "szallas_fk": "12",
                                    "szoba_id": "211",
                                    "Előző 5": "2"
                                },
                                {
                                    "szallas_fk": "12",
                                    "szoba_id": "211",
                                    "Előző 5": "2"
                                },
                                {
                                    "szallas_fk": "12",
                                    "szoba_id": "211",
                                    "Előző 5": "2"
                                },
                                {
                                    "szallas_fk": "12",
                                    "szoba_id": "211",
                                    "Előző 5": "2"
                                },
                                {
                                    "szallas_fk": "12",
                                    "szoba_id": "211",
                                    "Előző 5": "2"
                                },
                                {
                                    "szallas_fk": "12",
                                    "szoba_id": "211",
                                    "Előző 5": "2"
                                },
                                {
                                    "szallas_fk": "12",
                                    "szoba_id": "211",
                                    "Előző 5": "2"
                                },
                                {
                                    "szallas_fk": "12",
                                    "szoba_id": "212",
                                    "Előző 5": "3"
                                },
                                {
                                    "szallas_fk": "12",
                                    "szoba_id": "212",
                                    "Előző 5": "2"
                                },
                                {
                                    "szallas_fk": "12",
                                    "szoba_id": "212",
                                    "Előző 5": "2"
                                },
                                {
                                    "szallas_fk": "12",
                                    "szoba_id": "212",
                                    "Előző 5": "2"
                                },
                                {
                                    "szallas_fk": "12",
                                    "szoba_id": "212",
                                    "Előző 5": "2"
                                },
                                {
                                    "szallas_fk": "12",
                                    "szoba_id": "212",
                                    "Előző 5": "2"
                                },
                                {
                                    "szallas_fk": "12",
                                    "szoba_id": "212",
                                    "Előző 5": "2"
                                },
                                {
                                    "szallas_fk": "12",
                                    "szoba_id": "212",
                                    "Előző 5": "2"
                                },
                                {
                                    "szallas_fk": "12",
                                    "szoba_id": "212",
                                    "Előző 5": "2"
                                },
                                {
                                    "szallas_fk": "12",
                                    "szoba_id": "213",
                                    "Előző 5": "3"
                                },
                                {
                                    "szallas_fk": "12",
                                    "szoba_id": "213",
                                    "Előző 5": "2"
                                },
                                {
                                    "szallas_fk": "12",
                                    "szoba_id": "213",
                                    "Előző 5": "2"
                                },
                                {
                                    "szallas_fk": "12",
                                    "szoba_id": "213",
                                    "Előző 5": "2"
                                },
                                {
                                    "szallas_fk": "12",
                                    "szoba_id": "213",
                                    "Előző 5": "2"
                                },
                                {
                                    "szallas_fk": "12",
                                    "szoba_id": "213",
                                    "Előző 5": "2"
                                },
                                {
                                    "szallas_fk": "12",
                                    "szoba_id": "213",
                                    "Előző 5": "2"
                                },
                                {
                                    "szallas_fk": "12",
                                    "szoba_id": "213",
                                    "Előző 5": "2"
                                },
                                {
                                    "szallas_fk": "12",
                                    "szoba_id": "213",
                                    "Előző 5": "2"
                                },
                                {
                                    "szallas_fk": "12",
                                    "szoba_id": "214",
                                    "Előző 5": "3"
                                },
                                {
                                    "szallas_fk": "12",
                                    "szoba_id": "214",
                                    "Előző 5": "2"
                                },
                                {
                                    "szallas_fk": "12",
                                    "szoba_id": "214",
                                    "Előző 5": "2"
                                },
                                {
                                    "szallas_fk": "12",
                                    "szoba_id": "214",
                                    "Előző 5": "2"
                                },
                                {
                                    "szallas_fk": "12",
                                    "szoba_id": "214",
                                    "Előző 5": "2"
                                },
                                {
                                    "szallas_fk": "12",
                                    "szoba_id": "214",
                                    "Előző 5": "2"
                                },
                                {
                                    "szallas_fk": "12",
                                    "szoba_id": "214",
                                    "Előző 5": "2"
                                },
                                {
                                    "szallas_fk": "12",
                                    "szoba_id": "214",
                                    "Előző 5": "2"
                                },
                                {
                                    "szallas_fk": "12",
                                    "szoba_id": "214",
                                    "Előző 5": "2"
                                },
                                {
                                    "szallas_fk": "13",
                                    "szoba_id": "215",
                                    "Előző 5": "3"
                                },
                                {
                                    "szallas_fk": "13",
                                    "szoba_id": "215",
                                    "Előző 5": "3"
                                },
                                {
                                    "szallas_fk": "13",
                                    "szoba_id": "215",
                                    "Előző 5": "3"
                                },
                                {
                                    "szallas_fk": "13",
                                    "szoba_id": "215",
                                    "Előző 5": "2"
                                },
                                {
                                    "szallas_fk": "13",
                                    "szoba_id": "216",
                                    "Előző 5": "3"
                                },
                                {
                                    "szallas_fk": "13",
                                    "szoba_id": "216",
                                    "Előző 5": "3"
                                },
                                {
                                    "szallas_fk": "13",
                                    "szoba_id": "216",
                                    "Előző 5": "3"
                                },
                                {
                                    "szallas_fk": "13",
                                    "szoba_id": "216",
                                    "Előző 5": "2"
                                },
                                {
                                    "szallas_fk": "13",
                                    "szoba_id": "217",
                                    "Előző 5": "3"
                                },
                                {
                                    "szallas_fk": "13",
                                    "szoba_id": "217",
                                    "Előző 5": "3"
                                },
                                {
                                    "szallas_fk": "13",
                                    "szoba_id": "217",
                                    "Előző 5": "3"
                                },
                                {
                                    "szallas_fk": "13",
                                    "szoba_id": "217",
                                    "Előző 5": "2"
                                },
                                {
                                    "szallas_fk": "13",
                                    "szoba_id": "218",
                                    "Előző 5": "3"
                                },
                                {
                                    "szallas_fk": "13",
                                    "szoba_id": "218",
                                    "Előző 5": "3"
                                },
                                {
                                    "szallas_fk": "13",
                                    "szoba_id": "218",
                                    "Előző 5": "3"
                                },
                                {
                                    "szallas_fk": "13",
                                    "szoba_id": "218",
                                    "Előző 5": "2"
                                },
                                {
                                    "szallas_fk": "13",
                                    "szoba_id": "219",
                                    "Előző 5": "3"
                                },
                                {
                                    "szallas_fk": "13",
                                    "szoba_id": "219",
                                    "Előző 5": "3"
                                },
                                {
                                    "szallas_fk": "13",
                                    "szoba_id": "219",
                                    "Előző 5": "3"
                                },
                                {
                                    "szallas_fk": "13",
                                    "szoba_id": "219",
                                    "Előző 5": "2"
                                },
                                {
                                    "szallas_fk": "13",
                                    "szoba_id": "220",
                                    "Előző 5": "3"
                                },
                                {
                                    "szallas_fk": "13",
                                    "szoba_id": "220",
                                    "Előző 5": "3"
                                },
                                {
                                    "szallas_fk": "13",
                                    "szoba_id": "220",
                                    "Előző 5": "3"
                                },
                                {
                                    "szallas_fk": "13",
                                    "szoba_id": "220",
                                    "Előző 5": "2"
                                },
                                {
                                    "szallas_fk": "13",
                                    "szoba_id": "221",
                                    "Előző 5": "3"
                                },
                                {
                                    "szallas_fk": "13",
                                    "szoba_id": "221",
                                    "Előző 5": "3"
                                },
                                {
                                    "szallas_fk": "13",
                                    "szoba_id": "221",
                                    "Előző 5": "3"
                                },
                                {
                                    "szallas_fk": "13",
                                    "szoba_id": "221",
                                    "Előző 5": "2"
                                },
                                {
                                    "szallas_fk": "13",
                                    "szoba_id": "222",
                                    "Előző 5": "3"
                                },
                                {
                                    "szallas_fk": "13",
                                    "szoba_id": "222",
                                    "Előző 5": "3"
                                },
                                {
                                    "szallas_fk": "13",
                                    "szoba_id": "222",
                                    "Előző 5": "3"
                                },
                                {
                                    "szallas_fk": "13",
                                    "szoba_id": "222",
                                    "Előző 5": "2"
                                },
                                {
                                    "szallas_fk": "13",
                                    "szoba_id": "223",
                                    "Előző 5": "3"
                                },
                                {
                                    "szallas_fk": "13",
                                    "szoba_id": "223",
                                    "Előző 5": "3"
                                },
                                {
                                    "szallas_fk": "13",
                                    "szoba_id": "223",
                                    "Előző 5": "3"
                                },
                                {
                                    "szallas_fk": "13",
                                    "szoba_id": "223",
                                    "Előző 5": "2"
                                },
                                {
                                    "szallas_fk": "13",
                                    "szoba_id": "224",
                                    "Előző 5": "3"
                                },
                                {
                                    "szallas_fk": "13",
                                    "szoba_id": "224",
                                    "Előző 5": "3"
                                },
                                {
                                    "szallas_fk": "13",
                                    "szoba_id": "224",
                                    "Előző 5": "3"
                                },
                                {
                                    "szallas_fk": "13",
                                    "szoba_id": "224",
                                    "Előző 5": "2"
                                },
                                {
                                    "szallas_fk": "13",
                                    "szoba_id": "225",
                                    "Előző 5": "3"
                                },
                                {
                                    "szallas_fk": "13",
                                    "szoba_id": "225",
                                    "Előző 5": "3"
                                },
                                {
                                    "szallas_fk": "13",
                                    "szoba_id": "225",
                                    "Előző 5": "3"
                                },
                                {
                                    "szallas_fk": "13",
                                    "szoba_id": "225",
                                    "Előző 5": "2"
                                },
                                {
                                    "szallas_fk": "13",
                                    "szoba_id": "226",
                                    "Előző 5": "3"
                                },
                                {
                                    "szallas_fk": "13",
                                    "szoba_id": "226",
                                    "Előző 5": "3"
                                },
                                {
                                    "szallas_fk": "13",
                                    "szoba_id": "226",
                                    "Előző 5": "3"
                                },
                                {
                                    "szallas_fk": "13",
                                    "szoba_id": "226",
                                    "Előző 5": "2"
                                },
                                {
                                    "szallas_fk": "14",
                                    "szoba_id": "227",
                                    "Előző 5": "4"
                                },
                                {
                                    "szallas_fk": "14",
                                    "szoba_id": "227",
                                    "Előző 5": "3"
                                },
                                {
                                    "szallas_fk": "14",
                                    "szoba_id": "227",
                                    "Előző 5": "3"
                                },
                                {
                                    "szallas_fk": "14",
                                    "szoba_id": "228",
                                    "Előző 5": "4"
                                },
                                {
                                    "szallas_fk": "14",
                                    "szoba_id": "228",
                                    "Előző 5": "3"
                                },
                                {
                                    "szallas_fk": "14",
                                    "szoba_id": "228",
                                    "Előző 5": "3"
                                },
                                {
                                    "szallas_fk": "14",
                                    "szoba_id": "229",
                                    "Előző 5": "4"
                                },
                                {
                                    "szallas_fk": "14",
                                    "szoba_id": "229",
                                    "Előző 5": "3"
                                },
                                {
                                    "szallas_fk": "14",
                                    "szoba_id": "229",
                                    "Előző 5": "3"
                                },
                                {
                                    "szallas_fk": "14",
                                    "szoba_id": "230",
                                    "Előző 5": "4"
                                },
                                {
                                    "szallas_fk": "14",
                                    "szoba_id": "230",
                                    "Előző 5": "3"
                                },
                                {
                                    "szallas_fk": "14",
                                    "szoba_id": "230",
                                    "Előző 5": "3"
                                },
                                {
                                    "szallas_fk": "15",
                                    "szoba_id": "231",
                                    "Előző 5": "3"
                                },
                                {
                                    "szallas_fk": "15",
                                    "szoba_id": "231",
                                    "Előző 5": "2"
                                },
                                {
                                    "szallas_fk": "15",
                                    "szoba_id": "231",
                                    "Előző 5": "2"
                                },
                                {
                                    "szallas_fk": "15",
                                    "szoba_id": "231",
                                    "Előző 5": "2"
                                },
                                {
                                    "szallas_fk": "15",
                                    "szoba_id": "231",
                                    "Előző 5": "2"
                                },
                                {
                                    "szallas_fk": "15",
                                    "szoba_id": "231",
                                    "Előző 5": "2"
                                },
                                {
                                    "szallas_fk": "15",
                                    "szoba_id": "232",
                                    "Előző 5": "3"
                                },
                                {
                                    "szallas_fk": "15",
                                    "szoba_id": "232",
                                    "Előző 5": "2"
                                },
                                {
                                    "szallas_fk": "15",
                                    "szoba_id": "232",
                                    "Előző 5": "2"
                                },
                                {
                                    "szallas_fk": "15",
                                    "szoba_id": "232",
                                    "Előző 5": "2"
                                },
                                {
                                    "szallas_fk": "15",
                                    "szoba_id": "232",
                                    "Előző 5": "2"
                                },
                                {
                                    "szallas_fk": "15",
                                    "szoba_id": "232",
                                    "Előző 5": "2"
                                },
                                {
                                    "szallas_fk": "15",
                                    "szoba_id": "233",
                                    "Előző 5": "3"
                                },
                                {
                                    "szallas_fk": "15",
                                    "szoba_id": "233",
                                    "Előző 5": "2"
                                },
                                {
                                    "szallas_fk": "15",
                                    "szoba_id": "233",
                                    "Előző 5": "2"
                                },
                                {
                                    "szallas_fk": "15",
                                    "szoba_id": "233",
                                    "Előző 5": "2"
                                },
                                {
                                    "szallas_fk": "15",
                                    "szoba_id": "233",
                                    "Előző 5": "2"
                                },
                                {
                                    "szallas_fk": "15",
                                    "szoba_id": "233",
                                    "Előző 5": "2"
                                },
                                {
                                    "szallas_fk": "15",
                                    "szoba_id": "234",
                                    "Előző 5": "3"
                                },
                                {
                                    "szallas_fk": "15",
                                    "szoba_id": "234",
                                    "Előző 5": "2"
                                },
                                {
                                    "szallas_fk": "15",
                                    "szoba_id": "234",
                                    "Előző 5": "2"
                                },
                                {
                                    "szallas_fk": "15",
                                    "szoba_id": "234",
                                    "Előző 5": "2"
                                },
                                {
                                    "szallas_fk": "15",
                                    "szoba_id": "234",
                                    "Előző 5": "2"
                                },
                                {
                                    "szallas_fk": "15",
                                    "szoba_id": "234",
                                    "Előző 5": "2"
                                },
                                {
                                    "szallas_fk": "15",
                                    "szoba_id": "235",
                                    "Előző 5": "3"
                                },
                                {
                                    "szallas_fk": "15",
                                    "szoba_id": "235",
                                    "Előző 5": "2"
                                },
                                {
                                    "szallas_fk": "15",
                                    "szoba_id": "235",
                                    "Előző 5": "2"
                                },
                                {
                                    "szallas_fk": "15",
                                    "szoba_id": "235",
                                    "Előző 5": "2"
                                },
                                {
                                    "szallas_fk": "15",
                                    "szoba_id": "235",
                                    "Előző 5": "2"
                                },
                                {
                                    "szallas_fk": "15",
                                    "szoba_id": "235",
                                    "Előző 5": "2"
                                },
                                {
                                    "szallas_fk": "15",
                                    "szoba_id": "236",
                                    "Előző 5": "3"
                                },
                                {
                                    "szallas_fk": "15",
                                    "szoba_id": "236",
                                    "Előző 5": "2"
                                },
                                {
                                    "szallas_fk": "15",
                                    "szoba_id": "236",
                                    "Előző 5": "2"
                                },
                                {
                                    "szallas_fk": "15",
                                    "szoba_id": "236",
                                    "Előző 5": "2"
                                },
                                {
                                    "szallas_fk": "15",
                                    "szoba_id": "236",
                                    "Előző 5": "2"
                                },
                                {
                                    "szallas_fk": "15",
                                    "szoba_id": "236",
                                    "Előző 5": "2"
                                },
                                {
                                    "szallas_fk": "15",
                                    "szoba_id": "237",
                                    "Előző 5": "3"
                                },
                                {
                                    "szallas_fk": "15",
                                    "szoba_id": "237",
                                    "Előző 5": "2"
                                },
                                {
                                    "szallas_fk": "15",
                                    "szoba_id": "237",
                                    "Előző 5": "2"
                                },
                                {
                                    "szallas_fk": "15",
                                    "szoba_id": "237",
                                    "Előző 5": "2"
                                },
                                {
                                    "szallas_fk": "15",
                                    "szoba_id": "237",
                                    "Előző 5": "2"
                                },
                                {
                                    "szallas_fk": "15",
                                    "szoba_id": "237",
                                    "Előző 5": "2"
                                },
                                {
                                    "szallas_fk": "15",
                                    "szoba_id": "238",
                                    "Előző 5": "3"
                                },
                                {
                                    "szallas_fk": "15",
                                    "szoba_id": "238",
                                    "Előző 5": "2"
                                },
                                {
                                    "szallas_fk": "15",
                                    "szoba_id": "238",
                                    "Előző 5": "2"
                                },
                                {
                                    "szallas_fk": "15",
                                    "szoba_id": "238",
                                    "Előző 5": "2"
                                },
                                {
                                    "szallas_fk": "15",
                                    "szoba_id": "238",
                                    "Előző 5": "2"
                                },
                                {
                                    "szallas_fk": "15",
                                    "szoba_id": "238",
                                    "Előző 5": "2"
                                },
                                {
                                    "szallas_fk": "15",
                                    "szoba_id": "239",
                                    "Előző 5": "3"
                                },
                                {
                                    "szallas_fk": "15",
                                    "szoba_id": "239",
                                    "Előző 5": "2"
                                },
                                {
                                    "szallas_fk": "15",
                                    "szoba_id": "239",
                                    "Előző 5": "2"
                                },
                                {
                                    "szallas_fk": "15",
                                    "szoba_id": "239",
                                    "Előző 5": "2"
                                },
                                {
                                    "szallas_fk": "15",
                                    "szoba_id": "239",
                                    "Előző 5": "2"
                                },
                                {
                                    "szallas_fk": "15",
                                    "szoba_id": "239",
                                    "Előző 5": "2"
                                },
                                {
                                    "szallas_fk": "15",
                                    "szoba_id": "240",
                                    "Előző 5": "3"
                                },
                                {
                                    "szallas_fk": "15",
                                    "szoba_id": "240",
                                    "Előző 5": "2"
                                },
                                {
                                    "szallas_fk": "15",
                                    "szoba_id": "240",
                                    "Előző 5": "2"
                                },
                                {
                                    "szallas_fk": "15",
                                    "szoba_id": "240",
                                    "Előző 5": "2"
                                },
                                {
                                    "szallas_fk": "15",
                                    "szoba_id": "240",
                                    "Előző 5": "2"
                                },
                                {
                                    "szallas_fk": "15",
                                    "szoba_id": "240",
                                    "Előző 5": "2"
                                },
                                {
                                    "szallas_fk": "15",
                                    "szoba_id": "241",
                                    "Előző 5": "3"
                                },
                                {
                                    "szallas_fk": "15",
                                    "szoba_id": "241",
                                    "Előző 5": "2"
                                },
                                {
                                    "szallas_fk": "15",
                                    "szoba_id": "241",
                                    "Előző 5": "2"
                                },
                                {
                                    "szallas_fk": "15",
                                    "szoba_id": "241",
                                    "Előző 5": "2"
                                },
                                {
                                    "szallas_fk": "15",
                                    "szoba_id": "241",
                                    "Előző 5": "2"
                                },
                                {
                                    "szallas_fk": "15",
                                    "szoba_id": "241",
                                    "Előző 5": "2"
                                },
                                {
                                    "szallas_fk": "15",
                                    "szoba_id": "242",
                                    "Előző 5": "3"
                                },
                                {
                                    "szallas_fk": "15",
                                    "szoba_id": "242",
                                    "Előző 5": "2"
                                },
                                {
                                    "szallas_fk": "15",
                                    "szoba_id": "242",
                                    "Előző 5": "2"
                                },
                                {
                                    "szallas_fk": "15",
                                    "szoba_id": "242",
                                    "Előző 5": "2"
                                },
                                {
                                    "szallas_fk": "15",
                                    "szoba_id": "242",
                                    "Előző 5": "2"
                                },
                                {
                                    "szallas_fk": "15",
                                    "szoba_id": "242",
                                    "Előző 5": "2"
                                },
                                {
                                    "szallas_fk": "16",
                                    "szoba_id": "243",
                                    "Előző 5": "4"
                                },
                                {
                                    "szallas_fk": "16",
                                    "szoba_id": "243",
                                    "Előző 5": "3"
                                },
                                {
                                    "szallas_fk": "16",
                                    "szoba_id": "243",
                                    "Előző 5": "3"
                                },
                                {
                                    "szallas_fk": "16",
                                    "szoba_id": "243",
                                    "Előző 5": "3"
                                },
                                {
                                    "szallas_fk": "16",
                                    "szoba_id": "243",
                                    "Előző 5": "3"
                                },
                                {
                                    "szallas_fk": "16",
                                    "szoba_id": "244",
                                    "Előző 5": "4"
                                },
                                {
                                    "szallas_fk": "16",
                                    "szoba_id": "244",
                                    "Előző 5": "3"
                                },
                                {
                                    "szallas_fk": "16",
                                    "szoba_id": "244",
                                    "Előző 5": "3"
                                },
                                {
                                    "szallas_fk": "16",
                                    "szoba_id": "244",
                                    "Előző 5": "3"
                                },
                                {
                                    "szallas_fk": "16",
                                    "szoba_id": "244",
                                    "Előző 5": "3"
                                },
                                {
                                    "szallas_fk": "16",
                                    "szoba_id": "245",
                                    "Előző 5": "4"
                                },
                                {
                                    "szallas_fk": "16",
                                    "szoba_id": "245",
                                    "Előző 5": "3"
                                },
                                {
                                    "szallas_fk": "16",
                                    "szoba_id": "245",
                                    "Előző 5": "3"
                                },
                                {
                                    "szallas_fk": "16",
                                    "szoba_id": "245",
                                    "Előző 5": "3"
                                },
                                {
                                    "szallas_fk": "16",
                                    "szoba_id": "245",
                                    "Előző 5": "3"
                                },
                                {
                                    "szallas_fk": "16",
                                    "szoba_id": "246",
                                    "Előző 5": "4"
                                },
                                {
                                    "szallas_fk": "16",
                                    "szoba_id": "246",
                                    "Előző 5": "3"
                                },
                                {
                                    "szallas_fk": "16",
                                    "szoba_id": "246",
                                    "Előző 5": "3"
                                },
                                {
                                    "szallas_fk": "16",
                                    "szoba_id": "246",
                                    "Előző 5": "3"
                                },
                                {
                                    "szallas_fk": "16",
                                    "szoba_id": "246",
                                    "Előző 5": "3"
                                },
                                {
                                    "szallas_fk": "16",
                                    "szoba_id": "247",
                                    "Előző 5": "4"
                                },
                                {
                                    "szallas_fk": "16",
                                    "szoba_id": "247",
                                    "Előző 5": "3"
                                },
                                {
                                    "szallas_fk": "16",
                                    "szoba_id": "247",
                                    "Előző 5": "3"
                                },
                                {
                                    "szallas_fk": "16",
                                    "szoba_id": "247",
                                    "Előző 5": "3"
                                },
                                {
                                    "szallas_fk": "16",
                                    "szoba_id": "247",
                                    "Előző 5": "3"
                                },
                                {
                                    "szallas_fk": "16",
                                    "szoba_id": "248",
                                    "Előző 5": "4"
                                },
                                {
                                    "szallas_fk": "16",
                                    "szoba_id": "248",
                                    "Előző 5": "3"
                                },
                                {
                                    "szallas_fk": "16",
                                    "szoba_id": "248",
                                    "Előző 5": "3"
                                },
                                {
                                    "szallas_fk": "16",
                                    "szoba_id": "248",
                                    "Előző 5": "3"
                                },
                                {
                                    "szallas_fk": "16",
                                    "szoba_id": "248",
                                    "Előző 5": "3"
                                },
                                {
                                    "szallas_fk": "16",
                                    "szoba_id": "249",
                                    "Előző 5": "4"
                                },
                                {
                                    "szallas_fk": "16",
                                    "szoba_id": "249",
                                    "Előző 5": "3"
                                },
                                {
                                    "szallas_fk": "16",
                                    "szoba_id": "249",
                                    "Előző 5": "3"
                                },
                                {
                                    "szallas_fk": "16",
                                    "szoba_id": "249",
                                    "Előző 5": "3"
                                },
                                {
                                    "szallas_fk": "16",
                                    "szoba_id": "249",
                                    "Előző 5": "3"
                                },
                                {
                                    "szallas_fk": "16",
                                    "szoba_id": "250",
                                    "Előző 5": "4"
                                },
                                {
                                    "szallas_fk": "16",
                                    "szoba_id": "250",
                                    "Előző 5": "3"
                                },
                                {
                                    "szallas_fk": "16",
                                    "szoba_id": "250",
                                    "Előző 5": "3"
                                },
                                {
                                    "szallas_fk": "16",
                                    "szoba_id": "250",
                                    "Előző 5": "3"
                                },
                                {
                                    "szallas_fk": "16",
                                    "szoba_id": "250",
                                    "Előző 5": "3"
                                },
                                {
                                    "szallas_fk": "16",
                                    "szoba_id": "251",
                                    "Előző 5": "4"
                                },
                                {
                                    "szallas_fk": "16",
                                    "szoba_id": "251",
                                    "Előző 5": "3"
                                },
                                {
                                    "szallas_fk": "16",
                                    "szoba_id": "251",
                                    "Előző 5": "3"
                                },
                                {
                                    "szallas_fk": "16",
                                    "szoba_id": "251",
                                    "Előző 5": "3"
                                },
                                {
                                    "szallas_fk": "16",
                                    "szoba_id": "251",
                                    "Előző 5": "3"
                                },
                                {
                                    "szallas_fk": "16",
                                    "szoba_id": "252",
                                    "Előző 5": "4"
                                },
                                {
                                    "szallas_fk": "16",
                                    "szoba_id": "252",
                                    "Előző 5": "3"
                                },
                                {
                                    "szallas_fk": "16",
                                    "szoba_id": "252",
                                    "Előző 5": "3"
                                },
                                {
                                    "szallas_fk": "16",
                                    "szoba_id": "252",
                                    "Előző 5": "3"
                                },
                                {
                                    "szallas_fk": "16",
                                    "szoba_id": "252",
                                    "Előző 5": "3"
                                },
                                {
                                    "szallas_fk": "16",
                                    "szoba_id": "253",
                                    "Előző 5": "4"
                                },
                                {
                                    "szallas_fk": "16",
                                    "szoba_id": "253",
                                    "Előző 5": "3"
                                },
                                {
                                    "szallas_fk": "16",
                                    "szoba_id": "253",
                                    "Előző 5": "3"
                                },
                                {
                                    "szallas_fk": "16",
                                    "szoba_id": "253",
                                    "Előző 5": "3"
                                },
                                {
                                    "szallas_fk": "16",
                                    "szoba_id": "253",
                                    "Előző 5": "3"
                                },
                                {
                                    "szallas_fk": "16",
                                    "szoba_id": "254",
                                    "Előző 5": "4"
                                },
                                {
                                    "szallas_fk": "16",
                                    "szoba_id": "254",
                                    "Előző 5": "3"
                                },
                                {
                                    "szallas_fk": "16",
                                    "szoba_id": "254",
                                    "Előző 5": "3"
                                },
                                {
                                    "szallas_fk": "16",
                                    "szoba_id": "254",
                                    "Előző 5": "3"
                                },
                                {
                                    "szallas_fk": "16",
                                    "szoba_id": "254",
                                    "Előző 5": "3"
                                },
                                {
                                    "szallas_fk": "16",
                                    "szoba_id": "255",
                                    "Előző 5": "4"
                                },
                                {
                                    "szallas_fk": "16",
                                    "szoba_id": "255",
                                    "Előző 5": "3"
                                },
                                {
                                    "szallas_fk": "16",
                                    "szoba_id": "255",
                                    "Előző 5": "3"
                                },
                                {
                                    "szallas_fk": "16",
                                    "szoba_id": "255",
                                    "Előző 5": "3"
                                },
                                {
                                    "szallas_fk": "16",
                                    "szoba_id": "255",
                                    "Előző 5": "3"
                                },
                                {
                                    "szallas_fk": "16",
                                    "szoba_id": "256",
                                    "Előző 5": "4"
                                },
                                {
                                    "szallas_fk": "16",
                                    "szoba_id": "256",
                                    "Előző 5": "3"
                                },
                                {
                                    "szallas_fk": "16",
                                    "szoba_id": "256",
                                    "Előző 5": "3"
                                },
                                {
                                    "szallas_fk": "16",
                                    "szoba_id": "256",
                                    "Előző 5": "3"
                                },
                                {
                                    "szallas_fk": "16",
                                    "szoba_id": "256",
                                    "Előző 5": "3"
                                },
                                {
                                    "szallas_fk": "16",
                                    "szoba_id": "257",
                                    "Előző 5": "4"
                                },
                                {
                                    "szallas_fk": "16",
                                    "szoba_id": "257",
                                    "Előző 5": "3"
                                },
                                {
                                    "szallas_fk": "16",
                                    "szoba_id": "257",
                                    "Előző 5": "3"
                                },
                                {
                                    "szallas_fk": "16",
                                    "szoba_id": "257",
                                    "Előző 5": "3"
                                },
                                {
                                    "szallas_fk": "16",
                                    "szoba_id": "257",
                                    "Előző 5": "3"
                                },
                                {
                                    "szallas_fk": "16",
                                    "szoba_id": "258",
                                    "Előző 5": "4"
                                },
                                {
                                    "szallas_fk": "16",
                                    "szoba_id": "258",
                                    "Előző 5": "3"
                                },
                                {
                                    "szallas_fk": "16",
                                    "szoba_id": "258",
                                    "Előző 5": "3"
                                },
                                {
                                    "szallas_fk": "16",
                                    "szoba_id": "258",
                                    "Előző 5": "3"
                                },
                                {
                                    "szallas_fk": "16",
                                    "szoba_id": "258",
                                    "Előző 5": "3"
                                },
                                {
                                    "szallas_fk": "16",
                                    "szoba_id": "259",
                                    "Előző 5": "4"
                                },
                                {
                                    "szallas_fk": "16",
                                    "szoba_id": "259",
                                    "Előző 5": "3"
                                },
                                {
                                    "szallas_fk": "16",
                                    "szoba_id": "259",
                                    "Előző 5": "3"
                                },
                                {
                                    "szallas_fk": "16",
                                    "szoba_id": "259",
                                    "Előző 5": "3"
                                },
                                {
                                    "szallas_fk": "16",
                                    "szoba_id": "259",
                                    "Előző 5": "3"
                                },
                                {
                                    "szallas_fk": "16",
                                    "szoba_id": "260",
                                    "Előző 5": "4"
                                },
                                {
                                    "szallas_fk": "16",
                                    "szoba_id": "260",
                                    "Előző 5": "3"
                                },
                                {
                                    "szallas_fk": "16",
                                    "szoba_id": "260",
                                    "Előző 5": "3"
                                },
                                {
                                    "szallas_fk": "16",
                                    "szoba_id": "260",
                                    "Előző 5": "3"
                                },
                                {
                                    "szallas_fk": "16",
                                    "szoba_id": "260",
                                    "Előző 5": "3"
                                },
                                {
                                    "szallas_fk": "16",
                                    "szoba_id": "261",
                                    "Előző 5": "4"
                                },
                                {
                                    "szallas_fk": "16",
                                    "szoba_id": "261",
                                    "Előző 5": "3"
                                },
                                {
                                    "szallas_fk": "16",
                                    "szoba_id": "261",
                                    "Előző 5": "3"
                                },
                                {
                                    "szallas_fk": "16",
                                    "szoba_id": "261",
                                    "Előző 5": "3"
                                },
                                {
                                    "szallas_fk": "16",
                                    "szoba_id": "261",
                                    "Előző 5": "3"
                                },
                                {
                                    "szallas_fk": "16",
                                    "szoba_id": "262",
                                    "Előző 5": "4"
                                },
                                {
                                    "szallas_fk": "16",
                                    "szoba_id": "262",
                                    "Előző 5": "3"
                                },
                                {
                                    "szallas_fk": "16",
                                    "szoba_id": "262",
                                    "Előző 5": "3"
                                },
                                {
                                    "szallas_fk": "16",
                                    "szoba_id": "262",
                                    "Előző 5": "3"
                                },
                                {
                                    "szallas_fk": "16",
                                    "szoba_id": "262",
                                    "Előző 5": "3"
                                },
                                {
                                    "szallas_fk": "17",
                                    "szoba_id": "263",
                                    "Előző 5": "4"
                                },
                                {
                                    "szallas_fk": "17",
                                    "szoba_id": "263",
                                    "Előző 5": "3"
                                },
                                {
                                    "szallas_fk": "17",
                                    "szoba_id": "263",
                                    "Előző 5": "3"
                                },
                                {
                                    "szallas_fk": "17",
                                    "szoba_id": "263",
                                    "Előző 5": "2"
                                },
                                {
                                    "szallas_fk": "17",
                                    "szoba_id": "263",
                                    "Előző 5": "2"
                                },
                                {
                                    "szallas_fk": "17",
                                    "szoba_id": "263",
                                    "Előző 5": "2"
                                },
                                {
                                    "szallas_fk": "17",
                                    "szoba_id": "264",
                                    "Előző 5": "4"
                                },
                                {
                                    "szallas_fk": "17",
                                    "szoba_id": "264",
                                    "Előző 5": "3"
                                },
                                {
                                    "szallas_fk": "17",
                                    "szoba_id": "264",
                                    "Előző 5": "3"
                                },
                                {
                                    "szallas_fk": "17",
                                    "szoba_id": "264",
                                    "Előző 5": "2"
                                },
                                {
                                    "szallas_fk": "17",
                                    "szoba_id": "264",
                                    "Előző 5": "2"
                                },
                                {
                                    "szallas_fk": "17",
                                    "szoba_id": "264",
                                    "Előző 5": "2"
                                },
                                {
                                    "szallas_fk": "17",
                                    "szoba_id": "265",
                                    "Előző 5": "4"
                                },
                                {
                                    "szallas_fk": "17",
                                    "szoba_id": "265",
                                    "Előző 5": "3"
                                },
                                {
                                    "szallas_fk": "17",
                                    "szoba_id": "265",
                                    "Előző 5": "3"
                                },
                                {
                                    "szallas_fk": "17",
                                    "szoba_id": "265",
                                    "Előző 5": "2"
                                },
                                {
                                    "szallas_fk": "17",
                                    "szoba_id": "265",
                                    "Előző 5": "2"
                                },
                                {
                                    "szallas_fk": "17",
                                    "szoba_id": "265",
                                    "Előző 5": "2"
                                },
                                {
                                    "szallas_fk": "17",
                                    "szoba_id": "266",
                                    "Előző 5": "4"
                                },
                                {
                                    "szallas_fk": "17",
                                    "szoba_id": "266",
                                    "Előző 5": "3"
                                },
                                {
                                    "szallas_fk": "17",
                                    "szoba_id": "266",
                                    "Előző 5": "3"
                                },
                                {
                                    "szallas_fk": "17",
                                    "szoba_id": "266",
                                    "Előző 5": "2"
                                },
                                {
                                    "szallas_fk": "17",
                                    "szoba_id": "266",
                                    "Előző 5": "2"
                                },
                                {
                                    "szallas_fk": "17",
                                    "szoba_id": "266",
                                    "Előző 5": "2"
                                },
                                {
                                    "szallas_fk": "17",
                                    "szoba_id": "267",
                                    "Előző 5": "4"
                                },
                                {
                                    "szallas_fk": "17",
                                    "szoba_id": "267",
                                    "Előző 5": "3"
                                },
                                {
                                    "szallas_fk": "17",
                                    "szoba_id": "267",
                                    "Előző 5": "3"
                                },
                                {
                                    "szallas_fk": "17",
                                    "szoba_id": "267",
                                    "Előző 5": "2"
                                },
                                {
                                    "szallas_fk": "17",
                                    "szoba_id": "267",
                                    "Előző 5": "2"
                                },
                                {
                                    "szallas_fk": "17",
                                    "szoba_id": "267",
                                    "Előző 5": "2"
                                },
                                {
                                    "szallas_fk": "17",
                                    "szoba_id": "268",
                                    "Előző 5": "4"
                                },
                                {
                                    "szallas_fk": "17",
                                    "szoba_id": "268",
                                    "Előző 5": "3"
                                },
                                {
                                    "szallas_fk": "17",
                                    "szoba_id": "268",
                                    "Előző 5": "3"
                                },
                                {
                                    "szallas_fk": "17",
                                    "szoba_id": "268",
                                    "Előző 5": "2"
                                },
                                {
                                    "szallas_fk": "17",
                                    "szoba_id": "268",
                                    "Előző 5": "2"
                                },
                                {
                                    "szallas_fk": "17",
                                    "szoba_id": "268",
                                    "Előző 5": "2"
                                },
                                {
                                    "szallas_fk": "17",
                                    "szoba_id": "269",
                                    "Előző 5": "4"
                                },
                                {
                                    "szallas_fk": "17",
                                    "szoba_id": "269",
                                    "Előző 5": "3"
                                },
                                {
                                    "szallas_fk": "17",
                                    "szoba_id": "269",
                                    "Előző 5": "3"
                                },
                                {
                                    "szallas_fk": "17",
                                    "szoba_id": "269",
                                    "Előző 5": "2"
                                },
                                {
                                    "szallas_fk": "17",
                                    "szoba_id": "269",
                                    "Előző 5": "2"
                                },
                                {
                                    "szallas_fk": "17",
                                    "szoba_id": "269",
                                    "Előző 5": "2"
                                },
                                {
                                    "szallas_fk": "17",
                                    "szoba_id": "270",
                                    "Előző 5": "4"
                                },
                                {
                                    "szallas_fk": "17",
                                    "szoba_id": "270",
                                    "Előző 5": "3"
                                },
                                {
                                    "szallas_fk": "17",
                                    "szoba_id": "270",
                                    "Előző 5": "3"
                                },
                                {
                                    "szallas_fk": "17",
                                    "szoba_id": "270",
                                    "Előző 5": "2"
                                },
                                {
                                    "szallas_fk": "17",
                                    "szoba_id": "270",
                                    "Előző 5": "2"
                                },
                                {
                                    "szallas_fk": "17",
                                    "szoba_id": "270",
                                    "Előző 5": "2"
                                },
                                {
                                    "szallas_fk": "17",
                                    "szoba_id": "271",
                                    "Előző 5": "4"
                                },
                                {
                                    "szallas_fk": "17",
                                    "szoba_id": "271",
                                    "Előző 5": "3"
                                },
                                {
                                    "szallas_fk": "17",
                                    "szoba_id": "271",
                                    "Előző 5": "3"
                                },
                                {
                                    "szallas_fk": "17",
                                    "szoba_id": "271",
                                    "Előző 5": "2"
                                },
                                {
                                    "szallas_fk": "17",
                                    "szoba_id": "271",
                                    "Előző 5": "2"
                                },
                                {
                                    "szallas_fk": "17",
                                    "szoba_id": "271",
                                    "Előző 5": "2"
                                },
                                {
                                    "szallas_fk": "17",
                                    "szoba_id": "272",
                                    "Előző 5": "4"
                                },
                                {
                                    "szallas_fk": "17",
                                    "szoba_id": "272",
                                    "Előző 5": "3"
                                },
                                {
                                    "szallas_fk": "17",
                                    "szoba_id": "272",
                                    "Előző 5": "3"
                                },
                                {
                                    "szallas_fk": "17",
                                    "szoba_id": "272",
                                    "Előző 5": "2"
                                },
                                {
                                    "szallas_fk": "17",
                                    "szoba_id": "272",
                                    "Előző 5": "2"
                                },
                                {
                                    "szallas_fk": "17",
                                    "szoba_id": "272",
                                    "Előző 5": "2"
                                },
                                {
                                    "szallas_fk": "17",
                                    "szoba_id": "273",
                                    "Előző 5": "4"
                                },
                                {
                                    "szallas_fk": "17",
                                    "szoba_id": "273",
                                    "Előző 5": "3"
                                },
                                {
                                    "szallas_fk": "17",
                                    "szoba_id": "273",
                                    "Előző 5": "3"
                                },
                                {
                                    "szallas_fk": "17",
                                    "szoba_id": "273",
                                    "Előző 5": "2"
                                },
                                {
                                    "szallas_fk": "17",
                                    "szoba_id": "273",
                                    "Előző 5": "2"
                                },
                                {
                                    "szallas_fk": "17",
                                    "szoba_id": "273",
                                    "Előző 5": "2"
                                },
                                {
                                    "szallas_fk": "17",
                                    "szoba_id": "274",
                                    "Előző 5": "4"
                                },
                                {
                                    "szallas_fk": "17",
                                    "szoba_id": "274",
                                    "Előző 5": "3"
                                },
                                {
                                    "szallas_fk": "17",
                                    "szoba_id": "274",
                                    "Előző 5": "3"
                                },
                                {
                                    "szallas_fk": "17",
                                    "szoba_id": "274",
                                    "Előző 5": "2"
                                },
                                {
                                    "szallas_fk": "17",
                                    "szoba_id": "274",
                                    "Előző 5": "2"
                                },
                                {
                                    "szallas_fk": "17",
                                    "szoba_id": "274",
                                    "Előző 5": "2"
                                },
                                {
                                    "szallas_fk": "17",
                                    "szoba_id": "275",
                                    "Előző 5": "4"
                                },
                                {
                                    "szallas_fk": "17",
                                    "szoba_id": "275",
                                    "Előző 5": "3"
                                },
                                {
                                    "szallas_fk": "17",
                                    "szoba_id": "275",
                                    "Előző 5": "3"
                                },
                                {
                                    "szallas_fk": "17",
                                    "szoba_id": "275",
                                    "Előző 5": "2"
                                },
                                {
                                    "szallas_fk": "17",
                                    "szoba_id": "275",
                                    "Előző 5": "2"
                                },
                                {
                                    "szallas_fk": "17",
                                    "szoba_id": "275",
                                    "Előző 5": "2"
                                },
                                {
                                    "szallas_fk": "17",
                                    "szoba_id": "276",
                                    "Előző 5": "4"
                                },
                                {
                                    "szallas_fk": "17",
                                    "szoba_id": "276",
                                    "Előző 5": "3"
                                },
                                {
                                    "szallas_fk": "17",
                                    "szoba_id": "276",
                                    "Előző 5": "3"
                                },
                                {
                                    "szallas_fk": "17",
                                    "szoba_id": "276",
                                    "Előző 5": "2"
                                },
                                {
                                    "szallas_fk": "17",
                                    "szoba_id": "276",
                                    "Előző 5": "2"
                                },
                                {
                                    "szallas_fk": "17",
                                    "szoba_id": "276",
                                    "Előző 5": "2"
                                },
                                {
                                    "szallas_fk": "17",
                                    "szoba_id": "277",
                                    "Előző 5": "4"
                                },
                                {
                                    "szallas_fk": "17",
                                    "szoba_id": "277",
                                    "Előző 5": "3"
                                },
                                {
                                    "szallas_fk": "17",
                                    "szoba_id": "277",
                                    "Előző 5": "3"
                                },
                                {
                                    "szallas_fk": "17",
                                    "szoba_id": "277",
                                    "Előző 5": "2"
                                },
                                {
                                    "szallas_fk": "17",
                                    "szoba_id": "277",
                                    "Előző 5": "2"
                                },
                                {
                                    "szallas_fk": "17",
                                    "szoba_id": "277",
                                    "Előző 5": "2"
                                },
                                {
                                    "szallas_fk": "18",
                                    "szoba_id": "278",
                                    "Előző 5": "2"
                                },
                                {
                                    "szallas_fk": "18",
                                    "szoba_id": "278",
                                    "Előző 5": "2"
                                },
                                {
                                    "szallas_fk": "18",
                                    "szoba_id": "278",
                                    "Előző 5": "2"
                                },
                                {
                                    "szallas_fk": "18",
                                    "szoba_id": "278",
                                    "Előző 5": "3"
                                },
                                {
                                    "szallas_fk": "18",
                                    "szoba_id": "278",
                                    "Előző 5": "2"
                                },
                                {
                                    "szallas_fk": "18",
                                    "szoba_id": "278",
                                    "Előző 5": "3"
                                },
                                {
                                    "szallas_fk": "18",
                                    "szoba_id": "279",
                                    "Előző 5": "2"
                                },
                                {
                                    "szallas_fk": "18",
                                    "szoba_id": "279",
                                    "Előző 5": "2"
                                },
                                {
                                    "szallas_fk": "18",
                                    "szoba_id": "279",
                                    "Előző 5": "2"
                                },
                                {
                                    "szallas_fk": "18",
                                    "szoba_id": "279",
                                    "Előző 5": "3"
                                },
                                {
                                    "szallas_fk": "18",
                                    "szoba_id": "279",
                                    "Előző 5": "2"
                                },
                                {
                                    "szallas_fk": "18",
                                    "szoba_id": "279",
                                    "Előző 5": "3"
                                },
                                {
                                    "szallas_fk": "18",
                                    "szoba_id": "280",
                                    "Előző 5": "2"
                                },
                                {
                                    "szallas_fk": "18",
                                    "szoba_id": "280",
                                    "Előző 5": "2"
                                },
                                {
                                    "szallas_fk": "18",
                                    "szoba_id": "280",
                                    "Előző 5": "2"
                                },
                                {
                                    "szallas_fk": "18",
                                    "szoba_id": "280",
                                    "Előző 5": "3"
                                },
                                {
                                    "szallas_fk": "18",
                                    "szoba_id": "280",
                                    "Előző 5": "2"
                                },
                                {
                                    "szallas_fk": "18",
                                    "szoba_id": "280",
                                    "Előző 5": "3"
                                },
                                {
                                    "szallas_fk": "19",
                                    "szoba_id": "281",
                                    "Előző 5": "1"
                                },
                                {
                                    "szallas_fk": "19",
                                    "szoba_id": "281",
                                    "Előző 5": "2"
                                },
                                {
                                    "szallas_fk": "19",
                                    "szoba_id": "281",
                                    "Előző 5": "2"
                                },
                                {
                                    "szallas_fk": "19",
                                    "szoba_id": "281",
                                    "Előző 5": "2"
                                },
                                {
                                    "szallas_fk": "19",
                                    "szoba_id": "281",
                                    "Előző 5": "2"
                                },
                                {
                                    "szallas_fk": "19",
                                    "szoba_id": "281",
                                    "Előző 5": "2"
                                },
                                {
                                    "szallas_fk": "19",
                                    "szoba_id": "282",
                                    "Előző 5": "1"
                                },
                                {
                                    "szallas_fk": "19",
                                    "szoba_id": "282",
                                    "Előző 5": "2"
                                },
                                {
                                    "szallas_fk": "19",
                                    "szoba_id": "282",
                                    "Előző 5": "2"
                                },
                                {
                                    "szallas_fk": "19",
                                    "szoba_id": "282",
                                    "Előző 5": "2"
                                },
                                {
                                    "szallas_fk": "19",
                                    "szoba_id": "282",
                                    "Előző 5": "2"
                                },
                                {
                                    "szallas_fk": "19",
                                    "szoba_id": "282",
                                    "Előző 5": "2"
                                },
                                {
                                    "szallas_fk": "19",
                                    "szoba_id": "283",
                                    "Előző 5": "1"
                                },
                                {
                                    "szallas_fk": "19",
                                    "szoba_id": "283",
                                    "Előző 5": "2"
                                },
                                {
                                    "szallas_fk": "19",
                                    "szoba_id": "283",
                                    "Előző 5": "2"
                                },
                                {
                                    "szallas_fk": "19",
                                    "szoba_id": "283",
                                    "Előző 5": "2"
                                },
                                {
                                    "szallas_fk": "19",
                                    "szoba_id": "283",
                                    "Előző 5": "2"
                                },
                                {
                                    "szallas_fk": "19",
                                    "szoba_id": "283",
                                    "Előző 5": "2"
                                },
                                {
                                    "szallas_fk": "19",
                                    "szoba_id": "284",
                                    "Előző 5": "1"
                                },
                                {
                                    "szallas_fk": "19",
                                    "szoba_id": "284",
                                    "Előző 5": "2"
                                },
                                {
                                    "szallas_fk": "19",
                                    "szoba_id": "284",
                                    "Előző 5": "2"
                                },
                                {
                                    "szallas_fk": "19",
                                    "szoba_id": "284",
                                    "Előző 5": "2"
                                },
                                {
                                    "szallas_fk": "19",
                                    "szoba_id": "284",
                                    "Előző 5": "2"
                                },
                                {
                                    "szallas_fk": "19",
                                    "szoba_id": "284",
                                    "Előző 5": "2"
                                },
                                {
                                    "szallas_fk": "20",
                                    "szoba_id": "285",
                                    "Előző 5": "1"
                                },
                                {
                                    "szallas_fk": "20",
                                    "szoba_id": "285",
                                    "Előző 5": "2"
                                },
                                {
                                    "szallas_fk": "20",
                                    "szoba_id": "285",
                                    "Előző 5": "2"
                                },
                                {
                                    "szallas_fk": "20",
                                    "szoba_id": "285",
                                    "Előző 5": "2"
                                },
                                {
                                    "szallas_fk": "20",
                                    "szoba_id": "285",
                                    "Előző 5": "2"
                                },
                                {
                                    "szallas_fk": "20",
                                    "szoba_id": "286",
                                    "Előző 5": "1"
                                },
                                {
                                    "szallas_fk": "20",
                                    "szoba_id": "286",
                                    "Előző 5": "2"
                                },
                                {
                                    "szallas_fk": "20",
                                    "szoba_id": "286",
                                    "Előző 5": "2"
                                },
                                {
                                    "szallas_fk": "20",
                                    "szoba_id": "286",
                                    "Előző 5": "2"
                                },
                                {
                                    "szallas_fk": "20",
                                    "szoba_id": "286",
                                    "Előző 5": "2"
                                },
                                {
                                    "szallas_fk": "20",
                                    "szoba_id": "287",
                                    "Előző 5": "1"
                                },
                                {
                                    "szallas_fk": "20",
                                    "szoba_id": "287",
                                    "Előző 5": "2"
                                },
                                {
                                    "szallas_fk": "20",
                                    "szoba_id": "287",
                                    "Előző 5": "2"
                                },
                                {
                                    "szallas_fk": "20",
                                    "szoba_id": "287",
                                    "Előző 5": "2"
                                },
                                {
                                    "szallas_fk": "20",
                                    "szoba_id": "287",
                                    "Előző 5": "2"
                                },
                                {
                                    "szallas_fk": "20",
                                    "szoba_id": "288",
                                    "Előző 5": "1"
                                },
                                {
                                    "szallas_fk": "20",
                                    "szoba_id": "288",
                                    "Előző 5": "2"
                                },
                                {
                                    "szallas_fk": "20",
                                    "szoba_id": "288",
                                    "Előző 5": "2"
                                },
                                {
                                    "szallas_fk": "20",
                                    "szoba_id": "288",
                                    "Előző 5": "2"
                                },
                                {
                                    "szallas_fk": "20",
                                    "szoba_id": "288",
                                    "Előző 5": "2"
                                },
                                {
                                    "szallas_fk": "20",
                                    "szoba_id": "289",
                                    "Előző 5": "1"
                                },
                                {
                                    "szallas_fk": "20",
                                    "szoba_id": "289",
                                    "Előző 5": "2"
                                },
                                {
                                    "szallas_fk": "20",
                                    "szoba_id": "289",
                                    "Előző 5": "2"
                                },
                                {
                                    "szallas_fk": "20",
                                    "szoba_id": "289",
                                    "Előző 5": "2"
                                },
                                {
                                    "szallas_fk": "20",
                                    "szoba_id": "289",
                                    "Előző 5": "2"
                                },
                                {
                                    "szallas_fk": "20",
                                    "szoba_id": "290",
                                    "Előző 5": "1"
                                },
                                {
                                    "szallas_fk": "20",
                                    "szoba_id": "290",
                                    "Előző 5": "2"
                                },
                                {
                                    "szallas_fk": "20",
                                    "szoba_id": "290",
                                    "Előző 5": "2"
                                },
                                {
                                    "szallas_fk": "20",
                                    "szoba_id": "290",
                                    "Előző 5": "2"
                                },
                                {
                                    "szallas_fk": "20",
                                    "szoba_id": "290",
                                    "Előző 5": "2"
                                },
                                {
                                    "szallas_fk": "20",
                                    "szoba_id": "291",
                                    "Előző 5": "1"
                                },
                                {
                                    "szallas_fk": "20",
                                    "szoba_id": "291",
                                    "Előző 5": "2"
                                },
                                {
                                    "szallas_fk": "20",
                                    "szoba_id": "291",
                                    "Előző 5": "2"
                                },
                                {
                                    "szallas_fk": "20",
                                    "szoba_id": "291",
                                    "Előző 5": "2"
                                },
                                {
                                    "szallas_fk": "20",
                                    "szoba_id": "291",
                                    "Előző 5": "2"
                                },
                                {
                                    "szallas_fk": "20",
                                    "szoba_id": "292",
                                    "Előző 5": "1"
                                },
                                {
                                    "szallas_fk": "20",
                                    "szoba_id": "292",
                                    "Előző 5": "2"
                                },
                                {
                                    "szallas_fk": "20",
                                    "szoba_id": "292",
                                    "Előző 5": "2"
                                },
                                {
                                    "szallas_fk": "20",
                                    "szoba_id": "292",
                                    "Előző 5": "2"
                                },
                                {
                                    "szallas_fk": "20",
                                    "szoba_id": "292",
                                    "Előző 5": "2"
                                },
                                {
                                    "szallas_fk": "20",
                                    "szoba_id": "293",
                                    "Előző 5": "1"
                                },
                                {
                                    "szallas_fk": "20",
                                    "szoba_id": "293",
                                    "Előző 5": "2"
                                },
                                {
                                    "szallas_fk": "20",
                                    "szoba_id": "293",
                                    "Előző 5": "2"
                                },
                                {
                                    "szallas_fk": "20",
                                    "szoba_id": "293",
                                    "Előző 5": "2"
                                },
                                {
                                    "szallas_fk": "20",
                                    "szoba_id": "293",
                                    "Előző 5": "2"
                                },
                                {
                                    "szallas_fk": "20",
                                    "szoba_id": "294",
                                    "Előző 5": "1"
                                },
                                {
                                    "szallas_fk": "20",
                                    "szoba_id": "294",
                                    "Előző 5": "2"
                                },
                                {
                                    "szallas_fk": "20",
                                    "szoba_id": "294",
                                    "Előző 5": "2"
                                },
                                {
                                    "szallas_fk": "20",
                                    "szoba_id": "294",
                                    "Előző 5": "2"
                                },
                                {
                                    "szallas_fk": "20",
                                    "szoba_id": "294",
                                    "Előző 5": "2"
                                }
                            ]
                        },
                        "text/html": [
                            "<table>",
                            "<tr><th>szallas_fk</th><th>szoba_id</th><th>Előző 5</th></tr>",
                            "<tr><td>1</td><td>1</td><td>1</td></tr>",
                            "<tr><td>1</td><td>1</td><td>1</td></tr>",
                            "<tr><td>1</td><td>1</td><td>1</td></tr>",
                            "<tr><td>1</td><td>1</td><td>1</td></tr>",
                            "<tr><td>1</td><td>1</td><td>1</td></tr>",
                            "<tr><td>1</td><td>1</td><td>1</td></tr>",
                            "<tr><td>1</td><td>1</td><td>2</td></tr>",
                            "<tr><td>1</td><td>1</td><td>2</td></tr>",
                            "<tr><td>1</td><td>2</td><td>1</td></tr>",
                            "<tr><td>1</td><td>2</td><td>1</td></tr>",
                            "<tr><td>1</td><td>2</td><td>1</td></tr>",
                            "<tr><td>1</td><td>2</td><td>1</td></tr>",
                            "<tr><td>1</td><td>2</td><td>1</td></tr>",
                            "<tr><td>1</td><td>2</td><td>1</td></tr>",
                            "<tr><td>1</td><td>2</td><td>2</td></tr>",
                            "<tr><td>1</td><td>2</td><td>2</td></tr>",
                            "<tr><td>1</td><td>3</td><td>1</td></tr>",
                            "<tr><td>1</td><td>3</td><td>1</td></tr>",
                            "<tr><td>1</td><td>3</td><td>1</td></tr>",
                            "<tr><td>1</td><td>3</td><td>1</td></tr>",
                            "<tr><td>1</td><td>3</td><td>1</td></tr>",
                            "<tr><td>1</td><td>3</td><td>1</td></tr>",
                            "<tr><td>1</td><td>3</td><td>2</td></tr>",
                            "<tr><td>1</td><td>3</td><td>2</td></tr>",
                            "<tr><td>1</td><td>4</td><td>1</td></tr>",
                            "<tr><td>1</td><td>4</td><td>1</td></tr>",
                            "<tr><td>1</td><td>4</td><td>1</td></tr>",
                            "<tr><td>1</td><td>4</td><td>1</td></tr>",
                            "<tr><td>1</td><td>4</td><td>1</td></tr>",
                            "<tr><td>1</td><td>4</td><td>1</td></tr>",
                            "<tr><td>1</td><td>4</td><td>2</td></tr>",
                            "<tr><td>1</td><td>4</td><td>2</td></tr>",
                            "<tr><td>1</td><td>5</td><td>1</td></tr>",
                            "<tr><td>1</td><td>5</td><td>1</td></tr>",
                            "<tr><td>1</td><td>5</td><td>1</td></tr>",
                            "<tr><td>1</td><td>5</td><td>1</td></tr>",
                            "<tr><td>1</td><td>5</td><td>1</td></tr>",
                            "<tr><td>1</td><td>5</td><td>1</td></tr>",
                            "<tr><td>1</td><td>5</td><td>2</td></tr>",
                            "<tr><td>1</td><td>5</td><td>2</td></tr>",
                            "<tr><td>1</td><td>6</td><td>1</td></tr>",
                            "<tr><td>1</td><td>6</td><td>1</td></tr>",
                            "<tr><td>1</td><td>6</td><td>1</td></tr>",
                            "<tr><td>1</td><td>6</td><td>1</td></tr>",
                            "<tr><td>1</td><td>6</td><td>1</td></tr>",
                            "<tr><td>1</td><td>6</td><td>1</td></tr>",
                            "<tr><td>1</td><td>6</td><td>2</td></tr>",
                            "<tr><td>1</td><td>6</td><td>2</td></tr>",
                            "<tr><td>1</td><td>7</td><td>1</td></tr>",
                            "<tr><td>1</td><td>7</td><td>1</td></tr>",
                            "<tr><td>1</td><td>7</td><td>1</td></tr>",
                            "<tr><td>1</td><td>7</td><td>1</td></tr>",
                            "<tr><td>1</td><td>7</td><td>1</td></tr>",
                            "<tr><td>1</td><td>7</td><td>1</td></tr>",
                            "<tr><td>1</td><td>7</td><td>2</td></tr>",
                            "<tr><td>1</td><td>7</td><td>2</td></tr>",
                            "<tr><td>1</td><td>8</td><td>1</td></tr>",
                            "<tr><td>1</td><td>8</td><td>1</td></tr>",
                            "<tr><td>1</td><td>8</td><td>1</td></tr>",
                            "<tr><td>1</td><td>8</td><td>1</td></tr>",
                            "<tr><td>1</td><td>8</td><td>1</td></tr>",
                            "<tr><td>1</td><td>8</td><td>1</td></tr>",
                            "<tr><td>1</td><td>8</td><td>2</td></tr>",
                            "<tr><td>1</td><td>8</td><td>2</td></tr>",
                            "<tr><td>1</td><td>9</td><td>1</td></tr>",
                            "<tr><td>1</td><td>9</td><td>1</td></tr>",
                            "<tr><td>1</td><td>9</td><td>1</td></tr>",
                            "<tr><td>1</td><td>9</td><td>1</td></tr>",
                            "<tr><td>1</td><td>9</td><td>1</td></tr>",
                            "<tr><td>1</td><td>9</td><td>1</td></tr>",
                            "<tr><td>1</td><td>9</td><td>2</td></tr>",
                            "<tr><td>1</td><td>9</td><td>2</td></tr>",
                            "<tr><td>1</td><td>10</td><td>1</td></tr>",
                            "<tr><td>1</td><td>10</td><td>1</td></tr>",
                            "<tr><td>1</td><td>10</td><td>1</td></tr>",
                            "<tr><td>1</td><td>10</td><td>1</td></tr>",
                            "<tr><td>1</td><td>10</td><td>1</td></tr>",
                            "<tr><td>1</td><td>10</td><td>1</td></tr>",
                            "<tr><td>1</td><td>10</td><td>2</td></tr>",
                            "<tr><td>1</td><td>10</td><td>2</td></tr>",
                            "<tr><td>1</td><td>11</td><td>1</td></tr>",
                            "<tr><td>1</td><td>11</td><td>1</td></tr>",
                            "<tr><td>1</td><td>11</td><td>1</td></tr>",
                            "<tr><td>1</td><td>11</td><td>1</td></tr>",
                            "<tr><td>1</td><td>11</td><td>1</td></tr>",
                            "<tr><td>1</td><td>11</td><td>1</td></tr>",
                            "<tr><td>1</td><td>11</td><td>2</td></tr>",
                            "<tr><td>1</td><td>11</td><td>2</td></tr>",
                            "<tr><td>1</td><td>12</td><td>1</td></tr>",
                            "<tr><td>1</td><td>12</td><td>1</td></tr>",
                            "<tr><td>1</td><td>12</td><td>1</td></tr>",
                            "<tr><td>1</td><td>12</td><td>1</td></tr>",
                            "<tr><td>1</td><td>12</td><td>1</td></tr>",
                            "<tr><td>1</td><td>12</td><td>1</td></tr>",
                            "<tr><td>1</td><td>12</td><td>2</td></tr>",
                            "<tr><td>1</td><td>12</td><td>2</td></tr>",
                            "<tr><td>2</td><td>13</td><td>4</td></tr>",
                            "<tr><td>2</td><td>13</td><td>3</td></tr>",
                            "<tr><td>2</td><td>13</td><td>3</td></tr>",
                            "<tr><td>2</td><td>13</td><td>3</td></tr>",
                            "<tr><td>2</td><td>14</td><td>4</td></tr>",
                            "<tr><td>2</td><td>14</td><td>3</td></tr>",
                            "<tr><td>2</td><td>14</td><td>3</td></tr>",
                            "<tr><td>2</td><td>14</td><td>3</td></tr>",
                            "<tr><td>2</td><td>15</td><td>4</td></tr>",
                            "<tr><td>2</td><td>15</td><td>3</td></tr>",
                            "<tr><td>2</td><td>15</td><td>3</td></tr>",
                            "<tr><td>2</td><td>15</td><td>3</td></tr>",
                            "<tr><td>2</td><td>16</td><td>4</td></tr>",
                            "<tr><td>2</td><td>16</td><td>3</td></tr>",
                            "<tr><td>2</td><td>16</td><td>3</td></tr>",
                            "<tr><td>2</td><td>16</td><td>3</td></tr>",
                            "<tr><td>3</td><td>17</td><td>3</td></tr>",
                            "<tr><td>3</td><td>17</td><td>3</td></tr>",
                            "<tr><td>3</td><td>17</td><td>3</td></tr>",
                            "<tr><td>3</td><td>17</td><td>3</td></tr>",
                            "<tr><td>3</td><td>17</td><td>3</td></tr>",
                            "<tr><td>3</td><td>17</td><td>3</td></tr>",
                            "<tr><td>3</td><td>17</td><td>3</td></tr>",
                            "<tr><td>3</td><td>17</td><td>3</td></tr>",
                            "<tr><td>3</td><td>18</td><td>3</td></tr>",
                            "<tr><td>3</td><td>18</td><td>3</td></tr>",
                            "<tr><td>3</td><td>18</td><td>3</td></tr>",
                            "<tr><td>3</td><td>18</td><td>3</td></tr>",
                            "<tr><td>3</td><td>18</td><td>3</td></tr>",
                            "<tr><td>3</td><td>18</td><td>3</td></tr>",
                            "<tr><td>3</td><td>18</td><td>3</td></tr>",
                            "<tr><td>3</td><td>18</td><td>3</td></tr>",
                            "<tr><td>3</td><td>19</td><td>3</td></tr>",
                            "<tr><td>3</td><td>19</td><td>3</td></tr>",
                            "<tr><td>3</td><td>19</td><td>3</td></tr>",
                            "<tr><td>3</td><td>19</td><td>3</td></tr>",
                            "<tr><td>3</td><td>19</td><td>3</td></tr>",
                            "<tr><td>3</td><td>19</td><td>3</td></tr>",
                            "<tr><td>3</td><td>19</td><td>3</td></tr>",
                            "<tr><td>3</td><td>19</td><td>3</td></tr>",
                            "<tr><td>3</td><td>20</td><td>3</td></tr>",
                            "<tr><td>3</td><td>20</td><td>3</td></tr>",
                            "<tr><td>3</td><td>20</td><td>3</td></tr>",
                            "<tr><td>3</td><td>20</td><td>3</td></tr>",
                            "<tr><td>3</td><td>20</td><td>3</td></tr>",
                            "<tr><td>3</td><td>20</td><td>3</td></tr>",
                            "<tr><td>3</td><td>20</td><td>3</td></tr>",
                            "<tr><td>3</td><td>20</td><td>3</td></tr>",
                            "<tr><td>3</td><td>21</td><td>3</td></tr>",
                            "<tr><td>3</td><td>21</td><td>3</td></tr>",
                            "<tr><td>3</td><td>21</td><td>3</td></tr>",
                            "<tr><td>3</td><td>21</td><td>3</td></tr>",
                            "<tr><td>3</td><td>21</td><td>3</td></tr>",
                            "<tr><td>3</td><td>21</td><td>3</td></tr>",
                            "<tr><td>3</td><td>21</td><td>3</td></tr>",
                            "<tr><td>3</td><td>21</td><td>3</td></tr>",
                            "<tr><td>3</td><td>22</td><td>3</td></tr>",
                            "<tr><td>3</td><td>22</td><td>3</td></tr>",
                            "<tr><td>3</td><td>22</td><td>3</td></tr>",
                            "<tr><td>3</td><td>22</td><td>3</td></tr>",
                            "<tr><td>3</td><td>22</td><td>3</td></tr>",
                            "<tr><td>3</td><td>22</td><td>3</td></tr>",
                            "<tr><td>3</td><td>22</td><td>3</td></tr>",
                            "<tr><td>3</td><td>22</td><td>3</td></tr>",
                            "<tr><td>3</td><td>23</td><td>3</td></tr>",
                            "<tr><td>3</td><td>23</td><td>3</td></tr>",
                            "<tr><td>3</td><td>23</td><td>3</td></tr>",
                            "<tr><td>3</td><td>23</td><td>3</td></tr>",
                            "<tr><td>3</td><td>23</td><td>3</td></tr>",
                            "<tr><td>3</td><td>23</td><td>3</td></tr>",
                            "<tr><td>3</td><td>23</td><td>3</td></tr>",
                            "<tr><td>3</td><td>23</td><td>3</td></tr>",
                            "<tr><td>3</td><td>24</td><td>3</td></tr>",
                            "<tr><td>3</td><td>24</td><td>3</td></tr>",
                            "<tr><td>3</td><td>24</td><td>3</td></tr>",
                            "<tr><td>3</td><td>24</td><td>3</td></tr>",
                            "<tr><td>3</td><td>24</td><td>3</td></tr>",
                            "<tr><td>3</td><td>24</td><td>3</td></tr>",
                            "<tr><td>3</td><td>24</td><td>3</td></tr>",
                            "<tr><td>3</td><td>24</td><td>3</td></tr>",
                            "<tr><td>4</td><td>25</td><td>1</td></tr>",
                            "<tr><td>4</td><td>25</td><td>1</td></tr>",
                            "<tr><td>4</td><td>25</td><td>1</td></tr>",
                            "<tr><td>4</td><td>25</td><td>1</td></tr>",
                            "<tr><td>4</td><td>25</td><td>1</td></tr>",
                            "<tr><td>4</td><td>25</td><td>1</td></tr>",
                            "<tr><td>4</td><td>26</td><td>1</td></tr>",
                            "<tr><td>4</td><td>26</td><td>1</td></tr>",
                            "<tr><td>4</td><td>26</td><td>1</td></tr>",
                            "<tr><td>4</td><td>26</td><td>1</td></tr>",
                            "<tr><td>4</td><td>26</td><td>1</td></tr>",
                            "<tr><td>4</td><td>26</td><td>1</td></tr>",
                            "<tr><td>4</td><td>27</td><td>1</td></tr>",
                            "<tr><td>4</td><td>27</td><td>1</td></tr>",
                            "<tr><td>4</td><td>27</td><td>1</td></tr>",
                            "<tr><td>4</td><td>27</td><td>1</td></tr>",
                            "<tr><td>4</td><td>27</td><td>1</td></tr>",
                            "<tr><td>4</td><td>27</td><td>1</td></tr>",
                            "<tr><td>4</td><td>28</td><td>1</td></tr>",
                            "<tr><td>4</td><td>28</td><td>1</td></tr>",
                            "<tr><td>4</td><td>28</td><td>1</td></tr>",
                            "<tr><td>4</td><td>28</td><td>1</td></tr>",
                            "<tr><td>4</td><td>28</td><td>1</td></tr>",
                            "<tr><td>4</td><td>28</td><td>1</td></tr>",
                            "<tr><td>4</td><td>29</td><td>1</td></tr>",
                            "<tr><td>4</td><td>29</td><td>1</td></tr>",
                            "<tr><td>4</td><td>29</td><td>1</td></tr>",
                            "<tr><td>4</td><td>29</td><td>1</td></tr>",
                            "<tr><td>4</td><td>29</td><td>1</td></tr>",
                            "<tr><td>4</td><td>29</td><td>1</td></tr>",
                            "<tr><td>4</td><td>30</td><td>1</td></tr>",
                            "<tr><td>4</td><td>30</td><td>1</td></tr>",
                            "<tr><td>4</td><td>30</td><td>1</td></tr>",
                            "<tr><td>4</td><td>30</td><td>1</td></tr>",
                            "<tr><td>4</td><td>30</td><td>1</td></tr>",
                            "<tr><td>4</td><td>30</td><td>1</td></tr>",
                            "<tr><td>4</td><td>31</td><td>1</td></tr>",
                            "<tr><td>4</td><td>31</td><td>1</td></tr>",
                            "<tr><td>4</td><td>31</td><td>1</td></tr>",
                            "<tr><td>4</td><td>31</td><td>1</td></tr>",
                            "<tr><td>4</td><td>31</td><td>1</td></tr>",
                            "<tr><td>4</td><td>31</td><td>1</td></tr>",
                            "<tr><td>4</td><td>32</td><td>1</td></tr>",
                            "<tr><td>4</td><td>32</td><td>1</td></tr>",
                            "<tr><td>4</td><td>32</td><td>1</td></tr>",
                            "<tr><td>4</td><td>32</td><td>1</td></tr>",
                            "<tr><td>4</td><td>32</td><td>1</td></tr>",
                            "<tr><td>4</td><td>32</td><td>1</td></tr>",
                            "<tr><td>4</td><td>33</td><td>1</td></tr>",
                            "<tr><td>4</td><td>33</td><td>1</td></tr>",
                            "<tr><td>4</td><td>33</td><td>1</td></tr>",
                            "<tr><td>4</td><td>33</td><td>1</td></tr>",
                            "<tr><td>4</td><td>33</td><td>1</td></tr>",
                            "<tr><td>4</td><td>33</td><td>1</td></tr>",
                            "<tr><td>4</td><td>34</td><td>1</td></tr>",
                            "<tr><td>4</td><td>34</td><td>1</td></tr>",
                            "<tr><td>4</td><td>34</td><td>1</td></tr>",
                            "<tr><td>4</td><td>34</td><td>1</td></tr>",
                            "<tr><td>4</td><td>34</td><td>1</td></tr>",
                            "<tr><td>4</td><td>34</td><td>1</td></tr>",
                            "<tr><td>4</td><td>35</td><td>1</td></tr>",
                            "<tr><td>4</td><td>35</td><td>1</td></tr>",
                            "<tr><td>4</td><td>35</td><td>1</td></tr>",
                            "<tr><td>4</td><td>35</td><td>1</td></tr>",
                            "<tr><td>4</td><td>35</td><td>1</td></tr>",
                            "<tr><td>4</td><td>35</td><td>1</td></tr>",
                            "<tr><td>4</td><td>36</td><td>1</td></tr>",
                            "<tr><td>4</td><td>36</td><td>1</td></tr>",
                            "<tr><td>4</td><td>36</td><td>1</td></tr>",
                            "<tr><td>4</td><td>36</td><td>1</td></tr>",
                            "<tr><td>4</td><td>36</td><td>1</td></tr>",
                            "<tr><td>4</td><td>36</td><td>1</td></tr>",
                            "<tr><td>4</td><td>37</td><td>1</td></tr>",
                            "<tr><td>4</td><td>37</td><td>1</td></tr>",
                            "<tr><td>4</td><td>37</td><td>1</td></tr>",
                            "<tr><td>4</td><td>37</td><td>1</td></tr>",
                            "<tr><td>4</td><td>37</td><td>1</td></tr>",
                            "<tr><td>4</td><td>37</td><td>1</td></tr>",
                            "<tr><td>4</td><td>38</td><td>1</td></tr>",
                            "<tr><td>4</td><td>38</td><td>1</td></tr>",
                            "<tr><td>4</td><td>38</td><td>1</td></tr>",
                            "<tr><td>4</td><td>38</td><td>1</td></tr>",
                            "<tr><td>4</td><td>38</td><td>1</td></tr>",
                            "<tr><td>4</td><td>38</td><td>1</td></tr>",
                            "<tr><td>4</td><td>39</td><td>1</td></tr>",
                            "<tr><td>4</td><td>39</td><td>1</td></tr>",
                            "<tr><td>4</td><td>39</td><td>1</td></tr>",
                            "<tr><td>4</td><td>39</td><td>1</td></tr>",
                            "<tr><td>4</td><td>39</td><td>1</td></tr>",
                            "<tr><td>4</td><td>39</td><td>1</td></tr>",
                            "<tr><td>5</td><td>40</td><td>2</td></tr>",
                            "<tr><td>5</td><td>40</td><td>1</td></tr>",
                            "<tr><td>5</td><td>40</td><td>1</td></tr>",
                            "<tr><td>5</td><td>40</td><td>1</td></tr>",
                            "<tr><td>5</td><td>41</td><td>2</td></tr>",
                            "<tr><td>5</td><td>41</td><td>1</td></tr>",
                            "<tr><td>5</td><td>41</td><td>1</td></tr>",
                            "<tr><td>5</td><td>41</td><td>1</td></tr>",
                            "<tr><td>5</td><td>42</td><td>2</td></tr>",
                            "<tr><td>5</td><td>42</td><td>1</td></tr>",
                            "<tr><td>5</td><td>42</td><td>1</td></tr>",
                            "<tr><td>5</td><td>42</td><td>1</td></tr>",
                            "<tr><td>5</td><td>43</td><td>2</td></tr>",
                            "<tr><td>5</td><td>43</td><td>1</td></tr>",
                            "<tr><td>5</td><td>43</td><td>1</td></tr>",
                            "<tr><td>5</td><td>43</td><td>1</td></tr>",
                            "<tr><td>5</td><td>44</td><td>2</td></tr>",
                            "<tr><td>5</td><td>44</td><td>1</td></tr>",
                            "<tr><td>5</td><td>44</td><td>1</td></tr>",
                            "<tr><td>5</td><td>44</td><td>1</td></tr>",
                            "<tr><td>5</td><td>45</td><td>2</td></tr>",
                            "<tr><td>5</td><td>45</td><td>1</td></tr>",
                            "<tr><td>5</td><td>45</td><td>1</td></tr>",
                            "<tr><td>5</td><td>45</td><td>1</td></tr>",
                            "<tr><td>5</td><td>46</td><td>2</td></tr>",
                            "<tr><td>5</td><td>46</td><td>1</td></tr>",
                            "<tr><td>5</td><td>46</td><td>1</td></tr>",
                            "<tr><td>5</td><td>46</td><td>1</td></tr>",
                            "<tr><td>5</td><td>47</td><td>2</td></tr>",
                            "<tr><td>5</td><td>47</td><td>1</td></tr>",
                            "<tr><td>5</td><td>47</td><td>1</td></tr>",
                            "<tr><td>5</td><td>47</td><td>1</td></tr>",
                            "<tr><td>5</td><td>48</td><td>2</td></tr>",
                            "<tr><td>5</td><td>48</td><td>1</td></tr>",
                            "<tr><td>5</td><td>48</td><td>1</td></tr>",
                            "<tr><td>5</td><td>48</td><td>1</td></tr>",
                            "<tr><td>5</td><td>49</td><td>2</td></tr>",
                            "<tr><td>5</td><td>49</td><td>1</td></tr>",
                            "<tr><td>5</td><td>49</td><td>1</td></tr>",
                            "<tr><td>5</td><td>49</td><td>1</td></tr>",
                            "<tr><td>6</td><td>50</td><td>2</td></tr>",
                            "<tr><td>6</td><td>50</td><td>2</td></tr>",
                            "<tr><td>6</td><td>50</td><td>1</td></tr>",
                            "<tr><td>6</td><td>50</td><td>2</td></tr>",
                            "<tr><td>6</td><td>50</td><td>2</td></tr>",
                            "<tr><td>6</td><td>50</td><td>2</td></tr>",
                            "<tr><td>6</td><td>51</td><td>2</td></tr>",
                            "<tr><td>6</td><td>51</td><td>2</td></tr>",
                            "<tr><td>6</td><td>51</td><td>1</td></tr>",
                            "<tr><td>6</td><td>51</td><td>2</td></tr>",
                            "<tr><td>6</td><td>51</td><td>2</td></tr>",
                            "<tr><td>6</td><td>51</td><td>2</td></tr>",
                            "<tr><td>6</td><td>52</td><td>2</td></tr>",
                            "<tr><td>6</td><td>52</td><td>2</td></tr>",
                            "<tr><td>6</td><td>52</td><td>1</td></tr>",
                            "<tr><td>6</td><td>52</td><td>2</td></tr>",
                            "<tr><td>6</td><td>52</td><td>2</td></tr>",
                            "<tr><td>6</td><td>52</td><td>2</td></tr>",
                            "<tr><td>6</td><td>53</td><td>2</td></tr>",
                            "<tr><td>6</td><td>53</td><td>2</td></tr>",
                            "<tr><td>6</td><td>53</td><td>1</td></tr>",
                            "<tr><td>6</td><td>53</td><td>2</td></tr>",
                            "<tr><td>6</td><td>53</td><td>2</td></tr>",
                            "<tr><td>6</td><td>53</td><td>2</td></tr>",
                            "<tr><td>6</td><td>54</td><td>2</td></tr>",
                            "<tr><td>6</td><td>54</td><td>2</td></tr>",
                            "<tr><td>6</td><td>54</td><td>1</td></tr>",
                            "<tr><td>6</td><td>54</td><td>2</td></tr>",
                            "<tr><td>6</td><td>54</td><td>2</td></tr>",
                            "<tr><td>6</td><td>54</td><td>2</td></tr>",
                            "<tr><td>6</td><td>55</td><td>2</td></tr>",
                            "<tr><td>6</td><td>55</td><td>2</td></tr>",
                            "<tr><td>6</td><td>55</td><td>1</td></tr>",
                            "<tr><td>6</td><td>55</td><td>2</td></tr>",
                            "<tr><td>6</td><td>55</td><td>2</td></tr>",
                            "<tr><td>6</td><td>55</td><td>2</td></tr>",
                            "<tr><td>6</td><td>56</td><td>2</td></tr>",
                            "<tr><td>6</td><td>56</td><td>2</td></tr>",
                            "<tr><td>6</td><td>56</td><td>1</td></tr>",
                            "<tr><td>6</td><td>56</td><td>2</td></tr>",
                            "<tr><td>6</td><td>56</td><td>2</td></tr>",
                            "<tr><td>6</td><td>56</td><td>2</td></tr>",
                            "<tr><td>6</td><td>57</td><td>2</td></tr>",
                            "<tr><td>6</td><td>57</td><td>2</td></tr>",
                            "<tr><td>6</td><td>57</td><td>1</td></tr>",
                            "<tr><td>6</td><td>57</td><td>2</td></tr>",
                            "<tr><td>6</td><td>57</td><td>2</td></tr>",
                            "<tr><td>6</td><td>57</td><td>2</td></tr>",
                            "<tr><td>6</td><td>58</td><td>2</td></tr>",
                            "<tr><td>6</td><td>58</td><td>2</td></tr>",
                            "<tr><td>6</td><td>58</td><td>1</td></tr>",
                            "<tr><td>6</td><td>58</td><td>2</td></tr>",
                            "<tr><td>6</td><td>58</td><td>2</td></tr>",
                            "<tr><td>6</td><td>58</td><td>2</td></tr>",
                            "<tr><td>6</td><td>59</td><td>2</td></tr>",
                            "<tr><td>6</td><td>59</td><td>2</td></tr>",
                            "<tr><td>6</td><td>59</td><td>1</td></tr>",
                            "<tr><td>6</td><td>59</td><td>2</td></tr>",
                            "<tr><td>6</td><td>59</td><td>2</td></tr>",
                            "<tr><td>6</td><td>59</td><td>2</td></tr>",
                            "<tr><td>6</td><td>60</td><td>2</td></tr>",
                            "<tr><td>6</td><td>60</td><td>2</td></tr>",
                            "<tr><td>6</td><td>60</td><td>1</td></tr>",
                            "<tr><td>6</td><td>60</td><td>2</td></tr>",
                            "<tr><td>6</td><td>60</td><td>2</td></tr>",
                            "<tr><td>6</td><td>60</td><td>2</td></tr>",
                            "<tr><td>6</td><td>61</td><td>2</td></tr>",
                            "<tr><td>6</td><td>61</td><td>2</td></tr>",
                            "<tr><td>6</td><td>61</td><td>1</td></tr>",
                            "<tr><td>6</td><td>61</td><td>2</td></tr>",
                            "<tr><td>6</td><td>61</td><td>2</td></tr>",
                            "<tr><td>6</td><td>61</td><td>2</td></tr>",
                            "<tr><td>6</td><td>62</td><td>2</td></tr>",
                            "<tr><td>6</td><td>62</td><td>2</td></tr>",
                            "<tr><td>6</td><td>62</td><td>1</td></tr>",
                            "<tr><td>6</td><td>62</td><td>2</td></tr>",
                            "<tr><td>6</td><td>62</td><td>2</td></tr>",
                            "<tr><td>6</td><td>62</td><td>2</td></tr>",
                            "<tr><td>6</td><td>63</td><td>2</td></tr>",
                            "<tr><td>6</td><td>63</td><td>2</td></tr>",
                            "<tr><td>6</td><td>63</td><td>1</td></tr>",
                            "<tr><td>6</td><td>63</td><td>2</td></tr>",
                            "<tr><td>6</td><td>63</td><td>2</td></tr>",
                            "<tr><td>6</td><td>63</td><td>2</td></tr>",
                            "<tr><td>6</td><td>64</td><td>2</td></tr>",
                            "<tr><td>6</td><td>64</td><td>2</td></tr>",
                            "<tr><td>6</td><td>64</td><td>1</td></tr>",
                            "<tr><td>6</td><td>64</td><td>2</td></tr>",
                            "<tr><td>6</td><td>64</td><td>2</td></tr>",
                            "<tr><td>6</td><td>64</td><td>2</td></tr>",
                            "<tr><td>6</td><td>65</td><td>2</td></tr>",
                            "<tr><td>6</td><td>65</td><td>2</td></tr>",
                            "<tr><td>6</td><td>65</td><td>1</td></tr>",
                            "<tr><td>6</td><td>65</td><td>2</td></tr>",
                            "<tr><td>6</td><td>65</td><td>2</td></tr>",
                            "<tr><td>6</td><td>65</td><td>2</td></tr>",
                            "<tr><td>6</td><td>66</td><td>2</td></tr>",
                            "<tr><td>6</td><td>66</td><td>2</td></tr>",
                            "<tr><td>6</td><td>66</td><td>1</td></tr>",
                            "<tr><td>6</td><td>66</td><td>2</td></tr>",
                            "<tr><td>6</td><td>66</td><td>2</td></tr>",
                            "<tr><td>6</td><td>66</td><td>2</td></tr>",
                            "<tr><td>6</td><td>67</td><td>2</td></tr>",
                            "<tr><td>6</td><td>67</td><td>2</td></tr>",
                            "<tr><td>6</td><td>67</td><td>1</td></tr>",
                            "<tr><td>6</td><td>67</td><td>2</td></tr>",
                            "<tr><td>6</td><td>67</td><td>2</td></tr>",
                            "<tr><td>6</td><td>67</td><td>2</td></tr>",
                            "<tr><td>6</td><td>68</td><td>2</td></tr>",
                            "<tr><td>6</td><td>68</td><td>2</td></tr>",
                            "<tr><td>6</td><td>68</td><td>1</td></tr>",
                            "<tr><td>6</td><td>68</td><td>2</td></tr>",
                            "<tr><td>6</td><td>68</td><td>2</td></tr>",
                            "<tr><td>6</td><td>68</td><td>2</td></tr>",
                            "<tr><td>6</td><td>69</td><td>2</td></tr>",
                            "<tr><td>6</td><td>69</td><td>2</td></tr>",
                            "<tr><td>6</td><td>69</td><td>1</td></tr>",
                            "<tr><td>6</td><td>69</td><td>2</td></tr>",
                            "<tr><td>6</td><td>69</td><td>2</td></tr>",
                            "<tr><td>6</td><td>69</td><td>2</td></tr>",
                            "<tr><td>6</td><td>70</td><td>2</td></tr>",
                            "<tr><td>6</td><td>70</td><td>2</td></tr>",
                            "<tr><td>6</td><td>70</td><td>1</td></tr>",
                            "<tr><td>6</td><td>70</td><td>2</td></tr>",
                            "<tr><td>6</td><td>70</td><td>2</td></tr>",
                            "<tr><td>6</td><td>70</td><td>2</td></tr>",
                            "<tr><td>6</td><td>71</td><td>2</td></tr>",
                            "<tr><td>6</td><td>71</td><td>2</td></tr>",
                            "<tr><td>6</td><td>71</td><td>1</td></tr>",
                            "<tr><td>6</td><td>71</td><td>2</td></tr>",
                            "<tr><td>6</td><td>71</td><td>2</td></tr>",
                            "<tr><td>6</td><td>71</td><td>2</td></tr>",
                            "<tr><td>6</td><td>72</td><td>2</td></tr>",
                            "<tr><td>6</td><td>72</td><td>2</td></tr>",
                            "<tr><td>6</td><td>72</td><td>1</td></tr>",
                            "<tr><td>6</td><td>72</td><td>2</td></tr>",
                            "<tr><td>6</td><td>72</td><td>2</td></tr>",
                            "<tr><td>6</td><td>72</td><td>2</td></tr>",
                            "<tr><td>6</td><td>73</td><td>2</td></tr>",
                            "<tr><td>6</td><td>73</td><td>2</td></tr>",
                            "<tr><td>6</td><td>73</td><td>1</td></tr>",
                            "<tr><td>6</td><td>73</td><td>2</td></tr>",
                            "<tr><td>6</td><td>73</td><td>2</td></tr>",
                            "<tr><td>6</td><td>73</td><td>2</td></tr>",
                            "<tr><td>6</td><td>74</td><td>2</td></tr>",
                            "<tr><td>6</td><td>74</td><td>2</td></tr>",
                            "<tr><td>6</td><td>74</td><td>1</td></tr>",
                            "<tr><td>6</td><td>74</td><td>2</td></tr>",
                            "<tr><td>6</td><td>74</td><td>2</td></tr>",
                            "<tr><td>6</td><td>74</td><td>2</td></tr>",
                            "<tr><td>6</td><td>75</td><td>2</td></tr>",
                            "<tr><td>6</td><td>75</td><td>2</td></tr>",
                            "<tr><td>6</td><td>75</td><td>1</td></tr>",
                            "<tr><td>6</td><td>75</td><td>2</td></tr>",
                            "<tr><td>6</td><td>75</td><td>2</td></tr>",
                            "<tr><td>6</td><td>75</td><td>2</td></tr>",
                            "<tr><td>6</td><td>76</td><td>2</td></tr>",
                            "<tr><td>6</td><td>76</td><td>2</td></tr>",
                            "<tr><td>6</td><td>76</td><td>1</td></tr>",
                            "<tr><td>6</td><td>76</td><td>2</td></tr>",
                            "<tr><td>6</td><td>76</td><td>2</td></tr>",
                            "<tr><td>6</td><td>76</td><td>2</td></tr>",
                            "<tr><td>6</td><td>77</td><td>2</td></tr>",
                            "<tr><td>6</td><td>77</td><td>2</td></tr>",
                            "<tr><td>6</td><td>77</td><td>1</td></tr>",
                            "<tr><td>6</td><td>77</td><td>2</td></tr>",
                            "<tr><td>6</td><td>77</td><td>2</td></tr>",
                            "<tr><td>6</td><td>77</td><td>2</td></tr>",
                            "<tr><td>6</td><td>78</td><td>2</td></tr>",
                            "<tr><td>6</td><td>78</td><td>2</td></tr>",
                            "<tr><td>6</td><td>78</td><td>1</td></tr>",
                            "<tr><td>6</td><td>78</td><td>2</td></tr>",
                            "<tr><td>6</td><td>78</td><td>2</td></tr>",
                            "<tr><td>6</td><td>78</td><td>2</td></tr>",
                            "<tr><td>6</td><td>79</td><td>2</td></tr>",
                            "<tr><td>6</td><td>79</td><td>2</td></tr>",
                            "<tr><td>6</td><td>79</td><td>1</td></tr>",
                            "<tr><td>6</td><td>79</td><td>2</td></tr>",
                            "<tr><td>6</td><td>79</td><td>2</td></tr>",
                            "<tr><td>6</td><td>79</td><td>2</td></tr>",
                            "<tr><td>6</td><td>80</td><td>2</td></tr>",
                            "<tr><td>6</td><td>80</td><td>2</td></tr>",
                            "<tr><td>6</td><td>80</td><td>1</td></tr>",
                            "<tr><td>6</td><td>80</td><td>2</td></tr>",
                            "<tr><td>6</td><td>80</td><td>2</td></tr>",
                            "<tr><td>6</td><td>80</td><td>2</td></tr>",
                            "<tr><td>6</td><td>81</td><td>2</td></tr>",
                            "<tr><td>6</td><td>81</td><td>2</td></tr>",
                            "<tr><td>6</td><td>81</td><td>1</td></tr>",
                            "<tr><td>6</td><td>81</td><td>2</td></tr>",
                            "<tr><td>6</td><td>81</td><td>2</td></tr>",
                            "<tr><td>6</td><td>81</td><td>2</td></tr>",
                            "<tr><td>6</td><td>82</td><td>2</td></tr>",
                            "<tr><td>6</td><td>82</td><td>2</td></tr>",
                            "<tr><td>6</td><td>82</td><td>1</td></tr>",
                            "<tr><td>6</td><td>82</td><td>2</td></tr>",
                            "<tr><td>6</td><td>82</td><td>2</td></tr>",
                            "<tr><td>6</td><td>82</td><td>2</td></tr>",
                            "<tr><td>6</td><td>83</td><td>2</td></tr>",
                            "<tr><td>6</td><td>83</td><td>2</td></tr>",
                            "<tr><td>6</td><td>83</td><td>1</td></tr>",
                            "<tr><td>6</td><td>83</td><td>2</td></tr>",
                            "<tr><td>6</td><td>83</td><td>2</td></tr>",
                            "<tr><td>6</td><td>83</td><td>2</td></tr>",
                            "<tr><td>6</td><td>84</td><td>2</td></tr>",
                            "<tr><td>6</td><td>84</td><td>2</td></tr>",
                            "<tr><td>6</td><td>84</td><td>1</td></tr>",
                            "<tr><td>6</td><td>84</td><td>2</td></tr>",
                            "<tr><td>6</td><td>84</td><td>2</td></tr>",
                            "<tr><td>6</td><td>84</td><td>2</td></tr>",
                            "<tr><td>7</td><td>85</td><td>1</td></tr>",
                            "<tr><td>7</td><td>85</td><td>1</td></tr>",
                            "<tr><td>7</td><td>85</td><td>1</td></tr>",
                            "<tr><td>7</td><td>85</td><td>1</td></tr>",
                            "<tr><td>7</td><td>85</td><td>1</td></tr>",
                            "<tr><td>7</td><td>85</td><td>1</td></tr>",
                            "<tr><td>7</td><td>86</td><td>1</td></tr>",
                            "<tr><td>7</td><td>86</td><td>1</td></tr>",
                            "<tr><td>7</td><td>86</td><td>1</td></tr>",
                            "<tr><td>7</td><td>86</td><td>1</td></tr>",
                            "<tr><td>7</td><td>86</td><td>1</td></tr>",
                            "<tr><td>7</td><td>86</td><td>1</td></tr>",
                            "<tr><td>7</td><td>87</td><td>1</td></tr>",
                            "<tr><td>7</td><td>87</td><td>1</td></tr>",
                            "<tr><td>7</td><td>87</td><td>1</td></tr>",
                            "<tr><td>7</td><td>87</td><td>1</td></tr>",
                            "<tr><td>7</td><td>87</td><td>1</td></tr>",
                            "<tr><td>7</td><td>87</td><td>1</td></tr>",
                            "<tr><td>7</td><td>88</td><td>1</td></tr>",
                            "<tr><td>7</td><td>88</td><td>1</td></tr>",
                            "<tr><td>7</td><td>88</td><td>1</td></tr>",
                            "<tr><td>7</td><td>88</td><td>1</td></tr>",
                            "<tr><td>7</td><td>88</td><td>1</td></tr>",
                            "<tr><td>7</td><td>88</td><td>1</td></tr>",
                            "<tr><td>7</td><td>89</td><td>1</td></tr>",
                            "<tr><td>7</td><td>89</td><td>1</td></tr>",
                            "<tr><td>7</td><td>89</td><td>1</td></tr>",
                            "<tr><td>7</td><td>89</td><td>1</td></tr>",
                            "<tr><td>7</td><td>89</td><td>1</td></tr>",
                            "<tr><td>7</td><td>89</td><td>1</td></tr>",
                            "<tr><td>7</td><td>90</td><td>1</td></tr>",
                            "<tr><td>7</td><td>90</td><td>1</td></tr>",
                            "<tr><td>7</td><td>90</td><td>1</td></tr>",
                            "<tr><td>7</td><td>90</td><td>1</td></tr>",
                            "<tr><td>7</td><td>90</td><td>1</td></tr>",
                            "<tr><td>7</td><td>90</td><td>1</td></tr>",
                            "<tr><td>8</td><td>91</td><td>2</td></tr>",
                            "<tr><td>8</td><td>91</td><td>2</td></tr>",
                            "<tr><td>8</td><td>91</td><td>2</td></tr>",
                            "<tr><td>8</td><td>91</td><td>2</td></tr>",
                            "<tr><td>8</td><td>91</td><td>2</td></tr>",
                            "<tr><td>8</td><td>92</td><td>2</td></tr>",
                            "<tr><td>8</td><td>92</td><td>2</td></tr>",
                            "<tr><td>8</td><td>92</td><td>2</td></tr>",
                            "<tr><td>8</td><td>92</td><td>2</td></tr>",
                            "<tr><td>8</td><td>92</td><td>2</td></tr>",
                            "<tr><td>8</td><td>93</td><td>2</td></tr>",
                            "<tr><td>8</td><td>93</td><td>2</td></tr>",
                            "<tr><td>8</td><td>93</td><td>2</td></tr>",
                            "<tr><td>8</td><td>93</td><td>2</td></tr>",
                            "<tr><td>8</td><td>93</td><td>2</td></tr>",
                            "<tr><td>8</td><td>94</td><td>2</td></tr>",
                            "<tr><td>8</td><td>94</td><td>2</td></tr>",
                            "<tr><td>8</td><td>94</td><td>2</td></tr>",
                            "<tr><td>8</td><td>94</td><td>2</td></tr>",
                            "<tr><td>8</td><td>94</td><td>2</td></tr>",
                            "<tr><td>8</td><td>95</td><td>2</td></tr>",
                            "<tr><td>8</td><td>95</td><td>2</td></tr>",
                            "<tr><td>8</td><td>95</td><td>2</td></tr>",
                            "<tr><td>8</td><td>95</td><td>2</td></tr>",
                            "<tr><td>8</td><td>95</td><td>2</td></tr>",
                            "<tr><td>8</td><td>96</td><td>2</td></tr>",
                            "<tr><td>8</td><td>96</td><td>2</td></tr>",
                            "<tr><td>8</td><td>96</td><td>2</td></tr>",
                            "<tr><td>8</td><td>96</td><td>2</td></tr>",
                            "<tr><td>8</td><td>96</td><td>2</td></tr>",
                            "<tr><td>8</td><td>97</td><td>2</td></tr>",
                            "<tr><td>8</td><td>97</td><td>2</td></tr>",
                            "<tr><td>8</td><td>97</td><td>2</td></tr>",
                            "<tr><td>8</td><td>97</td><td>2</td></tr>",
                            "<tr><td>8</td><td>97</td><td>2</td></tr>",
                            "<tr><td>8</td><td>98</td><td>2</td></tr>",
                            "<tr><td>8</td><td>98</td><td>2</td></tr>",
                            "<tr><td>8</td><td>98</td><td>2</td></tr>",
                            "<tr><td>8</td><td>98</td><td>2</td></tr>",
                            "<tr><td>8</td><td>98</td><td>2</td></tr>",
                            "<tr><td>8</td><td>99</td><td>2</td></tr>",
                            "<tr><td>8</td><td>99</td><td>2</td></tr>",
                            "<tr><td>8</td><td>99</td><td>2</td></tr>",
                            "<tr><td>8</td><td>99</td><td>2</td></tr>",
                            "<tr><td>8</td><td>99</td><td>2</td></tr>",
                            "<tr><td>8</td><td>100</td><td>2</td></tr>",
                            "<tr><td>8</td><td>100</td><td>2</td></tr>",
                            "<tr><td>8</td><td>100</td><td>2</td></tr>",
                            "<tr><td>8</td><td>100</td><td>2</td></tr>",
                            "<tr><td>8</td><td>100</td><td>2</td></tr>",
                            "<tr><td>8</td><td>101</td><td>2</td></tr>",
                            "<tr><td>8</td><td>101</td><td>2</td></tr>",
                            "<tr><td>8</td><td>101</td><td>2</td></tr>",
                            "<tr><td>8</td><td>101</td><td>2</td></tr>",
                            "<tr><td>8</td><td>101</td><td>2</td></tr>",
                            "<tr><td>8</td><td>102</td><td>2</td></tr>",
                            "<tr><td>8</td><td>102</td><td>2</td></tr>",
                            "<tr><td>8</td><td>102</td><td>2</td></tr>",
                            "<tr><td>8</td><td>102</td><td>2</td></tr>",
                            "<tr><td>8</td><td>102</td><td>2</td></tr>",
                            "<tr><td>8</td><td>103</td><td>2</td></tr>",
                            "<tr><td>8</td><td>103</td><td>2</td></tr>",
                            "<tr><td>8</td><td>103</td><td>2</td></tr>",
                            "<tr><td>8</td><td>103</td><td>2</td></tr>",
                            "<tr><td>8</td><td>103</td><td>2</td></tr>",
                            "<tr><td>8</td><td>104</td><td>2</td></tr>",
                            "<tr><td>8</td><td>104</td><td>2</td></tr>",
                            "<tr><td>8</td><td>104</td><td>2</td></tr>",
                            "<tr><td>8</td><td>104</td><td>2</td></tr>",
                            "<tr><td>8</td><td>104</td><td>2</td></tr>",
                            "<tr><td>8</td><td>105</td><td>2</td></tr>",
                            "<tr><td>8</td><td>105</td><td>2</td></tr>",
                            "<tr><td>8</td><td>105</td><td>2</td></tr>",
                            "<tr><td>8</td><td>105</td><td>2</td></tr>",
                            "<tr><td>8</td><td>105</td><td>2</td></tr>",
                            "<tr><td>8</td><td>106</td><td>2</td></tr>",
                            "<tr><td>8</td><td>106</td><td>2</td></tr>",
                            "<tr><td>8</td><td>106</td><td>2</td></tr>",
                            "<tr><td>8</td><td>106</td><td>2</td></tr>",
                            "<tr><td>8</td><td>106</td><td>2</td></tr>",
                            "<tr><td>8</td><td>107</td><td>2</td></tr>",
                            "<tr><td>8</td><td>107</td><td>2</td></tr>",
                            "<tr><td>8</td><td>107</td><td>2</td></tr>",
                            "<tr><td>8</td><td>107</td><td>2</td></tr>",
                            "<tr><td>8</td><td>107</td><td>2</td></tr>",
                            "<tr><td>8</td><td>108</td><td>2</td></tr>",
                            "<tr><td>8</td><td>108</td><td>2</td></tr>",
                            "<tr><td>8</td><td>108</td><td>2</td></tr>",
                            "<tr><td>8</td><td>108</td><td>2</td></tr>",
                            "<tr><td>8</td><td>108</td><td>2</td></tr>",
                            "<tr><td>8</td><td>109</td><td>2</td></tr>",
                            "<tr><td>8</td><td>109</td><td>2</td></tr>",
                            "<tr><td>8</td><td>109</td><td>2</td></tr>",
                            "<tr><td>8</td><td>109</td><td>2</td></tr>",
                            "<tr><td>8</td><td>109</td><td>2</td></tr>",
                            "<tr><td>8</td><td>110</td><td>2</td></tr>",
                            "<tr><td>8</td><td>110</td><td>2</td></tr>",
                            "<tr><td>8</td><td>110</td><td>2</td></tr>",
                            "<tr><td>8</td><td>110</td><td>2</td></tr>",
                            "<tr><td>8</td><td>110</td><td>2</td></tr>",
                            "<tr><td>8</td><td>111</td><td>2</td></tr>",
                            "<tr><td>8</td><td>111</td><td>2</td></tr>",
                            "<tr><td>8</td><td>111</td><td>2</td></tr>",
                            "<tr><td>8</td><td>111</td><td>2</td></tr>",
                            "<tr><td>8</td><td>111</td><td>2</td></tr>",
                            "<tr><td>8</td><td>112</td><td>2</td></tr>",
                            "<tr><td>8</td><td>112</td><td>2</td></tr>",
                            "<tr><td>8</td><td>112</td><td>2</td></tr>",
                            "<tr><td>8</td><td>112</td><td>2</td></tr>",
                            "<tr><td>8</td><td>112</td><td>2</td></tr>",
                            "<tr><td>8</td><td>113</td><td>2</td></tr>",
                            "<tr><td>8</td><td>113</td><td>2</td></tr>",
                            "<tr><td>8</td><td>113</td><td>2</td></tr>",
                            "<tr><td>8</td><td>113</td><td>2</td></tr>",
                            "<tr><td>8</td><td>113</td><td>2</td></tr>",
                            "<tr><td>8</td><td>114</td><td>2</td></tr>",
                            "<tr><td>8</td><td>114</td><td>2</td></tr>",
                            "<tr><td>8</td><td>114</td><td>2</td></tr>",
                            "<tr><td>8</td><td>114</td><td>2</td></tr>",
                            "<tr><td>8</td><td>114</td><td>2</td></tr>",
                            "<tr><td>8</td><td>115</td><td>2</td></tr>",
                            "<tr><td>8</td><td>115</td><td>2</td></tr>",
                            "<tr><td>8</td><td>115</td><td>2</td></tr>",
                            "<tr><td>8</td><td>115</td><td>2</td></tr>",
                            "<tr><td>8</td><td>115</td><td>2</td></tr>",
                            "<tr><td>8</td><td>116</td><td>2</td></tr>",
                            "<tr><td>8</td><td>116</td><td>2</td></tr>",
                            "<tr><td>8</td><td>116</td><td>2</td></tr>",
                            "<tr><td>8</td><td>116</td><td>2</td></tr>",
                            "<tr><td>8</td><td>116</td><td>2</td></tr>",
                            "<tr><td>8</td><td>117</td><td>2</td></tr>",
                            "<tr><td>8</td><td>117</td><td>2</td></tr>",
                            "<tr><td>8</td><td>117</td><td>2</td></tr>",
                            "<tr><td>8</td><td>117</td><td>2</td></tr>",
                            "<tr><td>8</td><td>117</td><td>2</td></tr>",
                            "<tr><td>8</td><td>118</td><td>2</td></tr>",
                            "<tr><td>8</td><td>118</td><td>2</td></tr>",
                            "<tr><td>8</td><td>118</td><td>2</td></tr>",
                            "<tr><td>8</td><td>118</td><td>2</td></tr>",
                            "<tr><td>8</td><td>118</td><td>2</td></tr>",
                            "<tr><td>8</td><td>119</td><td>2</td></tr>",
                            "<tr><td>8</td><td>119</td><td>2</td></tr>",
                            "<tr><td>8</td><td>119</td><td>2</td></tr>",
                            "<tr><td>8</td><td>119</td><td>2</td></tr>",
                            "<tr><td>8</td><td>119</td><td>2</td></tr>",
                            "<tr><td>8</td><td>120</td><td>2</td></tr>",
                            "<tr><td>8</td><td>120</td><td>2</td></tr>",
                            "<tr><td>8</td><td>120</td><td>2</td></tr>",
                            "<tr><td>8</td><td>120</td><td>2</td></tr>",
                            "<tr><td>8</td><td>120</td><td>2</td></tr>",
                            "<tr><td>8</td><td>121</td><td>2</td></tr>",
                            "<tr><td>8</td><td>121</td><td>2</td></tr>",
                            "<tr><td>8</td><td>121</td><td>2</td></tr>",
                            "<tr><td>8</td><td>121</td><td>2</td></tr>",
                            "<tr><td>8</td><td>121</td><td>2</td></tr>",
                            "<tr><td>8</td><td>122</td><td>2</td></tr>",
                            "<tr><td>8</td><td>122</td><td>2</td></tr>",
                            "<tr><td>8</td><td>122</td><td>2</td></tr>",
                            "<tr><td>8</td><td>122</td><td>2</td></tr>",
                            "<tr><td>8</td><td>122</td><td>2</td></tr>",
                            "<tr><td>8</td><td>123</td><td>2</td></tr>",
                            "<tr><td>8</td><td>123</td><td>2</td></tr>",
                            "<tr><td>8</td><td>123</td><td>2</td></tr>",
                            "<tr><td>8</td><td>123</td><td>2</td></tr>",
                            "<tr><td>8</td><td>123</td><td>2</td></tr>",
                            "<tr><td>8</td><td>124</td><td>2</td></tr>",
                            "<tr><td>8</td><td>124</td><td>2</td></tr>",
                            "<tr><td>8</td><td>124</td><td>2</td></tr>",
                            "<tr><td>8</td><td>124</td><td>2</td></tr>",
                            "<tr><td>8</td><td>124</td><td>2</td></tr>",
                            "<tr><td>8</td><td>125</td><td>2</td></tr>",
                            "<tr><td>8</td><td>125</td><td>2</td></tr>",
                            "<tr><td>8</td><td>125</td><td>2</td></tr>",
                            "<tr><td>8</td><td>125</td><td>2</td></tr>",
                            "<tr><td>8</td><td>125</td><td>2</td></tr>",
                            "<tr><td>8</td><td>126</td><td>2</td></tr>",
                            "<tr><td>8</td><td>126</td><td>2</td></tr>",
                            "<tr><td>8</td><td>126</td><td>2</td></tr>",
                            "<tr><td>8</td><td>126</td><td>2</td></tr>",
                            "<tr><td>8</td><td>126</td><td>2</td></tr>",
                            "<tr><td>8</td><td>127</td><td>2</td></tr>",
                            "<tr><td>8</td><td>127</td><td>2</td></tr>",
                            "<tr><td>8</td><td>127</td><td>2</td></tr>",
                            "<tr><td>8</td><td>127</td><td>2</td></tr>",
                            "<tr><td>8</td><td>127</td><td>2</td></tr>",
                            "<tr><td>8</td><td>128</td><td>2</td></tr>",
                            "<tr><td>8</td><td>128</td><td>2</td></tr>",
                            "<tr><td>8</td><td>128</td><td>2</td></tr>",
                            "<tr><td>8</td><td>128</td><td>2</td></tr>",
                            "<tr><td>8</td><td>128</td><td>2</td></tr>",
                            "<tr><td>8</td><td>129</td><td>2</td></tr>",
                            "<tr><td>8</td><td>129</td><td>2</td></tr>",
                            "<tr><td>8</td><td>129</td><td>2</td></tr>",
                            "<tr><td>8</td><td>129</td><td>2</td></tr>",
                            "<tr><td>8</td><td>129</td><td>2</td></tr>",
                            "<tr><td>9</td><td>130</td><td>2</td></tr>",
                            "<tr><td>9</td><td>130</td><td>2</td></tr>",
                            "<tr><td>9</td><td>130</td><td>3</td></tr>",
                            "<tr><td>9</td><td>130</td><td>3</td></tr>",
                            "<tr><td>9</td><td>130</td><td>3</td></tr>",
                            "<tr><td>9</td><td>130</td><td>3</td></tr>",
                            "<tr><td>9</td><td>131</td><td>2</td></tr>",
                            "<tr><td>9</td><td>131</td><td>2</td></tr>",
                            "<tr><td>9</td><td>131</td><td>3</td></tr>",
                            "<tr><td>9</td><td>131</td><td>3</td></tr>",
                            "<tr><td>9</td><td>131</td><td>3</td></tr>",
                            "<tr><td>9</td><td>131</td><td>3</td></tr>",
                            "<tr><td>9</td><td>132</td><td>2</td></tr>",
                            "<tr><td>9</td><td>132</td><td>2</td></tr>",
                            "<tr><td>9</td><td>132</td><td>3</td></tr>",
                            "<tr><td>9</td><td>132</td><td>3</td></tr>",
                            "<tr><td>9</td><td>132</td><td>3</td></tr>",
                            "<tr><td>9</td><td>132</td><td>3</td></tr>",
                            "<tr><td>9</td><td>133</td><td>2</td></tr>",
                            "<tr><td>9</td><td>133</td><td>2</td></tr>",
                            "<tr><td>9</td><td>133</td><td>3</td></tr>",
                            "<tr><td>9</td><td>133</td><td>3</td></tr>",
                            "<tr><td>9</td><td>133</td><td>3</td></tr>",
                            "<tr><td>9</td><td>133</td><td>3</td></tr>",
                            "<tr><td>9</td><td>134</td><td>2</td></tr>",
                            "<tr><td>9</td><td>134</td><td>2</td></tr>",
                            "<tr><td>9</td><td>134</td><td>3</td></tr>",
                            "<tr><td>9</td><td>134</td><td>3</td></tr>",
                            "<tr><td>9</td><td>134</td><td>3</td></tr>",
                            "<tr><td>9</td><td>134</td><td>3</td></tr>",
                            "<tr><td>10</td><td>135</td><td>2</td></tr>",
                            "<tr><td>10</td><td>135</td><td>1</td></tr>",
                            "<tr><td>10</td><td>135</td><td>2</td></tr>",
                            "<tr><td>10</td><td>135</td><td>2</td></tr>",
                            "<tr><td>10</td><td>136</td><td>2</td></tr>",
                            "<tr><td>10</td><td>136</td><td>1</td></tr>",
                            "<tr><td>10</td><td>136</td><td>2</td></tr>",
                            "<tr><td>10</td><td>136</td><td>2</td></tr>",
                            "<tr><td>10</td><td>137</td><td>2</td></tr>",
                            "<tr><td>10</td><td>137</td><td>1</td></tr>",
                            "<tr><td>10</td><td>137</td><td>2</td></tr>",
                            "<tr><td>10</td><td>137</td><td>2</td></tr>",
                            "<tr><td>10</td><td>138</td><td>2</td></tr>",
                            "<tr><td>10</td><td>138</td><td>1</td></tr>",
                            "<tr><td>10</td><td>138</td><td>2</td></tr>",
                            "<tr><td>10</td><td>138</td><td>2</td></tr>",
                            "<tr><td>10</td><td>139</td><td>2</td></tr>",
                            "<tr><td>10</td><td>139</td><td>1</td></tr>",
                            "<tr><td>10</td><td>139</td><td>2</td></tr>",
                            "<tr><td>10</td><td>139</td><td>2</td></tr>",
                            "<tr><td>10</td><td>140</td><td>2</td></tr>",
                            "<tr><td>10</td><td>140</td><td>1</td></tr>",
                            "<tr><td>10</td><td>140</td><td>2</td></tr>",
                            "<tr><td>10</td><td>140</td><td>2</td></tr>",
                            "<tr><td>10</td><td>141</td><td>2</td></tr>",
                            "<tr><td>10</td><td>141</td><td>1</td></tr>",
                            "<tr><td>10</td><td>141</td><td>2</td></tr>",
                            "<tr><td>10</td><td>141</td><td>2</td></tr>",
                            "<tr><td>10</td><td>142</td><td>2</td></tr>",
                            "<tr><td>10</td><td>142</td><td>1</td></tr>",
                            "<tr><td>10</td><td>142</td><td>2</td></tr>",
                            "<tr><td>10</td><td>142</td><td>2</td></tr>",
                            "<tr><td>10</td><td>143</td><td>2</td></tr>",
                            "<tr><td>10</td><td>143</td><td>1</td></tr>",
                            "<tr><td>10</td><td>143</td><td>2</td></tr>",
                            "<tr><td>10</td><td>143</td><td>2</td></tr>",
                            "<tr><td>10</td><td>144</td><td>2</td></tr>",
                            "<tr><td>10</td><td>144</td><td>1</td></tr>",
                            "<tr><td>10</td><td>144</td><td>2</td></tr>",
                            "<tr><td>10</td><td>144</td><td>2</td></tr>",
                            "<tr><td>10</td><td>145</td><td>2</td></tr>",
                            "<tr><td>10</td><td>145</td><td>1</td></tr>",
                            "<tr><td>10</td><td>145</td><td>2</td></tr>",
                            "<tr><td>10</td><td>145</td><td>2</td></tr>",
                            "<tr><td>10</td><td>146</td><td>2</td></tr>",
                            "<tr><td>10</td><td>146</td><td>1</td></tr>",
                            "<tr><td>10</td><td>146</td><td>2</td></tr>",
                            "<tr><td>10</td><td>146</td><td>2</td></tr>",
                            "<tr><td>10</td><td>147</td><td>2</td></tr>",
                            "<tr><td>10</td><td>147</td><td>1</td></tr>",
                            "<tr><td>10</td><td>147</td><td>2</td></tr>",
                            "<tr><td>10</td><td>147</td><td>2</td></tr>",
                            "<tr><td>10</td><td>148</td><td>2</td></tr>",
                            "<tr><td>10</td><td>148</td><td>1</td></tr>",
                            "<tr><td>10</td><td>148</td><td>2</td></tr>",
                            "<tr><td>10</td><td>148</td><td>2</td></tr>",
                            "<tr><td>10</td><td>149</td><td>2</td></tr>",
                            "<tr><td>10</td><td>149</td><td>1</td></tr>",
                            "<tr><td>10</td><td>149</td><td>2</td></tr>",
                            "<tr><td>10</td><td>149</td><td>2</td></tr>",
                            "<tr><td>10</td><td>150</td><td>2</td></tr>",
                            "<tr><td>10</td><td>150</td><td>1</td></tr>",
                            "<tr><td>10</td><td>150</td><td>2</td></tr>",
                            "<tr><td>10</td><td>150</td><td>2</td></tr>",
                            "<tr><td>10</td><td>151</td><td>2</td></tr>",
                            "<tr><td>10</td><td>151</td><td>1</td></tr>",
                            "<tr><td>10</td><td>151</td><td>2</td></tr>",
                            "<tr><td>10</td><td>151</td><td>2</td></tr>",
                            "<tr><td>10</td><td>152</td><td>2</td></tr>",
                            "<tr><td>10</td><td>152</td><td>1</td></tr>",
                            "<tr><td>10</td><td>152</td><td>2</td></tr>",
                            "<tr><td>10</td><td>152</td><td>2</td></tr>",
                            "<tr><td>10</td><td>153</td><td>2</td></tr>",
                            "<tr><td>10</td><td>153</td><td>1</td></tr>",
                            "<tr><td>10</td><td>153</td><td>2</td></tr>",
                            "<tr><td>10</td><td>153</td><td>2</td></tr>",
                            "<tr><td>10</td><td>154</td><td>2</td></tr>",
                            "<tr><td>10</td><td>154</td><td>1</td></tr>",
                            "<tr><td>10</td><td>154</td><td>2</td></tr>",
                            "<tr><td>10</td><td>154</td><td>2</td></tr>",
                            "<tr><td>10</td><td>155</td><td>2</td></tr>",
                            "<tr><td>10</td><td>155</td><td>1</td></tr>",
                            "<tr><td>10</td><td>155</td><td>2</td></tr>",
                            "<tr><td>10</td><td>155</td><td>2</td></tr>",
                            "<tr><td>10</td><td>156</td><td>2</td></tr>",
                            "<tr><td>10</td><td>156</td><td>1</td></tr>",
                            "<tr><td>10</td><td>156</td><td>2</td></tr>",
                            "<tr><td>10</td><td>156</td><td>2</td></tr>",
                            "<tr><td>10</td><td>157</td><td>2</td></tr>",
                            "<tr><td>10</td><td>157</td><td>1</td></tr>",
                            "<tr><td>10</td><td>157</td><td>2</td></tr>",
                            "<tr><td>10</td><td>157</td><td>2</td></tr>",
                            "<tr><td>10</td><td>158</td><td>2</td></tr>",
                            "<tr><td>10</td><td>158</td><td>1</td></tr>",
                            "<tr><td>10</td><td>158</td><td>2</td></tr>",
                            "<tr><td>10</td><td>158</td><td>2</td></tr>",
                            "<tr><td>10</td><td>159</td><td>2</td></tr>",
                            "<tr><td>10</td><td>159</td><td>1</td></tr>",
                            "<tr><td>10</td><td>159</td><td>2</td></tr>",
                            "<tr><td>10</td><td>159</td><td>2</td></tr>",
                            "<tr><td>11</td><td>160</td><td>3</td></tr>",
                            "<tr><td>11</td><td>160</td><td>3</td></tr>",
                            "<tr><td>11</td><td>160</td><td>2</td></tr>",
                            "<tr><td>11</td><td>160</td><td>2</td></tr>",
                            "<tr><td>11</td><td>161</td><td>3</td></tr>",
                            "<tr><td>11</td><td>161</td><td>3</td></tr>",
                            "<tr><td>11</td><td>161</td><td>2</td></tr>",
                            "<tr><td>11</td><td>161</td><td>2</td></tr>",
                            "<tr><td>11</td><td>162</td><td>3</td></tr>",
                            "<tr><td>11</td><td>162</td><td>3</td></tr>",
                            "<tr><td>11</td><td>162</td><td>2</td></tr>",
                            "<tr><td>11</td><td>162</td><td>2</td></tr>",
                            "<tr><td>11</td><td>163</td><td>3</td></tr>",
                            "<tr><td>11</td><td>163</td><td>3</td></tr>",
                            "<tr><td>11</td><td>163</td><td>2</td></tr>",
                            "<tr><td>11</td><td>163</td><td>2</td></tr>",
                            "<tr><td>11</td><td>164</td><td>3</td></tr>",
                            "<tr><td>11</td><td>164</td><td>3</td></tr>",
                            "<tr><td>11</td><td>164</td><td>2</td></tr>",
                            "<tr><td>11</td><td>164</td><td>2</td></tr>",
                            "<tr><td>12</td><td>165</td><td>3</td></tr>",
                            "<tr><td>12</td><td>165</td><td>2</td></tr>",
                            "<tr><td>12</td><td>165</td><td>2</td></tr>",
                            "<tr><td>12</td><td>165</td><td>2</td></tr>",
                            "<tr><td>12</td><td>165</td><td>2</td></tr>",
                            "<tr><td>12</td><td>165</td><td>2</td></tr>",
                            "<tr><td>12</td><td>165</td><td>2</td></tr>",
                            "<tr><td>12</td><td>165</td><td>2</td></tr>",
                            "<tr><td>12</td><td>165</td><td>2</td></tr>",
                            "<tr><td>12</td><td>166</td><td>3</td></tr>",
                            "<tr><td>12</td><td>166</td><td>2</td></tr>",
                            "<tr><td>12</td><td>166</td><td>2</td></tr>",
                            "<tr><td>12</td><td>166</td><td>2</td></tr>",
                            "<tr><td>12</td><td>166</td><td>2</td></tr>",
                            "<tr><td>12</td><td>166</td><td>2</td></tr>",
                            "<tr><td>12</td><td>166</td><td>2</td></tr>",
                            "<tr><td>12</td><td>166</td><td>2</td></tr>",
                            "<tr><td>12</td><td>166</td><td>2</td></tr>",
                            "<tr><td>12</td><td>167</td><td>3</td></tr>",
                            "<tr><td>12</td><td>167</td><td>2</td></tr>",
                            "<tr><td>12</td><td>167</td><td>2</td></tr>",
                            "<tr><td>12</td><td>167</td><td>2</td></tr>",
                            "<tr><td>12</td><td>167</td><td>2</td></tr>",
                            "<tr><td>12</td><td>167</td><td>2</td></tr>",
                            "<tr><td>12</td><td>167</td><td>2</td></tr>",
                            "<tr><td>12</td><td>167</td><td>2</td></tr>",
                            "<tr><td>12</td><td>167</td><td>2</td></tr>",
                            "<tr><td>12</td><td>168</td><td>3</td></tr>",
                            "<tr><td>12</td><td>168</td><td>2</td></tr>",
                            "<tr><td>12</td><td>168</td><td>2</td></tr>",
                            "<tr><td>12</td><td>168</td><td>2</td></tr>",
                            "<tr><td>12</td><td>168</td><td>2</td></tr>",
                            "<tr><td>12</td><td>168</td><td>2</td></tr>",
                            "<tr><td>12</td><td>168</td><td>2</td></tr>",
                            "<tr><td>12</td><td>168</td><td>2</td></tr>",
                            "<tr><td>12</td><td>168</td><td>2</td></tr>",
                            "<tr><td>12</td><td>169</td><td>3</td></tr>",
                            "<tr><td>12</td><td>169</td><td>2</td></tr>",
                            "<tr><td>12</td><td>169</td><td>2</td></tr>",
                            "<tr><td>12</td><td>169</td><td>2</td></tr>",
                            "<tr><td>12</td><td>169</td><td>2</td></tr>",
                            "<tr><td>12</td><td>169</td><td>2</td></tr>",
                            "<tr><td>12</td><td>169</td><td>2</td></tr>",
                            "<tr><td>12</td><td>169</td><td>2</td></tr>",
                            "<tr><td>12</td><td>169</td><td>2</td></tr>",
                            "<tr><td>12</td><td>170</td><td>3</td></tr>",
                            "<tr><td>12</td><td>170</td><td>2</td></tr>",
                            "<tr><td>12</td><td>170</td><td>2</td></tr>",
                            "<tr><td>12</td><td>170</td><td>2</td></tr>",
                            "<tr><td>12</td><td>170</td><td>2</td></tr>",
                            "<tr><td>12</td><td>170</td><td>2</td></tr>",
                            "<tr><td>12</td><td>170</td><td>2</td></tr>",
                            "<tr><td>12</td><td>170</td><td>2</td></tr>",
                            "<tr><td>12</td><td>170</td><td>2</td></tr>",
                            "<tr><td>12</td><td>171</td><td>3</td></tr>",
                            "<tr><td>12</td><td>171</td><td>2</td></tr>",
                            "<tr><td>12</td><td>171</td><td>2</td></tr>",
                            "<tr><td>12</td><td>171</td><td>2</td></tr>",
                            "<tr><td>12</td><td>171</td><td>2</td></tr>",
                            "<tr><td>12</td><td>171</td><td>2</td></tr>",
                            "<tr><td>12</td><td>171</td><td>2</td></tr>",
                            "<tr><td>12</td><td>171</td><td>2</td></tr>",
                            "<tr><td>12</td><td>171</td><td>2</td></tr>",
                            "<tr><td>12</td><td>172</td><td>3</td></tr>",
                            "<tr><td>12</td><td>172</td><td>2</td></tr>",
                            "<tr><td>12</td><td>172</td><td>2</td></tr>",
                            "<tr><td>12</td><td>172</td><td>2</td></tr>",
                            "<tr><td>12</td><td>172</td><td>2</td></tr>",
                            "<tr><td>12</td><td>172</td><td>2</td></tr>",
                            "<tr><td>12</td><td>172</td><td>2</td></tr>",
                            "<tr><td>12</td><td>172</td><td>2</td></tr>",
                            "<tr><td>12</td><td>172</td><td>2</td></tr>",
                            "<tr><td>12</td><td>173</td><td>3</td></tr>",
                            "<tr><td>12</td><td>173</td><td>2</td></tr>",
                            "<tr><td>12</td><td>173</td><td>2</td></tr>",
                            "<tr><td>12</td><td>173</td><td>2</td></tr>",
                            "<tr><td>12</td><td>173</td><td>2</td></tr>",
                            "<tr><td>12</td><td>173</td><td>2</td></tr>",
                            "<tr><td>12</td><td>173</td><td>2</td></tr>",
                            "<tr><td>12</td><td>173</td><td>2</td></tr>",
                            "<tr><td>12</td><td>173</td><td>2</td></tr>",
                            "<tr><td>12</td><td>174</td><td>3</td></tr>",
                            "<tr><td>12</td><td>174</td><td>2</td></tr>",
                            "<tr><td>12</td><td>174</td><td>2</td></tr>",
                            "<tr><td>12</td><td>174</td><td>2</td></tr>",
                            "<tr><td>12</td><td>174</td><td>2</td></tr>",
                            "<tr><td>12</td><td>174</td><td>2</td></tr>",
                            "<tr><td>12</td><td>174</td><td>2</td></tr>",
                            "<tr><td>12</td><td>174</td><td>2</td></tr>",
                            "<tr><td>12</td><td>174</td><td>2</td></tr>",
                            "<tr><td>12</td><td>175</td><td>3</td></tr>",
                            "<tr><td>12</td><td>175</td><td>2</td></tr>",
                            "<tr><td>12</td><td>175</td><td>2</td></tr>",
                            "<tr><td>12</td><td>175</td><td>2</td></tr>",
                            "<tr><td>12</td><td>175</td><td>2</td></tr>",
                            "<tr><td>12</td><td>175</td><td>2</td></tr>",
                            "<tr><td>12</td><td>175</td><td>2</td></tr>",
                            "<tr><td>12</td><td>175</td><td>2</td></tr>",
                            "<tr><td>12</td><td>175</td><td>2</td></tr>",
                            "<tr><td>12</td><td>176</td><td>3</td></tr>",
                            "<tr><td>12</td><td>176</td><td>2</td></tr>",
                            "<tr><td>12</td><td>176</td><td>2</td></tr>",
                            "<tr><td>12</td><td>176</td><td>2</td></tr>",
                            "<tr><td>12</td><td>176</td><td>2</td></tr>",
                            "<tr><td>12</td><td>176</td><td>2</td></tr>",
                            "<tr><td>12</td><td>176</td><td>2</td></tr>",
                            "<tr><td>12</td><td>176</td><td>2</td></tr>",
                            "<tr><td>12</td><td>176</td><td>2</td></tr>",
                            "<tr><td>12</td><td>177</td><td>3</td></tr>",
                            "<tr><td>12</td><td>177</td><td>2</td></tr>",
                            "<tr><td>12</td><td>177</td><td>2</td></tr>",
                            "<tr><td>12</td><td>177</td><td>2</td></tr>",
                            "<tr><td>12</td><td>177</td><td>2</td></tr>",
                            "<tr><td>12</td><td>177</td><td>2</td></tr>",
                            "<tr><td>12</td><td>177</td><td>2</td></tr>",
                            "<tr><td>12</td><td>177</td><td>2</td></tr>",
                            "<tr><td>12</td><td>177</td><td>2</td></tr>",
                            "<tr><td>12</td><td>178</td><td>3</td></tr>",
                            "<tr><td>12</td><td>178</td><td>2</td></tr>",
                            "<tr><td>12</td><td>178</td><td>2</td></tr>",
                            "<tr><td>12</td><td>178</td><td>2</td></tr>",
                            "<tr><td>12</td><td>178</td><td>2</td></tr>",
                            "<tr><td>12</td><td>178</td><td>2</td></tr>",
                            "<tr><td>12</td><td>178</td><td>2</td></tr>",
                            "<tr><td>12</td><td>178</td><td>2</td></tr>",
                            "<tr><td>12</td><td>178</td><td>2</td></tr>",
                            "<tr><td>12</td><td>179</td><td>3</td></tr>",
                            "<tr><td>12</td><td>179</td><td>2</td></tr>",
                            "<tr><td>12</td><td>179</td><td>2</td></tr>",
                            "<tr><td>12</td><td>179</td><td>2</td></tr>",
                            "<tr><td>12</td><td>179</td><td>2</td></tr>",
                            "<tr><td>12</td><td>179</td><td>2</td></tr>",
                            "<tr><td>12</td><td>179</td><td>2</td></tr>",
                            "<tr><td>12</td><td>179</td><td>2</td></tr>",
                            "<tr><td>12</td><td>179</td><td>2</td></tr>",
                            "<tr><td>12</td><td>180</td><td>3</td></tr>",
                            "<tr><td>12</td><td>180</td><td>2</td></tr>",
                            "<tr><td>12</td><td>180</td><td>2</td></tr>",
                            "<tr><td>12</td><td>180</td><td>2</td></tr>",
                            "<tr><td>12</td><td>180</td><td>2</td></tr>",
                            "<tr><td>12</td><td>180</td><td>2</td></tr>",
                            "<tr><td>12</td><td>180</td><td>2</td></tr>",
                            "<tr><td>12</td><td>180</td><td>2</td></tr>",
                            "<tr><td>12</td><td>180</td><td>2</td></tr>",
                            "<tr><td>12</td><td>181</td><td>3</td></tr>",
                            "<tr><td>12</td><td>181</td><td>2</td></tr>",
                            "<tr><td>12</td><td>181</td><td>2</td></tr>",
                            "<tr><td>12</td><td>181</td><td>2</td></tr>",
                            "<tr><td>12</td><td>181</td><td>2</td></tr>",
                            "<tr><td>12</td><td>181</td><td>2</td></tr>",
                            "<tr><td>12</td><td>181</td><td>2</td></tr>",
                            "<tr><td>12</td><td>181</td><td>2</td></tr>",
                            "<tr><td>12</td><td>181</td><td>2</td></tr>",
                            "<tr><td>12</td><td>182</td><td>3</td></tr>",
                            "<tr><td>12</td><td>182</td><td>2</td></tr>",
                            "<tr><td>12</td><td>182</td><td>2</td></tr>",
                            "<tr><td>12</td><td>182</td><td>2</td></tr>",
                            "<tr><td>12</td><td>182</td><td>2</td></tr>",
                            "<tr><td>12</td><td>182</td><td>2</td></tr>",
                            "<tr><td>12</td><td>182</td><td>2</td></tr>",
                            "<tr><td>12</td><td>182</td><td>2</td></tr>",
                            "<tr><td>12</td><td>182</td><td>2</td></tr>",
                            "<tr><td>12</td><td>183</td><td>3</td></tr>",
                            "<tr><td>12</td><td>183</td><td>2</td></tr>",
                            "<tr><td>12</td><td>183</td><td>2</td></tr>",
                            "<tr><td>12</td><td>183</td><td>2</td></tr>",
                            "<tr><td>12</td><td>183</td><td>2</td></tr>",
                            "<tr><td>12</td><td>183</td><td>2</td></tr>",
                            "<tr><td>12</td><td>183</td><td>2</td></tr>",
                            "<tr><td>12</td><td>183</td><td>2</td></tr>",
                            "<tr><td>12</td><td>183</td><td>2</td></tr>",
                            "<tr><td>12</td><td>184</td><td>3</td></tr>",
                            "<tr><td>12</td><td>184</td><td>2</td></tr>",
                            "<tr><td>12</td><td>184</td><td>2</td></tr>",
                            "<tr><td>12</td><td>184</td><td>2</td></tr>",
                            "<tr><td>12</td><td>184</td><td>2</td></tr>",
                            "<tr><td>12</td><td>184</td><td>2</td></tr>",
                            "<tr><td>12</td><td>184</td><td>2</td></tr>",
                            "<tr><td>12</td><td>184</td><td>2</td></tr>",
                            "<tr><td>12</td><td>184</td><td>2</td></tr>",
                            "<tr><td>12</td><td>185</td><td>3</td></tr>",
                            "<tr><td>12</td><td>185</td><td>2</td></tr>",
                            "<tr><td>12</td><td>185</td><td>2</td></tr>",
                            "<tr><td>12</td><td>185</td><td>2</td></tr>",
                            "<tr><td>12</td><td>185</td><td>2</td></tr>",
                            "<tr><td>12</td><td>185</td><td>2</td></tr>",
                            "<tr><td>12</td><td>185</td><td>2</td></tr>",
                            "<tr><td>12</td><td>185</td><td>2</td></tr>",
                            "<tr><td>12</td><td>185</td><td>2</td></tr>",
                            "<tr><td>12</td><td>186</td><td>3</td></tr>",
                            "<tr><td>12</td><td>186</td><td>2</td></tr>",
                            "<tr><td>12</td><td>186</td><td>2</td></tr>",
                            "<tr><td>12</td><td>186</td><td>2</td></tr>",
                            "<tr><td>12</td><td>186</td><td>2</td></tr>",
                            "<tr><td>12</td><td>186</td><td>2</td></tr>",
                            "<tr><td>12</td><td>186</td><td>2</td></tr>",
                            "<tr><td>12</td><td>186</td><td>2</td></tr>",
                            "<tr><td>12</td><td>186</td><td>2</td></tr>",
                            "<tr><td>12</td><td>187</td><td>3</td></tr>",
                            "<tr><td>12</td><td>187</td><td>2</td></tr>",
                            "<tr><td>12</td><td>187</td><td>2</td></tr>",
                            "<tr><td>12</td><td>187</td><td>2</td></tr>",
                            "<tr><td>12</td><td>187</td><td>2</td></tr>",
                            "<tr><td>12</td><td>187</td><td>2</td></tr>",
                            "<tr><td>12</td><td>187</td><td>2</td></tr>",
                            "<tr><td>12</td><td>187</td><td>2</td></tr>",
                            "<tr><td>12</td><td>187</td><td>2</td></tr>",
                            "<tr><td>12</td><td>188</td><td>3</td></tr>",
                            "<tr><td>12</td><td>188</td><td>2</td></tr>",
                            "<tr><td>12</td><td>188</td><td>2</td></tr>",
                            "<tr><td>12</td><td>188</td><td>2</td></tr>",
                            "<tr><td>12</td><td>188</td><td>2</td></tr>",
                            "<tr><td>12</td><td>188</td><td>2</td></tr>",
                            "<tr><td>12</td><td>188</td><td>2</td></tr>",
                            "<tr><td>12</td><td>188</td><td>2</td></tr>",
                            "<tr><td>12</td><td>188</td><td>2</td></tr>",
                            "<tr><td>12</td><td>189</td><td>3</td></tr>",
                            "<tr><td>12</td><td>189</td><td>2</td></tr>",
                            "<tr><td>12</td><td>189</td><td>2</td></tr>",
                            "<tr><td>12</td><td>189</td><td>2</td></tr>",
                            "<tr><td>12</td><td>189</td><td>2</td></tr>",
                            "<tr><td>12</td><td>189</td><td>2</td></tr>",
                            "<tr><td>12</td><td>189</td><td>2</td></tr>",
                            "<tr><td>12</td><td>189</td><td>2</td></tr>",
                            "<tr><td>12</td><td>189</td><td>2</td></tr>",
                            "<tr><td>12</td><td>190</td><td>3</td></tr>",
                            "<tr><td>12</td><td>190</td><td>2</td></tr>",
                            "<tr><td>12</td><td>190</td><td>2</td></tr>",
                            "<tr><td>12</td><td>190</td><td>2</td></tr>",
                            "<tr><td>12</td><td>190</td><td>2</td></tr>",
                            "<tr><td>12</td><td>190</td><td>2</td></tr>",
                            "<tr><td>12</td><td>190</td><td>2</td></tr>",
                            "<tr><td>12</td><td>190</td><td>2</td></tr>",
                            "<tr><td>12</td><td>190</td><td>2</td></tr>",
                            "<tr><td>12</td><td>191</td><td>3</td></tr>",
                            "<tr><td>12</td><td>191</td><td>2</td></tr>",
                            "<tr><td>12</td><td>191</td><td>2</td></tr>",
                            "<tr><td>12</td><td>191</td><td>2</td></tr>",
                            "<tr><td>12</td><td>191</td><td>2</td></tr>",
                            "<tr><td>12</td><td>191</td><td>2</td></tr>",
                            "<tr><td>12</td><td>191</td><td>2</td></tr>",
                            "<tr><td>12</td><td>191</td><td>2</td></tr>",
                            "<tr><td>12</td><td>191</td><td>2</td></tr>",
                            "<tr><td>12</td><td>192</td><td>3</td></tr>",
                            "<tr><td>12</td><td>192</td><td>2</td></tr>",
                            "<tr><td>12</td><td>192</td><td>2</td></tr>",
                            "<tr><td>12</td><td>192</td><td>2</td></tr>",
                            "<tr><td>12</td><td>192</td><td>2</td></tr>",
                            "<tr><td>12</td><td>192</td><td>2</td></tr>",
                            "<tr><td>12</td><td>192</td><td>2</td></tr>",
                            "<tr><td>12</td><td>192</td><td>2</td></tr>",
                            "<tr><td>12</td><td>192</td><td>2</td></tr>",
                            "<tr><td>12</td><td>193</td><td>3</td></tr>",
                            "<tr><td>12</td><td>193</td><td>2</td></tr>",
                            "<tr><td>12</td><td>193</td><td>2</td></tr>",
                            "<tr><td>12</td><td>193</td><td>2</td></tr>",
                            "<tr><td>12</td><td>193</td><td>2</td></tr>",
                            "<tr><td>12</td><td>193</td><td>2</td></tr>",
                            "<tr><td>12</td><td>193</td><td>2</td></tr>",
                            "<tr><td>12</td><td>193</td><td>2</td></tr>",
                            "<tr><td>12</td><td>193</td><td>2</td></tr>",
                            "<tr><td>12</td><td>194</td><td>3</td></tr>",
                            "<tr><td>12</td><td>194</td><td>2</td></tr>",
                            "<tr><td>12</td><td>194</td><td>2</td></tr>",
                            "<tr><td>12</td><td>194</td><td>2</td></tr>",
                            "<tr><td>12</td><td>194</td><td>2</td></tr>",
                            "<tr><td>12</td><td>194</td><td>2</td></tr>",
                            "<tr><td>12</td><td>194</td><td>2</td></tr>",
                            "<tr><td>12</td><td>194</td><td>2</td></tr>",
                            "<tr><td>12</td><td>194</td><td>2</td></tr>",
                            "<tr><td>12</td><td>195</td><td>3</td></tr>",
                            "<tr><td>12</td><td>195</td><td>2</td></tr>",
                            "<tr><td>12</td><td>195</td><td>2</td></tr>",
                            "<tr><td>12</td><td>195</td><td>2</td></tr>",
                            "<tr><td>12</td><td>195</td><td>2</td></tr>",
                            "<tr><td>12</td><td>195</td><td>2</td></tr>",
                            "<tr><td>12</td><td>195</td><td>2</td></tr>",
                            "<tr><td>12</td><td>195</td><td>2</td></tr>",
                            "<tr><td>12</td><td>195</td><td>2</td></tr>",
                            "<tr><td>12</td><td>196</td><td>3</td></tr>",
                            "<tr><td>12</td><td>196</td><td>2</td></tr>",
                            "<tr><td>12</td><td>196</td><td>2</td></tr>",
                            "<tr><td>12</td><td>196</td><td>2</td></tr>",
                            "<tr><td>12</td><td>196</td><td>2</td></tr>",
                            "<tr><td>12</td><td>196</td><td>2</td></tr>",
                            "<tr><td>12</td><td>196</td><td>2</td></tr>",
                            "<tr><td>12</td><td>196</td><td>2</td></tr>",
                            "<tr><td>12</td><td>196</td><td>2</td></tr>",
                            "<tr><td>12</td><td>197</td><td>3</td></tr>",
                            "<tr><td>12</td><td>197</td><td>2</td></tr>",
                            "<tr><td>12</td><td>197</td><td>2</td></tr>",
                            "<tr><td>12</td><td>197</td><td>2</td></tr>",
                            "<tr><td>12</td><td>197</td><td>2</td></tr>",
                            "<tr><td>12</td><td>197</td><td>2</td></tr>",
                            "<tr><td>12</td><td>197</td><td>2</td></tr>",
                            "<tr><td>12</td><td>197</td><td>2</td></tr>",
                            "<tr><td>12</td><td>197</td><td>2</td></tr>",
                            "<tr><td>12</td><td>198</td><td>3</td></tr>",
                            "<tr><td>12</td><td>198</td><td>2</td></tr>",
                            "<tr><td>12</td><td>198</td><td>2</td></tr>",
                            "<tr><td>12</td><td>198</td><td>2</td></tr>",
                            "<tr><td>12</td><td>198</td><td>2</td></tr>",
                            "<tr><td>12</td><td>198</td><td>2</td></tr>",
                            "<tr><td>12</td><td>198</td><td>2</td></tr>",
                            "<tr><td>12</td><td>198</td><td>2</td></tr>",
                            "<tr><td>12</td><td>198</td><td>2</td></tr>",
                            "<tr><td>12</td><td>199</td><td>3</td></tr>",
                            "<tr><td>12</td><td>199</td><td>2</td></tr>",
                            "<tr><td>12</td><td>199</td><td>2</td></tr>",
                            "<tr><td>12</td><td>199</td><td>2</td></tr>",
                            "<tr><td>12</td><td>199</td><td>2</td></tr>",
                            "<tr><td>12</td><td>199</td><td>2</td></tr>",
                            "<tr><td>12</td><td>199</td><td>2</td></tr>",
                            "<tr><td>12</td><td>199</td><td>2</td></tr>",
                            "<tr><td>12</td><td>199</td><td>2</td></tr>",
                            "<tr><td>12</td><td>200</td><td>3</td></tr>",
                            "<tr><td>12</td><td>200</td><td>2</td></tr>",
                            "<tr><td>12</td><td>200</td><td>2</td></tr>",
                            "<tr><td>12</td><td>200</td><td>2</td></tr>",
                            "<tr><td>12</td><td>200</td><td>2</td></tr>",
                            "<tr><td>12</td><td>200</td><td>2</td></tr>",
                            "<tr><td>12</td><td>200</td><td>2</td></tr>",
                            "<tr><td>12</td><td>200</td><td>2</td></tr>",
                            "<tr><td>12</td><td>200</td><td>2</td></tr>",
                            "<tr><td>12</td><td>201</td><td>3</td></tr>",
                            "<tr><td>12</td><td>201</td><td>2</td></tr>",
                            "<tr><td>12</td><td>201</td><td>2</td></tr>",
                            "<tr><td>12</td><td>201</td><td>2</td></tr>",
                            "<tr><td>12</td><td>201</td><td>2</td></tr>",
                            "<tr><td>12</td><td>201</td><td>2</td></tr>",
                            "<tr><td>12</td><td>201</td><td>2</td></tr>",
                            "<tr><td>12</td><td>201</td><td>2</td></tr>",
                            "<tr><td>12</td><td>201</td><td>2</td></tr>",
                            "<tr><td>12</td><td>202</td><td>3</td></tr>",
                            "<tr><td>12</td><td>202</td><td>2</td></tr>",
                            "<tr><td>12</td><td>202</td><td>2</td></tr>",
                            "<tr><td>12</td><td>202</td><td>2</td></tr>",
                            "<tr><td>12</td><td>202</td><td>2</td></tr>",
                            "<tr><td>12</td><td>202</td><td>2</td></tr>",
                            "<tr><td>12</td><td>202</td><td>2</td></tr>",
                            "<tr><td>12</td><td>202</td><td>2</td></tr>",
                            "<tr><td>12</td><td>202</td><td>2</td></tr>",
                            "<tr><td>12</td><td>203</td><td>3</td></tr>",
                            "<tr><td>12</td><td>203</td><td>2</td></tr>",
                            "<tr><td>12</td><td>203</td><td>2</td></tr>",
                            "<tr><td>12</td><td>203</td><td>2</td></tr>",
                            "<tr><td>12</td><td>203</td><td>2</td></tr>",
                            "<tr><td>12</td><td>203</td><td>2</td></tr>",
                            "<tr><td>12</td><td>203</td><td>2</td></tr>",
                            "<tr><td>12</td><td>203</td><td>2</td></tr>",
                            "<tr><td>12</td><td>203</td><td>2</td></tr>",
                            "<tr><td>12</td><td>204</td><td>3</td></tr>",
                            "<tr><td>12</td><td>204</td><td>2</td></tr>",
                            "<tr><td>12</td><td>204</td><td>2</td></tr>",
                            "<tr><td>12</td><td>204</td><td>2</td></tr>",
                            "<tr><td>12</td><td>204</td><td>2</td></tr>",
                            "<tr><td>12</td><td>204</td><td>2</td></tr>",
                            "<tr><td>12</td><td>204</td><td>2</td></tr>",
                            "<tr><td>12</td><td>204</td><td>2</td></tr>",
                            "<tr><td>12</td><td>204</td><td>2</td></tr>",
                            "<tr><td>12</td><td>205</td><td>3</td></tr>",
                            "<tr><td>12</td><td>205</td><td>2</td></tr>",
                            "<tr><td>12</td><td>205</td><td>2</td></tr>",
                            "<tr><td>12</td><td>205</td><td>2</td></tr>",
                            "<tr><td>12</td><td>205</td><td>2</td></tr>",
                            "<tr><td>12</td><td>205</td><td>2</td></tr>",
                            "<tr><td>12</td><td>205</td><td>2</td></tr>",
                            "<tr><td>12</td><td>205</td><td>2</td></tr>",
                            "<tr><td>12</td><td>205</td><td>2</td></tr>",
                            "<tr><td>12</td><td>206</td><td>3</td></tr>",
                            "<tr><td>12</td><td>206</td><td>2</td></tr>",
                            "<tr><td>12</td><td>206</td><td>2</td></tr>",
                            "<tr><td>12</td><td>206</td><td>2</td></tr>",
                            "<tr><td>12</td><td>206</td><td>2</td></tr>",
                            "<tr><td>12</td><td>206</td><td>2</td></tr>",
                            "<tr><td>12</td><td>206</td><td>2</td></tr>",
                            "<tr><td>12</td><td>206</td><td>2</td></tr>",
                            "<tr><td>12</td><td>206</td><td>2</td></tr>",
                            "<tr><td>12</td><td>207</td><td>3</td></tr>",
                            "<tr><td>12</td><td>207</td><td>2</td></tr>",
                            "<tr><td>12</td><td>207</td><td>2</td></tr>",
                            "<tr><td>12</td><td>207</td><td>2</td></tr>",
                            "<tr><td>12</td><td>207</td><td>2</td></tr>",
                            "<tr><td>12</td><td>207</td><td>2</td></tr>",
                            "<tr><td>12</td><td>207</td><td>2</td></tr>",
                            "<tr><td>12</td><td>207</td><td>2</td></tr>",
                            "<tr><td>12</td><td>207</td><td>2</td></tr>",
                            "<tr><td>12</td><td>208</td><td>3</td></tr>",
                            "<tr><td>12</td><td>208</td><td>2</td></tr>",
                            "<tr><td>12</td><td>208</td><td>2</td></tr>",
                            "<tr><td>12</td><td>208</td><td>2</td></tr>",
                            "<tr><td>12</td><td>208</td><td>2</td></tr>",
                            "<tr><td>12</td><td>208</td><td>2</td></tr>",
                            "<tr><td>12</td><td>208</td><td>2</td></tr>",
                            "<tr><td>12</td><td>208</td><td>2</td></tr>",
                            "<tr><td>12</td><td>208</td><td>2</td></tr>",
                            "<tr><td>12</td><td>209</td><td>3</td></tr>",
                            "<tr><td>12</td><td>209</td><td>2</td></tr>",
                            "<tr><td>12</td><td>209</td><td>2</td></tr>",
                            "<tr><td>12</td><td>209</td><td>2</td></tr>",
                            "<tr><td>12</td><td>209</td><td>2</td></tr>",
                            "<tr><td>12</td><td>209</td><td>2</td></tr>",
                            "<tr><td>12</td><td>209</td><td>2</td></tr>",
                            "<tr><td>12</td><td>209</td><td>2</td></tr>",
                            "<tr><td>12</td><td>209</td><td>2</td></tr>",
                            "<tr><td>12</td><td>210</td><td>3</td></tr>",
                            "<tr><td>12</td><td>210</td><td>2</td></tr>",
                            "<tr><td>12</td><td>210</td><td>2</td></tr>",
                            "<tr><td>12</td><td>210</td><td>2</td></tr>",
                            "<tr><td>12</td><td>210</td><td>2</td></tr>",
                            "<tr><td>12</td><td>210</td><td>2</td></tr>",
                            "<tr><td>12</td><td>210</td><td>2</td></tr>",
                            "<tr><td>12</td><td>210</td><td>2</td></tr>",
                            "<tr><td>12</td><td>210</td><td>2</td></tr>",
                            "<tr><td>12</td><td>211</td><td>3</td></tr>",
                            "<tr><td>12</td><td>211</td><td>2</td></tr>",
                            "<tr><td>12</td><td>211</td><td>2</td></tr>",
                            "<tr><td>12</td><td>211</td><td>2</td></tr>",
                            "<tr><td>12</td><td>211</td><td>2</td></tr>",
                            "<tr><td>12</td><td>211</td><td>2</td></tr>",
                            "<tr><td>12</td><td>211</td><td>2</td></tr>",
                            "<tr><td>12</td><td>211</td><td>2</td></tr>",
                            "<tr><td>12</td><td>211</td><td>2</td></tr>",
                            "<tr><td>12</td><td>212</td><td>3</td></tr>",
                            "<tr><td>12</td><td>212</td><td>2</td></tr>",
                            "<tr><td>12</td><td>212</td><td>2</td></tr>",
                            "<tr><td>12</td><td>212</td><td>2</td></tr>",
                            "<tr><td>12</td><td>212</td><td>2</td></tr>",
                            "<tr><td>12</td><td>212</td><td>2</td></tr>",
                            "<tr><td>12</td><td>212</td><td>2</td></tr>",
                            "<tr><td>12</td><td>212</td><td>2</td></tr>",
                            "<tr><td>12</td><td>212</td><td>2</td></tr>",
                            "<tr><td>12</td><td>213</td><td>3</td></tr>",
                            "<tr><td>12</td><td>213</td><td>2</td></tr>",
                            "<tr><td>12</td><td>213</td><td>2</td></tr>",
                            "<tr><td>12</td><td>213</td><td>2</td></tr>",
                            "<tr><td>12</td><td>213</td><td>2</td></tr>",
                            "<tr><td>12</td><td>213</td><td>2</td></tr>",
                            "<tr><td>12</td><td>213</td><td>2</td></tr>",
                            "<tr><td>12</td><td>213</td><td>2</td></tr>",
                            "<tr><td>12</td><td>213</td><td>2</td></tr>",
                            "<tr><td>12</td><td>214</td><td>3</td></tr>",
                            "<tr><td>12</td><td>214</td><td>2</td></tr>",
                            "<tr><td>12</td><td>214</td><td>2</td></tr>",
                            "<tr><td>12</td><td>214</td><td>2</td></tr>",
                            "<tr><td>12</td><td>214</td><td>2</td></tr>",
                            "<tr><td>12</td><td>214</td><td>2</td></tr>",
                            "<tr><td>12</td><td>214</td><td>2</td></tr>",
                            "<tr><td>12</td><td>214</td><td>2</td></tr>",
                            "<tr><td>12</td><td>214</td><td>2</td></tr>",
                            "<tr><td>13</td><td>215</td><td>3</td></tr>",
                            "<tr><td>13</td><td>215</td><td>3</td></tr>",
                            "<tr><td>13</td><td>215</td><td>3</td></tr>",
                            "<tr><td>13</td><td>215</td><td>2</td></tr>",
                            "<tr><td>13</td><td>216</td><td>3</td></tr>",
                            "<tr><td>13</td><td>216</td><td>3</td></tr>",
                            "<tr><td>13</td><td>216</td><td>3</td></tr>",
                            "<tr><td>13</td><td>216</td><td>2</td></tr>",
                            "<tr><td>13</td><td>217</td><td>3</td></tr>",
                            "<tr><td>13</td><td>217</td><td>3</td></tr>",
                            "<tr><td>13</td><td>217</td><td>3</td></tr>",
                            "<tr><td>13</td><td>217</td><td>2</td></tr>",
                            "<tr><td>13</td><td>218</td><td>3</td></tr>",
                            "<tr><td>13</td><td>218</td><td>3</td></tr>",
                            "<tr><td>13</td><td>218</td><td>3</td></tr>",
                            "<tr><td>13</td><td>218</td><td>2</td></tr>",
                            "<tr><td>13</td><td>219</td><td>3</td></tr>",
                            "<tr><td>13</td><td>219</td><td>3</td></tr>",
                            "<tr><td>13</td><td>219</td><td>3</td></tr>",
                            "<tr><td>13</td><td>219</td><td>2</td></tr>",
                            "<tr><td>13</td><td>220</td><td>3</td></tr>",
                            "<tr><td>13</td><td>220</td><td>3</td></tr>",
                            "<tr><td>13</td><td>220</td><td>3</td></tr>",
                            "<tr><td>13</td><td>220</td><td>2</td></tr>",
                            "<tr><td>13</td><td>221</td><td>3</td></tr>",
                            "<tr><td>13</td><td>221</td><td>3</td></tr>",
                            "<tr><td>13</td><td>221</td><td>3</td></tr>",
                            "<tr><td>13</td><td>221</td><td>2</td></tr>",
                            "<tr><td>13</td><td>222</td><td>3</td></tr>",
                            "<tr><td>13</td><td>222</td><td>3</td></tr>",
                            "<tr><td>13</td><td>222</td><td>3</td></tr>",
                            "<tr><td>13</td><td>222</td><td>2</td></tr>",
                            "<tr><td>13</td><td>223</td><td>3</td></tr>",
                            "<tr><td>13</td><td>223</td><td>3</td></tr>",
                            "<tr><td>13</td><td>223</td><td>3</td></tr>",
                            "<tr><td>13</td><td>223</td><td>2</td></tr>",
                            "<tr><td>13</td><td>224</td><td>3</td></tr>",
                            "<tr><td>13</td><td>224</td><td>3</td></tr>",
                            "<tr><td>13</td><td>224</td><td>3</td></tr>",
                            "<tr><td>13</td><td>224</td><td>2</td></tr>",
                            "<tr><td>13</td><td>225</td><td>3</td></tr>",
                            "<tr><td>13</td><td>225</td><td>3</td></tr>",
                            "<tr><td>13</td><td>225</td><td>3</td></tr>",
                            "<tr><td>13</td><td>225</td><td>2</td></tr>",
                            "<tr><td>13</td><td>226</td><td>3</td></tr>",
                            "<tr><td>13</td><td>226</td><td>3</td></tr>",
                            "<tr><td>13</td><td>226</td><td>3</td></tr>",
                            "<tr><td>13</td><td>226</td><td>2</td></tr>",
                            "<tr><td>14</td><td>227</td><td>4</td></tr>",
                            "<tr><td>14</td><td>227</td><td>3</td></tr>",
                            "<tr><td>14</td><td>227</td><td>3</td></tr>",
                            "<tr><td>14</td><td>228</td><td>4</td></tr>",
                            "<tr><td>14</td><td>228</td><td>3</td></tr>",
                            "<tr><td>14</td><td>228</td><td>3</td></tr>",
                            "<tr><td>14</td><td>229</td><td>4</td></tr>",
                            "<tr><td>14</td><td>229</td><td>3</td></tr>",
                            "<tr><td>14</td><td>229</td><td>3</td></tr>",
                            "<tr><td>14</td><td>230</td><td>4</td></tr>",
                            "<tr><td>14</td><td>230</td><td>3</td></tr>",
                            "<tr><td>14</td><td>230</td><td>3</td></tr>",
                            "<tr><td>15</td><td>231</td><td>3</td></tr>",
                            "<tr><td>15</td><td>231</td><td>2</td></tr>",
                            "<tr><td>15</td><td>231</td><td>2</td></tr>",
                            "<tr><td>15</td><td>231</td><td>2</td></tr>",
                            "<tr><td>15</td><td>231</td><td>2</td></tr>",
                            "<tr><td>15</td><td>231</td><td>2</td></tr>",
                            "<tr><td>15</td><td>232</td><td>3</td></tr>",
                            "<tr><td>15</td><td>232</td><td>2</td></tr>",
                            "<tr><td>15</td><td>232</td><td>2</td></tr>",
                            "<tr><td>15</td><td>232</td><td>2</td></tr>",
                            "<tr><td>15</td><td>232</td><td>2</td></tr>",
                            "<tr><td>15</td><td>232</td><td>2</td></tr>",
                            "<tr><td>15</td><td>233</td><td>3</td></tr>",
                            "<tr><td>15</td><td>233</td><td>2</td></tr>",
                            "<tr><td>15</td><td>233</td><td>2</td></tr>",
                            "<tr><td>15</td><td>233</td><td>2</td></tr>",
                            "<tr><td>15</td><td>233</td><td>2</td></tr>",
                            "<tr><td>15</td><td>233</td><td>2</td></tr>",
                            "<tr><td>15</td><td>234</td><td>3</td></tr>",
                            "<tr><td>15</td><td>234</td><td>2</td></tr>",
                            "<tr><td>15</td><td>234</td><td>2</td></tr>",
                            "<tr><td>15</td><td>234</td><td>2</td></tr>",
                            "<tr><td>15</td><td>234</td><td>2</td></tr>",
                            "<tr><td>15</td><td>234</td><td>2</td></tr>",
                            "<tr><td>15</td><td>235</td><td>3</td></tr>",
                            "<tr><td>15</td><td>235</td><td>2</td></tr>",
                            "<tr><td>15</td><td>235</td><td>2</td></tr>",
                            "<tr><td>15</td><td>235</td><td>2</td></tr>",
                            "<tr><td>15</td><td>235</td><td>2</td></tr>",
                            "<tr><td>15</td><td>235</td><td>2</td></tr>",
                            "<tr><td>15</td><td>236</td><td>3</td></tr>",
                            "<tr><td>15</td><td>236</td><td>2</td></tr>",
                            "<tr><td>15</td><td>236</td><td>2</td></tr>",
                            "<tr><td>15</td><td>236</td><td>2</td></tr>",
                            "<tr><td>15</td><td>236</td><td>2</td></tr>",
                            "<tr><td>15</td><td>236</td><td>2</td></tr>",
                            "<tr><td>15</td><td>237</td><td>3</td></tr>",
                            "<tr><td>15</td><td>237</td><td>2</td></tr>",
                            "<tr><td>15</td><td>237</td><td>2</td></tr>",
                            "<tr><td>15</td><td>237</td><td>2</td></tr>",
                            "<tr><td>15</td><td>237</td><td>2</td></tr>",
                            "<tr><td>15</td><td>237</td><td>2</td></tr>",
                            "<tr><td>15</td><td>238</td><td>3</td></tr>",
                            "<tr><td>15</td><td>238</td><td>2</td></tr>",
                            "<tr><td>15</td><td>238</td><td>2</td></tr>",
                            "<tr><td>15</td><td>238</td><td>2</td></tr>",
                            "<tr><td>15</td><td>238</td><td>2</td></tr>",
                            "<tr><td>15</td><td>238</td><td>2</td></tr>",
                            "<tr><td>15</td><td>239</td><td>3</td></tr>",
                            "<tr><td>15</td><td>239</td><td>2</td></tr>",
                            "<tr><td>15</td><td>239</td><td>2</td></tr>",
                            "<tr><td>15</td><td>239</td><td>2</td></tr>",
                            "<tr><td>15</td><td>239</td><td>2</td></tr>",
                            "<tr><td>15</td><td>239</td><td>2</td></tr>",
                            "<tr><td>15</td><td>240</td><td>3</td></tr>",
                            "<tr><td>15</td><td>240</td><td>2</td></tr>",
                            "<tr><td>15</td><td>240</td><td>2</td></tr>",
                            "<tr><td>15</td><td>240</td><td>2</td></tr>",
                            "<tr><td>15</td><td>240</td><td>2</td></tr>",
                            "<tr><td>15</td><td>240</td><td>2</td></tr>",
                            "<tr><td>15</td><td>241</td><td>3</td></tr>",
                            "<tr><td>15</td><td>241</td><td>2</td></tr>",
                            "<tr><td>15</td><td>241</td><td>2</td></tr>",
                            "<tr><td>15</td><td>241</td><td>2</td></tr>",
                            "<tr><td>15</td><td>241</td><td>2</td></tr>",
                            "<tr><td>15</td><td>241</td><td>2</td></tr>",
                            "<tr><td>15</td><td>242</td><td>3</td></tr>",
                            "<tr><td>15</td><td>242</td><td>2</td></tr>",
                            "<tr><td>15</td><td>242</td><td>2</td></tr>",
                            "<tr><td>15</td><td>242</td><td>2</td></tr>",
                            "<tr><td>15</td><td>242</td><td>2</td></tr>",
                            "<tr><td>15</td><td>242</td><td>2</td></tr>",
                            "<tr><td>16</td><td>243</td><td>4</td></tr>",
                            "<tr><td>16</td><td>243</td><td>3</td></tr>",
                            "<tr><td>16</td><td>243</td><td>3</td></tr>",
                            "<tr><td>16</td><td>243</td><td>3</td></tr>",
                            "<tr><td>16</td><td>243</td><td>3</td></tr>",
                            "<tr><td>16</td><td>244</td><td>4</td></tr>",
                            "<tr><td>16</td><td>244</td><td>3</td></tr>",
                            "<tr><td>16</td><td>244</td><td>3</td></tr>",
                            "<tr><td>16</td><td>244</td><td>3</td></tr>",
                            "<tr><td>16</td><td>244</td><td>3</td></tr>",
                            "<tr><td>16</td><td>245</td><td>4</td></tr>",
                            "<tr><td>16</td><td>245</td><td>3</td></tr>",
                            "<tr><td>16</td><td>245</td><td>3</td></tr>",
                            "<tr><td>16</td><td>245</td><td>3</td></tr>",
                            "<tr><td>16</td><td>245</td><td>3</td></tr>",
                            "<tr><td>16</td><td>246</td><td>4</td></tr>",
                            "<tr><td>16</td><td>246</td><td>3</td></tr>",
                            "<tr><td>16</td><td>246</td><td>3</td></tr>",
                            "<tr><td>16</td><td>246</td><td>3</td></tr>",
                            "<tr><td>16</td><td>246</td><td>3</td></tr>",
                            "<tr><td>16</td><td>247</td><td>4</td></tr>",
                            "<tr><td>16</td><td>247</td><td>3</td></tr>",
                            "<tr><td>16</td><td>247</td><td>3</td></tr>",
                            "<tr><td>16</td><td>247</td><td>3</td></tr>",
                            "<tr><td>16</td><td>247</td><td>3</td></tr>",
                            "<tr><td>16</td><td>248</td><td>4</td></tr>",
                            "<tr><td>16</td><td>248</td><td>3</td></tr>",
                            "<tr><td>16</td><td>248</td><td>3</td></tr>",
                            "<tr><td>16</td><td>248</td><td>3</td></tr>",
                            "<tr><td>16</td><td>248</td><td>3</td></tr>",
                            "<tr><td>16</td><td>249</td><td>4</td></tr>",
                            "<tr><td>16</td><td>249</td><td>3</td></tr>",
                            "<tr><td>16</td><td>249</td><td>3</td></tr>",
                            "<tr><td>16</td><td>249</td><td>3</td></tr>",
                            "<tr><td>16</td><td>249</td><td>3</td></tr>",
                            "<tr><td>16</td><td>250</td><td>4</td></tr>",
                            "<tr><td>16</td><td>250</td><td>3</td></tr>",
                            "<tr><td>16</td><td>250</td><td>3</td></tr>",
                            "<tr><td>16</td><td>250</td><td>3</td></tr>",
                            "<tr><td>16</td><td>250</td><td>3</td></tr>",
                            "<tr><td>16</td><td>251</td><td>4</td></tr>",
                            "<tr><td>16</td><td>251</td><td>3</td></tr>",
                            "<tr><td>16</td><td>251</td><td>3</td></tr>",
                            "<tr><td>16</td><td>251</td><td>3</td></tr>",
                            "<tr><td>16</td><td>251</td><td>3</td></tr>",
                            "<tr><td>16</td><td>252</td><td>4</td></tr>",
                            "<tr><td>16</td><td>252</td><td>3</td></tr>",
                            "<tr><td>16</td><td>252</td><td>3</td></tr>",
                            "<tr><td>16</td><td>252</td><td>3</td></tr>",
                            "<tr><td>16</td><td>252</td><td>3</td></tr>",
                            "<tr><td>16</td><td>253</td><td>4</td></tr>",
                            "<tr><td>16</td><td>253</td><td>3</td></tr>",
                            "<tr><td>16</td><td>253</td><td>3</td></tr>",
                            "<tr><td>16</td><td>253</td><td>3</td></tr>",
                            "<tr><td>16</td><td>253</td><td>3</td></tr>",
                            "<tr><td>16</td><td>254</td><td>4</td></tr>",
                            "<tr><td>16</td><td>254</td><td>3</td></tr>",
                            "<tr><td>16</td><td>254</td><td>3</td></tr>",
                            "<tr><td>16</td><td>254</td><td>3</td></tr>",
                            "<tr><td>16</td><td>254</td><td>3</td></tr>",
                            "<tr><td>16</td><td>255</td><td>4</td></tr>",
                            "<tr><td>16</td><td>255</td><td>3</td></tr>",
                            "<tr><td>16</td><td>255</td><td>3</td></tr>",
                            "<tr><td>16</td><td>255</td><td>3</td></tr>",
                            "<tr><td>16</td><td>255</td><td>3</td></tr>",
                            "<tr><td>16</td><td>256</td><td>4</td></tr>",
                            "<tr><td>16</td><td>256</td><td>3</td></tr>",
                            "<tr><td>16</td><td>256</td><td>3</td></tr>",
                            "<tr><td>16</td><td>256</td><td>3</td></tr>",
                            "<tr><td>16</td><td>256</td><td>3</td></tr>",
                            "<tr><td>16</td><td>257</td><td>4</td></tr>",
                            "<tr><td>16</td><td>257</td><td>3</td></tr>",
                            "<tr><td>16</td><td>257</td><td>3</td></tr>",
                            "<tr><td>16</td><td>257</td><td>3</td></tr>",
                            "<tr><td>16</td><td>257</td><td>3</td></tr>",
                            "<tr><td>16</td><td>258</td><td>4</td></tr>",
                            "<tr><td>16</td><td>258</td><td>3</td></tr>",
                            "<tr><td>16</td><td>258</td><td>3</td></tr>",
                            "<tr><td>16</td><td>258</td><td>3</td></tr>",
                            "<tr><td>16</td><td>258</td><td>3</td></tr>",
                            "<tr><td>16</td><td>259</td><td>4</td></tr>",
                            "<tr><td>16</td><td>259</td><td>3</td></tr>",
                            "<tr><td>16</td><td>259</td><td>3</td></tr>",
                            "<tr><td>16</td><td>259</td><td>3</td></tr>",
                            "<tr><td>16</td><td>259</td><td>3</td></tr>",
                            "<tr><td>16</td><td>260</td><td>4</td></tr>",
                            "<tr><td>16</td><td>260</td><td>3</td></tr>",
                            "<tr><td>16</td><td>260</td><td>3</td></tr>",
                            "<tr><td>16</td><td>260</td><td>3</td></tr>",
                            "<tr><td>16</td><td>260</td><td>3</td></tr>",
                            "<tr><td>16</td><td>261</td><td>4</td></tr>",
                            "<tr><td>16</td><td>261</td><td>3</td></tr>",
                            "<tr><td>16</td><td>261</td><td>3</td></tr>",
                            "<tr><td>16</td><td>261</td><td>3</td></tr>",
                            "<tr><td>16</td><td>261</td><td>3</td></tr>",
                            "<tr><td>16</td><td>262</td><td>4</td></tr>",
                            "<tr><td>16</td><td>262</td><td>3</td></tr>",
                            "<tr><td>16</td><td>262</td><td>3</td></tr>",
                            "<tr><td>16</td><td>262</td><td>3</td></tr>",
                            "<tr><td>16</td><td>262</td><td>3</td></tr>",
                            "<tr><td>17</td><td>263</td><td>4</td></tr>",
                            "<tr><td>17</td><td>263</td><td>3</td></tr>",
                            "<tr><td>17</td><td>263</td><td>3</td></tr>",
                            "<tr><td>17</td><td>263</td><td>2</td></tr>",
                            "<tr><td>17</td><td>263</td><td>2</td></tr>",
                            "<tr><td>17</td><td>263</td><td>2</td></tr>",
                            "<tr><td>17</td><td>264</td><td>4</td></tr>",
                            "<tr><td>17</td><td>264</td><td>3</td></tr>",
                            "<tr><td>17</td><td>264</td><td>3</td></tr>",
                            "<tr><td>17</td><td>264</td><td>2</td></tr>",
                            "<tr><td>17</td><td>264</td><td>2</td></tr>",
                            "<tr><td>17</td><td>264</td><td>2</td></tr>",
                            "<tr><td>17</td><td>265</td><td>4</td></tr>",
                            "<tr><td>17</td><td>265</td><td>3</td></tr>",
                            "<tr><td>17</td><td>265</td><td>3</td></tr>",
                            "<tr><td>17</td><td>265</td><td>2</td></tr>",
                            "<tr><td>17</td><td>265</td><td>2</td></tr>",
                            "<tr><td>17</td><td>265</td><td>2</td></tr>",
                            "<tr><td>17</td><td>266</td><td>4</td></tr>",
                            "<tr><td>17</td><td>266</td><td>3</td></tr>",
                            "<tr><td>17</td><td>266</td><td>3</td></tr>",
                            "<tr><td>17</td><td>266</td><td>2</td></tr>",
                            "<tr><td>17</td><td>266</td><td>2</td></tr>",
                            "<tr><td>17</td><td>266</td><td>2</td></tr>",
                            "<tr><td>17</td><td>267</td><td>4</td></tr>",
                            "<tr><td>17</td><td>267</td><td>3</td></tr>",
                            "<tr><td>17</td><td>267</td><td>3</td></tr>",
                            "<tr><td>17</td><td>267</td><td>2</td></tr>",
                            "<tr><td>17</td><td>267</td><td>2</td></tr>",
                            "<tr><td>17</td><td>267</td><td>2</td></tr>",
                            "<tr><td>17</td><td>268</td><td>4</td></tr>",
                            "<tr><td>17</td><td>268</td><td>3</td></tr>",
                            "<tr><td>17</td><td>268</td><td>3</td></tr>",
                            "<tr><td>17</td><td>268</td><td>2</td></tr>",
                            "<tr><td>17</td><td>268</td><td>2</td></tr>",
                            "<tr><td>17</td><td>268</td><td>2</td></tr>",
                            "<tr><td>17</td><td>269</td><td>4</td></tr>",
                            "<tr><td>17</td><td>269</td><td>3</td></tr>",
                            "<tr><td>17</td><td>269</td><td>3</td></tr>",
                            "<tr><td>17</td><td>269</td><td>2</td></tr>",
                            "<tr><td>17</td><td>269</td><td>2</td></tr>",
                            "<tr><td>17</td><td>269</td><td>2</td></tr>",
                            "<tr><td>17</td><td>270</td><td>4</td></tr>",
                            "<tr><td>17</td><td>270</td><td>3</td></tr>",
                            "<tr><td>17</td><td>270</td><td>3</td></tr>",
                            "<tr><td>17</td><td>270</td><td>2</td></tr>",
                            "<tr><td>17</td><td>270</td><td>2</td></tr>",
                            "<tr><td>17</td><td>270</td><td>2</td></tr>",
                            "<tr><td>17</td><td>271</td><td>4</td></tr>",
                            "<tr><td>17</td><td>271</td><td>3</td></tr>",
                            "<tr><td>17</td><td>271</td><td>3</td></tr>",
                            "<tr><td>17</td><td>271</td><td>2</td></tr>",
                            "<tr><td>17</td><td>271</td><td>2</td></tr>",
                            "<tr><td>17</td><td>271</td><td>2</td></tr>",
                            "<tr><td>17</td><td>272</td><td>4</td></tr>",
                            "<tr><td>17</td><td>272</td><td>3</td></tr>",
                            "<tr><td>17</td><td>272</td><td>3</td></tr>",
                            "<tr><td>17</td><td>272</td><td>2</td></tr>",
                            "<tr><td>17</td><td>272</td><td>2</td></tr>",
                            "<tr><td>17</td><td>272</td><td>2</td></tr>",
                            "<tr><td>17</td><td>273</td><td>4</td></tr>",
                            "<tr><td>17</td><td>273</td><td>3</td></tr>",
                            "<tr><td>17</td><td>273</td><td>3</td></tr>",
                            "<tr><td>17</td><td>273</td><td>2</td></tr>",
                            "<tr><td>17</td><td>273</td><td>2</td></tr>",
                            "<tr><td>17</td><td>273</td><td>2</td></tr>",
                            "<tr><td>17</td><td>274</td><td>4</td></tr>",
                            "<tr><td>17</td><td>274</td><td>3</td></tr>",
                            "<tr><td>17</td><td>274</td><td>3</td></tr>",
                            "<tr><td>17</td><td>274</td><td>2</td></tr>",
                            "<tr><td>17</td><td>274</td><td>2</td></tr>",
                            "<tr><td>17</td><td>274</td><td>2</td></tr>",
                            "<tr><td>17</td><td>275</td><td>4</td></tr>",
                            "<tr><td>17</td><td>275</td><td>3</td></tr>",
                            "<tr><td>17</td><td>275</td><td>3</td></tr>",
                            "<tr><td>17</td><td>275</td><td>2</td></tr>",
                            "<tr><td>17</td><td>275</td><td>2</td></tr>",
                            "<tr><td>17</td><td>275</td><td>2</td></tr>",
                            "<tr><td>17</td><td>276</td><td>4</td></tr>",
                            "<tr><td>17</td><td>276</td><td>3</td></tr>",
                            "<tr><td>17</td><td>276</td><td>3</td></tr>",
                            "<tr><td>17</td><td>276</td><td>2</td></tr>",
                            "<tr><td>17</td><td>276</td><td>2</td></tr>",
                            "<tr><td>17</td><td>276</td><td>2</td></tr>",
                            "<tr><td>17</td><td>277</td><td>4</td></tr>",
                            "<tr><td>17</td><td>277</td><td>3</td></tr>",
                            "<tr><td>17</td><td>277</td><td>3</td></tr>",
                            "<tr><td>17</td><td>277</td><td>2</td></tr>",
                            "<tr><td>17</td><td>277</td><td>2</td></tr>",
                            "<tr><td>17</td><td>277</td><td>2</td></tr>",
                            "<tr><td>18</td><td>278</td><td>2</td></tr>",
                            "<tr><td>18</td><td>278</td><td>2</td></tr>",
                            "<tr><td>18</td><td>278</td><td>2</td></tr>",
                            "<tr><td>18</td><td>278</td><td>3</td></tr>",
                            "<tr><td>18</td><td>278</td><td>2</td></tr>",
                            "<tr><td>18</td><td>278</td><td>3</td></tr>",
                            "<tr><td>18</td><td>279</td><td>2</td></tr>",
                            "<tr><td>18</td><td>279</td><td>2</td></tr>",
                            "<tr><td>18</td><td>279</td><td>2</td></tr>",
                            "<tr><td>18</td><td>279</td><td>3</td></tr>",
                            "<tr><td>18</td><td>279</td><td>2</td></tr>",
                            "<tr><td>18</td><td>279</td><td>3</td></tr>",
                            "<tr><td>18</td><td>280</td><td>2</td></tr>",
                            "<tr><td>18</td><td>280</td><td>2</td></tr>",
                            "<tr><td>18</td><td>280</td><td>2</td></tr>",
                            "<tr><td>18</td><td>280</td><td>3</td></tr>",
                            "<tr><td>18</td><td>280</td><td>2</td></tr>",
                            "<tr><td>18</td><td>280</td><td>3</td></tr>",
                            "<tr><td>19</td><td>281</td><td>1</td></tr>",
                            "<tr><td>19</td><td>281</td><td>2</td></tr>",
                            "<tr><td>19</td><td>281</td><td>2</td></tr>",
                            "<tr><td>19</td><td>281</td><td>2</td></tr>",
                            "<tr><td>19</td><td>281</td><td>2</td></tr>",
                            "<tr><td>19</td><td>281</td><td>2</td></tr>",
                            "<tr><td>19</td><td>282</td><td>1</td></tr>",
                            "<tr><td>19</td><td>282</td><td>2</td></tr>",
                            "<tr><td>19</td><td>282</td><td>2</td></tr>",
                            "<tr><td>19</td><td>282</td><td>2</td></tr>",
                            "<tr><td>19</td><td>282</td><td>2</td></tr>",
                            "<tr><td>19</td><td>282</td><td>2</td></tr>",
                            "<tr><td>19</td><td>283</td><td>1</td></tr>",
                            "<tr><td>19</td><td>283</td><td>2</td></tr>",
                            "<tr><td>19</td><td>283</td><td>2</td></tr>",
                            "<tr><td>19</td><td>283</td><td>2</td></tr>",
                            "<tr><td>19</td><td>283</td><td>2</td></tr>",
                            "<tr><td>19</td><td>283</td><td>2</td></tr>",
                            "<tr><td>19</td><td>284</td><td>1</td></tr>",
                            "<tr><td>19</td><td>284</td><td>2</td></tr>",
                            "<tr><td>19</td><td>284</td><td>2</td></tr>",
                            "<tr><td>19</td><td>284</td><td>2</td></tr>",
                            "<tr><td>19</td><td>284</td><td>2</td></tr>",
                            "<tr><td>19</td><td>284</td><td>2</td></tr>",
                            "<tr><td>20</td><td>285</td><td>1</td></tr>",
                            "<tr><td>20</td><td>285</td><td>2</td></tr>",
                            "<tr><td>20</td><td>285</td><td>2</td></tr>",
                            "<tr><td>20</td><td>285</td><td>2</td></tr>",
                            "<tr><td>20</td><td>285</td><td>2</td></tr>",
                            "<tr><td>20</td><td>286</td><td>1</td></tr>",
                            "<tr><td>20</td><td>286</td><td>2</td></tr>",
                            "<tr><td>20</td><td>286</td><td>2</td></tr>",
                            "<tr><td>20</td><td>286</td><td>2</td></tr>",
                            "<tr><td>20</td><td>286</td><td>2</td></tr>",
                            "<tr><td>20</td><td>287</td><td>1</td></tr>",
                            "<tr><td>20</td><td>287</td><td>2</td></tr>",
                            "<tr><td>20</td><td>287</td><td>2</td></tr>",
                            "<tr><td>20</td><td>287</td><td>2</td></tr>",
                            "<tr><td>20</td><td>287</td><td>2</td></tr>",
                            "<tr><td>20</td><td>288</td><td>1</td></tr>",
                            "<tr><td>20</td><td>288</td><td>2</td></tr>",
                            "<tr><td>20</td><td>288</td><td>2</td></tr>",
                            "<tr><td>20</td><td>288</td><td>2</td></tr>",
                            "<tr><td>20</td><td>288</td><td>2</td></tr>",
                            "<tr><td>20</td><td>289</td><td>1</td></tr>",
                            "<tr><td>20</td><td>289</td><td>2</td></tr>",
                            "<tr><td>20</td><td>289</td><td>2</td></tr>",
                            "<tr><td>20</td><td>289</td><td>2</td></tr>",
                            "<tr><td>20</td><td>289</td><td>2</td></tr>",
                            "<tr><td>20</td><td>290</td><td>1</td></tr>",
                            "<tr><td>20</td><td>290</td><td>2</td></tr>",
                            "<tr><td>20</td><td>290</td><td>2</td></tr>",
                            "<tr><td>20</td><td>290</td><td>2</td></tr>",
                            "<tr><td>20</td><td>290</td><td>2</td></tr>",
                            "<tr><td>20</td><td>291</td><td>1</td></tr>",
                            "<tr><td>20</td><td>291</td><td>2</td></tr>",
                            "<tr><td>20</td><td>291</td><td>2</td></tr>",
                            "<tr><td>20</td><td>291</td><td>2</td></tr>",
                            "<tr><td>20</td><td>291</td><td>2</td></tr>",
                            "<tr><td>20</td><td>292</td><td>1</td></tr>",
                            "<tr><td>20</td><td>292</td><td>2</td></tr>",
                            "<tr><td>20</td><td>292</td><td>2</td></tr>",
                            "<tr><td>20</td><td>292</td><td>2</td></tr>",
                            "<tr><td>20</td><td>292</td><td>2</td></tr>",
                            "<tr><td>20</td><td>293</td><td>1</td></tr>",
                            "<tr><td>20</td><td>293</td><td>2</td></tr>",
                            "<tr><td>20</td><td>293</td><td>2</td></tr>",
                            "<tr><td>20</td><td>293</td><td>2</td></tr>",
                            "<tr><td>20</td><td>293</td><td>2</td></tr>",
                            "<tr><td>20</td><td>294</td><td>1</td></tr>",
                            "<tr><td>20</td><td>294</td><td>2</td></tr>",
                            "<tr><td>20</td><td>294</td><td>2</td></tr>",
                            "<tr><td>20</td><td>294</td><td>2</td></tr>",
                            "<tr><td>20</td><td>294</td><td>2</td></tr>",
                            "</table>"
                        ]
                    }
                }
            ],
            "execution_count": 63
        },
        {
            "cell_type": "markdown",
            "source": [
                "Jelenítsük meg, hogy hány foglalás történt szobánként, naponta (METTOL), valamint szobánként, azon belül naponta \n",
                "\n",
                "- Szempontonként külön-külön számoljuk a foglalásokat\n",
                "- A foglalások száma minden esetben legalább 2 legyen"
            ],
            "metadata": {
                "azdata_cell_guid": "67d1cdfe-6621-466d-bd03-09320a931fc2"
            },
            "attachments": {}
        },
        {
            "cell_type": "code",
            "source": [
                "select szoba_fk, count(*)\r\n",
                "from Foglalas\r\n",
                "group by szoba_fk\r\n",
                "having count(*)>2\r\n",
                "\r\n",
                "select mettol, count(*)\r\n",
                "from Foglalas\r\n",
                "group by mettol\r\n",
                "having count(*)>2\r\n",
                "\r\n",
                "select szoba_fk, mettol, count(*)\r\n",
                "from Foglalas\r\n",
                "group by szoba_fk, mettol\r\n",
                "having count(*)>2"
            ],
            "metadata": {
                "azdata_cell_guid": "85341eb3-0c54-4ca8-b3d2-a30fe7dd9e4f",
                "language": "sql",
                "tags": []
            },
            "outputs": [
                {
                    "output_type": "display_data",
                    "data": {
                        "text/html": "(178 rows affected)"
                    },
                    "metadata": {}
                },
                {
                    "output_type": "display_data",
                    "data": {
                        "text/html": "(150 rows affected)"
                    },
                    "metadata": {}
                },
                {
                    "output_type": "display_data",
                    "data": {
                        "text/html": "(1 row affected)"
                    },
                    "metadata": {}
                },
                {
                    "output_type": "display_data",
                    "data": {
                        "text/html": "Total execution time: 00:00:00.025"
                    },
                    "metadata": {}
                },
                {
                    "output_type": "execute_result",
                    "metadata": {},
                    "execution_count": 45,
                    "data": {
                        "application/vnd.dataresource+json": {
                            "schema": {
                                "fields": [
                                    {
                                        "name": "szoba_fk"
                                    },
                                    {
                                        "name": "(No column name)"
                                    }
                                ]
                            },
                            "data": [
                                {
                                    "szoba_fk": "23",
                                    "(No column name)": "3"
                                },
                                {
                                    "szoba_fk": "46",
                                    "(No column name)": "4"
                                },
                                {
                                    "szoba_fk": "69",
                                    "(No column name)": "4"
                                },
                                {
                                    "szoba_fk": "92",
                                    "(No column name)": "6"
                                },
                                {
                                    "szoba_fk": "115",
                                    "(No column name)": "7"
                                },
                                {
                                    "szoba_fk": "138",
                                    "(No column name)": "7"
                                },
                                {
                                    "szoba_fk": "161",
                                    "(No column name)": "6"
                                },
                                {
                                    "szoba_fk": "29",
                                    "(No column name)": "6"
                                },
                                {
                                    "szoba_fk": "169",
                                    "(No column name)": "6"
                                },
                                {
                                    "szoba_fk": "175",
                                    "(No column name)": "5"
                                },
                                {
                                    "szoba_fk": "75",
                                    "(No column name)": "3"
                                },
                                {
                                    "szoba_fk": "132",
                                    "(No column name)": "6"
                                },
                                {
                                    "szoba_fk": "9",
                                    "(No column name)": "6"
                                },
                                {
                                    "szoba_fk": "181",
                                    "(No column name)": "6"
                                },
                                {
                                    "szoba_fk": "15",
                                    "(No column name)": "6"
                                },
                                {
                                    "szoba_fk": "109",
                                    "(No column name)": "7"
                                },
                                {
                                    "szoba_fk": "158",
                                    "(No column name)": "3"
                                },
                                {
                                    "szoba_fk": "89",
                                    "(No column name)": "8"
                                },
                                {
                                    "szoba_fk": "195",
                                    "(No column name)": "6"
                                },
                                {
                                    "szoba_fk": "3",
                                    "(No column name)": "8"
                                },
                                {
                                    "szoba_fk": "146",
                                    "(No column name)": "6"
                                },
                                {
                                    "szoba_fk": "152",
                                    "(No column name)": "4"
                                },
                                {
                                    "szoba_fk": "52",
                                    "(No column name)": "5"
                                },
                                {
                                    "szoba_fk": "95",
                                    "(No column name)": "4"
                                },
                                {
                                    "szoba_fk": "189",
                                    "(No column name)": "5"
                                },
                                {
                                    "szoba_fk": "72",
                                    "(No column name)": "4"
                                },
                                {
                                    "szoba_fk": "118",
                                    "(No column name)": "7"
                                },
                                {
                                    "szoba_fk": "172",
                                    "(No column name)": "9"
                                },
                                {
                                    "szoba_fk": "78",
                                    "(No column name)": "6"
                                },
                                {
                                    "szoba_fk": "66",
                                    "(No column name)": "4"
                                },
                                {
                                    "szoba_fk": "126",
                                    "(No column name)": "6"
                                },
                                {
                                    "szoba_fk": "12",
                                    "(No column name)": "9"
                                },
                                {
                                    "szoba_fk": "178",
                                    "(No column name)": "4"
                                },
                                {
                                    "szoba_fk": "35",
                                    "(No column name)": "9"
                                },
                                {
                                    "szoba_fk": "129",
                                    "(No column name)": "4"
                                },
                                {
                                    "szoba_fk": "155",
                                    "(No column name)": "5"
                                },
                                {
                                    "szoba_fk": "106",
                                    "(No column name)": "6"
                                },
                                {
                                    "szoba_fk": "86",
                                    "(No column name)": "5"
                                },
                                {
                                    "szoba_fk": "135",
                                    "(No column name)": "3"
                                },
                                {
                                    "szoba_fk": "63",
                                    "(No column name)": "4"
                                },
                                {
                                    "szoba_fk": "112",
                                    "(No column name)": "5"
                                },
                                {
                                    "szoba_fk": "6",
                                    "(No column name)": "6"
                                },
                                {
                                    "szoba_fk": "43",
                                    "(No column name)": "8"
                                },
                                {
                                    "szoba_fk": "55",
                                    "(No column name)": "8"
                                },
                                {
                                    "szoba_fk": "98",
                                    "(No column name)": "4"
                                },
                                {
                                    "szoba_fk": "49",
                                    "(No column name)": "7"
                                },
                                {
                                    "szoba_fk": "149",
                                    "(No column name)": "7"
                                },
                                {
                                    "szoba_fk": "198",
                                    "(No column name)": "8"
                                },
                                {
                                    "szoba_fk": "190",
                                    "(No column name)": "5"
                                },
                                {
                                    "szoba_fk": "144",
                                    "(No column name)": "5"
                                },
                                {
                                    "szoba_fk": "184",
                                    "(No column name)": "4"
                                },
                                {
                                    "szoba_fk": "113",
                                    "(No column name)": "5"
                                },
                                {
                                    "szoba_fk": "67",
                                    "(No column name)": "6"
                                },
                                {
                                    "szoba_fk": "21",
                                    "(No column name)": "4"
                                },
                                {
                                    "szoba_fk": "27",
                                    "(No column name)": "7"
                                },
                                {
                                    "szoba_fk": "127",
                                    "(No column name)": "7"
                                },
                                {
                                    "szoba_fk": "121",
                                    "(No column name)": "8"
                                },
                                {
                                    "szoba_fk": "173",
                                    "(No column name)": "4"
                                },
                                {
                                    "szoba_fk": "107",
                                    "(No column name)": "5"
                                },
                                {
                                    "szoba_fk": "156",
                                    "(No column name)": "7"
                                },
                                {
                                    "szoba_fk": "58",
                                    "(No column name)": "13"
                                },
                                {
                                    "szoba_fk": "130",
                                    "(No column name)": "6"
                                },
                                {
                                    "szoba_fk": "81",
                                    "(No column name)": "5"
                                },
                                {
                                    "szoba_fk": "64",
                                    "(No column name)": "6"
                                },
                                {
                                    "szoba_fk": "87",
                                    "(No column name)": "5"
                                },
                                {
                                    "szoba_fk": "38",
                                    "(No column name)": "8"
                                },
                                {
                                    "szoba_fk": "101",
                                    "(No column name)": "3"
                                },
                                {
                                    "szoba_fk": "7",
                                    "(No column name)": "6"
                                },
                                {
                                    "szoba_fk": "44",
                                    "(No column name)": "6"
                                },
                                {
                                    "szoba_fk": "193",
                                    "(No column name)": "7"
                                },
                                {
                                    "szoba_fk": "150",
                                    "(No column name)": "6"
                                },
                                {
                                    "szoba_fk": "1",
                                    "(No column name)": "8"
                                },
                                {
                                    "szoba_fk": "50",
                                    "(No column name)": "4"
                                },
                                {
                                    "szoba_fk": "24",
                                    "(No column name)": "3"
                                },
                                {
                                    "szoba_fk": "141",
                                    "(No column name)": "6"
                                },
                                {
                                    "szoba_fk": "70",
                                    "(No column name)": "11"
                                },
                                {
                                    "szoba_fk": "93",
                                    "(No column name)": "5"
                                },
                                {
                                    "szoba_fk": "187",
                                    "(No column name)": "7"
                                },
                                {
                                    "szoba_fk": "164",
                                    "(No column name)": "5"
                                },
                                {
                                    "szoba_fk": "30",
                                    "(No column name)": "3"
                                },
                                {
                                    "szoba_fk": "18",
                                    "(No column name)": "6"
                                },
                                {
                                    "szoba_fk": "170",
                                    "(No column name)": "5"
                                },
                                {
                                    "szoba_fk": "176",
                                    "(No column name)": "6"
                                },
                                {
                                    "szoba_fk": "124",
                                    "(No column name)": "6"
                                },
                                {
                                    "szoba_fk": "84",
                                    "(No column name)": "4"
                                },
                                {
                                    "szoba_fk": "153",
                                    "(No column name)": "5"
                                },
                                {
                                    "szoba_fk": "110",
                                    "(No column name)": "8"
                                },
                                {
                                    "szoba_fk": "10",
                                    "(No column name)": "4"
                                },
                                {
                                    "szoba_fk": "133",
                                    "(No column name)": "6"
                                },
                                {
                                    "szoba_fk": "61",
                                    "(No column name)": "5"
                                },
                                {
                                    "szoba_fk": "196",
                                    "(No column name)": "4"
                                },
                                {
                                    "szoba_fk": "90",
                                    "(No column name)": "4"
                                },
                                {
                                    "szoba_fk": "104",
                                    "(No column name)": "4"
                                },
                                {
                                    "szoba_fk": "4",
                                    "(No column name)": "6"
                                },
                                {
                                    "szoba_fk": "119",
                                    "(No column name)": "5"
                                },
                                {
                                    "szoba_fk": "96",
                                    "(No column name)": "7"
                                },
                                {
                                    "szoba_fk": "165",
                                    "(No column name)": "7"
                                },
                                {
                                    "szoba_fk": "188",
                                    "(No column name)": "6"
                                },
                                {
                                    "szoba_fk": "79",
                                    "(No column name)": "5"
                                },
                                {
                                    "szoba_fk": "19",
                                    "(No column name)": "6"
                                },
                                {
                                    "szoba_fk": "171",
                                    "(No column name)": "5"
                                },
                                {
                                    "szoba_fk": "73",
                                    "(No column name)": "4"
                                },
                                {
                                    "szoba_fk": "36",
                                    "(No column name)": "6"
                                },
                                {
                                    "szoba_fk": "179",
                                    "(No column name)": "3"
                                },
                                {
                                    "szoba_fk": "85",
                                    "(No column name)": "4"
                                },
                                {
                                    "szoba_fk": "136",
                                    "(No column name)": "3"
                                },
                                {
                                    "szoba_fk": "62",
                                    "(No column name)": "5"
                                },
                                {
                                    "szoba_fk": "13",
                                    "(No column name)": "4"
                                },
                                {
                                    "szoba_fk": "42",
                                    "(No column name)": "6"
                                },
                                {
                                    "szoba_fk": "5",
                                    "(No column name)": "4"
                                },
                                {
                                    "szoba_fk": "99",
                                    "(No column name)": "5"
                                },
                                {
                                    "szoba_fk": "148",
                                    "(No column name)": "6"
                                },
                                {
                                    "szoba_fk": "168",
                                    "(No column name)": "5"
                                },
                                {
                                    "szoba_fk": "191",
                                    "(No column name)": "5"
                                },
                                {
                                    "szoba_fk": "139",
                                    "(No column name)": "7"
                                },
                                {
                                    "szoba_fk": "162",
                                    "(No column name)": "3"
                                },
                                {
                                    "szoba_fk": "185",
                                    "(No column name)": "12"
                                },
                                {
                                    "szoba_fk": "128",
                                    "(No column name)": "5"
                                },
                                {
                                    "szoba_fk": "122",
                                    "(No column name)": "9"
                                },
                                {
                                    "szoba_fk": "22",
                                    "(No column name)": "6"
                                },
                                {
                                    "szoba_fk": "76",
                                    "(No column name)": "3"
                                },
                                {
                                    "szoba_fk": "59",
                                    "(No column name)": "7"
                                },
                                {
                                    "szoba_fk": "82",
                                    "(No column name)": "6"
                                },
                                {
                                    "szoba_fk": "39",
                                    "(No column name)": "7"
                                },
                                {
                                    "szoba_fk": "33",
                                    "(No column name)": "6"
                                },
                                {
                                    "szoba_fk": "182",
                                    "(No column name)": "12"
                                },
                                {
                                    "szoba_fk": "16",
                                    "(No column name)": "5"
                                },
                                {
                                    "szoba_fk": "88",
                                    "(No column name)": "8"
                                },
                                {
                                    "szoba_fk": "45",
                                    "(No column name)": "5"
                                },
                                {
                                    "szoba_fk": "145",
                                    "(No column name)": "6"
                                },
                                {
                                    "szoba_fk": "2",
                                    "(No column name)": "4"
                                },
                                {
                                    "szoba_fk": "48",
                                    "(No column name)": "9"
                                },
                                {
                                    "szoba_fk": "71",
                                    "(No column name)": "3"
                                },
                                {
                                    "szoba_fk": "94",
                                    "(No column name)": "10"
                                },
                                {
                                    "szoba_fk": "117",
                                    "(No column name)": "8"
                                },
                                {
                                    "szoba_fk": "140",
                                    "(No column name)": "8"
                                },
                                {
                                    "szoba_fk": "163",
                                    "(No column name)": "7"
                                },
                                {
                                    "szoba_fk": "186",
                                    "(No column name)": "4"
                                },
                                {
                                    "szoba_fk": "77",
                                    "(No column name)": "6"
                                },
                                {
                                    "szoba_fk": "17",
                                    "(No column name)": "6"
                                },
                                {
                                    "szoba_fk": "31",
                                    "(No column name)": "3"
                                },
                                {
                                    "szoba_fk": "123",
                                    "(No column name)": "5"
                                },
                                {
                                    "szoba_fk": "83",
                                    "(No column name)": "8"
                                },
                                {
                                    "szoba_fk": "177",
                                    "(No column name)": "4"
                                },
                                {
                                    "szoba_fk": "154",
                                    "(No column name)": "5"
                                },
                                {
                                    "szoba_fk": "134",
                                    "(No column name)": "6"
                                },
                                {
                                    "szoba_fk": "34",
                                    "(No column name)": "4"
                                },
                                {
                                    "szoba_fk": "40",
                                    "(No column name)": "4"
                                },
                                {
                                    "szoba_fk": "11",
                                    "(No column name)": "4"
                                },
                                {
                                    "szoba_fk": "183",
                                    "(No column name)": "4"
                                },
                                {
                                    "szoba_fk": "111",
                                    "(No column name)": "5"
                                },
                                {
                                    "szoba_fk": "160",
                                    "(No column name)": "5"
                                },
                                {
                                    "szoba_fk": "54",
                                    "(No column name)": "6"
                                },
                                {
                                    "szoba_fk": "91",
                                    "(No column name)": "4"
                                },
                                {
                                    "szoba_fk": "103",
                                    "(No column name)": "4"
                                },
                                {
                                    "szoba_fk": "97",
                                    "(No column name)": "7"
                                },
                                {
                                    "szoba_fk": "197",
                                    "(No column name)": "6"
                                },
                                {
                                    "szoba_fk": "143",
                                    "(No column name)": "7"
                                },
                                {
                                    "szoba_fk": "120",
                                    "(No column name)": "6"
                                },
                                {
                                    "szoba_fk": "166",
                                    "(No column name)": "3"
                                },
                                {
                                    "szoba_fk": "114",
                                    "(No column name)": "4"
                                },
                                {
                                    "szoba_fk": "20",
                                    "(No column name)": "5"
                                },
                                {
                                    "szoba_fk": "68",
                                    "(No column name)": "3"
                                },
                                {
                                    "szoba_fk": "80",
                                    "(No column name)": "7"
                                },
                                {
                                    "szoba_fk": "28",
                                    "(No column name)": "6"
                                },
                                {
                                    "szoba_fk": "174",
                                    "(No column name)": "4"
                                },
                                {
                                    "szoba_fk": "74",
                                    "(No column name)": "9"
                                },
                                {
                                    "szoba_fk": "131",
                                    "(No column name)": "5"
                                },
                                {
                                    "szoba_fk": "180",
                                    "(No column name)": "3"
                                },
                                {
                                    "szoba_fk": "57",
                                    "(No column name)": "4"
                                },
                                {
                                    "szoba_fk": "157",
                                    "(No column name)": "5"
                                },
                                {
                                    "szoba_fk": "14",
                                    "(No column name)": "3"
                                },
                                {
                                    "szoba_fk": "37",
                                    "(No column name)": "3"
                                },
                                {
                                    "szoba_fk": "137",
                                    "(No column name)": "6"
                                },
                                {
                                    "szoba_fk": "8",
                                    "(No column name)": "5"
                                },
                                {
                                    "szoba_fk": "51",
                                    "(No column name)": "5"
                                },
                                {
                                    "szoba_fk": "151",
                                    "(No column name)": "3"
                                },
                                {
                                    "szoba_fk": "100",
                                    "(No column name)": "4"
                                }
                            ]
                        },
                        "text/html": [
                            "<table>",
                            "<tr><th>szoba_fk</th><th>(No column name)</th></tr>",
                            "<tr><td>23</td><td>3</td></tr>",
                            "<tr><td>46</td><td>4</td></tr>",
                            "<tr><td>69</td><td>4</td></tr>",
                            "<tr><td>92</td><td>6</td></tr>",
                            "<tr><td>115</td><td>7</td></tr>",
                            "<tr><td>138</td><td>7</td></tr>",
                            "<tr><td>161</td><td>6</td></tr>",
                            "<tr><td>29</td><td>6</td></tr>",
                            "<tr><td>169</td><td>6</td></tr>",
                            "<tr><td>175</td><td>5</td></tr>",
                            "<tr><td>75</td><td>3</td></tr>",
                            "<tr><td>132</td><td>6</td></tr>",
                            "<tr><td>9</td><td>6</td></tr>",
                            "<tr><td>181</td><td>6</td></tr>",
                            "<tr><td>15</td><td>6</td></tr>",
                            "<tr><td>109</td><td>7</td></tr>",
                            "<tr><td>158</td><td>3</td></tr>",
                            "<tr><td>89</td><td>8</td></tr>",
                            "<tr><td>195</td><td>6</td></tr>",
                            "<tr><td>3</td><td>8</td></tr>",
                            "<tr><td>146</td><td>6</td></tr>",
                            "<tr><td>152</td><td>4</td></tr>",
                            "<tr><td>52</td><td>5</td></tr>",
                            "<tr><td>95</td><td>4</td></tr>",
                            "<tr><td>189</td><td>5</td></tr>",
                            "<tr><td>72</td><td>4</td></tr>",
                            "<tr><td>118</td><td>7</td></tr>",
                            "<tr><td>172</td><td>9</td></tr>",
                            "<tr><td>78</td><td>6</td></tr>",
                            "<tr><td>66</td><td>4</td></tr>",
                            "<tr><td>126</td><td>6</td></tr>",
                            "<tr><td>12</td><td>9</td></tr>",
                            "<tr><td>178</td><td>4</td></tr>",
                            "<tr><td>35</td><td>9</td></tr>",
                            "<tr><td>129</td><td>4</td></tr>",
                            "<tr><td>155</td><td>5</td></tr>",
                            "<tr><td>106</td><td>6</td></tr>",
                            "<tr><td>86</td><td>5</td></tr>",
                            "<tr><td>135</td><td>3</td></tr>",
                            "<tr><td>63</td><td>4</td></tr>",
                            "<tr><td>112</td><td>5</td></tr>",
                            "<tr><td>6</td><td>6</td></tr>",
                            "<tr><td>43</td><td>8</td></tr>",
                            "<tr><td>55</td><td>8</td></tr>",
                            "<tr><td>98</td><td>4</td></tr>",
                            "<tr><td>49</td><td>7</td></tr>",
                            "<tr><td>149</td><td>7</td></tr>",
                            "<tr><td>198</td><td>8</td></tr>",
                            "<tr><td>190</td><td>5</td></tr>",
                            "<tr><td>144</td><td>5</td></tr>",
                            "<tr><td>184</td><td>4</td></tr>",
                            "<tr><td>113</td><td>5</td></tr>",
                            "<tr><td>67</td><td>6</td></tr>",
                            "<tr><td>21</td><td>4</td></tr>",
                            "<tr><td>27</td><td>7</td></tr>",
                            "<tr><td>127</td><td>7</td></tr>",
                            "<tr><td>121</td><td>8</td></tr>",
                            "<tr><td>173</td><td>4</td></tr>",
                            "<tr><td>107</td><td>5</td></tr>",
                            "<tr><td>156</td><td>7</td></tr>",
                            "<tr><td>58</td><td>13</td></tr>",
                            "<tr><td>130</td><td>6</td></tr>",
                            "<tr><td>81</td><td>5</td></tr>",
                            "<tr><td>64</td><td>6</td></tr>",
                            "<tr><td>87</td><td>5</td></tr>",
                            "<tr><td>38</td><td>8</td></tr>",
                            "<tr><td>101</td><td>3</td></tr>",
                            "<tr><td>7</td><td>6</td></tr>",
                            "<tr><td>44</td><td>6</td></tr>",
                            "<tr><td>193</td><td>7</td></tr>",
                            "<tr><td>150</td><td>6</td></tr>",
                            "<tr><td>1</td><td>8</td></tr>",
                            "<tr><td>50</td><td>4</td></tr>",
                            "<tr><td>24</td><td>3</td></tr>",
                            "<tr><td>141</td><td>6</td></tr>",
                            "<tr><td>70</td><td>11</td></tr>",
                            "<tr><td>93</td><td>5</td></tr>",
                            "<tr><td>187</td><td>7</td></tr>",
                            "<tr><td>164</td><td>5</td></tr>",
                            "<tr><td>30</td><td>3</td></tr>",
                            "<tr><td>18</td><td>6</td></tr>",
                            "<tr><td>170</td><td>5</td></tr>",
                            "<tr><td>176</td><td>6</td></tr>",
                            "<tr><td>124</td><td>6</td></tr>",
                            "<tr><td>84</td><td>4</td></tr>",
                            "<tr><td>153</td><td>5</td></tr>",
                            "<tr><td>110</td><td>8</td></tr>",
                            "<tr><td>10</td><td>4</td></tr>",
                            "<tr><td>133</td><td>6</td></tr>",
                            "<tr><td>61</td><td>5</td></tr>",
                            "<tr><td>196</td><td>4</td></tr>",
                            "<tr><td>90</td><td>4</td></tr>",
                            "<tr><td>104</td><td>4</td></tr>",
                            "<tr><td>4</td><td>6</td></tr>",
                            "<tr><td>119</td><td>5</td></tr>",
                            "<tr><td>96</td><td>7</td></tr>",
                            "<tr><td>165</td><td>7</td></tr>",
                            "<tr><td>188</td><td>6</td></tr>",
                            "<tr><td>79</td><td>5</td></tr>",
                            "<tr><td>19</td><td>6</td></tr>",
                            "<tr><td>171</td><td>5</td></tr>",
                            "<tr><td>73</td><td>4</td></tr>",
                            "<tr><td>36</td><td>6</td></tr>",
                            "<tr><td>179</td><td>3</td></tr>",
                            "<tr><td>85</td><td>4</td></tr>",
                            "<tr><td>136</td><td>3</td></tr>",
                            "<tr><td>62</td><td>5</td></tr>",
                            "<tr><td>13</td><td>4</td></tr>",
                            "<tr><td>42</td><td>6</td></tr>",
                            "<tr><td>5</td><td>4</td></tr>",
                            "<tr><td>99</td><td>5</td></tr>",
                            "<tr><td>148</td><td>6</td></tr>",
                            "<tr><td>168</td><td>5</td></tr>",
                            "<tr><td>191</td><td>5</td></tr>",
                            "<tr><td>139</td><td>7</td></tr>",
                            "<tr><td>162</td><td>3</td></tr>",
                            "<tr><td>185</td><td>12</td></tr>",
                            "<tr><td>128</td><td>5</td></tr>",
                            "<tr><td>122</td><td>9</td></tr>",
                            "<tr><td>22</td><td>6</td></tr>",
                            "<tr><td>76</td><td>3</td></tr>",
                            "<tr><td>59</td><td>7</td></tr>",
                            "<tr><td>82</td><td>6</td></tr>",
                            "<tr><td>39</td><td>7</td></tr>",
                            "<tr><td>33</td><td>6</td></tr>",
                            "<tr><td>182</td><td>12</td></tr>",
                            "<tr><td>16</td><td>5</td></tr>",
                            "<tr><td>88</td><td>8</td></tr>",
                            "<tr><td>45</td><td>5</td></tr>",
                            "<tr><td>145</td><td>6</td></tr>",
                            "<tr><td>2</td><td>4</td></tr>",
                            "<tr><td>48</td><td>9</td></tr>",
                            "<tr><td>71</td><td>3</td></tr>",
                            "<tr><td>94</td><td>10</td></tr>",
                            "<tr><td>117</td><td>8</td></tr>",
                            "<tr><td>140</td><td>8</td></tr>",
                            "<tr><td>163</td><td>7</td></tr>",
                            "<tr><td>186</td><td>4</td></tr>",
                            "<tr><td>77</td><td>6</td></tr>",
                            "<tr><td>17</td><td>6</td></tr>",
                            "<tr><td>31</td><td>3</td></tr>",
                            "<tr><td>123</td><td>5</td></tr>",
                            "<tr><td>83</td><td>8</td></tr>",
                            "<tr><td>177</td><td>4</td></tr>",
                            "<tr><td>154</td><td>5</td></tr>",
                            "<tr><td>134</td><td>6</td></tr>",
                            "<tr><td>34</td><td>4</td></tr>",
                            "<tr><td>40</td><td>4</td></tr>",
                            "<tr><td>11</td><td>4</td></tr>",
                            "<tr><td>183</td><td>4</td></tr>",
                            "<tr><td>111</td><td>5</td></tr>",
                            "<tr><td>160</td><td>5</td></tr>",
                            "<tr><td>54</td><td>6</td></tr>",
                            "<tr><td>91</td><td>4</td></tr>",
                            "<tr><td>103</td><td>4</td></tr>",
                            "<tr><td>97</td><td>7</td></tr>",
                            "<tr><td>197</td><td>6</td></tr>",
                            "<tr><td>143</td><td>7</td></tr>",
                            "<tr><td>120</td><td>6</td></tr>",
                            "<tr><td>166</td><td>3</td></tr>",
                            "<tr><td>114</td><td>4</td></tr>",
                            "<tr><td>20</td><td>5</td></tr>",
                            "<tr><td>68</td><td>3</td></tr>",
                            "<tr><td>80</td><td>7</td></tr>",
                            "<tr><td>28</td><td>6</td></tr>",
                            "<tr><td>174</td><td>4</td></tr>",
                            "<tr><td>74</td><td>9</td></tr>",
                            "<tr><td>131</td><td>5</td></tr>",
                            "<tr><td>180</td><td>3</td></tr>",
                            "<tr><td>57</td><td>4</td></tr>",
                            "<tr><td>157</td><td>5</td></tr>",
                            "<tr><td>14</td><td>3</td></tr>",
                            "<tr><td>37</td><td>3</td></tr>",
                            "<tr><td>137</td><td>6</td></tr>",
                            "<tr><td>8</td><td>5</td></tr>",
                            "<tr><td>51</td><td>5</td></tr>",
                            "<tr><td>151</td><td>3</td></tr>",
                            "<tr><td>100</td><td>4</td></tr>",
                            "</table>"
                        ]
                    }
                },
                {
                    "output_type": "execute_result",
                    "metadata": {},
                    "execution_count": 45,
                    "data": {
                        "application/vnd.dataresource+json": {
                            "schema": {
                                "fields": [
                                    {
                                        "name": "mettol"
                                    },
                                    {
                                        "name": "(No column name)"
                                    }
                                ]
                            },
                            "data": [
                                {
                                    "mettol": "2016-11-16",
                                    "(No column name)": "4"
                                },
                                {
                                    "mettol": "2017-01-01",
                                    "(No column name)": "4"
                                },
                                {
                                    "mettol": "2017-02-16",
                                    "(No column name)": "9"
                                },
                                {
                                    "mettol": "2016-12-15",
                                    "(No column name)": "3"
                                },
                                {
                                    "mettol": "2016-10-30",
                                    "(No column name)": "14"
                                },
                                {
                                    "mettol": "2016-06-06",
                                    "(No column name)": "14"
                                },
                                {
                                    "mettol": "2016-07-22",
                                    "(No column name)": "4"
                                },
                                {
                                    "mettol": "2016-10-24",
                                    "(No column name)": "3"
                                },
                                {
                                    "mettol": "2016-09-17",
                                    "(No column name)": "4"
                                },
                                {
                                    "mettol": "2016-04-27",
                                    "(No column name)": "3"
                                },
                                {
                                    "mettol": "2016-11-25",
                                    "(No column name)": "6"
                                },
                                {
                                    "mettol": "2016-05-17",
                                    "(No column name)": "3"
                                },
                                {
                                    "mettol": "2016-07-30",
                                    "(No column name)": "4"
                                },
                                {
                                    "mettol": "2016-11-05",
                                    "(No column name)": "8"
                                },
                                {
                                    "mettol": "2016-08-25",
                                    "(No column name)": "3"
                                },
                                {
                                    "mettol": "2016-12-26",
                                    "(No column name)": "3"
                                },
                                {
                                    "mettol": "2016-09-23",
                                    "(No column name)": "4"
                                },
                                {
                                    "mettol": "2016-08-05",
                                    "(No column name)": "3"
                                },
                                {
                                    "mettol": "2016-06-23",
                                    "(No column name)": "4"
                                },
                                {
                                    "mettol": "2016-10-01",
                                    "(No column name)": "18"
                                },
                                {
                                    "mettol": "2016-11-19",
                                    "(No column name)": "8"
                                },
                                {
                                    "mettol": "2016-06-03",
                                    "(No column name)": "9"
                                },
                                {
                                    "mettol": "2016-10-21",
                                    "(No column name)": "4"
                                },
                                {
                                    "mettol": "2016-12-06",
                                    "(No column name)": "5"
                                },
                                {
                                    "mettol": "2016-12-29",
                                    "(No column name)": "5"
                                },
                                {
                                    "mettol": "2017-02-13",
                                    "(No column name)": "5"
                                },
                                {
                                    "mettol": "2016-04-10",
                                    "(No column name)": "9"
                                },
                                {
                                    "mettol": "2016-06-09",
                                    "(No column name)": "3"
                                },
                                {
                                    "mettol": "2016-07-13",
                                    "(No column name)": "5"
                                },
                                {
                                    "mettol": "2017-02-04",
                                    "(No column name)": "6"
                                },
                                {
                                    "mettol": "2016-10-27",
                                    "(No column name)": "4"
                                },
                                {
                                    "mettol": "2016-07-19",
                                    "(No column name)": "3"
                                },
                                {
                                    "mettol": "2016-08-28",
                                    "(No column name)": "5"
                                },
                                {
                                    "mettol": "2016-04-24",
                                    "(No column name)": "3"
                                },
                                {
                                    "mettol": "2017-02-24",
                                    "(No column name)": "5"
                                },
                                {
                                    "mettol": "2016-10-04",
                                    "(No column name)": "3"
                                },
                                {
                                    "mettol": "2016-11-22",
                                    "(No column name)": "6"
                                },
                                {
                                    "mettol": "2016-05-14",
                                    "(No column name)": "4"
                                },
                                {
                                    "mettol": "2016-05-08",
                                    "(No column name)": "5"
                                },
                                {
                                    "mettol": "2016-08-14",
                                    "(No column name)": "3"
                                },
                                {
                                    "mettol": "2016-06-27",
                                    "(No column name)": "3"
                                },
                                {
                                    "mettol": "2016-10-22",
                                    "(No column name)": "4"
                                },
                                {
                                    "mettol": "2016-06-04",
                                    "(No column name)": "6"
                                },
                                {
                                    "mettol": "2016-05-12",
                                    "(No column name)": "3"
                                },
                                {
                                    "mettol": "2016-12-07",
                                    "(No column name)": "3"
                                },
                                {
                                    "mettol": "2016-04-19",
                                    "(No column name)": "4"
                                },
                                {
                                    "mettol": "2017-01-22",
                                    "(No column name)": "7"
                                },
                                {
                                    "mettol": "2016-07-14",
                                    "(No column name)": "6"
                                },
                                {
                                    "mettol": "2016-10-16",
                                    "(No column name)": "3"
                                },
                                {
                                    "mettol": "2016-10-28",
                                    "(No column name)": "6"
                                },
                                {
                                    "mettol": "2016-08-29",
                                    "(No column name)": "6"
                                },
                                {
                                    "mettol": "2016-09-12",
                                    "(No column name)": "3"
                                },
                                {
                                    "mettol": "2016-05-29",
                                    "(No column name)": "3"
                                },
                                {
                                    "mettol": "2017-01-30",
                                    "(No column name)": "3"
                                },
                                {
                                    "mettol": "2017-02-05",
                                    "(No column name)": "5"
                                },
                                {
                                    "mettol": "2016-12-24",
                                    "(No column name)": "3"
                                },
                                {
                                    "mettol": "2016-07-28",
                                    "(No column name)": "7"
                                },
                                {
                                    "mettol": "2016-08-03",
                                    "(No column name)": "4"
                                },
                                {
                                    "mettol": "2016-09-15",
                                    "(No column name)": "3"
                                },
                                {
                                    "mettol": "2016-08-23",
                                    "(No column name)": "5"
                                },
                                {
                                    "mettol": "2017-01-19",
                                    "(No column name)": "3"
                                },
                                {
                                    "mettol": "2016-08-17",
                                    "(No column name)": "4"
                                },
                                {
                                    "mettol": "2016-05-09",
                                    "(No column name)": "7"
                                },
                                {
                                    "mettol": "2016-12-04",
                                    "(No column name)": "3"
                                },
                                {
                                    "mettol": "2016-06-07",
                                    "(No column name)": "11"
                                },
                                {
                                    "mettol": "2016-10-19",
                                    "(No column name)": "4"
                                },
                                {
                                    "mettol": "2016-07-17",
                                    "(No column name)": "3"
                                },
                                {
                                    "mettol": "2016-07-08",
                                    "(No column name)": "3"
                                },
                                {
                                    "mettol": "2016-11-28",
                                    "(No column name)": "3"
                                },
                                {
                                    "mettol": "2017-02-08",
                                    "(No column name)": "5"
                                },
                                {
                                    "mettol": "2016-10-08",
                                    "(No column name)": "7"
                                },
                                {
                                    "mettol": "2017-01-16",
                                    "(No column name)": "8"
                                },
                                {
                                    "mettol": "2016-11-08",
                                    "(No column name)": "4"
                                },
                                {
                                    "mettol": "2016-09-18",
                                    "(No column name)": "4"
                                },
                                {
                                    "mettol": "2016-08-20",
                                    "(No column name)": "5"
                                },
                                {
                                    "mettol": "2016-08-06",
                                    "(No column name)": "3"
                                },
                                {
                                    "mettol": "2016-07-20",
                                    "(No column name)": "10"
                                },
                                {
                                    "mettol": "2016-06-02",
                                    "(No column name)": "4"
                                },
                                {
                                    "mettol": "2017-02-20",
                                    "(No column name)": "4"
                                },
                                {
                                    "mettol": "2017-02-14",
                                    "(No column name)": "3"
                                },
                                {
                                    "mettol": "2016-05-27",
                                    "(No column name)": "3"
                                },
                                {
                                    "mettol": "2016-12-05",
                                    "(No column name)": "4"
                                },
                                {
                                    "mettol": "2016-07-12",
                                    "(No column name)": "3"
                                },
                                {
                                    "mettol": "2016-10-20",
                                    "(No column name)": "4"
                                },
                                {
                                    "mettol": "2017-01-28",
                                    "(No column name)": "3"
                                },
                                {
                                    "mettol": "2017-02-03",
                                    "(No column name)": "3"
                                },
                                {
                                    "mettol": "2016-08-01",
                                    "(No column name)": "4"
                                },
                                {
                                    "mettol": "2016-05-21",
                                    "(No column name)": "5"
                                },
                                {
                                    "mettol": "2016-11-03",
                                    "(No column name)": "7"
                                },
                                {
                                    "mettol": "2016-12-22",
                                    "(No column name)": "3"
                                },
                                {
                                    "mettol": "2017-01-17",
                                    "(No column name)": "5"
                                },
                                {
                                    "mettol": "2016-06-13",
                                    "(No column name)": "5"
                                },
                                {
                                    "mettol": "2016-11-29",
                                    "(No column name)": "4"
                                },
                                {
                                    "mettol": "2016-07-03",
                                    "(No column name)": "5"
                                },
                                {
                                    "mettol": "2016-11-09",
                                    "(No column name)": "3"
                                },
                                {
                                    "mettol": "2016-11-23",
                                    "(No column name)": "8"
                                },
                                {
                                    "mettol": "2016-05-01",
                                    "(No column name)": "5"
                                },
                                {
                                    "mettol": "2017-01-05",
                                    "(No column name)": "3"
                                },
                                {
                                    "mettol": "2016-10-03",
                                    "(No column name)": "3"
                                },
                                {
                                    "mettol": "2017-02-23",
                                    "(No column name)": "6"
                                },
                                {
                                    "mettol": "2016-10-23",
                                    "(No column name)": "7"
                                },
                                {
                                    "mettol": "2016-11-15",
                                    "(No column name)": "3"
                                },
                                {
                                    "mettol": "2016-10-17",
                                    "(No column name)": "3"
                                },
                                {
                                    "mettol": "2016-09-13",
                                    "(No column name)": "4"
                                },
                                {
                                    "mettol": "2016-05-30",
                                    "(No column name)": "11"
                                },
                                {
                                    "mettol": "2016-06-16",
                                    "(No column name)": "8"
                                },
                                {
                                    "mettol": "2016-05-24",
                                    "(No column name)": "4"
                                },
                                {
                                    "mettol": "2017-02-06",
                                    "(No column name)": "3"
                                },
                                {
                                    "mettol": "2016-06-10",
                                    "(No column name)": "10"
                                },
                                {
                                    "mettol": "2016-12-02",
                                    "(No column name)": "3"
                                },
                                {
                                    "mettol": "2016-05-18",
                                    "(No column name)": "4"
                                },
                                {
                                    "mettol": "2016-08-24",
                                    "(No column name)": "10"
                                },
                                {
                                    "mettol": "2016-07-06",
                                    "(No column name)": "3"
                                },
                                {
                                    "mettol": "2016-11-06",
                                    "(No column name)": "3"
                                },
                                {
                                    "mettol": "2016-12-25",
                                    "(No column name)": "9"
                                },
                                {
                                    "mettol": "2016-06-30",
                                    "(No column name)": "3"
                                },
                                {
                                    "mettol": "2016-06-22",
                                    "(No column name)": "4"
                                },
                                {
                                    "mettol": "2017-02-26",
                                    "(No column name)": "4"
                                },
                                {
                                    "mettol": "2016-08-12",
                                    "(No column name)": "6"
                                },
                                {
                                    "mettol": "2016-09-30",
                                    "(No column name)": "8"
                                },
                                {
                                    "mettol": "2017-01-03",
                                    "(No column name)": "3"
                                },
                                {
                                    "mettol": "2017-02-18",
                                    "(No column name)": "4"
                                },
                                {
                                    "mettol": "2016-06-08",
                                    "(No column name)": "4"
                                },
                                {
                                    "mettol": "2016-12-17",
                                    "(No column name)": "10"
                                },
                                {
                                    "mettol": "2016-07-24",
                                    "(No column name)": "5"
                                },
                                {
                                    "mettol": "2016-10-26",
                                    "(No column name)": "12"
                                },
                                {
                                    "mettol": "2016-09-02",
                                    "(No column name)": "3"
                                },
                                {
                                    "mettol": "2016-09-08",
                                    "(No column name)": "3"
                                },
                                {
                                    "mettol": "2016-07-18",
                                    "(No column name)": "7"
                                },
                                {
                                    "mettol": "2016-11-27",
                                    "(No column name)": "3"
                                },
                                {
                                    "mettol": "2016-04-06",
                                    "(No column name)": "5"
                                },
                                {
                                    "mettol": "2016-11-01",
                                    "(No column name)": "3"
                                },
                                {
                                    "mettol": "2016-11-07",
                                    "(No column name)": "6"
                                },
                                {
                                    "mettol": "2016-10-09",
                                    "(No column name)": "11"
                                },
                                {
                                    "mettol": "2016-10-15",
                                    "(No column name)": "6"
                                },
                                {
                                    "mettol": "2016-09-19",
                                    "(No column name)": "4"
                                },
                                {
                                    "mettol": "2017-01-09",
                                    "(No column name)": "5"
                                },
                                {
                                    "mettol": "2016-07-01",
                                    "(No column name)": "5"
                                },
                                {
                                    "mettol": "2017-02-21",
                                    "(No column name)": "3"
                                },
                                {
                                    "mettol": "2017-01-23",
                                    "(No column name)": "4"
                                },
                                {
                                    "mettol": "2016-05-28",
                                    "(No column name)": "8"
                                },
                                {
                                    "mettol": "2016-10-29",
                                    "(No column name)": "5"
                                },
                                {
                                    "mettol": "2016-07-27",
                                    "(No column name)": "11"
                                },
                                {
                                    "mettol": "2016-09-05",
                                    "(No column name)": "7"
                                },
                                {
                                    "mettol": "2016-07-04",
                                    "(No column name)": "5"
                                },
                                {
                                    "mettol": "2016-09-16",
                                    "(No column name)": "3"
                                },
                                {
                                    "mettol": "2017-02-12",
                                    "(No column name)": "9"
                                },
                                {
                                    "mettol": "2016-11-10",
                                    "(No column name)": "4"
                                },
                                {
                                    "mettol": "2016-08-16",
                                    "(No column name)": "12"
                                },
                                {
                                    "mettol": "2016-09-28",
                                    "(No column name)": "3"
                                }
                            ]
                        },
                        "text/html": [
                            "<table>",
                            "<tr><th>mettol</th><th>(No column name)</th></tr>",
                            "<tr><td>2016-11-16</td><td>4</td></tr>",
                            "<tr><td>2017-01-01</td><td>4</td></tr>",
                            "<tr><td>2017-02-16</td><td>9</td></tr>",
                            "<tr><td>2016-12-15</td><td>3</td></tr>",
                            "<tr><td>2016-10-30</td><td>14</td></tr>",
                            "<tr><td>2016-06-06</td><td>14</td></tr>",
                            "<tr><td>2016-07-22</td><td>4</td></tr>",
                            "<tr><td>2016-10-24</td><td>3</td></tr>",
                            "<tr><td>2016-09-17</td><td>4</td></tr>",
                            "<tr><td>2016-04-27</td><td>3</td></tr>",
                            "<tr><td>2016-11-25</td><td>6</td></tr>",
                            "<tr><td>2016-05-17</td><td>3</td></tr>",
                            "<tr><td>2016-07-30</td><td>4</td></tr>",
                            "<tr><td>2016-11-05</td><td>8</td></tr>",
                            "<tr><td>2016-08-25</td><td>3</td></tr>",
                            "<tr><td>2016-12-26</td><td>3</td></tr>",
                            "<tr><td>2016-09-23</td><td>4</td></tr>",
                            "<tr><td>2016-08-05</td><td>3</td></tr>",
                            "<tr><td>2016-06-23</td><td>4</td></tr>",
                            "<tr><td>2016-10-01</td><td>18</td></tr>",
                            "<tr><td>2016-11-19</td><td>8</td></tr>",
                            "<tr><td>2016-06-03</td><td>9</td></tr>",
                            "<tr><td>2016-10-21</td><td>4</td></tr>",
                            "<tr><td>2016-12-06</td><td>5</td></tr>",
                            "<tr><td>2016-12-29</td><td>5</td></tr>",
                            "<tr><td>2017-02-13</td><td>5</td></tr>",
                            "<tr><td>2016-04-10</td><td>9</td></tr>",
                            "<tr><td>2016-06-09</td><td>3</td></tr>",
                            "<tr><td>2016-07-13</td><td>5</td></tr>",
                            "<tr><td>2017-02-04</td><td>6</td></tr>",
                            "<tr><td>2016-10-27</td><td>4</td></tr>",
                            "<tr><td>2016-07-19</td><td>3</td></tr>",
                            "<tr><td>2016-08-28</td><td>5</td></tr>",
                            "<tr><td>2016-04-24</td><td>3</td></tr>",
                            "<tr><td>2017-02-24</td><td>5</td></tr>",
                            "<tr><td>2016-10-04</td><td>3</td></tr>",
                            "<tr><td>2016-11-22</td><td>6</td></tr>",
                            "<tr><td>2016-05-14</td><td>4</td></tr>",
                            "<tr><td>2016-05-08</td><td>5</td></tr>",
                            "<tr><td>2016-08-14</td><td>3</td></tr>",
                            "<tr><td>2016-06-27</td><td>3</td></tr>",
                            "<tr><td>2016-10-22</td><td>4</td></tr>",
                            "<tr><td>2016-06-04</td><td>6</td></tr>",
                            "<tr><td>2016-05-12</td><td>3</td></tr>",
                            "<tr><td>2016-12-07</td><td>3</td></tr>",
                            "<tr><td>2016-04-19</td><td>4</td></tr>",
                            "<tr><td>2017-01-22</td><td>7</td></tr>",
                            "<tr><td>2016-07-14</td><td>6</td></tr>",
                            "<tr><td>2016-10-16</td><td>3</td></tr>",
                            "<tr><td>2016-10-28</td><td>6</td></tr>",
                            "<tr><td>2016-08-29</td><td>6</td></tr>",
                            "<tr><td>2016-09-12</td><td>3</td></tr>",
                            "<tr><td>2016-05-29</td><td>3</td></tr>",
                            "<tr><td>2017-01-30</td><td>3</td></tr>",
                            "<tr><td>2017-02-05</td><td>5</td></tr>",
                            "<tr><td>2016-12-24</td><td>3</td></tr>",
                            "<tr><td>2016-07-28</td><td>7</td></tr>",
                            "<tr><td>2016-08-03</td><td>4</td></tr>",
                            "<tr><td>2016-09-15</td><td>3</td></tr>",
                            "<tr><td>2016-08-23</td><td>5</td></tr>",
                            "<tr><td>2017-01-19</td><td>3</td></tr>",
                            "<tr><td>2016-08-17</td><td>4</td></tr>",
                            "<tr><td>2016-05-09</td><td>7</td></tr>",
                            "<tr><td>2016-12-04</td><td>3</td></tr>",
                            "<tr><td>2016-06-07</td><td>11</td></tr>",
                            "<tr><td>2016-10-19</td><td>4</td></tr>",
                            "<tr><td>2016-07-17</td><td>3</td></tr>",
                            "<tr><td>2016-07-08</td><td>3</td></tr>",
                            "<tr><td>2016-11-28</td><td>3</td></tr>",
                            "<tr><td>2017-02-08</td><td>5</td></tr>",
                            "<tr><td>2016-10-08</td><td>7</td></tr>",
                            "<tr><td>2017-01-16</td><td>8</td></tr>",
                            "<tr><td>2016-11-08</td><td>4</td></tr>",
                            "<tr><td>2016-09-18</td><td>4</td></tr>",
                            "<tr><td>2016-08-20</td><td>5</td></tr>",
                            "<tr><td>2016-08-06</td><td>3</td></tr>",
                            "<tr><td>2016-07-20</td><td>10</td></tr>",
                            "<tr><td>2016-06-02</td><td>4</td></tr>",
                            "<tr><td>2017-02-20</td><td>4</td></tr>",
                            "<tr><td>2017-02-14</td><td>3</td></tr>",
                            "<tr><td>2016-05-27</td><td>3</td></tr>",
                            "<tr><td>2016-12-05</td><td>4</td></tr>",
                            "<tr><td>2016-07-12</td><td>3</td></tr>",
                            "<tr><td>2016-10-20</td><td>4</td></tr>",
                            "<tr><td>2017-01-28</td><td>3</td></tr>",
                            "<tr><td>2017-02-03</td><td>3</td></tr>",
                            "<tr><td>2016-08-01</td><td>4</td></tr>",
                            "<tr><td>2016-05-21</td><td>5</td></tr>",
                            "<tr><td>2016-11-03</td><td>7</td></tr>",
                            "<tr><td>2016-12-22</td><td>3</td></tr>",
                            "<tr><td>2017-01-17</td><td>5</td></tr>",
                            "<tr><td>2016-06-13</td><td>5</td></tr>",
                            "<tr><td>2016-11-29</td><td>4</td></tr>",
                            "<tr><td>2016-07-03</td><td>5</td></tr>",
                            "<tr><td>2016-11-09</td><td>3</td></tr>",
                            "<tr><td>2016-11-23</td><td>8</td></tr>",
                            "<tr><td>2016-05-01</td><td>5</td></tr>",
                            "<tr><td>2017-01-05</td><td>3</td></tr>",
                            "<tr><td>2016-10-03</td><td>3</td></tr>",
                            "<tr><td>2017-02-23</td><td>6</td></tr>",
                            "<tr><td>2016-10-23</td><td>7</td></tr>",
                            "<tr><td>2016-11-15</td><td>3</td></tr>",
                            "<tr><td>2016-10-17</td><td>3</td></tr>",
                            "<tr><td>2016-09-13</td><td>4</td></tr>",
                            "<tr><td>2016-05-30</td><td>11</td></tr>",
                            "<tr><td>2016-06-16</td><td>8</td></tr>",
                            "<tr><td>2016-05-24</td><td>4</td></tr>",
                            "<tr><td>2017-02-06</td><td>3</td></tr>",
                            "<tr><td>2016-06-10</td><td>10</td></tr>",
                            "<tr><td>2016-12-02</td><td>3</td></tr>",
                            "<tr><td>2016-05-18</td><td>4</td></tr>",
                            "<tr><td>2016-08-24</td><td>10</td></tr>",
                            "<tr><td>2016-07-06</td><td>3</td></tr>",
                            "<tr><td>2016-11-06</td><td>3</td></tr>",
                            "<tr><td>2016-12-25</td><td>9</td></tr>",
                            "<tr><td>2016-06-30</td><td>3</td></tr>",
                            "<tr><td>2016-06-22</td><td>4</td></tr>",
                            "<tr><td>2017-02-26</td><td>4</td></tr>",
                            "<tr><td>2016-08-12</td><td>6</td></tr>",
                            "<tr><td>2016-09-30</td><td>8</td></tr>",
                            "<tr><td>2017-01-03</td><td>3</td></tr>",
                            "<tr><td>2017-02-18</td><td>4</td></tr>",
                            "<tr><td>2016-06-08</td><td>4</td></tr>",
                            "<tr><td>2016-12-17</td><td>10</td></tr>",
                            "<tr><td>2016-07-24</td><td>5</td></tr>",
                            "<tr><td>2016-10-26</td><td>12</td></tr>",
                            "<tr><td>2016-09-02</td><td>3</td></tr>",
                            "<tr><td>2016-09-08</td><td>3</td></tr>",
                            "<tr><td>2016-07-18</td><td>7</td></tr>",
                            "<tr><td>2016-11-27</td><td>3</td></tr>",
                            "<tr><td>2016-04-06</td><td>5</td></tr>",
                            "<tr><td>2016-11-01</td><td>3</td></tr>",
                            "<tr><td>2016-11-07</td><td>6</td></tr>",
                            "<tr><td>2016-10-09</td><td>11</td></tr>",
                            "<tr><td>2016-10-15</td><td>6</td></tr>",
                            "<tr><td>2016-09-19</td><td>4</td></tr>",
                            "<tr><td>2017-01-09</td><td>5</td></tr>",
                            "<tr><td>2016-07-01</td><td>5</td></tr>",
                            "<tr><td>2017-02-21</td><td>3</td></tr>",
                            "<tr><td>2017-01-23</td><td>4</td></tr>",
                            "<tr><td>2016-05-28</td><td>8</td></tr>",
                            "<tr><td>2016-10-29</td><td>5</td></tr>",
                            "<tr><td>2016-07-27</td><td>11</td></tr>",
                            "<tr><td>2016-09-05</td><td>7</td></tr>",
                            "<tr><td>2016-07-04</td><td>5</td></tr>",
                            "<tr><td>2016-09-16</td><td>3</td></tr>",
                            "<tr><td>2017-02-12</td><td>9</td></tr>",
                            "<tr><td>2016-11-10</td><td>4</td></tr>",
                            "<tr><td>2016-08-16</td><td>12</td></tr>",
                            "<tr><td>2016-09-28</td><td>3</td></tr>",
                            "</table>"
                        ]
                    }
                },
                {
                    "output_type": "execute_result",
                    "metadata": {},
                    "execution_count": 45,
                    "data": {
                        "application/vnd.dataresource+json": {
                            "schema": {
                                "fields": [
                                    {
                                        "name": "szoba_fk"
                                    },
                                    {
                                        "name": "mettol"
                                    },
                                    {
                                        "name": "(No column name)"
                                    }
                                ]
                            },
                            "data": [
                                {
                                    "szoba_fk": "165",
                                    "mettol": "2016-06-03",
                                    "(No column name)": "3"
                                }
                            ]
                        },
                        "text/html": [
                            "<table>",
                            "<tr><th>szoba_fk</th><th>mettol</th><th>(No column name)</th></tr>",
                            "<tr><td>165</td><td>2016-06-03</td><td>3</td></tr>",
                            "</table>"
                        ]
                    }
                }
            ],
            "execution_count": 45
        },
        {
            "cell_type": "markdown",
            "source": [
                "A Szoba tábla Ferohely oszlopára végezzük el a következő számításokat:\n",
                "\n",
                "- Különböző értékek száma\n",
                "- Minimum, maximum, átlag\n",
                "- Null és Not null értékek százalékos aránya"
            ],
            "metadata": {
                "azdata_cell_guid": "231a5767-83a6-4cd4-80c2-70ac392633e9"
            },
            "attachments": {}
        },
        {
            "cell_type": "code",
            "source": [
                "select count(distinct Ferohely)\r\n",
                "from Szoba\r\n",
                "\r\n",
                "select min(ferohely), max(ferohely), avg(ferohely)\r\n",
                "from Szoba\r\n",
                "\r\n",
                "select (select count(*) from szoba where FEROHELY is null)/(select count(*) from szoba where FEROHELY is not null) as Arány"
            ],
            "metadata": {
                "azdata_cell_guid": "9926eb2b-cd1e-4b83-90fb-33b2e6d0c74e",
                "language": "sql"
            },
            "outputs": [
                {
                    "output_type": "display_data",
                    "data": {
                        "text/html": "(1 row affected)"
                    },
                    "metadata": {}
                },
                {
                    "output_type": "display_data",
                    "data": {
                        "text/html": "(1 row affected)"
                    },
                    "metadata": {}
                },
                {
                    "output_type": "display_data",
                    "data": {
                        "text/html": "(1 row affected)"
                    },
                    "metadata": {}
                },
                {
                    "output_type": "display_data",
                    "data": {
                        "text/html": "Total execution time: 00:00:00.015"
                    },
                    "metadata": {}
                },
                {
                    "output_type": "execute_result",
                    "metadata": {},
                    "execution_count": 59,
                    "data": {
                        "application/vnd.dataresource+json": {
                            "schema": {
                                "fields": [
                                    {
                                        "name": "(No column name)"
                                    }
                                ]
                            },
                            "data": [
                                {
                                    "(No column name)": "4"
                                }
                            ]
                        },
                        "text/html": [
                            "<table>",
                            "<tr><th>(No column name)</th></tr>",
                            "<tr><td>4</td></tr>",
                            "</table>"
                        ]
                    }
                },
                {
                    "output_type": "execute_result",
                    "metadata": {},
                    "execution_count": 59,
                    "data": {
                        "application/vnd.dataresource+json": {
                            "schema": {
                                "fields": [
                                    {
                                        "name": "(No column name)"
                                    },
                                    {
                                        "name": "(No column name)"
                                    },
                                    {
                                        "name": "(No column name)"
                                    }
                                ]
                            },
                            "data": [
                                {
                                    "(No column name)": "2"
                                }
                            ]
                        },
                        "text/html": [
                            "<table>",
                            "<tr><th>(No column name)</th><th>(No column name)</th><th>(No column name)</th></tr>",
                            "<tr><td>1</td><td>4</td><td>2</td></tr>",
                            "</table>"
                        ]
                    }
                },
                {
                    "output_type": "execute_result",
                    "metadata": {},
                    "execution_count": 59,
                    "data": {
                        "application/vnd.dataresource+json": {
                            "schema": {
                                "fields": [
                                    {
                                        "name": "Arány"
                                    }
                                ]
                            },
                            "data": [
                                {
                                    "Arány": "0"
                                }
                            ]
                        },
                        "text/html": [
                            "<table>",
                            "<tr><th>Arány</th></tr>",
                            "<tr><td>0</td></tr>",
                            "</table>"
                        ]
                    }
                }
            ],
            "execution_count": 59
        },
        {
            "cell_type": "markdown",
            "source": [
                "Oldja meg REDIS-ben a következő feladatokat:\n",
                "\n",
                "- hozzon létre egy string kulcsot, amely egy könyvtár nevét tartalmazza\n",
                "- hozzon létre egy hash kulcsot, amely egy könyv legalább 3 adatát tartalmazza\n",
                "- hozzon létre egy set kulcsot, amely a könyvtárban lévő könyvek műfajait tartalmazza (legalább 3)\n",
                "- hozzon létre egy list kulcsot, amely a kikölcsönzött könyvek címeit tartalmazza (legalább 3)\n",
                "- hozzon létre egy sorted set kulcsot, amely az adott könyvek címeit és a könyv kölcsönzéseinek számát tartalmazza (legalább 3)"
            ],
            "metadata": {
                "azdata_cell_guid": "ad9adc39-3c9d-4c4b-b645-0d29f099b04f"
            },
            "attachments": {}
        },
        {
            "cell_type": "code",
            "source": [
                "set Könyvtár BCE\r\n",
                "hset A_konyv iro Béla kiadas 2000 eladasok_szama 10\r\n",
                "sadd mufajok krimi ifjusagi francia olasz\r\n",
                "lpush kolcsonzott_konyvek Kihordott_hiany Poszmot Verrel_irva\r\n",
                "zadd id:kolcsonzes:cim 44 Kihordott_hiany 11 Poszmot 56 Verrel_irva"
            ],
            "metadata": {
                "azdata_cell_guid": "ed7839f4-2ec9-4f5f-9f2a-bc349dd43c47",
                "language": "sql"
            },
            "outputs": [],
            "execution_count": null
        },
        {
            "cell_type": "markdown",
            "source": [
                "Cassandra CQL Shellben hozza létre a következő táblát:\n",
                "\n",
                "STUDENT(ID, Nev, Teljesitett\\_felevek, Eredmenyek, Nyelvtudas)\n",
                "\n",
                "- Az ID legyen az elsődleges kulcs\n",
                "- A Teljesitett félévek legyen LIST, tartalma egész számok, pl: 1, 2, 3\n",
                "- Az Eredmenyek legyen MAP, tartalma, hogy melyik félévben mennyi volt az átlag, pl: 1: 3,00, 2: 4.55, 3: 4,10\n",
                "- A Nyelvtudas legyen SET, tartalma a nyelvek megnevezése\n",
                "\n",
                "Vigyen fel legalább 2 rekordot!"
            ],
            "metadata": {
                "azdata_cell_guid": "a75605ea-e90e-4111-ba65-39239ee9ca3f"
            },
            "attachments": {}
        },
        {
            "cell_type": "code",
            "source": [
                "CREATE TABLE STUDENT (\r\n",
                "    ID int PRIMARY KEY,\r\n",
                "    nev text,\r\n",
                "    Teljesitett_felevek list<int>,\r\n",
                "    Eredmenyek map<int, double>,\r\n",
                "    Nyelvtudas set<text>\r\n",
                ");\r\n",
                "\r\n",
                "INSERT INTO STUDENT (ID,nev,Teljesitett_felevek,Eredmenyek, Nyelvtudas) \r\n",
                "VALUES (1, 'Kiss Bela', [1,2], {1:4.5,2:5.0}, {'angol'});\r\n",
                "\r\n",
                "INSERT INTO STUDENT (ID,nev,Teljesitett_felevek,Eredmenyek, Nyelvtudas) \r\n",
                "VALUES (2, 'Nagy Bela', [1,2,3,4], {1:3.0,2:5.0,3:4.9,4:2.5}, {'angol','francia','nemet'});\r\n",
                ""
            ],
            "metadata": {
                "azdata_cell_guid": "f04d3704-3fcc-4620-8289-0576c006a259",
                "language": "sql"
            },
            "outputs": [],
            "execution_count": null
        },
        {
            "cell_type": "markdown",
            "source": [
                "A Neo4j Sandbox<span style=\"color: #000000;\">-</span>ban vagy a Desktopban jelenítsük meg azon személyeket, akik egy filmben szerepeltek Tom Hanks<span style=\"color: #000000;\">-</span>sel.\n",
                "\n",
                "  \n",
                "\n",
                "Egy szereplő neve csak egyszer jelenjen meg\n",
                "\n",
                "Tom Hanks ne legyen benne a listában"
            ],
            "metadata": {
                "azdata_cell_guid": "bfb4da5d-6a77-4c67-bfc6-b57590344cca"
            },
            "attachments": {}
        },
        {
            "cell_type": "code",
            "source": [
                "MATCH (p:Person)-[:ACTED_IN]->(m:Movie)<-[:ACTED_IN]-(p2:Person)\r\n",
                "WHERE p.name= 'Tom Hanks' \r\n",
                "RETURN p2.name"
            ],
            "metadata": {
                "azdata_cell_guid": "cff0578b-f177-45c7-a10f-a250dd02acf1",
                "language": "sql"
            },
            "outputs": [],
            "execution_count": null
        },
        {
            "cell_type": "markdown",
            "source": [
                ""
            ],
            "metadata": {
                "azdata_cell_guid": "bdbe5098-be73-4cfc-b0c6-8001d7b52053"
            }
        }
    ]
}