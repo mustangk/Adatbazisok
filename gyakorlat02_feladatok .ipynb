{
    "metadata": {
        "kernelspec": {
            "name": "SQL",
            "display_name": "SQL",
            "language": "sql"
        },
        "language_info": {
            "name": "sql",
            "version": ""
        },
        "extensions": {
            "azuredatastudio": {
                "version": 1,
                "views": []
            }
        }
    },
    "nbformat_minor": 2,
    "nbformat": 4,
    "cells": [
        {
            "cell_type": "markdown",
            "source": [
                "1. <span style=\"color:rgb(36, 41, 47);font-family:-apple-system, BlinkMacSystemFont, &quot;Segoe UI&quot;, Helvetica, Arial, sans-serif, &quot;Apple Color Emoji&quot;, &quot;Segoe UI Emoji&quot;;font-size:16px;\">Készítsünk lekérdezést, amely listázza, hogy mely napokon hány db kölcsönzés történt!</span>\n",
                "\n",
                "<span style=\"font-size: 16px;\">a.&nbsp;</span> Az oszlopok neve legyen 'Dátum' és 'Kölcsönzések száma'  \n",
                "b. A listát rendezzük a kölcsönzés dátuma szerint csökkenő sorrendbe!"
            ],
            "metadata": {
                "azdata_cell_guid": "77f2d5b3-38e9-41cc-893f-f5afd02b97ef"
            },
            "attachments": {}
        },
        {
            "cell_type": "code",
            "source": [
                "select ki_datum as 'Dátum', \r\n",
                "count(ID) as 'Kölcsönzések száma'\r\n",
                "from kolcsonzesek\r\n",
                "group by ki_datum\r\n",
                "order by ki_datum desc"
            ],
            "metadata": {
                "azdata_cell_guid": "bd3cef1a-4e6e-4ece-9dc3-aaa9d2b5d66d",
                "language": "sql",
                "tags": []
            },
            "outputs": [
                {
                    "output_type": "display_data",
                    "data": {
                        "text/html": "(3 rows affected)"
                    },
                    "metadata": {}
                },
                {
                    "output_type": "display_data",
                    "data": {
                        "text/html": "Total execution time: 00:00:00.014"
                    },
                    "metadata": {}
                },
                {
                    "output_type": "execute_result",
                    "execution_count": 10,
                    "data": {
                        "application/vnd.dataresource+json": {
                            "schema": {
                                "fields": [
                                    {
                                        "name": "Dátum"
                                    },
                                    {
                                        "name": "Kölcsönzések száma"
                                    }
                                ]
                            },
                            "data": [
                                {
                                    "Dátum": "2006-10-02",
                                    "Kölcsönzések száma": "1"
                                },
                                {
                                    "Dátum": "2006-10-01",
                                    "Kölcsönzések száma": "1"
                                },
                                {
                                    "Dátum": "2003-12-11",
                                    "Kölcsönzések száma": "3"
                                }
                            ]
                        },
                        "text/html": "<table><tr><th>Dátum</th><th>Kölcsönzések száma</th></tr><tr><td>2006-10-02</td><td>1</td></tr><tr><td>2006-10-01</td><td>1</td></tr><tr><td>2003-12-11</td><td>3</td></tr></table>"
                    },
                    "metadata": {}
                }
            ],
            "execution_count": 10
        },
        {
            "cell_type": "markdown",
            "source": [
                "2. <span style=\"font-weight: 600; color: rgb(36, 41, 47); font-family: -apple-system, BlinkMacSystemFont, &quot;Segoe UI&quot;, Helvetica, Arial, sans-serif, &quot;Apple Color Emoji&quot;, &quot;Segoe UI Emoji&quot;; font-size: 16px;\">Mennyi a dvd-k átlagos ára stílusonkénti bontásban?</span>\n",
                "\n",
                "1. Csak azokat a stílusokat vegyük figyelembe, ahol az átlagos ár 4500 Ft feletti!\n",
                "2. Az oszlopokat nevezzük el értelemszerűen!\n",
                "3. A listát rendezzük átlagos ár szerint csökkenő sorrendbe!"
            ],
            "metadata": {
                "azdata_cell_guid": "88f5b4bb-f4c1-4bad-a0c7-b2592687b422"
            },
            "attachments": {}
        },
        {
            "cell_type": "code",
            "source": [
                "select stilus, \r\n",
                "avg(nettoar) as Átlagár\r\n",
                "from dvd\r\n",
                "group by stilus\r\n",
                "having avg(nettoar) > 4500\r\n",
                "order by avg(nettoar) desc"
            ],
            "metadata": {
                "azdata_cell_guid": "e9de5726-f036-4fb9-8c33-a873955ed886",
                "language": "sql"
            },
            "outputs": [
                {
                    "output_type": "display_data",
                    "data": {
                        "text/html": "(30 rows affected)"
                    },
                    "metadata": {}
                },
                {
                    "output_type": "display_data",
                    "data": {
                        "text/html": "Total execution time: 00:00:00.039"
                    },
                    "metadata": {}
                },
                {
                    "output_type": "execute_result",
                    "execution_count": 9,
                    "data": {
                        "application/vnd.dataresource+json": {
                            "schema": {
                                "fields": [
                                    {
                                        "name": "stilus"
                                    },
                                    {
                                        "name": "Átlagár"
                                    }
                                ]
                            },
                            "data": [
                                {
                                    "stilus": "ásványtan",
                                    "Átlagár": "5624"
                                },
                                {
                                    "stilus": "játék (rodeó)",
                                    "Átlagár": "5591"
                                },
                                {
                                    "stilus": "humor",
                                    "Átlagár": "5573"
                                },
                                {
                                    "stilus": "környezetvédelem",
                                    "Átlagár": "5508"
                                },
                                {
                                    "stilus": "kresz",
                                    "Átlagár": "5476"
                                },
                                {
                                    "stilus": "játék (jégkorong)",
                                    "Átlagár": "5242"
                                },
                                {
                                    "stilus": "színház",
                                    "Átlagár": "5158"
                                },
                                {
                                    "stilus": "múvészet",
                                    "Átlagár": "5118"
                                },
                                {
                                    "stilus": "kémia",
                                    "Átlagár": "5094"
                                },
                                {
                                    "stilus": "fordító program",
                                    "Átlagár": "5036"
                                },
                                {
                                    "stilus": "kerttervező",
                                    "Átlagár": "4951"
                                },
                                {
                                    "stilus": "művészet",
                                    "Átlagár": "4939,25"
                                },
                                {
                                    "stilus": "festészet",
                                    "Átlagár": "4901"
                                },
                                {
                                    "stilus": "zene",
                                    "Átlagár": "4855,333333333333"
                                },
                                {
                                    "stilus": "játék",
                                    "Átlagár": "4850,466666666666"
                                },
                                {
                                    "stilus": "játék (labdarúgás)",
                                    "Átlagár": "4817,333333333333"
                                },
                                {
                                    "stilus": "állattan",
                                    "Átlagár": "4783,666666666667"
                                },
                                {
                                    "stilus": "nyelvtan",
                                    "Átlagár": "4770,666666666667"
                                },
                                {
                                    "stilus": "fizika",
                                    "Átlagár": "4769"
                                },
                                {
                                    "stilus": "nyelvtanító",
                                    "Átlagár": "4759,476190476191"
                                },
                                {
                                    "stilus": "csillagászat",
                                    "Átlagár": "4733,571428571428"
                                },
                                {
                                    "stilus": "ismeretterjesztő",
                                    "Átlagár": "4726,673913043478"
                                },
                                {
                                    "stilus": "irodalom, nyelv",
                                    "Átlagár": "4704"
                                },
                                {
                                    "stilus": "gasztronómia",
                                    "Átlagár": "4691"
                                },
                                {
                                    "stilus": "történelem",
                                    "Átlagár": "4655,731707317073"
                                },
                                {
                                    "stilus": "szótár",
                                    "Átlagár": "4624,428571428572"
                                },
                                {
                                    "stilus": "sport",
                                    "Átlagár": "4607"
                                },
                                {
                                    "stilus": "földrajz",
                                    "Átlagár": "4580,0625"
                                },
                                {
                                    "stilus": "matematika",
                                    "Átlagár": "4520,777777777777"
                                },
                                {
                                    "stilus": "felvételi",
                                    "Átlagár": "4501,333333333333"
                                }
                            ]
                        },
                        "text/html": "<table><tr><th>stilus</th><th>Átlagár</th></tr><tr><td>ásványtan</td><td>5624</td></tr><tr><td>játék (rodeó)</td><td>5591</td></tr><tr><td>humor</td><td>5573</td></tr><tr><td>környezetvédelem</td><td>5508</td></tr><tr><td>kresz</td><td>5476</td></tr><tr><td>játék (jégkorong)</td><td>5242</td></tr><tr><td>színház</td><td>5158</td></tr><tr><td>múvészet</td><td>5118</td></tr><tr><td>kémia</td><td>5094</td></tr><tr><td>fordító program</td><td>5036</td></tr><tr><td>kerttervező</td><td>4951</td></tr><tr><td>művészet</td><td>4939,25</td></tr><tr><td>festészet</td><td>4901</td></tr><tr><td>zene</td><td>4855,333333333333</td></tr><tr><td>játék</td><td>4850,466666666666</td></tr><tr><td>játék (labdarúgás)</td><td>4817,333333333333</td></tr><tr><td>állattan</td><td>4783,666666666667</td></tr><tr><td>nyelvtan</td><td>4770,666666666667</td></tr><tr><td>fizika</td><td>4769</td></tr><tr><td>nyelvtanító</td><td>4759,476190476191</td></tr><tr><td>csillagászat</td><td>4733,571428571428</td></tr><tr><td>ismeretterjesztő</td><td>4726,673913043478</td></tr><tr><td>irodalom, nyelv</td><td>4704</td></tr><tr><td>gasztronómia</td><td>4691</td></tr><tr><td>történelem</td><td>4655,731707317073</td></tr><tr><td>szótár</td><td>4624,428571428572</td></tr><tr><td>sport</td><td>4607</td></tr><tr><td>földrajz</td><td>4580,0625</td></tr><tr><td>matematika</td><td>4520,777777777777</td></tr><tr><td>felvételi</td><td>4501,333333333333</td></tr></table>"
                    },
                    "metadata": {}
                }
            ],
            "execution_count": 9
        },
        {
            "cell_type": "markdown",
            "source": [
                "3. <span style=\"color:rgb(36, 41, 47);font-family:-apple-system, BlinkMacSystemFont, &quot;Segoe UI&quot;, Helvetica, Arial, sans-serif, &quot;Apple Color Emoji&quot;, &quot;Segoe UI Emoji&quot;;font-size:16px;\">Listázzuk nyelvenkénti, azon belül stílusonkénti bontásban, hogy mennyi a dvd-k legkisebb és legnagyobb ára!&nbsp;</span> \n",
                "\n",
                "<span style=\"font-size: 16px;\">a. Az oszlopok neve legyen 'Nyelv', 'Stílus', 'MinÁr' és 'MaxÁr'!<br>b.&nbsp;</span> A listából hagyjuk ki azokat a sorokat, ahol a nyelv vagy a stílus nincs megadva!  \n",
                "c. Szintén hagyjuk ki azokat a csoportokat, ahol a csoport elemszáma 3-nál kisebb!"
            ],
            "metadata": {
                "azdata_cell_guid": "9e7249de-1b59-43d8-84b1-26fa7d81fc5a"
            },
            "attachments": {}
        },
        {
            "cell_type": "code",
            "source": [
                "select\r\n",
                "lang as 'Nyelv',\r\n",
                "stilus as 'Stílus',\r\n",
                "MIN(nettoar) as 'MinÁr',\r\n",
                "max(nettoar) as 'MaxÁr'\r\n",
                "from dvd\r\n",
                "group by lang , stilus\r\n",
                "having lang is not NULL and\r\n",
                "stilus is not NULL and\r\n",
                "count(ID) < 3 \r\n",
                "order by lang, stilus\r\n",
                ""
            ],
            "metadata": {
                "azdata_cell_guid": "6405d3e8-a9b1-45d7-aa76-3b1e785ef6cc",
                "language": "sql"
            },
            "outputs": [
                {
                    "output_type": "display_data",
                    "data": {
                        "text/html": "(39 rows affected)"
                    },
                    "metadata": {}
                },
                {
                    "output_type": "display_data",
                    "data": {
                        "text/html": "Total execution time: 00:00:00.055"
                    },
                    "metadata": {}
                },
                {
                    "output_type": "execute_result",
                    "metadata": {},
                    "execution_count": 28,
                    "data": {
                        "application/vnd.dataresource+json": {
                            "schema": {
                                "fields": [
                                    {
                                        "name": "Nyelv"
                                    },
                                    {
                                        "name": "Stílus"
                                    },
                                    {
                                        "name": "MinÁr"
                                    },
                                    {
                                        "name": "MaxÁr"
                                    }
                                ]
                            },
                            "data": [
                                {
                                    "Nyelv": "1",
                                    "Stílus": "ásványtan",
                                    "MinÁr": "5624",
                                    "MaxÁr": "5624"
                                },
                                {
                                    "Nyelv": "1",
                                    "Stílus": "betűtípusok",
                                    "MinÁr": "3845",
                                    "MaxÁr": "3845"
                                },
                                {
                                    "Nyelv": "1",
                                    "Stílus": "festészet",
                                    "MinÁr": "5408",
                                    "MaxÁr": "5408"
                                },
                                {
                                    "Nyelv": "1",
                                    "Stílus": "filmtörténet",
                                    "MinÁr": "3138",
                                    "MaxÁr": "4204"
                                },
                                {
                                    "Nyelv": "1",
                                    "Stílus": "gépírás",
                                    "MinÁr": "3936",
                                    "MaxÁr": "3936"
                                },
                                {
                                    "Nyelv": "1",
                                    "Stílus": "hadtudomány",
                                    "MinÁr": "3515",
                                    "MaxÁr": "3515"
                                },
                                {
                                    "Nyelv": "1",
                                    "Stílus": "humor",
                                    "MinÁr": "5573",
                                    "MaxÁr": "5573"
                                },
                                {
                                    "Nyelv": "1",
                                    "Stílus": "irodalom, nyelv",
                                    "MinÁr": "4704",
                                    "MaxÁr": "4704"
                                },
                                {
                                    "Nyelv": "1",
                                    "Stílus": "ismeretterjesztő + játék",
                                    "MinÁr": "3107",
                                    "MaxÁr": "3107"
                                },
                                {
                                    "Nyelv": "1",
                                    "Stílus": "játék (labdarúgás)",
                                    "MinÁr": "5522",
                                    "MaxÁr": "5522"
                                },
                                {
                                    "Nyelv": "1",
                                    "Stílus": "játék, sakk",
                                    "MinÁr": "3644",
                                    "MaxÁr": "3644"
                                },
                                {
                                    "Nyelv": "1",
                                    "Stílus": "kémia",
                                    "MinÁr": "5094",
                                    "MaxÁr": "5094"
                                },
                                {
                                    "Nyelv": "1",
                                    "Stílus": "környezetvédelem",
                                    "MinÁr": "5508",
                                    "MaxÁr": "5508"
                                },
                                {
                                    "Nyelv": "1",
                                    "Stílus": "kresz",
                                    "MinÁr": "5476",
                                    "MaxÁr": "5476"
                                },
                                {
                                    "Nyelv": "1",
                                    "Stílus": "matematika, nyelvtan",
                                    "MinÁr": "4484",
                                    "MaxÁr": "4484"
                                },
                                {
                                    "Nyelv": "1",
                                    "Stílus": "növénytan",
                                    "MinÁr": "4438",
                                    "MaxÁr": "4438"
                                },
                                {
                                    "Nyelv": "1",
                                    "Stílus": "sport",
                                    "MinÁr": "4607",
                                    "MaxÁr": "4607"
                                },
                                {
                                    "Nyelv": "1",
                                    "Stílus": "színház",
                                    "MinÁr": "5158",
                                    "MaxÁr": "5158"
                                },
                                {
                                    "Nyelv": "2",
                                    "Stílus": "felvételi",
                                    "MinÁr": "3876",
                                    "MaxÁr": "3876"
                                },
                                {
                                    "Nyelv": "2",
                                    "Stílus": "festészet",
                                    "MinÁr": "4394",
                                    "MaxÁr": "4394"
                                },
                                {
                                    "Nyelv": "2",
                                    "Stílus": "játék - autós",
                                    "MinÁr": "3989",
                                    "MaxÁr": "3989"
                                },
                                {
                                    "Nyelv": "2",
                                    "Stílus": "játék (jégkorong)",
                                    "MinÁr": "5242",
                                    "MaxÁr": "5242"
                                },
                                {
                                    "Nyelv": "2",
                                    "Stílus": "játék (labdarúgás)",
                                    "MinÁr": "3871",
                                    "MaxÁr": "5059"
                                },
                                {
                                    "Nyelv": "2",
                                    "Stílus": "játék (repülős)",
                                    "MinÁr": "4311",
                                    "MaxÁr": "4311"
                                },
                                {
                                    "Nyelv": "2",
                                    "Stílus": "játék (rodeó)",
                                    "MinÁr": "5591",
                                    "MaxÁr": "5591"
                                },
                                {
                                    "Nyelv": "2",
                                    "Stílus": "játék (történelmi)",
                                    "MinÁr": "3707",
                                    "MaxÁr": "3707"
                                },
                                {
                                    "Nyelv": "2",
                                    "Stílus": "kerttervező",
                                    "MinÁr": "4951",
                                    "MaxÁr": "4951"
                                },
                                {
                                    "Nyelv": "2",
                                    "Stílus": "lakástervező",
                                    "MinÁr": "4287",
                                    "MaxÁr": "4287"
                                },
                                {
                                    "Nyelv": "2",
                                    "Stílus": "múvészet",
                                    "MinÁr": "5118",
                                    "MaxÁr": "5118"
                                },
                                {
                                    "Nyelv": "2",
                                    "Stílus": "régészet",
                                    "MinÁr": "3773",
                                    "MaxÁr": "3773"
                                },
                                {
                                    "Nyelv": "2",
                                    "Stílus": "történelem",
                                    "MinÁr": "5041",
                                    "MaxÁr": "5041"
                                },
                                {
                                    "Nyelv": "2",
                                    "Stílus": "zene",
                                    "MinÁr": "5336",
                                    "MaxÁr": "5336"
                                },
                                {
                                    "Nyelv": "3",
                                    "Stílus": "felvételi",
                                    "MinÁr": "3102",
                                    "MaxÁr": "3102"
                                },
                                {
                                    "Nyelv": "4",
                                    "Stílus": "szótár",
                                    "MinÁr": "4107",
                                    "MaxÁr": "4107"
                                },
                                {
                                    "Nyelv": "5",
                                    "Stílus": "nyelvtanító",
                                    "MinÁr": "6009",
                                    "MaxÁr": "6009"
                                },
                                {
                                    "Nyelv": "5",
                                    "Stílus": "szótár",
                                    "MinÁr": "4666",
                                    "MaxÁr": "4666"
                                },
                                {
                                    "Nyelv": "6",
                                    "Stílus": "szótár",
                                    "MinÁr": "5734",
                                    "MaxÁr": "5734"
                                },
                                {
                                    "Nyelv": "7",
                                    "Stílus": "szótár",
                                    "MinÁr": "3566",
                                    "MaxÁr": "3566"
                                },
                                {
                                    "Nyelv": "8",
                                    "Stílus": "fordító program",
                                    "MinÁr": "5036",
                                    "MaxÁr": "5036"
                                }
                            ]
                        },
                        "text/html": [
                            "<table>",
                            "<tr><th>Nyelv</th><th>Stílus</th><th>MinÁr</th><th>MaxÁr</th></tr>",
                            "<tr><td>1</td><td>ásványtan</td><td>5624</td><td>5624</td></tr>",
                            "<tr><td>1</td><td>betűtípusok</td><td>3845</td><td>3845</td></tr>",
                            "<tr><td>1</td><td>festészet</td><td>5408</td><td>5408</td></tr>",
                            "<tr><td>1</td><td>filmtörténet</td><td>3138</td><td>4204</td></tr>",
                            "<tr><td>1</td><td>gépírás</td><td>3936</td><td>3936</td></tr>",
                            "<tr><td>1</td><td>hadtudomány</td><td>3515</td><td>3515</td></tr>",
                            "<tr><td>1</td><td>humor</td><td>5573</td><td>5573</td></tr>",
                            "<tr><td>1</td><td>irodalom, nyelv</td><td>4704</td><td>4704</td></tr>",
                            "<tr><td>1</td><td>ismeretterjesztő + játék</td><td>3107</td><td>3107</td></tr>",
                            "<tr><td>1</td><td>játék (labdarúgás)</td><td>5522</td><td>5522</td></tr>",
                            "<tr><td>1</td><td>játék, sakk</td><td>3644</td><td>3644</td></tr>",
                            "<tr><td>1</td><td>kémia</td><td>5094</td><td>5094</td></tr>",
                            "<tr><td>1</td><td>környezetvédelem</td><td>5508</td><td>5508</td></tr>",
                            "<tr><td>1</td><td>kresz</td><td>5476</td><td>5476</td></tr>",
                            "<tr><td>1</td><td>matematika, nyelvtan</td><td>4484</td><td>4484</td></tr>",
                            "<tr><td>1</td><td>növénytan</td><td>4438</td><td>4438</td></tr>",
                            "<tr><td>1</td><td>sport</td><td>4607</td><td>4607</td></tr>",
                            "<tr><td>1</td><td>színház</td><td>5158</td><td>5158</td></tr>",
                            "<tr><td>2</td><td>felvételi</td><td>3876</td><td>3876</td></tr>",
                            "<tr><td>2</td><td>festészet</td><td>4394</td><td>4394</td></tr>",
                            "<tr><td>2</td><td>játék - autós</td><td>3989</td><td>3989</td></tr>",
                            "<tr><td>2</td><td>játék (jégkorong)</td><td>5242</td><td>5242</td></tr>",
                            "<tr><td>2</td><td>játék (labdarúgás)</td><td>3871</td><td>5059</td></tr>",
                            "<tr><td>2</td><td>játék (repülős)</td><td>4311</td><td>4311</td></tr>",
                            "<tr><td>2</td><td>játék (rodeó)</td><td>5591</td><td>5591</td></tr>",
                            "<tr><td>2</td><td>játék (történelmi)</td><td>3707</td><td>3707</td></tr>",
                            "<tr><td>2</td><td>kerttervező</td><td>4951</td><td>4951</td></tr>",
                            "<tr><td>2</td><td>lakástervező</td><td>4287</td><td>4287</td></tr>",
                            "<tr><td>2</td><td>múvészet</td><td>5118</td><td>5118</td></tr>",
                            "<tr><td>2</td><td>régészet</td><td>3773</td><td>3773</td></tr>",
                            "<tr><td>2</td><td>történelem</td><td>5041</td><td>5041</td></tr>",
                            "<tr><td>2</td><td>zene</td><td>5336</td><td>5336</td></tr>",
                            "<tr><td>3</td><td>felvételi</td><td>3102</td><td>3102</td></tr>",
                            "<tr><td>4</td><td>szótár</td><td>4107</td><td>4107</td></tr>",
                            "<tr><td>5</td><td>nyelvtanító</td><td>6009</td><td>6009</td></tr>",
                            "<tr><td>5</td><td>szótár</td><td>4666</td><td>4666</td></tr>",
                            "<tr><td>6</td><td>szótár</td><td>5734</td><td>5734</td></tr>",
                            "<tr><td>7</td><td>szótár</td><td>3566</td><td>3566</td></tr>",
                            "<tr><td>8</td><td>fordító program</td><td>5036</td><td>5036</td></tr>",
                            "</table>"
                        ]
                    }
                }
            ],
            "execution_count": 28
        },
        {
            "cell_type": "markdown",
            "source": [
                "4. <span style=\"color: rgb(36, 41, 47); font-family: -apple-system, BlinkMacSystemFont, &quot;Segoe UI&quot;, Helvetica, Arial, sans-serif, &quot;Apple Color Emoji&quot;, &quot;Segoe UI Emoji&quot;; font-size: 16px;\">Készítsünk listát, amely a csoportokat hoz létre aszerint, hogy a mai naptól számítva hány nap telt el a kölcsönzés kezdete óta. A lista jelenítse meg csoportonkénti bontásban a kikölcsönzött dvd-k számát!</span>\n",
                "\n",
                "1. Az oszlopokat nevezzük el értelemszerűen!\n",
                "2. A listát rendezzük az eltelt napok száma szerint csökkenő sorrendbe!"
            ],
            "metadata": {
                "azdata_cell_guid": "6478e469-c094-472c-a772-ccd5b5c61516"
            },
            "attachments": {}
        },
        {
            "cell_type": "code",
            "source": [
                ""
            ],
            "metadata": {
                "azdata_cell_guid": "02031ea2-3838-458d-839c-228e3b362b61",
                "language": "sql"
            },
            "outputs": [
                {
                    "output_type": "display_data",
                    "data": {
                        "text/html": "Commands completed successfully."
                    },
                    "metadata": {}
                },
                {
                    "output_type": "display_data",
                    "data": {
                        "text/html": "Total execution time: 00:00:00"
                    },
                    "metadata": {}
                }
            ],
            "execution_count": 7
        },
        {
            "cell_type": "markdown",
            "source": [
                "5. <span style=\"color: rgb(36, 41, 47); font-family: -apple-system, BlinkMacSystemFont, &quot;Segoe UI&quot;, Helvetica, Arial, sans-serif, &quot;Apple Color Emoji&quot;, &quot;Segoe UI Emoji&quot;; font-size: 16px;\">A kölcsönző tulajdonosa elhatározza, hogy ezentúl kerekebb árakat alkalmaz. Ezért minden dvd árát 1000 Ft-ra kerekíti. Készítsünk lekérdezést, amely megmutatja, hogy melyik 1000 Ft-ra kerekített ár szerint, azon belül stílus szerint hány db dvd összesen raktáron! **</span>\n",
                "\n",
                "1. Csak olyan csoportokat listázzunk, ahol a raktárkészlet legalább 30!\n",
                "2. A listát rendezzük kerekített ár szerint, azon belül raktárkészlet szerint növekvő sorrendbe!"
            ],
            "metadata": {
                "azdata_cell_guid": "9edbbaf9-c276-4898-9a01-e1b2993c089f"
            },
            "attachments": {}
        },
        {
            "cell_type": "code",
            "source": [
                ""
            ],
            "metadata": {
                "azdata_cell_guid": "5ad5fdcb-2878-4111-861a-833bcd50e935",
                "language": "sql"
            },
            "outputs": [
                {
                    "output_type": "display_data",
                    "data": {
                        "text/html": "Commands completed successfully."
                    },
                    "metadata": {}
                },
                {
                    "output_type": "display_data",
                    "data": {
                        "text/html": "Total execution time: 00:00:00"
                    },
                    "metadata": {}
                }
            ],
            "execution_count": 8
        },
        {
            "cell_type": "markdown",
            "source": [
                "6. <span style=\"font-weight: 600; color: rgb(36, 41, 47); font-family: -apple-system, BlinkMacSystemFont, &quot;Segoe UI&quot;, Helvetica, Arial, sans-serif, &quot;Apple Color Emoji&quot;, &quot;Segoe UI Emoji&quot;; font-size: 16px;\">A dvd-ket csoportosíthatjuk aszerint, hogy milyen hosszú a címük. Amelyiknél a cím hosszúsága 10 karakter alatt van, az legyen Rövid, 10-20-ig Átlagos, 20 felett Hosszú. Hány Rövid, Átlagos, illetve Hosszú dvd-van összesen raktáron?</span>\n",
                "\n",
                "1. Az oszlopok neve legyen 'Cím hosszúság' és 'Darabszám"
            ],
            "metadata": {
                "azdata_cell_guid": "5fe65c1c-2479-45ac-ad03-ec99d12eae21"
            },
            "attachments": {}
        },
        {
            "cell_type": "code",
            "source": [
                ""
            ],
            "metadata": {
                "azdata_cell_guid": "924f2dde-f1c2-4def-a7f9-dbf4bace7735",
                "language": "sql"
            },
            "outputs": [
                {
                    "output_type": "display_data",
                    "data": {
                        "text/html": "Commands completed successfully."
                    },
                    "metadata": {}
                },
                {
                    "output_type": "display_data",
                    "data": {
                        "text/html": "Total execution time: 00:00:00"
                    },
                    "metadata": {}
                }
            ],
            "execution_count": 9
        },
        {
            "cell_type": "markdown",
            "source": [
                "7. <span style=\"color: rgb(36, 41, 47); font-family: -apple-system, BlinkMacSystemFont, &quot;Segoe UI&quot;, Helvetica, Arial, sans-serif, &quot;Apple Color Emoji&quot;, &quot;Segoe UI Emoji&quot;; font-size: 16px;\">Készítsünk listát arról, hogy melyik teremben hány óra van!</span>\n",
                "\n",
                "1. Jelenítsük meg a termek azonosítóit és a teremben tartott órák számát!\n",
                "2. Az oszlopokat nevezzük el értelemszerűen!\n",
                "3. Szűrjünk azokra a termekre, ahol az órák száma legalább 3!"
            ],
            "metadata": {
                "azdata_cell_guid": "3aeb6bf5-b111-40d5-92b2-9712ce335696"
            },
            "attachments": {}
        },
        {
            "cell_type": "code",
            "source": [
                "select terem, \r\n",
                "count(ora_id) as 'Tanórák száma'\r\n",
                "from Orak\r\n",
                "group by terem\r\n",
                "having count(ora_id)>3"
            ],
            "metadata": {
                "azdata_cell_guid": "3e89b651-f56f-4102-af52-30eb2bbe360d",
                "language": "sql"
            },
            "outputs": [
                {
                    "output_type": "display_data",
                    "data": {
                        "text/html": "(8 rows affected)"
                    },
                    "metadata": {}
                },
                {
                    "output_type": "display_data",
                    "data": {
                        "text/html": "Total execution time: 00:00:00.043"
                    },
                    "metadata": {}
                },
                {
                    "output_type": "execute_result",
                    "metadata": {},
                    "execution_count": 36,
                    "data": {
                        "application/vnd.dataresource+json": {
                            "schema": {
                                "fields": [
                                    {
                                        "name": "terem"
                                    },
                                    {
                                        "name": "Tanórák száma"
                                    }
                                ]
                            },
                            "data": [
                                {
                                    "terem": "2",
                                    "Tanórák száma": "5"
                                },
                                {
                                    "terem": "3",
                                    "Tanórák száma": "11"
                                },
                                {
                                    "terem": "4",
                                    "Tanórák száma": "8"
                                },
                                {
                                    "terem": "5",
                                    "Tanórák száma": "5"
                                },
                                {
                                    "terem": "6",
                                    "Tanórák száma": "6"
                                },
                                {
                                    "terem": "7",
                                    "Tanórák száma": "6"
                                },
                                {
                                    "terem": "8",
                                    "Tanórák száma": "6"
                                },
                                {
                                    "terem": "13",
                                    "Tanórák száma": "5"
                                }
                            ]
                        },
                        "text/html": [
                            "<table>",
                            "<tr><th>terem</th><th>Tanórák száma</th></tr>",
                            "<tr><td>2</td><td>5</td></tr>",
                            "<tr><td>3</td><td>11</td></tr>",
                            "<tr><td>4</td><td>8</td></tr>",
                            "<tr><td>5</td><td>5</td></tr>",
                            "<tr><td>6</td><td>6</td></tr>",
                            "<tr><td>7</td><td>6</td></tr>",
                            "<tr><td>8</td><td>6</td></tr>",
                            "<tr><td>13</td><td>5</td></tr>",
                            "</table>"
                        ]
                    }
                }
            ],
            "execution_count": 36
        },
        {
            "cell_type": "markdown",
            "source": [
                "8. <span style=\"color: rgb(36, 41, 47); font-family: -apple-system, BlinkMacSystemFont, &quot;Segoe UI&quot;, Helvetica, Arial, sans-serif, &quot;Apple Color Emoji&quot;, &quot;Segoe UI Emoji&quot;; font-size: 16px;\">Készítsünk lekérdezést, amely megadja, hogy minimálian és maximálisan hány kreditet ér egy tantárgy!</span>\n",
                "\n",
                "1. Az oszlopokat nevezzük el értelemszerűen!\n",
                "2. Ne vegyük figyelembe azokat a tantárgyakat, amelyek nevében az „alapjai” szó szerepel, vagy a tantárgy neve 10 karakternél rövidebb!"
            ],
            "metadata": {
                "azdata_cell_guid": "26a504dc-ff6a-439f-94c0-4580eca3eacf"
            },
            "attachments": {}
        },
        {
            "cell_type": "code",
            "source": [
                "select MIN(Kredit) as 'MinKredit',\r\n",
                "max(Kredit) as 'MaxKredit'\r\n",
                "from Tantárgyak\r\n",
                "where Tantárgynév not like '*alapjai*' OR\r\n",
                "len(Tantárgynév) < 10 "
            ],
            "metadata": {
                "azdata_cell_guid": "1cbb8aeb-78b5-4350-aa45-e3202fdab85b",
                "language": "sql"
            },
            "outputs": [
                {
                    "output_type": "display_data",
                    "data": {
                        "text/html": "(1 row affected)"
                    },
                    "metadata": {}
                },
                {
                    "output_type": "display_data",
                    "data": {
                        "text/html": "Total execution time: 00:00:00.007"
                    },
                    "metadata": {}
                },
                {
                    "output_type": "execute_result",
                    "metadata": {},
                    "execution_count": 41,
                    "data": {
                        "application/vnd.dataresource+json": {
                            "schema": {
                                "fields": [
                                    {
                                        "name": "MinKredit"
                                    },
                                    {
                                        "name": "MaxKredit"
                                    }
                                ]
                            },
                            "data": [
                                {
                                    "MinKredit": "1",
                                    "MaxKredit": "6"
                                }
                            ]
                        },
                        "text/html": [
                            "<table>",
                            "<tr><th>MinKredit</th><th>MaxKredit</th></tr>",
                            "<tr><td>1</td><td>6</td></tr>",
                            "</table>"
                        ]
                    }
                }
            ],
            "execution_count": 41
        },
        {
            "cell_type": "markdown",
            "source": [
                "9. <span style=\"color: rgb(36, 41, 47); font-family: -apple-system, BlinkMacSystemFont, &quot;Segoe UI&quot;, Helvetica, Arial, sans-serif, &quot;Apple Color Emoji&quot;, &quot;Segoe UI Emoji&quot;; font-size: 16px;\">A tapasztalat alapján a tanársegédeknek 8, az óraadóknak 10 órájuk van egy héten. A többiek annyi órát tartanak, amennyi az elvárt óraszámuk. Készítsünk lekérdezést, amely minden beosztáshoz megjeleníti, hogy hetente hány túlóra tartozik hozzá!</span>\n",
                "\n",
                "1. A lekérdezés csak a beosztások nevét és a heti túlórák számát jelenítse meg!"
            ],
            "metadata": {
                "azdata_cell_guid": "435e2860-2dd5-4877-90f4-34a43baeb53c"
            },
            "attachments": {}
        },
        {
            "cell_type": "code",
            "source": [
                "select beosztasnev,\r\n",
                "    CASE\r\n",
                "        WHEN beosztasnev = 'Tanársegéd' then 8-elvart\r\n",
                "        WHEN beosztasnev = 'Óraadó' then 10-elvart\r\n",
                "        ELSE 0\r\n",
                "    END as 'Túlóra'\r\n",
                "from Orak join Oktatok on Orak.tanar = Oktatok.oktato_id\r\n",
                "    join Beosztasok on Oktatok.beosztás = Beosztasok.beosztas_id"
            ],
            "metadata": {
                "azdata_cell_guid": "ce846351-ddbe-4d8e-b8fb-2a92c73ac80b",
                "language": "sql"
            },
            "outputs": [
{
    "output_type": "display_data",
    "data": {
        "text/html": "(67 rows affected)"
    },
    "metadata": {}
}, {
    "output_type": "display_data",
    "data": {
        "text/html": "Total execution time: 00:00:00.029"
    },
    "metadata": {}
}, {
    "output_type": "execute_result",
    "metadata": {},
    "execution_count": 48,
    "data": {
        "application/vnd.dataresource+json": {
            "schema": {
                "fields": [
                    {
                        "name": "beosztasnev"
                    },
                    {
                        "name": "Túlóra"
                    }
                ]
            },
            "data": [
                {
                    "beosztasnev": "Egyetemi tanár",
                    "Túlóra": "0"
                },
                {
                    "beosztasnev": "Tanársegéd",
                    "Túlóra": "2"
                },
                {
                    "beosztasnev": "Tanársegéd",
                    "Túlóra": "2"
                },
                {
                    "beosztasnev": "Óraadó",
                    "Túlóra": "4"
                },
                {
                    "beosztasnev": "Docens",
                    "Túlóra": "0"
                },
                {
                    "beosztasnev": "Tanársegéd",
                    "Túlóra": "2"
                },
                {
                    "beosztasnev": "Docens",
                    "Túlóra": "0"
                },
                {
                    "beosztasnev": "Docens",
                    "Túlóra": "0"
                },
                {
                    "beosztasnev": "Adjunktus",
                    "Túlóra": "0"
                },
                {
                    "beosztasnev": "Egyetemi tanár",
                    "Túlóra": "0"
                },
                {
                    "beosztasnev": "Óraadó",
                    "Túlóra": "4"
                },
                {
                    "beosztasnev": "Óraadó",
                    "Túlóra": "4"
                },
                {
                    "beosztasnev": "Adjunktus",
                    "Túlóra": "0"
                },
                {
                    "beosztasnev": "Tanársegéd",
                    "Túlóra": "2"
                },
                {
                    "beosztasnev": "Óraadó",
                    "Túlóra": "4"
                },
                {
                    "beosztasnev": "Óraadó",
                    "Túlóra": "4"
                },
                {
                    "beosztasnev": "Adjunktus",
                    "Túlóra": "0"
                },
                {
                    "beosztasnev": "Óraadó",
                    "Túlóra": "4"
                },
                {
                    "beosztasnev": "Adjunktus",
                    "Túlóra": "0"
                },
                {
                    "beosztasnev": "Tanársegéd",
                    "Túlóra": "2"
                },
                {
                    "beosztasnev": "Adjunktus",
                    "Túlóra": "0"
                },
                {
                    "beosztasnev": "Tanársegéd",
                    "Túlóra": "2"
                },
                {
                    "beosztasnev": "Adjunktus",
                    "Túlóra": "0"
                },
                {
                    "beosztasnev": "Tanársegéd",
                    "Túlóra": "2"
                },
                {
                    "beosztasnev": "Adjunktus",
                    "Túlóra": "0"
                },
                {
                    "beosztasnev": "Tanársegéd",
                    "Túlóra": "2"
                },
                {
                    "beosztasnev": "Adjunktus",
                    "Túlóra": "0"
                },
                {
                    "beosztasnev": "Óraadó",
                    "Túlóra": "4"
                },
                {
                    "beosztasnev": "Docens",
                    "Túlóra": "0"
                },
                {
                    "beosztasnev": "Tanársegéd",
                    "Túlóra": "2"
                },
                {
                    "beosztasnev": "Tanársegéd",
                    "Túlóra": "2"
                },
                {
                    "beosztasnev": "Tanársegéd",
                    "Túlóra": "2"
                },
                {
                    "beosztasnev": "Docens",
                    "Túlóra": "0"
                },
                {
                    "beosztasnev": "Docens",
                    "Túlóra": "0"
                },
                {
                    "beosztasnev": "Tanársegéd",
                    "Túlóra": "2"
                },
                {
                    "beosztasnev": "Tanársegéd",
                    "Túlóra": "2"
                },
                {
                    "beosztasnev": "Docens",
                    "Túlóra": "0"
                },
                {
                    "beosztasnev": "Docens",
                    "Túlóra": "0"
                },
                {
                    "beosztasnev": "Tanársegéd",
                    "Túlóra": "2"
                },
                {
                    "beosztasnev": "Tanársegéd",
                    "Túlóra": "2"
                },
                {
                    "beosztasnev": "Óraadó",
                    "Túlóra": "4"
                },
                {
                    "beosztasnev": "Óraadó",
                    "Túlóra": "4"
                },
                {
                    "beosztasnev": "Egyetemi tanár",
                    "Túlóra": "0"
                },
                {
                    "beosztasnev": "Egyetemi tanár",
                    "Túlóra": "0"
                },
                {
                    "beosztasnev": "Óraadó",
                    "Túlóra": "4"
                },
                {
                    "beosztasnev": "Tanársegéd",
                    "Túlóra": "2"
                },
                {
                    "beosztasnev": "Egyetemi tanár",
                    "Túlóra": "0"
                },
                {
                    "beosztasnev": "Docens",
                    "Túlóra": "0"
                },
                {
                    "beosztasnev": "Docens",
                    "Túlóra": "0"
                },
                {
                    "beosztasnev": "Egyetemi tanár",
                    "Túlóra": "0"
                },
                {
                    "beosztasnev": "Egyetemi tanár",
                    "Túlóra": "0"
                },
                {
                    "beosztasnev": "Adjunktus",
                    "Túlóra": "0"
                },
                {
                    "beosztasnev": "Adjunktus",
                    "Túlóra": "0"
                },
                {
                    "beosztasnev": "Tanársegéd",
                    "Túlóra": "2"
                },
                {
                    "beosztasnev": "Tanársegéd",
                    "Túlóra": "2"
                },
                {
                    "beosztasnev": "Tanársegéd",
                    "Túlóra": "2"
                },
                {
                    "beosztasnev": "Tanársegéd",
                    "Túlóra": "2"
                },
                {
                    "beosztasnev": "Adjunktus",
                    "Túlóra": "0"
                },
                {
                    "beosztasnev": "Adjunktus",
                    "Túlóra": "0"
                },
                {
                    "beosztasnev": "Tanársegéd",
                    "Túlóra": "2"
                },
                {
                    "beosztasnev": "Tanársegéd",
                    "Túlóra": "2"
                },
                {
                    "beosztasnev": "Egyetemi tanár",
                    "Túlóra": "0"
                },
                {
                    "beosztasnev": "Egyetemi tanár",
                    "Túlóra": "0"
                },
                {
                    "beosztasnev": "Egyetemi tanár",
                    "Túlóra": "0"
                },
                {
                    "beosztasnev": "Egyetemi tanár",
                    "Túlóra": "0"
                },
                {
                    "beosztasnev": "Adjunktus",
                    "Túlóra": "0"
                },
                {
                    "beosztasnev": "Adjunktus",
                    "Túlóra": "0"
                }
            ]
        },
        "text/html": [
            "<table>",
            "<tr><th>beosztasnev</th><th>Túlóra</th></tr>",
            "<tr><td>Egyetemi tanár</td><td>0</td></tr>",
            "<tr><td>Tanársegéd</td><td>2</td></tr>",
            "<tr><td>Tanársegéd</td><td>2</td></tr>",
            "<tr><td>Óraadó</td><td>4</td></tr>",
            "<tr><td>Docens</td><td>0</td></tr>",
            "<tr><td>Tanársegéd</td><td>2</td></tr>",
            "<tr><td>Docens</td><td>0</td></tr>",
            "<tr><td>Docens</td><td>0</td></tr>",
            "<tr><td>Adjunktus</td><td>0</td></tr>",
            "<tr><td>Egyetemi tanár</td><td>0</td></tr>",
            "<tr><td>Óraadó</td><td>4</td></tr>",
            "<tr><td>Óraadó</td><td>4</td></tr>",
            "<tr><td>Adjunktus</td><td>0</td></tr>",
            "<tr><td>Tanársegéd</td><td>2</td></tr>",
            "<tr><td>Óraadó</td><td>4</td></tr>",
            "<tr><td>Óraadó</td><td>4</td></tr>",
            "<tr><td>Adjunktus</td><td>0</td></tr>",
            "<tr><td>Óraadó</td><td>4</td></tr>",
            "<tr><td>Adjunktus</td><td>0</td></tr>",
            "<tr><td>Tanársegéd</td><td>2</td></tr>",
            "<tr><td>Adjunktus</td><td>0</td></tr>",
            "<tr><td>Tanársegéd</td><td>2</td></tr>",
            "<tr><td>Adjunktus</td><td>0</td></tr>",
            "<tr><td>Tanársegéd</td><td>2</td></tr>",
            "<tr><td>Adjunktus</td><td>0</td></tr>",
            "<tr><td>Tanársegéd</td><td>2</td></tr>",
            "<tr><td>Adjunktus</td><td>0</td></tr>",
            "<tr><td>Óraadó</td><td>4</td></tr>",
            "<tr><td>Docens</td><td>0</td></tr>",
            "<tr><td>Tanársegéd</td><td>2</td></tr>",
            "<tr><td>Tanársegéd</td><td>2</td></tr>",
            "<tr><td>Tanársegéd</td><td>2</td></tr>",
            "<tr><td>Docens</td><td>0</td></tr>",
            "<tr><td>Docens</td><td>0</td></tr>",
            "<tr><td>Tanársegéd</td><td>2</td></tr>",
            "<tr><td>Tanársegéd</td><td>2</td></tr>",
            "<tr><td>Docens</td><td>0</td></tr>",
            "<tr><td>Docens</td><td>0</td></tr>",
            "<tr><td>Tanársegéd</td><td>2</td></tr>",
            "<tr><td>Tanársegéd</td><td>2</td></tr>",
            "<tr><td>Óraadó</td><td>4</td></tr>",
            "<tr><td>Óraadó</td><td>4</td></tr>",
            "<tr><td>Egyetemi tanár</td><td>0</td></tr>",
            "<tr><td>Egyetemi tanár</td><td>0</td></tr>",
            "<tr><td>Óraadó</td><td>4</td></tr>",
            "<tr><td>Tanársegéd</td><td>2</td></tr>",
            "<tr><td>Egyetemi tanár</td><td>0</td></tr>",
            "<tr><td>Docens</td><td>0</td></tr>",
            "<tr><td>Docens</td><td>0</td></tr>",
            "<tr><td>Egyetemi tanár</td><td>0</td></tr>",
            "<tr><td>Egyetemi tanár</td><td>0</td></tr>",
            "<tr><td>Adjunktus</td><td>0</td></tr>",
            "<tr><td>Adjunktus</td><td>0</td></tr>",
            "<tr><td>Tanársegéd</td><td>2</td></tr>",
            "<tr><td>Tanársegéd</td><td>2</td></tr>",
            "<tr><td>Tanársegéd</td><td>2</td></tr>",
            "<tr><td>Tanársegéd</td><td>2</td></tr>",
            "<tr><td>Adjunktus</td><td>0</td></tr>",
            "<tr><td>Adjunktus</td><td>0</td></tr>",
            "<tr><td>Tanársegéd</td><td>2</td></tr>",
            "<tr><td>Tanársegéd</td><td>2</td></tr>",
            "<tr><td>Egyetemi tanár</td><td>0</td></tr>",
            "<tr><td>Egyetemi tanár</td><td>0</td></tr>",
            "<tr><td>Egyetemi tanár</td><td>0</td></tr>",
            "<tr><td>Egyetemi tanár</td><td>0</td></tr>",
            "<tr><td>Adjunktus</td><td>0</td></tr>",
            "<tr><td>Adjunktus</td><td>0</td></tr>",
            "</table>"
        ]
    }
}
],
            "execution_count": 48
        },
        {
            "cell_type": "markdown",
            "source": [
                "10. <span style=\"font-weight: 600; color: rgb(36, 41, 47); font-family: -apple-system, BlinkMacSystemFont, &quot;Segoe UI&quot;, Helvetica, Arial, sans-serif, &quot;Apple Color Emoji&quot;, &quot;Segoe UI Emoji&quot;; font-size: 16px;\">Melyek azok az oktatók, akiknek nincs órájuk?</span>\n",
                "\n",
                "1. Csak az oktatók neve jelenjen meg!\n",
                "2. ÖTLET: használjunk LEFT JOIN-t, és szűrjünk azokra a rekordokra, ahol NULL érték van a JOIN utáni feltétel jobb oldalán!"
            ],
            "metadata": {
                "azdata_cell_guid": "217c5772-afe2-4a7c-b913-e3a3e09d6411"
            },
            "attachments": {}
        },
        {
            "cell_type": "code",
            "source": [
                ""
            ],
            "metadata": {
                "azdata_cell_guid": "a9cc0926-3dbd-4ed8-8179-1c39d64a0762",
                "language": "sql"
            },
            "outputs": [
                {
                    "output_type": "display_data",
                    "data": {
                        "text/html": "Commands completed successfully."
                    },
                    "metadata": {}
                },
                {
                    "output_type": "display_data",
                    "data": {
                        "text/html": "Total execution time: 00:00:00"
                    },
                    "metadata": {}
                }
            ],
            "execution_count": 13
        },
        {
            "cell_type": "markdown",
            "source": [
                "11. <span style=\"font-weight: 600; color: rgb(36, 41, 47); font-family: -apple-system, BlinkMacSystemFont, &quot;Segoe UI&quot;, Helvetica, Arial, sans-serif, &quot;Apple Color Emoji&quot;, &quot;Segoe UI Emoji&quot;; font-size: 16px;\">Készítsünk lekérdezést, amely részletesen megjeleníti az egyes órák fontosabb adatait, azaz</span>\n",
                "\n",
                "1. Az órák azonosítóit, a tanár nevét, a tantárgy nevét, a terem nevét és a kezdési időpontot!\n",
                "2. Az oszlopokat nevezzük el értelemszerűen!"
            ],
            "metadata": {
                "azdata_cell_guid": "d2340f5f-1614-473c-b937-85740d67f7c1"
            },
            "attachments": {}
        },
        {
            "cell_type": "code",
            "source": [
                "select Orak.ora_id,\r\n",
                "Oktatok.nev,\r\n",
                "Tantárgyak.Tantárgynév,\r\n",
                "Termek.Terem,\r\n",
                "Savok.Időpont\r\n",
                "from Orak join Oktatok on Orak.tanar = Oktatok.oktato_id\r\n",
                "             join  Termek on Orak.terem = Termek.Tkód\r\n",
                "             join Tantárgyak on orak.targy = Tantárgyak.Tkód\r\n",
                "             join Savok on orak.Sav = savok.Sav_id"
            ],
            "metadata": {
                "azdata_cell_guid": "e99c2c53-898f-4787-b0e6-182d106dc16f",
                "language": "sql"
            },
            "outputs": [
                {
                    "output_type": "display_data",
                    "data": {
                        "text/html": "(67 rows affected)"
                    },
                    "metadata": {}
                },
                {
                    "output_type": "display_data",
                    "data": {
                        "text/html": "Total execution time: 00:00:00.041"
                    },
                    "metadata": {}
                },
                {
                    "output_type": "execute_result",
                    "metadata": {},
                    "execution_count": 44,
                    "data": {
                        "application/vnd.dataresource+json": {
                            "schema": {
                                "fields": [
                                    {
                                        "name": "ora_id"
                                    },
                                    {
                                        "name": "nev"
                                    },
                                    {
                                        "name": "Tantárgynév"
                                    },
                                    {
                                        "name": "Terem"
                                    },
                                    {
                                        "name": "Időpont"
                                    }
                                ]
                            },
                            "data": [
                                {
                                    "ora_id": "159",
                                    "nev": "Ujfalussi István",
                                    "Tantárgynév": "Az ürgeöntés alapjai",
                                    "Terem": "117",
                                    "Időpont": "8.00"
                                },
                                {
                                    "ora_id": "160",
                                    "nev": "Pelikán József",
                                    "Tantárgynév": "Az ürgeöntés alapjai",
                                    "Terem": "118",
                                    "Időpont": "14.00"
                                },
                                {
                                    "ora_id": "161",
                                    "nev": "Pelikán József",
                                    "Tantárgynév": "Az ürgeöntés alapjai",
                                    "Terem": "118",
                                    "Időpont": "9.30"
                                },
                                {
                                    "ora_id": "162",
                                    "nev": "Kovács András",
                                    "Tantárgynév": "Az ürgeöntés alapjai",
                                    "Terem": "119",
                                    "Időpont": "12.30"
                                },
                                {
                                    "ora_id": "163",
                                    "nev": "Szerb László",
                                    "Tantárgynév": "Az ürgeöntés alapjai",
                                    "Terem": "120",
                                    "Időpont": "9.30"
                                },
                                {
                                    "ora_id": "164",
                                    "nev": "Kiss János",
                                    "Tantárgynév": "Az ürgeöntés alapjai",
                                    "Terem": "119",
                                    "Időpont": "11.00"
                                },
                                {
                                    "ora_id": "165",
                                    "nev": "Szerb László",
                                    "Tantárgynév": "Az ürgeöntés alapjai",
                                    "Terem": "119",
                                    "Időpont": "11.00"
                                },
                                {
                                    "ora_id": "166",
                                    "nev": "Szerb László",
                                    "Tantárgynév": "Az ürgeöntés alapjai",
                                    "Terem": "119",
                                    "Időpont": "12.30"
                                },
                                {
                                    "ora_id": "167",
                                    "nev": "Szentágotai Istvás",
                                    "Tantárgynév": "Az ürgeöntés alapjai",
                                    "Terem": "120",
                                    "Időpont": "12.30"
                                },
                                {
                                    "ora_id": "168",
                                    "nev": "Ujfalussi István",
                                    "Tantárgynév": "Az ürgeöntés alapjai",
                                    "Terem": "217",
                                    "Időpont": "11.00"
                                },
                                {
                                    "ora_id": "169",
                                    "nev": "Kovács András",
                                    "Tantárgynév": "Az ürgeöntés alapjai",
                                    "Terem": "218",
                                    "Időpont": "9.30"
                                },
                                {
                                    "ora_id": "170",
                                    "nev": "Ludas Mátyás",
                                    "Tantárgynév": "Az ürgeöntés alapjai",
                                    "Terem": "120",
                                    "Időpont": "9.30"
                                },
                                {
                                    "ora_id": "171",
                                    "nev": "Szénási ászló",
                                    "Tantárgynév": "Az ürgeöntés alapjai",
                                    "Terem": "220",
                                    "Időpont": "9.30"
                                },
                                {
                                    "ora_id": "172",
                                    "nev": "Kiss János",
                                    "Tantárgynév": "Az ürgeöntés alapjai",
                                    "Terem": "119",
                                    "Időpont": "9.30"
                                },
                                {
                                    "ora_id": "173",
                                    "nev": "Kovács András",
                                    "Tantárgynév": "Az ürgeöntés alapjai",
                                    "Terem": "119",
                                    "Időpont": "11.00"
                                },
                                {
                                    "ora_id": "174",
                                    "nev": "Ludas Mátyás",
                                    "Tantárgynév": "Az ürgeöntés alapjai",
                                    "Terem": "219",
                                    "Időpont": "11.00"
                                },
                                {
                                    "ora_id": "175",
                                    "nev": "Szénási ászló",
                                    "Tantárgynév": "Az ürgeöntés alapjai",
                                    "Terem": "120",
                                    "Időpont": "12.30"
                                },
                                {
                                    "ora_id": "176",
                                    "nev": "Kovács András",
                                    "Tantárgynév": "Az ürgeöntés alapjai",
                                    "Terem": "118",
                                    "Időpont": "12.30"
                                },
                                {
                                    "ora_id": "177",
                                    "nev": "Szentágotai Istvás",
                                    "Tantárgynév": "Az ürgeöntés alapjai",
                                    "Terem": "119",
                                    "Időpont": "14.00"
                                },
                                {
                                    "ora_id": "178",
                                    "nev": "Vitéz János",
                                    "Tantárgynév": "Az ürgeöntés alapjai",
                                    "Terem": "220",
                                    "Időpont": "14.00"
                                },
                                {
                                    "ora_id": "179",
                                    "nev": "Szentágotai Istvás",
                                    "Tantárgynév": "Az ürgeöntés alapjai",
                                    "Terem": "120",
                                    "Időpont": "15.30"
                                },
                                {
                                    "ora_id": "180",
                                    "nev": "Vitéz János",
                                    "Tantárgynév": "Az ürgeöntés alapjai",
                                    "Terem": "119",
                                    "Időpont": "15.30"
                                },
                                {
                                    "ora_id": "181",
                                    "nev": "Szentágotai Istvás",
                                    "Tantárgynév": "Az ürgeöntés alapjai",
                                    "Terem": "118",
                                    "Időpont": "8.00"
                                },
                                {
                                    "ora_id": "182",
                                    "nev": "Vitéz János",
                                    "Tantárgynév": "Az ürgeöntés alapjai",
                                    "Terem": "219",
                                    "Időpont": "8.00"
                                },
                                {
                                    "ora_id": "183",
                                    "nev": "Szentágotai Istvás",
                                    "Tantárgynév": "Az ürgeöntés alapjai",
                                    "Terem": "220",
                                    "Időpont": "9.30"
                                },
                                {
                                    "ora_id": "184",
                                    "nev": "Vitéz János",
                                    "Tantárgynév": "Az ürgeöntés alapjai",
                                    "Terem": "218",
                                    "Időpont": "9.30"
                                },
                                {
                                    "ora_id": "185",
                                    "nev": "Szentágotai Istvás",
                                    "Tantárgynév": "Az ürgeöntés alapjai",
                                    "Terem": "120",
                                    "Időpont": "11.00"
                                },
                                {
                                    "ora_id": "186",
                                    "nev": "Nógrádi Kata",
                                    "Tantárgynév": "ü-business",
                                    "Terem": "219",
                                    "Időpont": "12.30"
                                },
                                {
                                    "ora_id": "187",
                                    "nev": "Balkán András",
                                    "Tantárgynév": "Bevezetés az ürgeöntésbe",
                                    "Terem": "217",
                                    "Időpont": "9.30"
                                },
                                {
                                    "ora_id": "188",
                                    "nev": "Farkasos Piroska",
                                    "Tantárgynév": "Bevezetés az ürgeöntésbe",
                                    "Terem": "VP 203.",
                                    "Időpont": "15.30"
                                },
                                {
                                    "ora_id": "189",
                                    "nev": "Farkasos Piroska",
                                    "Tantárgynév": "Bevezetés az ürgeöntésbe",
                                    "Terem": "VP 203.",
                                    "Időpont": "9.30"
                                },
                                {
                                    "ora_id": "190",
                                    "nev": "Farkasos Piroska",
                                    "Tantárgynév": "Bevezetés az ürgeöntésbe",
                                    "Terem": "E.2.238",
                                    "Időpont": "11.00"
                                },
                                {
                                    "ora_id": "191",
                                    "nev": "Varga Kata",
                                    "Tantárgynév": "Az ürgeöntés hydrológiai alapjai II.",
                                    "Terem": "220",
                                    "Időpont": "14.00"
                                },
                                {
                                    "ora_id": "192",
                                    "nev": "Varga Kata",
                                    "Tantárgynév": "Az ürgeöntés hydrológiai alapjai II.",
                                    "Terem": "119",
                                    "Időpont": "15.30"
                                },
                                {
                                    "ora_id": "193",
                                    "nev": "Farkasos Piroska",
                                    "Tantárgynév": "Az ürgeöntés hydrológiai alapjai II.",
                                    "Terem": "217",
                                    "Időpont": "14.00"
                                },
                                {
                                    "ora_id": "194",
                                    "nev": "Farkasos Piroska",
                                    "Tantárgynév": "Az ürgeöntés hydrológiai alapjai II.",
                                    "Terem": "E.fsz.I",
                                    "Időpont": "15.30"
                                },
                                {
                                    "ora_id": "195",
                                    "nev": "Balkán András",
                                    "Tantárgynév": "Az ürgeöntés hydrológiai alapjai II.",
                                    "Terem": "116",
                                    "Időpont": "14.00"
                                },
                                {
                                    "ora_id": "196",
                                    "nev": "Balkán András",
                                    "Tantárgynév": "Az ürgeöntés hydrológiai alapjai II.",
                                    "Terem": "218",
                                    "Időpont": "15.30"
                                },
                                {
                                    "ora_id": "197",
                                    "nev": "Farkasos Piroska",
                                    "Tantárgynév": "Az ürgeöntés hydrológiai alapjai II.",
                                    "Terem": "116",
                                    "Időpont": "8.00"
                                },
                                {
                                    "ora_id": "198",
                                    "nev": "Farkasos Piroska",
                                    "Tantárgynév": "Az ürgeöntés hydrológiai alapjai II.",
                                    "Terem": "119",
                                    "Időpont": "9.30"
                                },
                                {
                                    "ora_id": "199",
                                    "nev": "Szabó Andrera",
                                    "Tantárgynév": "Az ürgeöntés hydrológiai alapjai II.",
                                    "Terem": "218",
                                    "Időpont": "8.00"
                                },
                                {
                                    "ora_id": "200",
                                    "nev": "Szabó Andrera",
                                    "Tantárgynév": "Az ürgeöntés hydrológiai alapjai II.",
                                    "Terem": "220",
                                    "Időpont": "9.30"
                                },
                                {
                                    "ora_id": "201",
                                    "nev": "Juhász András",
                                    "Tantárgynév": "Öntési gyakorlat",
                                    "Terem": "E.2.238",
                                    "Időpont": "12.30"
                                },
                                {
                                    "ora_id": "202",
                                    "nev": "Juhász András",
                                    "Tantárgynév": "Öntési gyakorlat",
                                    "Terem": "E.3.332",
                                    "Időpont": "14.00"
                                },
                                {
                                    "ora_id": "203",
                                    "nev": "Aranyi Mária",
                                    "Tantárgynév": "Az ürgeöntés hydrológiai alapjai I.",
                                    "Terem": "S.Asor.S3",
                                    "Időpont": "12.30"
                                },
                                {
                                    "ora_id": "204",
                                    "nev": "Róbert Gida",
                                    "Tantárgynév": "Az ürgeöntés hydrológiai alapjai I.",
                                    "Terem": "120",
                                    "Időpont": "14.00"
                                },
                                {
                                    "ora_id": "205",
                                    "nev": "Ujfalussi István",
                                    "Tantárgynév": "Az öntés elmélete",
                                    "Terem": "220",
                                    "Időpont": "12.30"
                                },
                                {
                                    "ora_id": "206",
                                    "nev": "Varga Kata",
                                    "Tantárgynév": "Az öntés elmélete",
                                    "Terem": "S.Asor.S3",
                                    "Időpont": "8.00"
                                },
                                {
                                    "ora_id": "207",
                                    "nev": "Varga Kata",
                                    "Tantárgynév": "Az öntés elmélete",
                                    "Terem": "219",
                                    "Időpont": "12.30"
                                },
                                {
                                    "ora_id": "208",
                                    "nev": "Jogrerős Pál",
                                    "Tantárgynév": "Ürgevitel",
                                    "Terem": "VP 203.",
                                    "Időpont": "8.00"
                                },
                                {
                                    "ora_id": "209",
                                    "nev": "Jogrerős Pál",
                                    "Tantárgynév": "Ürgevitel",
                                    "Terem": "VP 203.",
                                    "Időpont": "9.30"
                                },
                                {
                                    "ora_id": "210",
                                    "nev": "Szép llonka",
                                    "Tantárgynév": "Ürgeöntés az EU-ban",
                                    "Terem": "E.2.238",
                                    "Időpont": "15.30"
                                },
                                {
                                    "ora_id": "211",
                                    "nev": "Szép llonka",
                                    "Tantárgynév": "Ürgeöntés az EU-ban",
                                    "Terem": "217",
                                    "Időpont": "17.00"
                                },
                                {
                                    "ora_id": "212",
                                    "nev": "Kiss János",
                                    "Tantárgynév": "Ürgeöntés az EU-ban",
                                    "Terem": "120",
                                    "Időpont": "18.30"
                                },
                                {
                                    "ora_id": "213",
                                    "nev": "Kiss János",
                                    "Tantárgynév": "Ürgeöntés az EU-ban",
                                    "Terem": "218",
                                    "Időpont": "20.00"
                                },
                                {
                                    "ora_id": "214",
                                    "nev": "Pelikán József",
                                    "Tantárgynév": "Az ürge anatómiája",
                                    "Terem": "219",
                                    "Időpont": "11.00"
                                },
                                {
                                    "ora_id": "215",
                                    "nev": "Pelikán József",
                                    "Tantárgynév": "Az ürge anatómiája",
                                    "Terem": "E.fsz.IV.",
                                    "Időpont": "12.30"
                                },
                                {
                                    "ora_id": "216",
                                    "nev": "Szép llonka",
                                    "Tantárgynév": "Az ürge anatómiája",
                                    "Terem": "218",
                                    "Időpont": "11.00"
                                },
                                {
                                    "ora_id": "217",
                                    "nev": "Szép llonka",
                                    "Tantárgynév": "Az ürge anatómiája",
                                    "Terem": "217",
                                    "Időpont": "12.30"
                                },
                                {
                                    "ora_id": "218",
                                    "nev": "Pelikán József",
                                    "Tantárgynév": "Az ürge anatómiája",
                                    "Terem": "118",
                                    "Időpont": "15.30"
                                },
                                {
                                    "ora_id": "219",
                                    "nev": "Pelikán József",
                                    "Tantárgynév": "Az ürge anatómiája",
                                    "Terem": "219",
                                    "Időpont": "17.00"
                                },
                                {
                                    "ora_id": "220",
                                    "nev": "Kovács László",
                                    "Tantárgynév": "Fejezetek az ürgék jogaiból",
                                    "Terem": "119",
                                    "Időpont": "11.00"
                                },
                                {
                                    "ora_id": "221",
                                    "nev": "Kovács László",
                                    "Tantárgynév": "Fejezetek az ürgék jogaiból",
                                    "Terem": "VP 203.",
                                    "Időpont": "11.00"
                                },
                                {
                                    "ora_id": "222",
                                    "nev": "Kovács László",
                                    "Tantárgynév": "Fejezetek az ürgék jogaiból",
                                    "Terem": "116",
                                    "Időpont": "14.00"
                                },
                                {
                                    "ora_id": "223",
                                    "nev": "Kovács László",
                                    "Tantárgynév": "Fejezetek az ürgék jogaiból",
                                    "Terem": "S.Asor.S3",
                                    "Időpont": "8.00"
                                },
                                {
                                    "ora_id": "226",
                                    "nev": "Szentágotai Istvás",
                                    "Tantárgynév": "ürgefőzés",
                                    "Terem": "117",
                                    "Időpont": "11.00"
                                },
                                {
                                    "ora_id": "227",
                                    "nev": "Szentágotai Istvás",
                                    "Tantárgynév": "Az ürgeöntés hydrológiai alapjai I.",
                                    "Terem": "116",
                                    "Időpont": "14.00"
                                }
                            ]
                        },
                        "text/html": [
                            "<table>",
                            "<tr><th>ora_id</th><th>nev</th><th>Tantárgynév</th><th>Terem</th><th>Időpont</th></tr>",
                            "<tr><td>159</td><td>Ujfalussi István</td><td>Az ürgeöntés alapjai</td><td>117</td><td>8.00</td></tr>",
                            "<tr><td>160</td><td>Pelikán József</td><td>Az ürgeöntés alapjai</td><td>118</td><td>14.00</td></tr>",
                            "<tr><td>161</td><td>Pelikán József</td><td>Az ürgeöntés alapjai</td><td>118</td><td>9.30</td></tr>",
                            "<tr><td>162</td><td>Kovács András</td><td>Az ürgeöntés alapjai</td><td>119</td><td>12.30</td></tr>",
                            "<tr><td>163</td><td>Szerb László</td><td>Az ürgeöntés alapjai</td><td>120</td><td>9.30</td></tr>",
                            "<tr><td>164</td><td>Kiss János</td><td>Az ürgeöntés alapjai</td><td>119</td><td>11.00</td></tr>",
                            "<tr><td>165</td><td>Szerb László</td><td>Az ürgeöntés alapjai</td><td>119</td><td>11.00</td></tr>",
                            "<tr><td>166</td><td>Szerb László</td><td>Az ürgeöntés alapjai</td><td>119</td><td>12.30</td></tr>",
                            "<tr><td>167</td><td>Szentágotai Istvás</td><td>Az ürgeöntés alapjai</td><td>120</td><td>12.30</td></tr>",
                            "<tr><td>168</td><td>Ujfalussi István</td><td>Az ürgeöntés alapjai</td><td>217</td><td>11.00</td></tr>",
                            "<tr><td>169</td><td>Kovács András</td><td>Az ürgeöntés alapjai</td><td>218</td><td>9.30</td></tr>",
                            "<tr><td>170</td><td>Ludas Mátyás</td><td>Az ürgeöntés alapjai</td><td>120</td><td>9.30</td></tr>",
                            "<tr><td>171</td><td>Szénási ászló</td><td>Az ürgeöntés alapjai</td><td>220</td><td>9.30</td></tr>",
                            "<tr><td>172</td><td>Kiss János</td><td>Az ürgeöntés alapjai</td><td>119</td><td>9.30</td></tr>",
                            "<tr><td>173</td><td>Kovács András</td><td>Az ürgeöntés alapjai</td><td>119</td><td>11.00</td></tr>",
                            "<tr><td>174</td><td>Ludas Mátyás</td><td>Az ürgeöntés alapjai</td><td>219</td><td>11.00</td></tr>",
                            "<tr><td>175</td><td>Szénási ászló</td><td>Az ürgeöntés alapjai</td><td>120</td><td>12.30</td></tr>",
                            "<tr><td>176</td><td>Kovács András</td><td>Az ürgeöntés alapjai</td><td>118</td><td>12.30</td></tr>",
                            "<tr><td>177</td><td>Szentágotai Istvás</td><td>Az ürgeöntés alapjai</td><td>119</td><td>14.00</td></tr>",
                            "<tr><td>178</td><td>Vitéz János</td><td>Az ürgeöntés alapjai</td><td>220</td><td>14.00</td></tr>",
                            "<tr><td>179</td><td>Szentágotai Istvás</td><td>Az ürgeöntés alapjai</td><td>120</td><td>15.30</td></tr>",
                            "<tr><td>180</td><td>Vitéz János</td><td>Az ürgeöntés alapjai</td><td>119</td><td>15.30</td></tr>",
                            "<tr><td>181</td><td>Szentágotai Istvás</td><td>Az ürgeöntés alapjai</td><td>118</td><td>8.00</td></tr>",
                            "<tr><td>182</td><td>Vitéz János</td><td>Az ürgeöntés alapjai</td><td>219</td><td>8.00</td></tr>",
                            "<tr><td>183</td><td>Szentágotai Istvás</td><td>Az ürgeöntés alapjai</td><td>220</td><td>9.30</td></tr>",
                            "<tr><td>184</td><td>Vitéz János</td><td>Az ürgeöntés alapjai</td><td>218</td><td>9.30</td></tr>",
                            "<tr><td>185</td><td>Szentágotai Istvás</td><td>Az ürgeöntés alapjai</td><td>120</td><td>11.00</td></tr>",
                            "<tr><td>186</td><td>Nógrádi Kata</td><td>ü-business</td><td>219</td><td>12.30</td></tr>",
                            "<tr><td>187</td><td>Balkán András</td><td>Bevezetés az ürgeöntésbe</td><td>217</td><td>9.30</td></tr>",
                            "<tr><td>188</td><td>Farkasos Piroska</td><td>Bevezetés az ürgeöntésbe</td><td>VP 203.</td><td>15.30</td></tr>",
                            "<tr><td>189</td><td>Farkasos Piroska</td><td>Bevezetés az ürgeöntésbe</td><td>VP 203.</td><td>9.30</td></tr>",
                            "<tr><td>190</td><td>Farkasos Piroska</td><td>Bevezetés az ürgeöntésbe</td><td>E.2.238</td><td>11.00</td></tr>",
                            "<tr><td>191</td><td>Varga Kata</td><td>Az ürgeöntés hydrológiai alapjai II.</td><td>220</td><td>14.00</td></tr>",
                            "<tr><td>192</td><td>Varga Kata</td><td>Az ürgeöntés hydrológiai alapjai II.</td><td>119</td><td>15.30</td></tr>",
                            "<tr><td>193</td><td>Farkasos Piroska</td><td>Az ürgeöntés hydrológiai alapjai II.</td><td>217</td><td>14.00</td></tr>",
                            "<tr><td>194</td><td>Farkasos Piroska</td><td>Az ürgeöntés hydrológiai alapjai II.</td><td>E.fsz.I</td><td>15.30</td></tr>",
                            "<tr><td>195</td><td>Balkán András</td><td>Az ürgeöntés hydrológiai alapjai II.</td><td>116</td><td>14.00</td></tr>",
                            "<tr><td>196</td><td>Balkán András</td><td>Az ürgeöntés hydrológiai alapjai II.</td><td>218</td><td>15.30</td></tr>",
                            "<tr><td>197</td><td>Farkasos Piroska</td><td>Az ürgeöntés hydrológiai alapjai II.</td><td>116</td><td>8.00</td></tr>",
                            "<tr><td>198</td><td>Farkasos Piroska</td><td>Az ürgeöntés hydrológiai alapjai II.</td><td>119</td><td>9.30</td></tr>",
                            "<tr><td>199</td><td>Szabó Andrera</td><td>Az ürgeöntés hydrológiai alapjai II.</td><td>218</td><td>8.00</td></tr>",
                            "<tr><td>200</td><td>Szabó Andrera</td><td>Az ürgeöntés hydrológiai alapjai II.</td><td>220</td><td>9.30</td></tr>",
                            "<tr><td>201</td><td>Juhász András</td><td>Öntési gyakorlat</td><td>E.2.238</td><td>12.30</td></tr>",
                            "<tr><td>202</td><td>Juhász András</td><td>Öntési gyakorlat</td><td>E.3.332</td><td>14.00</td></tr>",
                            "<tr><td>203</td><td>Aranyi Mária</td><td>Az ürgeöntés hydrológiai alapjai I.</td><td>S.Asor.S3</td><td>12.30</td></tr>",
                            "<tr><td>204</td><td>Róbert Gida</td><td>Az ürgeöntés hydrológiai alapjai I.</td><td>120</td><td>14.00</td></tr>",
                            "<tr><td>205</td><td>Ujfalussi István</td><td>Az öntés elmélete</td><td>220</td><td>12.30</td></tr>",
                            "<tr><td>206</td><td>Varga Kata</td><td>Az öntés elmélete</td><td>S.Asor.S3</td><td>8.00</td></tr>",
                            "<tr><td>207</td><td>Varga Kata</td><td>Az öntés elmélete</td><td>219</td><td>12.30</td></tr>",
                            "<tr><td>208</td><td>Jogrerős Pál</td><td>Ürgevitel</td><td>VP 203.</td><td>8.00</td></tr>",
                            "<tr><td>209</td><td>Jogrerős Pál</td><td>Ürgevitel</td><td>VP 203.</td><td>9.30</td></tr>",
                            "<tr><td>210</td><td>Szép llonka</td><td>Ürgeöntés az EU-ban</td><td>E.2.238</td><td>15.30</td></tr>",
                            "<tr><td>211</td><td>Szép llonka</td><td>Ürgeöntés az EU-ban</td><td>217</td><td>17.00</td></tr>",
                            "<tr><td>212</td><td>Kiss János</td><td>Ürgeöntés az EU-ban</td><td>120</td><td>18.30</td></tr>",
                            "<tr><td>213</td><td>Kiss János</td><td>Ürgeöntés az EU-ban</td><td>218</td><td>20.00</td></tr>",
                            "<tr><td>214</td><td>Pelikán József</td><td>Az ürge anatómiája</td><td>219</td><td>11.00</td></tr>",
                            "<tr><td>215</td><td>Pelikán József</td><td>Az ürge anatómiája</td><td>E.fsz.IV.</td><td>12.30</td></tr>",
                            "<tr><td>216</td><td>Szép llonka</td><td>Az ürge anatómiája</td><td>218</td><td>11.00</td></tr>",
                            "<tr><td>217</td><td>Szép llonka</td><td>Az ürge anatómiája</td><td>217</td><td>12.30</td></tr>",
                            "<tr><td>218</td><td>Pelikán József</td><td>Az ürge anatómiája</td><td>118</td><td>15.30</td></tr>",
                            "<tr><td>219</td><td>Pelikán József</td><td>Az ürge anatómiája</td><td>219</td><td>17.00</td></tr>",
                            "<tr><td>220</td><td>Kovács László</td><td>Fejezetek az ürgék jogaiból</td><td>119</td><td>11.00</td></tr>",
                            "<tr><td>221</td><td>Kovács László</td><td>Fejezetek az ürgék jogaiból</td><td>VP 203.</td><td>11.00</td></tr>",
                            "<tr><td>222</td><td>Kovács László</td><td>Fejezetek az ürgék jogaiból</td><td>116</td><td>14.00</td></tr>",
                            "<tr><td>223</td><td>Kovács László</td><td>Fejezetek az ürgék jogaiból</td><td>S.Asor.S3</td><td>8.00</td></tr>",
                            "<tr><td>226</td><td>Szentágotai Istvás</td><td>ürgefőzés</td><td>117</td><td>11.00</td></tr>",
                            "<tr><td>227</td><td>Szentágotai Istvás</td><td>Az ürgeöntés hydrológiai alapjai I.</td><td>116</td><td>14.00</td></tr>",
                            "</table>"
                        ]
                    }
                }
            ],
            "execution_count": 44
        },
        {
            "cell_type": "markdown",
            "source": [
                "12. <span style=\"color: rgb(36, 41, 47); font-family: -apple-system, BlinkMacSystemFont, &quot;Segoe UI&quot;, Helvetica, Arial, sans-serif, &quot;Apple Color Emoji&quot;, &quot;Segoe UI Emoji&quot;; font-size: 16px;\">Készítsünk listát, amely tartalmazza az egyes órák azonosítóit, és az órán oktatott tantárgy felelősének nevét!</span>\n",
                "\n",
                "1. Rendezzük a listát a tantárgyfelelős neve szerint csökkenő sorrendbe!"
            ],
            "metadata": {
                "azdata_cell_guid": "a765e9d6-58b3-4171-872a-78f3118fd6e3"
            },
            "attachments": {}
        },
        {
            "cell_type": "code",
            "source": [
                ""
            ],
            "metadata": {
                "azdata_cell_guid": "422e8127-b652-4d3a-bfd7-9b1637b5781e",
                "language": "sql"
            },
            "outputs": [
                {
                    "output_type": "display_data",
                    "data": {
                        "text/html": "Commands completed successfully."
                    },
                    "metadata": {}
                },
                {
                    "output_type": "display_data",
                    "data": {
                        "text/html": "Total execution time: 00:00:00"
                    },
                    "metadata": {}
                }
            ],
            "execution_count": 15
        },
        {
            "cell_type": "markdown",
            "source": [
                "13. <span style=\"color: rgb(36, 41, 47); font-family: -apple-system, BlinkMacSystemFont, &quot;Segoe UI&quot;, Helvetica, Arial, sans-serif, &quot;Apple Color Emoji&quot;, &quot;Segoe UI Emoji&quot;; font-size: 16px;\">Készítsünk listát, amely megjeleníti, hogy az Orak táblában lévő órák közül hányat tart Dr., illetve nem Dr. titulusú tanár!</span>\n",
                "\n",
                "1. Az oszlopokat nevezzük el értelemszerűen!"
            ],
            "metadata": {
                "azdata_cell_guid": "3f9237ae-f109-401c-acb9-31d75e73331b"
            },
            "attachments": {}
        },
        {
            "cell_type": "code",
            "source": [
                ""
            ],
            "metadata": {
                "azdata_cell_guid": "4b31bb89-cfbc-46b1-8639-85c462877786",
                "language": "sql"
            },
            "outputs": [
                {
                    "output_type": "display_data",
                    "data": {
                        "text/html": "Commands completed successfully."
                    },
                    "metadata": {}
                },
                {
                    "output_type": "display_data",
                    "data": {
                        "text/html": "Total execution time: 00:00:00"
                    },
                    "metadata": {}
                }
            ],
            "execution_count": 16
        },
        {
            "cell_type": "markdown",
            "source": [
                "14. <span style=\"color: rgb(36, 41, 47); font-family: -apple-system, BlinkMacSystemFont, &quot;Segoe UI&quot;, Helvetica, Arial, sans-serif, &quot;Apple Color Emoji&quot;, &quot;Segoe UI Emoji&quot;; font-size: 16px;\">Készítsünk listát arról, hogy beosztásonként hány óra szerepel az Orak táblában!</span>\n",
                "\n",
                "1. Jelenítsük meg a beosztások nevét és az órák számát!\n",
                "2. A listát szűrjük azokra a beosztásokra, ahol ez az óraszám 10 feletti!"
            ],
            "metadata": {
                "azdata_cell_guid": "f634e09a-85ef-4e70-8ec6-ef355dfddaa7"
            },
            "attachments": {}
        },
        {
            "cell_type": "code",
            "source": [
                ""
            ],
            "metadata": {
                "azdata_cell_guid": "88abc55b-2c78-495b-a72f-3f8f4eb5fe70",
                "language": "sql"
            },
            "outputs": [
                {
                    "output_type": "display_data",
                    "data": {
                        "text/html": "Commands completed successfully."
                    },
                    "metadata": {}
                },
                {
                    "output_type": "display_data",
                    "data": {
                        "text/html": "Total execution time: 00:00:00"
                    },
                    "metadata": {}
                }
            ],
            "execution_count": 17
        },
        {
            "cell_type": "markdown",
            "source": [
                "15. <span style=\"color: rgb(36, 41, 47); font-family: -apple-system, BlinkMacSystemFont, &quot;Segoe UI&quot;, Helvetica, Arial, sans-serif, &quot;Apple Color Emoji&quot;, &quot;Segoe UI Emoji&quot;; font-size: 16px;\">Melyek azok az órák, amelyek kezdési időpontja olyan sávba esik, amely a mostani időpont (óra:perc) után van?</span>\n",
                "\n",
                "1. Listázzuk az órák azonosítóit, valamint az órakezdés napját és időpontját!\n",
                "2. A listát rendezzük az időpont szerint növekvő sorrendbe!"
            ],
            "metadata": {
                "azdata_cell_guid": "4cbf2f0d-a65d-480a-8186-ccdb24498443"
            },
            "attachments": {}
        },
        {
            "cell_type": "code",
            "source": [
                ""
            ],
            "metadata": {
                "azdata_cell_guid": "c148aee8-bc85-40bf-b80a-a4898a6c05cb",
                "language": "sql"
            },
            "outputs": [
                {
                    "output_type": "display_data",
                    "data": {
                        "text/html": "Commands completed successfully."
                    },
                    "metadata": {}
                },
                {
                    "output_type": "display_data",
                    "data": {
                        "text/html": "Total execution time: 00:00:00"
                    },
                    "metadata": {}
                }
            ],
            "execution_count": 18
        }
    ]
}