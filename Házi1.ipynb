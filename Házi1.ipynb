{
    "metadata": {
        "kernelspec": {
            "name": "SQL",
            "display_name": "SQL",
            "language": "sql"
        },
        "language_info": {
            "name": "sql",
            "version": ""
        }
    },
    "nbformat_minor": 2,
    "nbformat": 4,
    "cells": [
        {
            "cell_type": "markdown",
            "source": [
                "Webshop adatbázis"
            ],
            "metadata": {
                "azdata_cell_guid": "80529daf-464c-43f0-a5cc-a8215755efcd"
            },
            "attachments": {}
        },
        {
            "cell_type": "code",
            "source": [
                "SELECT 'Üres termékleírások száma' AS 'Kategória', COUNT(*) AS 'Szám'\r\n",
                "FROM Termek\r\n",
                "WHERE LEIRAS IS NULL\r\n",
                "UNION\r\n",
                "SELECT 'Kitöltött termékleírások száma' AS 'Kategória', COUNT(*) AS 'Szám'\r\n",
                "FROM Termek\r\n",
                "WHERE LEIRAS IS NOT NULL\r\n",
                "\r\n",
                "SELECT DISTINCT Felvitel as 'Kitöltött termékleírással rendelkező termékek felviteli dátuma'\r\n",
                "From Termek\r\n",
                "WHERE LEIRAS IS NOT NULL\r\n",
                "\r\n",
                "SELECT MIN(Felvitel) AS 'Első felvitel dátuma',\r\n",
                "MAX(Felvitel) AS 'Utolsó felvitel dátuma'\r\n",
                "From Termek"
            ],
            "metadata": {
                "azdata_cell_guid": "c44439cc-f85e-4372-803c-62c1c76acbf9",
                "language": "sql"
            },
            "outputs": [
                {
                    "output_type": "display_data",
                    "data": {
                        "text/html": "(2 rows affected)"
                    },
                    "metadata": {}
                },
                {
                    "output_type": "display_data",
                    "data": {
                        "text/html": "(11 rows affected)"
                    },
                    "metadata": {}
                },
                {
                    "output_type": "display_data",
                    "data": {
                        "text/html": "(1 row affected)"
                    },
                    "metadata": {}
                },
                {
                    "output_type": "display_data",
                    "data": {
                        "text/html": "Total execution time: 00:00:00.032"
                    },
                    "metadata": {}
                },
                {
                    "output_type": "execute_result",
                    "metadata": {},
                    "execution_count": 51,
                    "data": {
                        "application/vnd.dataresource+json": {
                            "schema": {
                                "fields": [
                                    {
                                        "name": "Kategória"
                                    },
                                    {
                                        "name": "Szám"
                                    }
                                ]
                            },
                            "data": [
                                {
                                    "Kategória": "Üres termékleírások száma",
                                    "Szám": "527"
                                },
                                {
                                    "Kategória": "Kitöltött termékleírások száma",
                                    "Szám": "24"
                                }
                            ]
                        },
                        "text/html": [
                            "<table>",
                            "<tr><th>Kategória</th><th>Szám</th></tr>",
                            "<tr><td>Üres termékleírások száma</td><td>527</td></tr>",
                            "<tr><td>Kitöltött termékleírások száma</td><td>24</td></tr>",
                            "</table>"
                        ]
                    }
                },
                {
                    "output_type": "execute_result",
                    "metadata": {},
                    "execution_count": 51,
                    "data": {
                        "application/vnd.dataresource+json": {
                            "schema": {
                                "fields": [
                                    {
                                        "name": "Kitöltött termékleírással rendelkező termékek felviteli dátuma"
                                    }
                                ]
                            },
                            "data": [
                                {
                                    "Kitöltött termékleírással rendelkező termékek felviteli dátuma": "2016-07-15"
                                },
                                {
                                    "Kitöltött termékleírással rendelkező termékek felviteli dátuma": "2016-07-18"
                                },
                                {
                                    "Kitöltött termékleírással rendelkező termékek felviteli dátuma": "2016-07-20"
                                },
                                {
                                    "Kitöltött termékleírással rendelkező termékek felviteli dátuma": "2016-07-23"
                                },
                                {
                                    "Kitöltött termékleírással rendelkező termékek felviteli dátuma": "2016-07-26"
                                },
                                {
                                    "Kitöltött termékleírással rendelkező termékek felviteli dátuma": "2016-07-27"
                                },
                                {
                                    "Kitöltött termékleírással rendelkező termékek felviteli dátuma": "2016-07-29"
                                },
                                {
                                    "Kitöltött termékleírással rendelkező termékek felviteli dátuma": "2016-08-02"
                                },
                                {
                                    "Kitöltött termékleírással rendelkező termékek felviteli dátuma": "2016-08-03"
                                },
                                {
                                    "Kitöltött termékleírással rendelkező termékek felviteli dátuma": "2016-08-10"
                                },
                                {
                                    "Kitöltött termékleírással rendelkező termékek felviteli dátuma": "2016-08-13"
                                }
                            ]
                        },
                        "text/html": [
                            "<table>",
                            "<tr><th>Kitöltött termékleírással rendelkező termékek felviteli dátuma</th></tr>",
                            "<tr><td>2016-07-15</td></tr>",
                            "<tr><td>2016-07-18</td></tr>",
                            "<tr><td>2016-07-20</td></tr>",
                            "<tr><td>2016-07-23</td></tr>",
                            "<tr><td>2016-07-26</td></tr>",
                            "<tr><td>2016-07-27</td></tr>",
                            "<tr><td>2016-07-29</td></tr>",
                            "<tr><td>2016-08-02</td></tr>",
                            "<tr><td>2016-08-03</td></tr>",
                            "<tr><td>2016-08-10</td></tr>",
                            "<tr><td>2016-08-13</td></tr>",
                            "</table>"
                        ]
                    }
                },
                {
                    "output_type": "execute_result",
                    "metadata": {},
                    "execution_count": 51,
                    "data": {
                        "application/vnd.dataresource+json": {
                            "schema": {
                                "fields": [
                                    {
                                        "name": "Első felvitel dátuma"
                                    },
                                    {
                                        "name": "Utolsó felvitel dátuma"
                                    }
                                ]
                            },
                            "data": [
                                {
                                    "Első felvitel dátuma": "2016-07-01",
                                    "Utolsó felvitel dátuma": "2016-12-11"
                                }
                            ]
                        },
                        "text/html": [
                            "<table>",
                            "<tr><th>Első felvitel dátuma</th><th>Utolsó felvitel dátuma</th></tr>",
                            "<tr><td>2016-07-01</td><td>2016-12-11</td></tr>",
                            "</table>"
                        ]
                    }
                }
            ],
            "execution_count": 51
        },
        {
            "cell_type": "code",
            "source": [
                "SELECT MEGYS, count(*) as 'Mennyiség'\r\n",
                "From Termek\r\n",
                "GROUP BY MEGYS\r\n",
                "ORDER BY Mennyiség DESC\r\n",
                "\r\n",
                "SELECT MEGYS,\r\n",
                "MIN(LISTAAR) as 'Legalacsonyabb listáár ebben a kategóriában',\r\n",
                "MAX(LISTAAR) as 'Legmagasabb listáár ebben a kategóriában',\r\n",
                "AVG(LISTAAR) as 'Átlagos listáár ebben a kategóriában'\r\n",
                "From Termek\r\n",
                "GROUP BY MEGYS\r\n",
                "ORDER BY count(*) DESC\r\n",
                "\r\n",
                "SELECT FELVITTE, MEGYS, count(*) as 'Mennyiség'\r\n",
                "FROM Termek\r\n",
                "GROUP BY ROLLUP(FELVITTE, MEGYS)\r\n",
                ""
            ],
            "metadata": {
                "azdata_cell_guid": "01531746-19a2-4bc9-a3a1-645bf4a6680e",
                "language": "sql"
            },
            "outputs": [
{
    "output_type": "display_data",
    "data": {
        "text/html": "(6 rows affected)"
    },
    "metadata": {}
}, {
    "output_type": "display_data",
    "data": {
        "text/html": "(6 rows affected)"
    },
    "metadata": {}
}, {
    "output_type": "display_data",
    "data": {
        "text/html": "(16 rows affected)"
    },
    "metadata": {}
}, {
    "output_type": "display_data",
    "data": {
        "text/html": "Total execution time: 00:00:00.040"
    },
    "metadata": {}
}, {
    "output_type": "execute_result",
    "metadata": {},
    "execution_count": 61,
    "data": {
        "application/vnd.dataresource+json": {
            "schema": {
                "fields": [
                    {
                        "name": "MEGYS"
                    },
                    {
                        "name": "Mennyiség"
                    }
                ]
            },
            "data": [
                {
                    "MEGYS": "db",
                    "Mennyiség": "483"
                },
                {
                    "MEGYS": "csomag",
                    "Mennyiség": "44"
                },
                {
                    "MEGYS": "ív",
                    "Mennyiség": "21"
                },
                {
                    "MEGYS": "tekercs",
                    "Mennyiség": "1"
                },
                {
                    "MEGYS": "üveg",
                    "Mennyiség": "1"
                },
                {
                    "MEGYS": "doboz",
                    "Mennyiség": "1"
                }
            ]
        },
        "text/html": [
            "<table>",
            "<tr><th>MEGYS</th><th>Mennyiség</th></tr>",
            "<tr><td>db</td><td>483</td></tr>",
            "<tr><td>csomag</td><td>44</td></tr>",
            "<tr><td>ív</td><td>21</td></tr>",
            "<tr><td>tekercs</td><td>1</td></tr>",
            "<tr><td>üveg</td><td>1</td></tr>",
            "<tr><td>doboz</td><td>1</td></tr>",
            "</table>"
        ]
    }
}, {
    "output_type": "execute_result",
    "metadata": {},
    "execution_count": 61,
    "data": {
        "application/vnd.dataresource+json": {
            "schema": {
                "fields": [
                    {
                        "name": "MEGYS"
                    },
                    {
                        "name": "Legalacsonyabb listáár ebben a kategóriában"
                    },
                    {
                        "name": "Legmagasabb listáár ebben a kategóriában"
                    },
                    {
                        "name": "Átlagos listáár ebben a kategóriában"
                    }
                ]
            },
            "data": [
                {
                    "MEGYS": "db",
                    "Legalacsonyabb listáár ebben a kategóriában": "0",
                    "Legmagasabb listáár ebben a kategóriában": "46000",
                    "Átlagos listáár ebben a kategóriában": "861,3395445134576"
                },
                {
                    "MEGYS": "csomag",
                    "Legalacsonyabb listáár ebben a kategóriában": "9",
                    "Legmagasabb listáár ebben a kategóriában": "1500",
                    "Átlagos listáár ebben a kategóriában": "257,45454545454544"
                },
                {
                    "MEGYS": "ív",
                    "Legalacsonyabb listáár ebben a kategóriában": "3",
                    "Legmagasabb listáár ebben a kategóriában": "121",
                    "Átlagos listáár ebben a kategóriában": "31,904761904761905"
                },
                {
                    "MEGYS": "tekercs",
                    "Legalacsonyabb listáár ebben a kategóriában": "148",
                    "Legmagasabb listáár ebben a kategóriában": "148",
                    "Átlagos listáár ebben a kategóriában": "148"
                },
                {
                    "MEGYS": "üveg",
                    "Legalacsonyabb listáár ebben a kategóriában": "493",
                    "Legmagasabb listáár ebben a kategóriában": "493",
                    "Átlagos listáár ebben a kategóriában": "493"
                },
                {
                    "MEGYS": "doboz",
                    "Legalacsonyabb listáár ebben a kategóriában": "4575",
                    "Legmagasabb listáár ebben a kategóriában": "4575",
                    "Átlagos listáár ebben a kategóriában": "4575"
                }
            ]
        },
        "text/html": [
            "<table>",
            "<tr><th>MEGYS</th><th>Legalacsonyabb listáár ebben a kategóriában</th><th>Legmagasabb listáár ebben a kategóriában</th><th>Átlagos listáár ebben a kategóriában</th></tr>",
            "<tr><td>db</td><td>0</td><td>46000</td><td>861,3395445134576</td></tr>",
            "<tr><td>csomag</td><td>9</td><td>1500</td><td>257,45454545454544</td></tr>",
            "<tr><td>ív</td><td>3</td><td>121</td><td>31,904761904761905</td></tr>",
            "<tr><td>tekercs</td><td>148</td><td>148</td><td>148</td></tr>",
            "<tr><td>üveg</td><td>493</td><td>493</td><td>493</td></tr>",
            "<tr><td>doboz</td><td>4575</td><td>4575</td><td>4575</td></tr>",
            "</table>"
        ]
    }
}, {
    "output_type": "execute_result",
    "metadata": {},
    "execution_count": 61,
    "data": {
        "application/vnd.dataresource+json": {
            "schema": {
                "fields": [
                    {
                        "name": "FELVITTE"
                    },
                    {
                        "name": "MEGYS"
                    },
                    {
                        "name": "Mennyiség"
                    }
                ]
            },
            "data": [
                {
                    "FELVITTE": "Béla",
                    "MEGYS": "csomag",
                    "Mennyiség": "21"
                },
                {
                    "FELVITTE": "Béla",
                    "MEGYS": "db",
                    "Mennyiség": "160"
                },
                {
                    "FELVITTE": "Béla",
                    "MEGYS": "Ív",
                    "Mennyiség": "8"
                },
                {
                    "FELVITTE": "Béla",
                    "MEGYS": "NULL",
                    "Mennyiség": "189"
                },
                {
                    "FELVITTE": "Mari",
                    "MEGYS": "csomag",
                    "Mennyiség": "9"
                },
                {
                    "FELVITTE": "Mari",
                    "MEGYS": "db",
                    "Mennyiség": "161"
                },
                {
                    "FELVITTE": "Mari",
                    "MEGYS": "ív",
                    "Mennyiség": "3"
                },
                {
                    "FELVITTE": "Mari",
                    "MEGYS": "üveg",
                    "Mennyiség": "1"
                },
                {
                    "FELVITTE": "Mari",
                    "MEGYS": "NULL",
                    "Mennyiség": "174"
                },
                {
                    "FELVITTE": "Sára",
                    "MEGYS": "csomag",
                    "Mennyiség": "14"
                },
                {
                    "FELVITTE": "Sára",
                    "MEGYS": "db",
                    "Mennyiség": "162"
                },
                {
                    "FELVITTE": "Sára",
                    "MEGYS": "doboz",
                    "Mennyiség": "1"
                },
                {
                    "FELVITTE": "Sára",
                    "MEGYS": "ív",
                    "Mennyiség": "10"
                },
                {
                    "FELVITTE": "Sára",
                    "MEGYS": "tekercs",
                    "Mennyiség": "1"
                },
                {
                    "FELVITTE": "Sára",
                    "MEGYS": "NULL",
                    "Mennyiség": "188"
                },
                {
                    "FELVITTE": "NULL",
                    "MEGYS": "NULL",
                    "Mennyiség": "551"
                }
            ]
        },
        "text/html": [
            "<table>",
            "<tr><th>FELVITTE</th><th>MEGYS</th><th>Mennyiség</th></tr>",
            "<tr><td>Béla</td><td>csomag</td><td>21</td></tr>",
            "<tr><td>Béla</td><td>db</td><td>160</td></tr>",
            "<tr><td>Béla</td><td>Ív</td><td>8</td></tr>",
            "<tr><td>Béla</td><td>NULL</td><td>189</td></tr>",
            "<tr><td>Mari</td><td>csomag</td><td>9</td></tr>",
            "<tr><td>Mari</td><td>db</td><td>161</td></tr>",
            "<tr><td>Mari</td><td>ív</td><td>3</td></tr>",
            "<tr><td>Mari</td><td>üveg</td><td>1</td></tr>",
            "<tr><td>Mari</td><td>NULL</td><td>174</td></tr>",
            "<tr><td>Sára</td><td>csomag</td><td>14</td></tr>",
            "<tr><td>Sára</td><td>db</td><td>162</td></tr>",
            "<tr><td>Sára</td><td>doboz</td><td>1</td></tr>",
            "<tr><td>Sára</td><td>ív</td><td>10</td></tr>",
            "<tr><td>Sára</td><td>tekercs</td><td>1</td></tr>",
            "<tr><td>Sára</td><td>NULL</td><td>188</td></tr>",
            "<tr><td>NULL</td><td>NULL</td><td>551</td></tr>",
            "</table>"
        ]
    }
}
],
            "execution_count": 61
        }
    ]
}